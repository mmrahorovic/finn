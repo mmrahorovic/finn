{
 "cells": [
  {
   "cell_type": "markdown",
   "id": "1b3bae09",
   "metadata": {},
   "source": [
    "# Visualize model"
   ]
  },
  {
   "cell_type": "code",
   "execution_count": null,
   "id": "cf54136d",
   "metadata": {},
   "outputs": [],
   "source": [
    "from finn.util.visualization import showInNetron\n",
    "showInNetron(\"df_model_fifos.onnx\")"
   ]
  },
  {
   "cell_type": "markdown",
   "id": "eeb00792",
   "metadata": {},
   "source": [
    "# CPP/RTL sim\n",
    "Note: not tested in this form -- but these are the order of transforms"
   ]
  },
  {
   "cell_type": "code",
   "execution_count": null,
   "id": "782d0c86",
   "metadata": {},
   "outputs": [],
   "source": [
    "import numpy as np\n",
    "import finn.core.onnx_exec as oxe\n",
    "\n",
    "def verify_step(model, step_name):\n",
    "    inp_val_sdf = np.load(\"cppsim_sdp_in.npy\")\n",
    "    iname_sdf = model.graph.input[0].name\n",
    "    oname_sdf = model.graph.output[0].name\n",
    "    input_dict_sdf = {iname_sdf: inp_val_sdf}\n",
    "    # Execute FINN simulation\n",
    "    output_dict_sdf = oxe.execute_onnx(model, input_dict_sdf, return_full_exec_context=True)\n",
    "    np.save(\"quartznet_\"+step_name+\".npy\", output_dict_sdf)"
   ]
  },
  {
   "cell_type": "markdown",
   "id": "1d32cafd",
   "metadata": {},
   "source": [
    "## CPP sim"
   ]
  },
  {
   "cell_type": "code",
   "execution_count": null,
   "id": "527dfc8c",
   "metadata": {},
   "outputs": [],
   "source": [
    "from finn.core.modelwrapper import ModelWrapper\n",
    "from finn.transformation.fpgadataflow.prepare_cppsim import PrepareCppSim\n",
    "from finn.transformation.fpgadataflow.compile_cppsim import CompileCppSim\n",
    "from finn.transformation.fpgadataflow.set_exec_mode import SetExecMode\n",
    "\n",
    "model = ModelWrapper(\"df_model_rtlsim.onnx\")\n",
    "model = model.transform(PrepareCppSim())\n",
    "model = model.transform(CompileCppSim())\n",
    "model = model.transform(SetExecMode(\"cppsim\"))\n",
    "\n",
    "verify_step(model, \"cppsim_out\")"
   ]
  },
  {
   "cell_type": "markdown",
   "id": "1c1407e6",
   "metadata": {},
   "source": [
    "# RTL sim"
   ]
  },
  {
   "cell_type": "code",
   "execution_count": null,
   "id": "b9c353c1",
   "metadata": {},
   "outputs": [],
   "source": [
    "import os\n",
    "from copy import deepcopy\n",
    "from finn.core.modelwrapper import ModelWrapper\n",
    "from finn.transformation.fpgadataflow.annotate_cycles import AnnotateCycles\n",
    "from finn.analysis.fpgadataflow.dataflow_performance import dataflow_performance\n",
    "from finn.custom_op.registry import getCustomOp\n",
    "\n",
    "from finn.transformation.fpgadataflow.create_stitched_ip import CreateStitchedIP\n",
    "from finn.transformation.fpgadataflow.prepare_ip import PrepareIP\n",
    "from finn.transformation.fpgadataflow.hlssynth_ip import HLSSynthIP\n",
    "from finn.transformation.fpgadataflow.prepare_rtlsim import PrepareRTLSim\n",
    "\n",
    "\n",
    "test_fpga_part = \"xcu250-figd2104-2L-e\"\n",
    "target_clk_ns = 7\n",
    "\n",
    "model = ModelWrapper(\"df_model_rtlsim.onnx\")\n",
    "\n",
    "model = model.transform(AnnotateCycles())\n",
    "perf = model_partition.analysis(dataflow_performance)\n",
    "latency = perf[\"critical_path_cycles\"]\n",
    "os.environ[\"LIVENESS_THRESHOLD\"] = str(int(latency * 5))\n",
    "\n",
    "verify_model = deepcopy(model)\n",
    "# rtlsim only supports impl_style=rtl for StreamingFIFO, ensure that\n",
    "for fifo_layer in verify_model.get_nodes_by_op_type(\"StreamingFIFO\"):\n",
    "    getCustomOp(fifo_layer).set_nodeattr(\"impl_style\", \"rtl\")\n",
    "    getCustomOp(fifo_layer).set_nodeattr(\"code_gen_dir_ipgen\", \"\")\n",
    "    getCustomOp(fifo_layer).set_nodeattr(\"ipgen_path\", \"\")\n",
    "    getCustomOp(fifo_layer).set_nodeattr(\"ip_path\", \"\")\n",
    "    getCustomOp(fifo_layer).set_nodeattr(\"ip_vlnv\", \"\")\n",
    "# similarly for StreamingDataWidthConverter with impl_style=hls\n",
    "for dwc_layer in verify_model.get_nodes_by_op_type(\"StreamingDataWidthConverter_Batch\"):\n",
    "    getCustomOp(dwc_layer).set_nodeattr(\"impl_style\", \"hls\")\n",
    "    getCustomOp(dwc_layer).set_nodeattr(\"code_gen_dir_ipgen\", \"\")\n",
    "    getCustomOp(dwc_layer).set_nodeattr(\"ipgen_path\", \"\")\n",
    "    getCustomOp(dwc_layer).set_nodeattr(\"ip_path\", \"\")\n",
    "    getCustomOp(dwc_layer).set_nodeattr(\"ip_vlnv\", \"\")\n",
    "verify_model = verify_model.transform(PrepareIP(test_fpga_part, target_clk_ns))\n",
    "verify_model = verify_model.transform(HLSSynthIP())\n",
    "verify_model = verify_model.transform(CreateStitchedIP(test_fpga_part, target_clk_ns))\n",
    "verify_model = verify_model.transform(PrepareRTLSim())\n",
    "verify_model.set_metadata_prop(\"exec_mode\", \"rtlsim\")\n",
    "verify_model.set_metadata_prop(\"rtlsim_trace\", \"whole_trace.vcd\")\n",
    "\n",
    "verify_step(verify_model, \"rtlsim_out\")"
   ]
  },
  {
   "cell_type": "markdown",
   "id": "16ceedf2",
   "metadata": {},
   "source": [
    "# Inspecting outputs"
   ]
  },
  {
   "cell_type": "code",
   "execution_count": null,
   "id": "8cb9b09b",
   "metadata": {},
   "outputs": [],
   "source": [
    "import numpy as np\n",
    "in_tensor = np.load(\"cppsim_sdp_in.npy\")\n",
    "in_tensor_cppsim = np.load(\"cppsim_out.npy\", allow_pickle=True).item()['global_in']\n",
    "in_tensor_rtlsim = np.load(\"rtlsim_out.npy\", allow_pickle=True).item()['global_in']\n",
    "\n",
    "print((in_tensor==in_tensor_cppsim).all())\n",
    "print((in_tensor==in_tensor_rtlsim).all())"
   ]
  },
  {
   "cell_type": "code",
   "execution_count": null,
   "id": "d9711bd2",
   "metadata": {},
   "outputs": [],
   "source": [
    "in_tensor_cppsim = np.load(\"cppsim_out.npy\", allow_pickle=True).item()['global_in']\n",
    "in_tensor_rtlsim = np.load(\"rtlsim_out.npy\", allow_pickle=True).item()['StreamingFIFO_39']\n",
    "\n",
    "list_of_differences = np.argwhere(in_tensor_cppsim!=in_tensor_rtlsim)\n",
    "print(\"Output values in total: {}\\nOutput values not matching: {}\".format(np.prod(np.shape(in_tensor_cppsim)),np.shape(list_of_differences)[0]))\n",
    "\n",
    "print(\"Index of values that do not match: {}\".format(list_of_differences))\n"
   ]
  },
  {
   "cell_type": "code",
   "execution_count": null,
   "id": "ef88fdef",
   "metadata": {},
   "outputs": [],
   "source": []
  },
  {
   "cell_type": "code",
   "execution_count": null,
   "id": "d50ecb71",
   "metadata": {},
   "outputs": [],
   "source": []
  },
  {
   "cell_type": "code",
   "execution_count": null,
   "id": "d4b40ee0",
   "metadata": {},
   "outputs": [],
   "source": []
  },
  {
   "cell_type": "code",
   "execution_count": null,
   "id": "387a9201",
   "metadata": {},
   "outputs": [],
   "source": []
  },
  {
   "cell_type": "code",
   "execution_count": null,
   "id": "17b26f48",
   "metadata": {},
   "outputs": [],
   "source": []
  },
  {
   "cell_type": "code",
   "execution_count": null,
   "id": "fdf3e029",
   "metadata": {},
   "outputs": [],
   "source": []
  },
  {
   "cell_type": "code",
   "execution_count": null,
   "id": "2e6d1eec",
   "metadata": {},
   "outputs": [],
   "source": []
  },
  {
   "cell_type": "code",
   "execution_count": null,
   "id": "1a6869a8",
   "metadata": {},
   "outputs": [],
   "source": []
  },
  {
   "cell_type": "code",
   "execution_count": null,
   "id": "bb17dfb5",
   "metadata": {},
   "outputs": [],
   "source": []
  },
  {
   "cell_type": "code",
   "execution_count": null,
   "id": "273713b5",
   "metadata": {},
   "outputs": [],
   "source": []
  },
  {
   "cell_type": "code",
   "execution_count": null,
   "id": "44252067",
   "metadata": {},
   "outputs": [],
   "source": []
  },
  {
   "cell_type": "code",
   "execution_count": null,
   "id": "5e78b63b",
   "metadata": {},
   "outputs": [],
   "source": []
  },
  {
   "cell_type": "code",
   "execution_count": null,
   "id": "229db502",
   "metadata": {},
   "outputs": [],
   "source": []
  }
 ],
 "metadata": {
  "kernelspec": {
   "display_name": "Python 3",
   "language": "python",
   "name": "python3"
  },
  "language_info": {
   "codemirror_mode": {
    "name": "ipython",
    "version": 3
   },
   "file_extension": ".py",
   "mimetype": "text/x-python",
   "name": "python",
   "nbconvert_exporter": "python",
   "pygments_lexer": "ipython3",
   "version": "3.6.8"
  }
 },
 "nbformat": 4,
 "nbformat_minor": 5
}
