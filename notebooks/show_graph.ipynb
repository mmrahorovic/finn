{
 "cells": [
  {
   "cell_type": "code",
   "execution_count": 3,
   "id": "8623ce22",
   "metadata": {},
   "outputs": [
    {
     "name": "stdout",
     "output_type": "stream",
     "text": [
      "dataflow_partition0_c05e1m73\t\t  report\r\n",
      "end2end_quartznet_ooc.onnx\t\t  synth_best_effort_design\r\n",
      "end2end_quartznet_ooc_synthesis_time.txt  synth_best_effort_design.zip\r\n",
      "error_logs\t\t\t\t  test_end2end_quartznet.py\r\n",
      "manual_floorplan.json\t\t\t  test_util.txt\r\n",
      "manual_floorplan_vivado_copy.json\t  tmp_experiments\r\n"
     ]
    }
   ],
   "source": [
    "!ls /workspace/results/ooc_vivado_log/best_effort_design/"
   ]
  },
  {
   "cell_type": "code",
   "execution_count": 5,
   "id": "ac5c43ac",
   "metadata": {},
   "outputs": [
    {
     "name": "stdout",
     "output_type": "stream",
     "text": [
      "Stopping http://0.0.0.0:8081\n",
      "Serving '/workspace/results/ooc_vivado_log/best_effort_design/dataflow_partition0_c05e1m73/df_model.onnx' at http://0.0.0.0:8081\n"
     ]
    },
    {
     "data": {
      "text/html": [
       "\n",
       "        <iframe\n",
       "            width=\"100%\"\n",
       "            height=\"400\"\n",
       "            src=\"http://localhost:8081/\"\n",
       "            frameborder=\"0\"\n",
       "            allowfullscreen\n",
       "        ></iframe>\n",
       "        "
      ],
      "text/plain": [
       "<IPython.lib.display.IFrame at 0x7fbe057e8130>"
      ]
     },
     "execution_count": 5,
     "metadata": {},
     "output_type": "execute_result"
    }
   ],
   "source": [
    "from finn.util.visualization import showInNetron\n",
    "\n",
    "filename = \"/workspace/results/ooc_vivado_log/best_effort_design/dataflow_partition0_c05e1m73/df_model.onnx\"\n",
    "\n",
    "showInNetron(filename)"
   ]
  },
  {
   "cell_type": "code",
   "execution_count": 12,
   "id": "cf3a828d",
   "metadata": {},
   "outputs": [],
   "source": [
    "from finn.core.modelwrapper import ModelWrapper\n",
    "from finn.transformation.general import RemoveUnusedTensors\n",
    "from finn.custom_op.registry import getCustomOp\n",
    "\n",
    "model = ModelWrapper(\"/workspace/results/ooc_vivado_log/best_effort_design/dataflow_partition0_c05e1m73/df_model.onnx\")\n",
    "\n",
    "for idx, n in enumerate(model.graph.node):\n",
    "    inst = getCustomOp(n)\n",
    "    inst.set_nodeattr(\"partition_id\", idx)\n",
    "\n",
    "model.save(\"/tmp/fclayer.onnx\")"
   ]
  },
  {
   "cell_type": "code",
   "execution_count": 13,
   "id": "ec473971",
   "metadata": {},
   "outputs": [
    {
     "name": "stdout",
     "output_type": "stream",
     "text": [
      "Stopping http://0.0.0.0:8081\n",
      "Serving '/tmp/fclayer.onnx' at http://0.0.0.0:8081\n"
     ]
    },
    {
     "data": {
      "text/html": [
       "\n",
       "        <iframe\n",
       "            width=\"100%\"\n",
       "            height=\"400\"\n",
       "            src=\"http://localhost:8081/\"\n",
       "            frameborder=\"0\"\n",
       "            allowfullscreen\n",
       "        ></iframe>\n",
       "        "
      ],
      "text/plain": [
       "<IPython.lib.display.IFrame at 0x7fbe04bf7eb0>"
      ]
     },
     "execution_count": 13,
     "metadata": {},
     "output_type": "execute_result"
    }
   ],
   "source": [
    "showInNetron(\"/tmp/fclayer.onnx\")"
   ]
  },
  {
   "cell_type": "code",
   "execution_count": null,
   "id": "4cf41134",
   "metadata": {},
   "outputs": [],
   "source": []
  }
 ],
 "metadata": {
  "kernelspec": {
   "display_name": "Python 3 (ipykernel)",
   "language": "python",
   "name": "python3"
  },
  "language_info": {
   "codemirror_mode": {
    "name": "ipython",
    "version": 3
   },
   "file_extension": ".py",
   "mimetype": "text/x-python",
   "name": "python",
   "nbconvert_exporter": "python",
   "pygments_lexer": "ipython3",
   "version": "3.8.5"
  }
 },
 "nbformat": 4,
 "nbformat_minor": 5
}
