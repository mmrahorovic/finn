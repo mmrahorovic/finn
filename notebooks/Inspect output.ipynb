{
 "cells": [
  {
   "cell_type": "code",
   "execution_count": 1,
   "id": "3146957d-aa0f-4188-b553-8124d45e155a",
   "metadata": {},
   "outputs": [],
   "source": [
    "# Copyright (C) 2022, Advanced Micro Devices, Inc.\n",
    "# All rights reserved.\n",
    "#\n",
    "# Redistribution and use in source and binary forms, with or without\n",
    "# modification, are permitted provided that the following conditions are met:\n",
    "#\n",
    "# * Redistributions of source code must retain the above copyright notice, this\n",
    "#   list of conditions and the following disclaimer.\n",
    "#\n",
    "# * Redistributions in binary form must reproduce the above copyright notice,\n",
    "#   this list of conditions and the following disclaimer in the documentation\n",
    "#   and/or other materials provided with the distribution.\n",
    "#\n",
    "# * Neither the name of FINN nor the names of its\n",
    "#   contributors may be used to endorse or promote products derived from\n",
    "#   this software without specific prior written permission.\n",
    "#\n",
    "# THIS SOFTWARE IS PROVIDED BY THE COPYRIGHT HOLDERS AND CONTRIBUTORS \"AS IS\"\n",
    "# AND ANY EXPRESS OR IMPLIED WARRANTIES, INCLUDING, BUT NOT LIMITED TO, THE\n",
    "# IMPLIED WARRANTIES OF MERCHANTABILITY AND FITNESS FOR A PARTICULAR PURPOSE ARE\n",
    "# DISCLAIMED. IN NO EVENT SHALL THE COPYRIGHT HOLDER OR CONTRIBUTORS BE LIABLE\n",
    "# FOR ANY DIRECT, INDIRECT, INCIDENTAL, SPECIAL, EXEMPLARY, OR CONSEQUENTIAL\n",
    "# DAMAGES (INCLUDING, BUT NOT LIMITED TO, PROCUREMENT OF SUBSTITUTE GOODS OR\n",
    "# SERVICES; LOSS OF USE, DATA, OR PROFITS; OR BUSINESS INTERRUPTION) HOWEVER\n",
    "# CAUSED AND ON ANY THEORY OF LIABILITY, WHETHER IN CONTRACT, STRICT LIABILITY,\n",
    "# OR TORT (INCLUDING NEGLIGENCE OR OTHERWISE) ARISING IN ANY WAY OUT OF THE USE\n",
    "# OF THIS SOFTWARE, EVEN IF ADVISED OF THE POSSIBILITY OF SUCH DAMAGE.\n",
    "\n",
    "import pytest\n",
    "import os\n",
    "\n",
    "import numpy as np\n",
    "from onnx import TensorProto, helper\n",
    "from qonnx.util.basic import (\n",
    "    qonnx_make_model,\n",
    "    gen_finn_dt_tensor\n",
    ")\n",
    "from qonnx.core.modelwrapper import ModelWrapper\n",
    "from qonnx.core.datatype import DataType\n",
    "from qonnx.transformation.general import GiveUniqueNodeNames\n",
    "import finn.core.onnx_exec as oxe\n",
    "import finn.transformation.fpgadataflow.convert_to_hls_layers as to_hls\n",
    "from finn.transformation.fpgadataflow.prepare_ip import PrepareIP\n",
    "from finn.transformation.fpgadataflow.hlssynth_ip import HLSSynthIP\n",
    "from finn.transformation.fpgadataflow.set_exec_mode import SetExecMode\n",
    "from finn.transformation.fpgadataflow.prepare_rtlsim import PrepareRTLSim\n",
    "from qonnx.transformation.general import ApplyConfig\n",
    "import finn.transformation.fpgadataflow.specialize_to_rtl_layers as to_rtl\n",
    "from qonnx.custom_op.general.im2col import compute_conv_output_dim\n",
    "from qonnx.transformation.infer_datatypes import InferDataTypes\n",
    "from qonnx.transformation.infer_shapes import InferShapes\n",
    "from qonnx.transformation.lower_convs_to_matmul import LowerConvsToMatMul\n",
    "from qonnx.transformation.general import GiveReadableTensorNames\n",
    "\n",
    "#import qonnx.core.data_layout as DataLayout\n",
    "\n",
    "build_dir = os.environ[\"FINN_BUILD_DIR\"]\n",
    "\n",
    "def make_single_dw_conv_modelwrapper(conv_config, idt, wdt):\n",
    "    kernel_size, in_feature_dim, in_chn = conv_config\n",
    "    stride = 1\n",
    "    pad = 0\n",
    "\n",
    "    out_feature_dim = compute_conv_output_dim(in_feature_dim, kernel_size, stride, pad)\n",
    "    group = out_chn = in_chn\n",
    "    \n",
    "    conv_param_shape = [out_chn, 1, kernel_size, kernel_size]\n",
    "    input_shape = [1, in_chn, in_feature_dim, in_feature_dim]\n",
    "    output_shape = [1, out_chn, out_feature_dim, out_feature_dim]\n",
    "\n",
    "    conv_config = {}\n",
    "    conv_config[\"dilations\"] = [1, 1]\n",
    "    conv_config[\"group\"] = group\n",
    "    conv_config[\"kernel_shape\"] = [kernel_size, kernel_size]\n",
    "    conv_config[\"pads\"] = [pad, pad, pad, pad]\n",
    "    conv_config[\"strides\"] = [stride, stride]\n",
    "\n",
    "    ifm = helper.make_tensor_value_info(\"ifm\", TensorProto.FLOAT, input_shape)\n",
    "    ofm = helper.make_tensor_value_info(\"ofm\", TensorProto.FLOAT, output_shape)\n",
    "    weights = [helper.make_tensor_value_info(\"weights\", TensorProto.FLOAT, conv_param_shape)]\n",
    "\n",
    "    modelproto = qonnx_make_model(\n",
    "        helper.make_graph(\n",
    "            name=\"conv_test\",\n",
    "            inputs=[ifm],\n",
    "            outputs=[ofm],\n",
    "            value_info=weights,\n",
    "            nodes=[helper.make_node(\"Conv\", [\"ifm\", \"weights\"], [\"ofm\"], **conv_config)],\n",
    "        )\n",
    "    )\n",
    "\n",
    "    model = ModelWrapper(modelproto)\n",
    "    model.set_tensor_datatype(\"ifm\", idt)\n",
    "    model.set_tensor_datatype(\"weights\", wdt)\n",
    "    model.set_initializer(\"weights\", gen_finn_dt_tensor(wdt, conv_param_shape))\n",
    "\n",
    "    model = model.transform(InferShapes())\n",
    "    model = model.transform(InferDataTypes())\n",
    "\n",
    "    return model\n",
    "\n",
    "def prepare_inputs(input_tensor):\n",
    "    return {\"inp\": input_tensor}\n",
    "\n",
    "def test_fpgadataflow_vvau_rtl(kernel_size, in_feature_dim, in_chn, idt, wdt, part, segmentlen, pe, simd):\n",
    "    # Create depthwise-separable convolution\n",
    "    conv_config = (kernel_size, in_feature_dim, in_chn)\n",
    "    model = make_single_dw_conv_modelwrapper(conv_config, idt, wdt)\n",
    "    model = model.transform(GiveUniqueNodeNames())\n",
    "    model = model.transform(GiveReadableTensorNames())\n",
    "    model.save(build_dir+\"/dw_conv.onnx\")\n",
    "\n",
    "    # Obtain golden reference output\n",
    "    golden_in = gen_finn_dt_tensor(model.get_tensor_datatype(\"global_in\"), model.get_tensor_shape(\"global_out\"))\n",
    "    input_dict = prepare_inputs(golden_in)\n",
    "    golden_out = oxe.execute_onnx(model, input_dict)\n",
    "\n",
    "    # Convert to HLS custom-op first\n",
    "    model = model.transform(LowerConvsToMatMul())\n",
    "    model = model.transform(to_hls.InferConvInpGen(use_rtl_variant=True))\n",
    "    model = model.transform(to_hls.InferVectorVectorActivation())\n",
    "    model = model.transform(GiveUniqueNodeNames())\n",
    "    model = model.transform(GiveReadableTensorNames())\n",
    "    model.save(build_dir+\"/hls_vvau.onnx\")\n",
    "\n",
    "    # Apply folding (i.e. specify to use DSPs)\n",
    "    folding_config = {\n",
    "        \"Defaults\": {},\n",
    "        \"ConvolutionInputGenerator_rtl_0\": {\n",
    "            \"SIMD\" : simd\n",
    "        },\n",
    "        \"VectorVectorActivation_0\": {\n",
    "            \"PE\" : pe,\n",
    "            \"SIMD\" : simd,\n",
    "            \"mem_mode\" : \"decoupled\",\n",
    "            \"ram_style\" : \"auto\",\n",
    "            \"resType\" : \"dsp\",\n",
    "            \"preferred_backend\" : \"rtl\"\n",
    "        }\n",
    "    }\n",
    "    model = model.transform(ApplyConfig(folding_config))\n",
    "    model.save(build_dir+\"/hls_vvau_folded.onnx\")\n",
    "\n",
    "    # Obtain second reference from HLS-based VVAU layer\n",
    "    model = model.transform(SetExecMode(\"rtlsim\"))\n",
    "    #model = model.transform(PrepareIP(part, 5))\n",
    "    #model = model.transform(HLSSynthIP())\n",
    "    #model = model.transform(PrepareRTLSim())\n",
    "    #conv_hls_out = oxe.execute_onnx(model, input_dict, True) \n",
    "    #np.save(build_dir+\"/hls_vvau_folded_output.npy\", conv_hls_out)\n",
    "    #assert (golden_out[\"global_out\"] == conv_hls_out[\"global_out\"]).all()\n",
    "\n",
    "    # Apply convert-to-rtl step\n",
    "    model = model.transform(to_rtl.InferRTLVectorVectorActivation())\n",
    "    model = model.transform(GiveUniqueNodeNames())\n",
    "    model = model.transform(GiveReadableTensorNames())\n",
    "    model.save(build_dir+\"/rtl_vvau.onnx\")\n",
    "    model = model.transform(PrepareIP(part, 5))\n",
    "    model = model.transform(HLSSynthIP())\n",
    "    model = model.transform(PrepareRTLSim())\n",
    "    assert True\n",
    "    #vvu_rtl_out = oxe.execute_onnx(model, input_dict, True)\n",
    "    #np.save(build_dir+\"/rtl_vvau_output.npy\", vvu_rtl_out)\n"
   ]
  },
  {
   "cell_type": "code",
   "execution_count": 2,
   "id": "abcf40a1-8c9b-498c-abca-1feb318be64f",
   "metadata": {
    "scrolled": true
   },
   "outputs": [
    {
     "name": "stderr",
     "output_type": "stream",
     "text": [
      "/scratch/mirzam/finn/deps/qonnx/src/qonnx/transformation/general.py:354: UserWarning: \n",
      "No HW configuration for nodes: Transpose_0, Transpose_1\n",
      "  warnings.warn(\"\\nNo HW configuration for nodes: \" + \", \".join(missing_configurations))\n",
      "/scratch/mirzam/finn/src/finn/transformation/fpgadataflow/hlssynth_ip.py:73: UserWarning: Using pre-existing IP for VectorVectorActivation_rtl_0\n",
      "  warnings.warn(\"Using pre-existing IP for %s\" % node.name)\n",
      "/scratch/mirzam/finn/src/finn/transformation/fpgadataflow/hlssynth_ip.py:73: UserWarning: Using pre-existing IP for ConvolutionInputGenerator_rtl_0\n",
      "  warnings.warn(\"Using pre-existing IP for %s\" % node.name)\n",
      "%Warning-WIDTH: /scratch/mirzam/build_files/code_gen_ipgen_ConvolutionInputGenerator_rtl_0_2rdz7x6t/swg_common.sv:69:78: Operator ASSIGN expects 4 bits on the Assign RHS, but Assign RHS's VARREF 'LOOP_H_ITERATIONS' generates 32 bits.\n",
      "                                                                                                                       : ... In instance ConvolutionInputGenerator_rtl_0.impl.controller_inst\n",
      "   69 |     logic signed [$clog2(LOOP_H_ITERATIONS   +2)+1-1:0]  Counter_loop_h    = LOOP_H_ITERATIONS;\n",
      "      |                                                                              ^~~~~~~~~~~~~~~~~\n",
      "                ... For warning description see https://verilator.org/warn/WIDTH?v=4.224\n",
      "                ... Use \"/* verilator lint_off WIDTH */\" and lint_on around source to disable this message.\n",
      "%Warning-WIDTH: /scratch/mirzam/build_files/code_gen_ipgen_ConvolutionInputGenerator_rtl_0_2rdz7x6t/swg_common.sv:70:78: Operator ASSIGN expects 4 bits on the Assign RHS, but Assign RHS's VARREF 'LOOP_W_ITERATIONS' generates 32 bits.\n",
      "                                                                                                                       : ... In instance ConvolutionInputGenerator_rtl_0.impl.controller_inst\n",
      "   70 |     logic signed [$clog2(LOOP_W_ITERATIONS   +2)+1-1:0]  Counter_loop_w    = LOOP_W_ITERATIONS;\n",
      "      |                                                                              ^~~~~~~~~~~~~~~~~\n",
      "%Warning-WIDTH: /scratch/mirzam/build_files/code_gen_ipgen_ConvolutionInputGenerator_rtl_0_2rdz7x6t/swg_common.sv:71:78: Operator ASSIGN expects 2 bits on the Assign RHS, but Assign RHS's VARREF 'LOOP_KH_ITERATIONS' generates 32 bits.\n",
      "                                                                                                                       : ... In instance ConvolutionInputGenerator_rtl_0.impl.controller_inst\n",
      "   71 |     logic signed [$clog2(LOOP_KH_ITERATIONS  +2)+1-1:0]  Counter_loop_kh   = LOOP_KH_ITERATIONS;\n",
      "      |                                                                              ^~~~~~~~~~~~~~~~~~\n",
      "%Warning-WIDTH: /scratch/mirzam/build_files/code_gen_ipgen_ConvolutionInputGenerator_rtl_0_2rdz7x6t/swg_common.sv:72:78: Operator ASSIGN expects 3 bits on the Assign RHS, but Assign RHS's VARREF 'LOOP_KW_ITERATIONS' generates 32 bits.\n",
      "                                                                                                                       : ... In instance ConvolutionInputGenerator_rtl_0.impl.controller_inst\n",
      "   72 |     logic signed [$clog2(LOOP_KW_ITERATIONS  +2)+1-1:0]  Counter_loop_kw   = LOOP_KW_ITERATIONS;\n",
      "      |                                                                              ^~~~~~~~~~~~~~~~~~\n",
      "%Warning-WIDTH: /scratch/mirzam/build_files/code_gen_ipgen_ConvolutionInputGenerator_rtl_0_2rdz7x6t/swg_common.sv:73:78: Operator ASSIGN expects 2 bits on the Assign RHS, but Assign RHS's VARREF 'LOOP_SIMD_ITERATIONS' generates 32 bits.\n",
      "                                                                                                                       : ... In instance ConvolutionInputGenerator_rtl_0.impl.controller_inst\n",
      "   73 |     logic signed [$clog2(LOOP_SIMD_ITERATIONS+2)+1-1:0]  Counter_loop_simd = LOOP_SIMD_ITERATIONS;\n",
      "      |                                                                              ^~~~~~~~~~~~~~~~~~~~\n",
      "%Warning-WIDTH: /scratch/mirzam/build_files/code_gen_ipgen_ConvolutionInputGenerator_rtl_0_2rdz7x6t/swg_common.sv:79:41: Operator ASSIGN expects 7 bits on the Assign RHS, but Assign RHS's VARREF 'HEAD_INCR_SIMD' generates 32 bits.\n",
      "                                                                                                                       : ... In instance ConvolutionInputGenerator_rtl_0.impl.controller_inst\n",
      "   79 |             STATE_LOOP_SIMD : addr_incr = HEAD_INCR_SIMD;\n",
      "      |                                         ^\n",
      "%Warning-WIDTH: /scratch/mirzam/build_files/code_gen_ipgen_ConvolutionInputGenerator_rtl_0_2rdz7x6t/swg_common.sv:80:41: Operator ASSIGN expects 7 bits on the Assign RHS, but Assign RHS's VARREF 'HEAD_INCR_KW' generates 32 bits.\n",
      "                                                                                                                       : ... In instance ConvolutionInputGenerator_rtl_0.impl.controller_inst\n",
      "   80 |             STATE_LOOP_KW   : addr_incr = HEAD_INCR_KW;\n",
      "      |                                         ^\n",
      "%Warning-WIDTH: /scratch/mirzam/build_files/code_gen_ipgen_ConvolutionInputGenerator_rtl_0_2rdz7x6t/swg_common.sv:81:41: Operator ASSIGN expects 7 bits on the Assign RHS, but Assign RHS's VARREF 'HEAD_INCR_KH' generates 32 bits.\n",
      "                                                                                                                       : ... In instance ConvolutionInputGenerator_rtl_0.impl.controller_inst\n",
      "   81 |             STATE_LOOP_KH   : addr_incr = HEAD_INCR_KH;\n",
      "      |                                         ^\n",
      "%Warning-WIDTH: /scratch/mirzam/build_files/code_gen_ipgen_ConvolutionInputGenerator_rtl_0_2rdz7x6t/swg_common.sv:82:41: Operator ASSIGN expects 7 bits on the Assign RHS, but Assign RHS's VARREF 'HEAD_INCR_W' generates 32 bits.\n",
      "                                                                                                                       : ... In instance ConvolutionInputGenerator_rtl_0.impl.controller_inst\n",
      "   82 |             STATE_LOOP_W    : addr_incr = HEAD_INCR_W;\n",
      "      |                                         ^\n",
      "%Warning-WIDTH: /scratch/mirzam/build_files/code_gen_ipgen_ConvolutionInputGenerator_rtl_0_2rdz7x6t/swg_common.sv:83:41: Operator ASSIGN expects 7 bits on the Assign RHS, but Assign RHS's VARREF 'HEAD_INCR_H' generates 32 bits.\n",
      "                                                                                                                       : ... In instance ConvolutionInputGenerator_rtl_0.impl.controller_inst\n",
      "   83 |             STATE_LOOP_H    : addr_incr = HEAD_INCR_H;\n",
      "      |                                         ^\n",
      "%Warning-WIDTH: /scratch/mirzam/build_files/code_gen_ipgen_ConvolutionInputGenerator_rtl_0_2rdz7x6t/swg_common.sv:89:22: Operator ASSIGNW expects 7 bits on the Assign RHS, but Assign RHS's COND generates 32 bits.\n",
      "                                                                                                                       : ... In instance ConvolutionInputGenerator_rtl_0.impl.controller_inst\n",
      "   89 |     assign tail_incr =\n",
      "      |                      ^\n",
      "%Warning-WIDTH: /scratch/mirzam/build_files/code_gen_ipgen_ConvolutionInputGenerator_rtl_0_2rdz7x6t/swg_common.sv:115:31: Operator ASSIGNDLY expects 4 bits on the Assign RHS, but Assign RHS's VARREF 'LOOP_H_ITERATIONS' generates 32 bits.\n",
      "                                                                                                                        : ... In instance ConvolutionInputGenerator_rtl_0.impl.controller_inst\n",
      "  115 |             Counter_loop_h    <= LOOP_H_ITERATIONS;\n",
      "      |                               ^~\n",
      "%Warning-WIDTH: /scratch/mirzam/build_files/code_gen_ipgen_ConvolutionInputGenerator_rtl_0_2rdz7x6t/swg_common.sv:116:31: Operator ASSIGNDLY expects 4 bits on the Assign RHS, but Assign RHS's VARREF 'LOOP_W_ITERATIONS' generates 32 bits.\n",
      "                                                                                                                        : ... In instance ConvolutionInputGenerator_rtl_0.impl.controller_inst\n",
      "  116 |             Counter_loop_w    <= LOOP_W_ITERATIONS;\n",
      "      |                               ^~\n",
      "%Warning-WIDTH: /scratch/mirzam/build_files/code_gen_ipgen_ConvolutionInputGenerator_rtl_0_2rdz7x6t/swg_common.sv:117:31: Operator ASSIGNDLY expects 2 bits on the Assign RHS, but Assign RHS's VARREF 'LOOP_KH_ITERATIONS' generates 32 bits.\n",
      "                                                                                                                        : ... In instance ConvolutionInputGenerator_rtl_0.impl.controller_inst\n",
      "  117 |             Counter_loop_kh   <= LOOP_KH_ITERATIONS;\n",
      "      |                               ^~\n",
      "%Warning-WIDTH: /scratch/mirzam/build_files/code_gen_ipgen_ConvolutionInputGenerator_rtl_0_2rdz7x6t/swg_common.sv:118:31: Operator ASSIGNDLY expects 3 bits on the Assign RHS, but Assign RHS's VARREF 'LOOP_KW_ITERATIONS' generates 32 bits.\n",
      "                                                                                                                        : ... In instance ConvolutionInputGenerator_rtl_0.impl.controller_inst\n",
      "  118 |             Counter_loop_kw   <= LOOP_KW_ITERATIONS;\n",
      "      |                               ^~\n",
      "%Warning-WIDTH: /scratch/mirzam/build_files/code_gen_ipgen_ConvolutionInputGenerator_rtl_0_2rdz7x6t/swg_common.sv:119:31: Operator ASSIGNDLY expects 2 bits on the Assign RHS, but Assign RHS's VARREF 'LOOP_SIMD_ITERATIONS' generates 32 bits.\n",
      "                                                                                                                        : ... In instance ConvolutionInputGenerator_rtl_0.impl.controller_inst\n",
      "  119 |             Counter_loop_simd <= LOOP_SIMD_ITERATIONS;\n",
      "      |                               ^~\n",
      "%Warning-WIDTH: /scratch/mirzam/build_files/code_gen_ipgen_ConvolutionInputGenerator_rtl_0_2rdz7x6t/swg_common.sv:126:39: Operator ASSIGNDLY expects 2 bits on the Assign RHS, but Assign RHS's VARREF 'LOOP_SIMD_ITERATIONS' generates 32 bits.\n",
      "                                                                                                                        : ... In instance ConvolutionInputGenerator_rtl_0.impl.controller_inst\n",
      "  126 |                     Counter_loop_simd <= LOOP_SIMD_ITERATIONS;\n",
      "      |                                       ^~\n",
      "%Warning-WIDTH: /scratch/mirzam/build_files/code_gen_ipgen_ConvolutionInputGenerator_rtl_0_2rdz7x6t/swg_common.sv:129:41: Operator ASSIGNDLY expects 3 bits on the Assign RHS, but Assign RHS's VARREF 'LOOP_KW_ITERATIONS' generates 32 bits.\n",
      "                                                                                                                        : ... In instance ConvolutionInputGenerator_rtl_0.impl.controller_inst\n",
      "  129 |                         Counter_loop_kw <= LOOP_KW_ITERATIONS;\n",
      "      |                                         ^~\n",
      "%Warning-WIDTH: /scratch/mirzam/build_files/code_gen_ipgen_ConvolutionInputGenerator_rtl_0_2rdz7x6t/swg_common.sv:132:45: Operator ASSIGNDLY expects 2 bits on the Assign RHS, but Assign RHS's VARREF 'LOOP_KH_ITERATIONS' generates 32 bits.\n",
      "                                                                                                                        : ... In instance ConvolutionInputGenerator_rtl_0.impl.controller_inst\n",
      "  132 |                             Counter_loop_kh <= LOOP_KH_ITERATIONS;\n",
      "      |                                             ^~\n",
      "%Warning-WIDTH: /scratch/mirzam/build_files/code_gen_ipgen_ConvolutionInputGenerator_rtl_0_2rdz7x6t/swg_common.sv:135:48: Operator ASSIGNDLY expects 4 bits on the Assign RHS, but Assign RHS's VARREF 'LOOP_W_ITERATIONS' generates 32 bits.\n",
      "                                                                                                                        : ... In instance ConvolutionInputGenerator_rtl_0.impl.controller_inst\n",
      "  135 |                                 Counter_loop_w <= LOOP_W_ITERATIONS;\n",
      "      |                                                ^~\n",
      "%Warning-WIDTH: /scratch/mirzam/build_files/code_gen_ipgen_ConvolutionInputGenerator_rtl_0_2rdz7x6t/swg_common.sv:137:54: Operator ASSIGNDLY expects 4 bits on the Assign RHS, but Assign RHS's VARREF 'LOOP_H_ITERATIONS' generates 32 bits.\n",
      "                                                                                                                        : ... In instance ConvolutionInputGenerator_rtl_0.impl.controller_inst\n",
      "  137 |                                 else  Counter_loop_h <= LOOP_H_ITERATIONS;\n",
      "      |                                                      ^~\n",
      "%Warning-WIDTH: /scratch/mirzam/build_files/code_gen_ipgen_ConvolutionInputGenerator_rtl_0_2rdz7x6t/ConvolutionInputGenerator_rtl_0_impl.sv:131:48: Operator EQ expects 32 bits on the LHS, but LHS's VARREF 'Newest_buffered_elem' generates 9 bits.\n",
      "                                                                                                                                                  : ... In instance ConvolutionInputGenerator_rtl_0.impl\n",
      "  131 |     uwire  reading_done = Newest_buffered_elem == LAST_READ_ELEM;\n",
      "      |                                                ^~\n",
      "%Warning-WIDTH: /scratch/mirzam/build_files/code_gen_ipgen_ConvolutionInputGenerator_rtl_0_2rdz7x6t/ConvolutionInputGenerator_rtl_0_impl.sv:135:48: Operator SUB expects 32 bits on the LHS, but LHS's VARREF 'Newest_buffered_elem' generates 9 bits.\n",
      "                                                                                                                                                  : ... In instance ConvolutionInputGenerator_rtl_0.impl\n",
      "  135 |                 $signed(((Newest_buffered_elem - (BUF_ELEM_TOTAL - 1)))) < $signed(First_elem_next_window) &&\n",
      "      |                                                ^\n",
      "%Warning-WIDTH: /scratch/mirzam/build_files/code_gen_ipgen_ConvolutionInputGenerator_rtl_0_2rdz7x6t/ConvolutionInputGenerator_rtl_0_impl.sv:135:74: Operator LTS expects 32 bits on the RHS, but RHS's SIGNED generates 9 bits.\n",
      "                                                                                                                                                  : ... In instance ConvolutionInputGenerator_rtl_0.impl\n",
      "  135 |                 $signed(((Newest_buffered_elem - (BUF_ELEM_TOTAL - 1)))) < $signed(First_elem_next_window) &&\n",
      "      |                                                                          ^\n",
      "%Warning-WIDTH: /scratch/mirzam/build_files/code_gen_ipgen_ConvolutionInputGenerator_rtl_0_2rdz7x6t/ConvolutionInputGenerator_rtl_0_impl.sv:136:48: Operator SUB expects 32 bits on the LHS, but LHS's VARREF 'Newest_buffered_elem' generates 9 bits.\n",
      "                                                                                                                                                  : ... In instance ConvolutionInputGenerator_rtl_0.impl\n",
      "  136 |                 $signed(((Newest_buffered_elem - (BUF_ELEM_TOTAL - 1)))) < $signed(Current_elem)\n",
      "      |                                                ^\n",
      "%Warning-WIDTH: /scratch/mirzam/build_files/code_gen_ipgen_ConvolutionInputGenerator_rtl_0_2rdz7x6t/ConvolutionInputGenerator_rtl_0_impl.sv:136:74: Operator LTS expects 32 bits on the RHS, but RHS's SIGNED generates 9 bits.\n",
      "                                                                                                                                                  : ... In instance ConvolutionInputGenerator_rtl_0.impl\n",
      "  136 |                 $signed(((Newest_buffered_elem - (BUF_ELEM_TOTAL - 1)))) < $signed(Current_elem)\n",
      "      |                                                                          ^\n",
      "%Warning-WIDTH: /scratch/mirzam/build_files/code_gen_ipgen_ConvolutionInputGenerator_rtl_0_2rdz7x6t/ConvolutionInputGenerator_rtl_0_impl.sv:143:37: Operator ASSIGNW expects 6 bits on the Assign RHS, but Assign RHS's VARREF 'Window_buffer_read_addr_reg' generates 7 bits.\n",
      "                                                                                                                                                  : ... In instance ConvolutionInputGenerator_rtl_0.impl\n",
      "  143 |     assign  window_buffer_read_addr = Window_buffer_read_addr_reg;\n",
      "      |                                     ^\n",
      "%Warning-WIDTH: /scratch/mirzam/build_files/code_gen_ipgen_ConvolutionInputGenerator_rtl_0_2rdz7x6t/ConvolutionInputGenerator_rtl_0_impl.sv:169:79: Operator EQ expects 32 bits on the LHS, but LHS's VARREF 'Window_buffer_write_addr_reg' generates 6 bits.\n",
      "                                                                                                                                                  : ... In instance ConvolutionInputGenerator_rtl_0.impl\n",
      "  169 |                 Window_buffer_write_addr_reg <= (Window_buffer_write_addr_reg == BUF_ELEM_TOTAL-1)? 0 : Window_buffer_write_addr_reg + 1;\n",
      "      |                                                                               ^~\n",
      "%Warning-WIDTH: /scratch/mirzam/build_files/code_gen_ipgen_ConvolutionInputGenerator_rtl_0_2rdz7x6t/ConvolutionInputGenerator_rtl_0_impl.sv:172:42: Operator EQ expects 32 bits on the LHS, but LHS's VARREF 'Newest_buffered_elem' generates 9 bits.\n",
      "                                                                                                                                                  : ... In instance ConvolutionInputGenerator_rtl_0.impl\n",
      "  172 |                 if (Newest_buffered_elem == LAST_READ_ELEM-1) begin\n",
      "      |                                          ^~\n",
      "%Warning-WIDTH: /scratch/mirzam/build_files/code_gen_ipgen_ConvolutionInputGenerator_rtl_0_2rdz7x6t/ConvolutionInputGenerator_rtl_0_impl.sv:176:43: Operator EQ expects 32 bits on the LHS, but LHS's VARREF 'Newest_buffered_elem' generates 9 bits.\n",
      "                                                                                                                                                  : ... In instance ConvolutionInputGenerator_rtl_0.impl\n",
      "  176 |                 if ((Newest_buffered_elem == LAST_READ_ELEM-1) && Writing_done) begin\n",
      "      |                                           ^~\n",
      "%Warning-WIDTH: /scratch/mirzam/build_files/code_gen_ipgen_ConvolutionInputGenerator_rtl_0_2rdz7x6t/ConvolutionInputGenerator_rtl_0_impl.sv:195:25: Operator GTES expects 32 bits on the LHS, but LHS's VARREF 'ra' generates 8 bits.\n",
      "                                                                                                                                                  : ... In instance ConvolutionInputGenerator_rtl_0.impl\n",
      "  195 |                     (ra >= BUF_ELEM_TOTAL)? -BUF_ELEM_TOTAL :\n",
      "      |                         ^~\n",
      "%Warning-WIDTH: /scratch/mirzam/build_files/code_gen_ipgen_ConvolutionInputGenerator_rtl_0_2rdz7x6t/ConvolutionInputGenerator_rtl_0_impl.sv:195:43: Operator ASSIGN expects 7 bits on the Assign RHS, but Assign RHS's COND generates 32 bits.\n",
      "                                                                                                                                                  : ... In instance ConvolutionInputGenerator_rtl_0.impl\n",
      "  195 |                     (ra >= BUF_ELEM_TOTAL)? -BUF_ELEM_TOTAL :\n",
      "      |                                           ^\n",
      "%Warning-WIDTH: /scratch/mirzam/build_files/code_gen_ipgen_ConvolutionInputGenerator_rtl_0_2rdz7x6t/ConvolutionInputGenerator_rtl_0_impl.sv:197:45: Operator ASSIGNDLY expects 7 bits on the Assign RHS, but Assign RHS's ADD generates 8 bits.\n",
      "                                                                                                                                                  : ... In instance ConvolutionInputGenerator_rtl_0.impl\n",
      "  197 |                 Window_buffer_read_addr_reg <= ra + ra_correct;\n",
      "      |                                             ^~\n",
      "%Warning-WIDTH: /scratch/mirzam/build_files/code_gen_ipgen_ConvolutionInputGenerator_rtl_0_2rdz7x6t/ConvolutionInputGenerator_rtl_0_impl.sv:200:59: Operator NEQ expects 32 bits on the LHS, but LHS's VARREF 'Position_in_window' generates 4 bits.\n",
      "                                                                                                                                                  : ... In instance ConvolutionInputGenerator_rtl_0.impl\n",
      "  200 |                 Position_in_window <= (Position_in_window != ELEM_PER_WINDOW - 1)? Position_in_window+1 : 0;\n",
      "      |                                                           ^~\n",
      "%Warning-WIDTH: /scratch/mirzam/build_files/code_gen_ipgen_ConvolutionInputGenerator_rtl_0_2rdz7x6t/ConvolutionInputGenerator_rtl_0_impl.sv:204:70: Operator ADD expects 9 bits on the RHS, but RHS's VARREF 'tail_incr' generates 7 bits.\n",
      "                                                                                                                                                  : ... In instance ConvolutionInputGenerator_rtl_0.impl\n",
      "  204 |                     First_elem_next_window <= First_elem_next_window + tail_incr;\n",
      "      |                                                                      ^\n",
      "%Warning-WIDTH: /scratch/mirzam/build_files/code_gen_ipgen_ConvolutionInputGenerator_rtl_0_2rdz7x6t/ConvolutionInputGenerator_rtl_0_impl.sv:210:59: Operator ADD expects 9 bits on the RHS, but RHS's VARREF 'addr_incr' generates 7 bits.\n",
      "                                                                                                                                                  : ... In instance ConvolutionInputGenerator_rtl_0.impl\n",
      "  210 |                     Current_elem <= $signed(Current_elem) + addr_incr;\n",
      "      |                                                           ^\n",
      "%Warning-WIDTH: /scratch/mirzam/build_files/code_gen_ipgen_ConvolutionInputGenerator_rtl_0_2rdz7x6t/ConvolutionInputGenerator_rtl_0_impl.sv:207:34: Operator EQ expects 32 bits on the LHS, but LHS's VARREF 'Current_elem' generates 9 bits.\n",
      "                                                                                                                                                  : ... In instance ConvolutionInputGenerator_rtl_0.impl\n",
      "  207 |                 if (Current_elem == LAST_WRITE_ELEM)\n",
      "      |                                  ^~\n",
      "%Warning-WIDTH: /scratch/mirzam/build_files/code_gen_ipgen_ConvolutionInputGenerator_rtl_0_2rdz7x6t/ConvolutionInputGenerator_rtl_0_impl.sv:224:71: Operator EQ expects 32 bits on the LHS, but LHS's VARREF 'Newest_buffered_elem' generates 9 bits.\n",
      "                                                                                                                                                  : ... In instance ConvolutionInputGenerator_rtl_0.impl\n",
      "  224 |                 if (reading_done || (read_ok && (Newest_buffered_elem == LAST_READ_ELEM - 1))) begin\n",
      "      |                                                                       ^~\n",
      "%Warning-CASEINCOMPLETE: /scratch/mirzam/build_files/code_gen_ipgen_ConvolutionInputGenerator_rtl_0_2rdz7x6t/swg_common.sv:77:16: Case values incompletely covered (example pattern 0x6)\n",
      "   77 |         unique case (State)\n",
      "      |                ^~~~\n",
      "%Warning-WIDTH: /scratch/mirzam/finn/finn-rtllib/mvu/mvu_vvu_axi.sv:48:6: Operator VAR 'IS_MVU' expects 1 bits on the Initial value, but Initial value's CONST '8'h30' generates 8 bits.\n",
      "                                                                        : ... In instance VectorVectorActivation_rtl_0.inst\n",
      "   48 |  bit IS_MVU,  \n",
      "      |      ^~~~~~\n",
      "                /scratch/mirzam/build_files/code_gen_ipgen_VectorVectorActivation_rtl_0_3b93mcwg/VectorVectorActivation_rtl_0_wrapper_sim.v:80:1: ... note: In file included from VectorVectorActivation_rtl_0_wrapper_sim.v\n",
      "                ... For warning description see https://verilator.org/warn/WIDTH?v=4.224\n",
      "                ... Use \"/* verilator lint_off WIDTH */\" and lint_on around source to disable this message.\n",
      "%Warning-WIDTH: /scratch/mirzam/finn/finn-rtllib/mvu/mvu_vvu_8sx9_dsp58.sv:139:46: Operator COND expects 9 bits on the Conditional True, but Conditional True's SEL generates 8 bits.\n",
      "                                                                                 : ... In instance VectorVectorActivation_rtl_0.inst.genblk2.core\n",
      "  139 |       SIGNED_ACTIVATIONS ? PAD_BITS_ACT == 0 ? a[SIMD*k+3*i+j] : { {PAD_BITS_ACT{a[SIMD*k+3*i+j][ACTIVATION_WIDTH-1]}}, a[SIMD*k+3*i+j] }\n",
      "      |                                              ^\n",
      "                /scratch/mirzam/finn/finn-rtllib/mvu/mvu_vvu_axi.sv:181:1: ... note: In file included from mvu_vvu_axi.sv\n",
      "                /scratch/mirzam/build_files/code_gen_ipgen_VectorVectorActivation_rtl_0_3b93mcwg/VectorVectorActivation_rtl_0_wrapper_sim.v:80:1: ... note: In file included from VectorVectorActivation_rtl_0_wrapper_sim.v\n",
      "%Warning-WIDTH: /scratch/mirzam/finn/finn-rtllib/mvu/mvu_vvu_8sx9_dsp58.sv:140:34: Operator COND expects 9 bits on the Conditional True, but Conditional True's SEL generates 8 bits.\n",
      "                                                                                 : ... In instance VectorVectorActivation_rtl_0.inst.genblk2.core\n",
      "  140 |              : PAD_BITS_ACT == 0 ? a[SIMD*k+3*i+j] : { {PAD_BITS_ACT{1'b0}}, a[SIMD*k+3*i+j] } ;\n",
      "      |                                  ^\n",
      "                /scratch/mirzam/finn/finn-rtllib/mvu/mvu_vvu_axi.sv:181:1: ... note: In file included from mvu_vvu_axi.sv\n",
      "                /scratch/mirzam/build_files/code_gen_ipgen_VectorVectorActivation_rtl_0_3b93mcwg/VectorVectorActivation_rtl_0_wrapper_sim.v:80:1: ... note: In file included from VectorVectorActivation_rtl_0_wrapper_sim.v\n",
      "%Warning-SELRANGE: /scratch/mirzam/finn/finn-rtllib/mvu/mvu_vvu_8sx9_dsp58.sv:217:36: Selection index out of range: 1 outside 0:0\n",
      "                                                                                    : ... In instance VectorVectorActivation_rtl_0.inst.genblk2.core\n",
      "  217 |       if (INTERNAL_PREGS == 2) Areg[1] <= Areg[0];\n",
      "      |                                    ^\n",
      "                   /scratch/mirzam/finn/finn-rtllib/mvu/mvu_vvu_axi.sv:181:1: ... note: In file included from mvu_vvu_axi.sv\n",
      "                   /scratch/mirzam/build_files/code_gen_ipgen_VectorVectorActivation_rtl_0_3b93mcwg/VectorVectorActivation_rtl_0_wrapper_sim.v:80:1: ... note: In file included from VectorVectorActivation_rtl_0_wrapper_sim.v\n",
      "%Warning-SELRANGE: /scratch/mirzam/finn/finn-rtllib/mvu/mvu_vvu_8sx9_dsp58.sv:225:36: Selection index out of range: 1 outside 0:0\n",
      "                                                                                    : ... In instance VectorVectorActivation_rtl_0.inst.genblk2.core\n",
      "  225 |       if (INTERNAL_PREGS == 2) Breg[1] <= Breg[0];\n",
      "      |                                    ^\n",
      "                   /scratch/mirzam/finn/finn-rtllib/mvu/mvu_vvu_axi.sv:181:1: ... note: In file included from mvu_vvu_axi.sv\n",
      "                   /scratch/mirzam/build_files/code_gen_ipgen_VectorVectorActivation_rtl_0_3b93mcwg/VectorVectorActivation_rtl_0_wrapper_sim.v:80:1: ... note: In file included from VectorVectorActivation_rtl_0_wrapper_sim.v\n",
      "%Warning-WIDTH: /scratch/mirzam/finn/finn-rtllib/mvu/replay_buffer.sv:77:20: Operator ADD expects 32 bits on the LHS, but LHS's VARREF 'Count' generates 2 bits.\n",
      "                                                                           : ... In instance VectorVectorActivation_rtl_0.inst.activation_replay\n",
      "   77 |     Count <= Count + (Last? 2**$clog2(LEN)-LEN+1 : 1);\n",
      "      |                    ^\n",
      "                /scratch/mirzam/finn/finn-rtllib/mvu/mvu_vvu_axi.sv:142:1: ... note: In file included from mvu_vvu_axi.sv\n",
      "                /scratch/mirzam/build_files/code_gen_ipgen_VectorVectorActivation_rtl_0_3b93mcwg/VectorVectorActivation_rtl_0_wrapper_sim.v:80:1: ... note: In file included from VectorVectorActivation_rtl_0_wrapper_sim.v\n",
      "%Warning-WIDTH: /scratch/mirzam/finn/finn-rtllib/mvu/replay_buffer.sv:77:11: Operator ASSIGNDLY expects 2 bits on the Assign RHS, but Assign RHS's ADD generates 32 bits.\n",
      "                                                                           : ... In instance VectorVectorActivation_rtl_0.inst.activation_replay\n",
      "   77 |     Count <= Count + (Last? 2**$clog2(LEN)-LEN+1 : 1);\n",
      "      |           ^~\n",
      "                /scratch/mirzam/finn/finn-rtllib/mvu/mvu_vvu_axi.sv:142:1: ... note: In file included from mvu_vvu_axi.sv\n",
      "                /scratch/mirzam/build_files/code_gen_ipgen_VectorVectorActivation_rtl_0_3b93mcwg/VectorVectorActivation_rtl_0_wrapper_sim.v:80:1: ... note: In file included from VectorVectorActivation_rtl_0_wrapper_sim.v\n",
      "%Warning-WIDTH: /scratch/mirzam/finn/finn-rtllib/mvu/replay_buffer.sv:78:26: Operator NOT expects 32 bits on the LHS, but LHS's VARREF 'Count' generates 2 bits.\n",
      "                                                                           : ... In instance VectorVectorActivation_rtl_0.inst.activation_replay\n",
      "   78 |     Last  <= (((LEN-2) & ~Count) == 0) && ((LEN&1) || !Last);\n",
      "      |                          ^\n",
      "                /scratch/mirzam/finn/finn-rtllib/mvu/mvu_vvu_axi.sv:142:1: ... note: In file included from mvu_vvu_axi.sv\n",
      "                /scratch/mirzam/build_files/code_gen_ipgen_VectorVectorActivation_rtl_0_3b93mcwg/VectorVectorActivation_rtl_0_wrapper_sim.v:80:1: ... note: In file included from VectorVectorActivation_rtl_0_wrapper_sim.v\n",
      "%Warning-WIDTH: /scratch/mirzam/finn/finn-rtllib/mvu/replay_buffer.sv:78:52: Logical operator LOGOR expects 1 bit on the LHS, but LHS's AND generates 32 bits.\n",
      "                                                                           : ... In instance VectorVectorActivation_rtl_0.inst.activation_replay\n",
      "   78 |     Last  <= (((LEN-2) & ~Count) == 0) && ((LEN&1) || !Last);\n",
      "      |                                                    ^~\n",
      "                /scratch/mirzam/finn/finn-rtllib/mvu/mvu_vvu_axi.sv:142:1: ... note: In file included from mvu_vvu_axi.sv\n",
      "                /scratch/mirzam/build_files/code_gen_ipgen_VectorVectorActivation_rtl_0_3b93mcwg/VectorVectorActivation_rtl_0_wrapper_sim.v:80:1: ... note: In file included from VectorVectorActivation_rtl_0_wrapper_sim.v\n",
      "%Warning-WIDTH: /scratch/mirzam/finn/finn-rtllib/mvu/mvu_vvu_axi.sv:169:71: Operator COND expects 9 bits on the Conditional False, but Conditional False's SEL generates 8 bits.\n",
      "                                                                          : ... In instance VectorVectorActivation_rtl_0.inst\n",
      "  169 |    assign  amvau_i[i*ACTIVATION_WIDTH +: ACTIVATION_WIDTH] = (PE > 1) ?\n",
      "      |                                                                       ^\n",
      "                /scratch/mirzam/build_files/code_gen_ipgen_VectorVectorActivation_rtl_0_3b93mcwg/VectorVectorActivation_rtl_0_wrapper_sim.v:80:1: ... note: In file included from VectorVectorActivation_rtl_0_wrapper_sim.v\n",
      "%Warning-WIDTH: /scratch/mirzam/finn/finn-rtllib/mvu/mvu_vvu_axi.sv:169:60: Operator ASSIGNW expects 8 bits on the Assign RHS, but Assign RHS's COND generates 9 bits.\n",
      "                                                                          : ... In instance VectorVectorActivation_rtl_0.inst\n",
      "  169 |    assign  amvau_i[i*ACTIVATION_WIDTH +: ACTIVATION_WIDTH] = (PE > 1) ?\n",
      "      |                                                            ^\n",
      "                /scratch/mirzam/build_files/code_gen_ipgen_VectorVectorActivation_rtl_0_3b93mcwg/VectorVectorActivation_rtl_0_wrapper_sim.v:80:1: ... note: In file included from VectorVectorActivation_rtl_0_wrapper_sim.v\n",
      "%Warning-SELRANGE: /scratch/mirzam/finn/finn-rtllib/mvu/mvu_vvu_axi.sv:170:15: Selection index out of range: 24:16 outside 23:0\n",
      "                                                                             : ... In instance VectorVectorActivation_rtl_0.inst\n",
      "  170 |          amvau[(i/SIMD + (i*PE % num_of_elements) + 1) * ACTIVATION_WIDTH : (i/SIMD + (i*PE % num_of_elements)) * ACTIVATION_WIDTH]\n",
      "      |               ^\n",
      "                   /scratch/mirzam/build_files/code_gen_ipgen_VectorVectorActivation_rtl_0_3b93mcwg/VectorVectorActivation_rtl_0_wrapper_sim.v:80:1: ... note: In file included from VectorVectorActivation_rtl_0_wrapper_sim.v\n",
      "%Warning-WIDTH: /scratch/mirzam/finn/finn-rtllib/mvu/mvu_vvu_axi.sv:246:30: Operator ASSIGNW expects 24 bits on the Assign RHS, but Assign RHS's SEL generates 17 bits.\n",
      "                                                                          : ... In instance VectorVectorActivation_rtl_0.inst\n",
      "  246 |  assign m_axis_output_tdata  = B.dat;\n",
      "      |                              ^\n",
      "                /scratch/mirzam/build_files/code_gen_ipgen_VectorVectorActivation_rtl_0_3b93mcwg/VectorVectorActivation_rtl_0_wrapper_sim.v:80:1: ... note: In file included from VectorVectorActivation_rtl_0_wrapper_sim.v\n"
     ]
    },
    {
     "name": "stdout",
     "output_type": "stream",
     "text": [
      "make: Entering directory '/scratch/mirzam/build_files/pyverilator_ConvolutionInputGenerator_rtl_0_rmehhsuh'\n",
      "ccache g++  -I.  -MMD -I/usr/local/share/verilator/include -I/usr/local/share/verilator/include/vltstd -DVM_COVERAGE=0 -DVM_SC=0 -DVM_TRACE=1 -DVM_TRACE_FST=0 -DVM_TRACE_VCD=1 -faligned-new -fcf-protection=none -Wno-bool-operation -Wno-sign-compare -Wno-uninitialized -Wno-unused-but-set-variable -Wno-unused-parameter -Wno-unused-variable -Wno-shadow     -fPIC --std=c++11  -std=gnu++17 -Os -c -o pyverilator_wrapper.o /scratch/mirzam/build_files/pyverilator_ConvolutionInputGenerator_rtl_0_rmehhsuh/pyverilator_wrapper.cpp\n",
      "ccache g++  -I.  -MMD -I/usr/local/share/verilator/include -I/usr/local/share/verilator/include/vltstd -DVM_COVERAGE=0 -DVM_SC=0 -DVM_TRACE=1 -DVM_TRACE_FST=0 -DVM_TRACE_VCD=1 -faligned-new -fcf-protection=none -Wno-bool-operation -Wno-sign-compare -Wno-uninitialized -Wno-unused-but-set-variable -Wno-unused-parameter -Wno-unused-variable -Wno-shadow     -fPIC --std=c++11  -std=gnu++17 -Os -c -o verilated.o /usr/local/share/verilator/include/verilated.cpp\n",
      "ccache g++  -I.  -MMD -I/usr/local/share/verilator/include -I/usr/local/share/verilator/include/vltstd -DVM_COVERAGE=0 -DVM_SC=0 -DVM_TRACE=1 -DVM_TRACE_FST=0 -DVM_TRACE_VCD=1 -faligned-new -fcf-protection=none -Wno-bool-operation -Wno-sign-compare -Wno-uninitialized -Wno-unused-but-set-variable -Wno-unused-parameter -Wno-unused-variable -Wno-shadow     -fPIC --std=c++11  -std=gnu++17 -Os -c -o verilated_vcd_c.o /usr/local/share/verilator/include/verilated_vcd_c.cpp\n",
      "/usr/bin/perl /usr/local/share/verilator/bin/verilator_includer -DVL_INCLUDE_OPT=include VConvolutionInputGenerator_rtl_0.cpp VConvolutionInputGenerator_rtl_0___024root__DepSet_ha690489a__0.cpp VConvolutionInputGenerator_rtl_0__Trace__0.cpp VConvolutionInputGenerator_rtl_0__ConstPool_0.cpp VConvolutionInputGenerator_rtl_0___024root__Slow.cpp VConvolutionInputGenerator_rtl_0___024root__DepSet_ha690489a__0__Slow.cpp VConvolutionInputGenerator_rtl_0__Syms.cpp VConvolutionInputGenerator_rtl_0__Trace__0__Slow.cpp > VConvolutionInputGenerator_rtl_0__ALL.cpp\n",
      "ccache g++  -I.  -MMD -I/usr/local/share/verilator/include -I/usr/local/share/verilator/include/vltstd -DVM_COVERAGE=0 -DVM_SC=0 -DVM_TRACE=1 -DVM_TRACE_FST=0 -DVM_TRACE_VCD=1 -faligned-new -fcf-protection=none -Wno-bool-operation -Wno-sign-compare -Wno-uninitialized -Wno-unused-but-set-variable -Wno-unused-parameter -Wno-unused-variable -Wno-shadow     -fPIC --std=c++11  -std=gnu++17 -Os -c -o VConvolutionInputGenerator_rtl_0__ALL.o VConvolutionInputGenerator_rtl_0__ALL.cpp\n",
      "echo \"\" > VConvolutionInputGenerator_rtl_0__ALL.verilator_deplist.tmp\n",
      "Archive ar -rcs VConvolutionInputGenerator_rtl_0__ALL.a VConvolutionInputGenerator_rtl_0__ALL.o\n",
      "g++ -fPIC -shared pyverilator_wrapper.o verilated.o verilated_vcd_c.o VConvolutionInputGenerator_rtl_0__ALL.a      -o VConvolutionInputGenerator_rtl_0\n",
      "rm VConvolutionInputGenerator_rtl_0__ALL.verilator_deplist.tmp\n",
      "make: Leaving directory '/scratch/mirzam/build_files/pyverilator_ConvolutionInputGenerator_rtl_0_rmehhsuh'\n",
      "make: Entering directory '/scratch/mirzam/build_files/pyverilator_VectorVectorActivation_rtl_0_524yq09p'\n",
      "ccache g++  -I.  -MMD -I/usr/local/share/verilator/include -I/usr/local/share/verilator/include/vltstd -DVM_COVERAGE=0 -DVM_SC=0 -DVM_TRACE=1 -DVM_TRACE_FST=0 -DVM_TRACE_VCD=1 -faligned-new -fcf-protection=none -Wno-bool-operation -Wno-sign-compare -Wno-uninitialized -Wno-unused-but-set-variable -Wno-unused-parameter -Wno-unused-variable -Wno-shadow     -fPIC --std=c++11  -std=gnu++17 -Os -c -o pyverilator_wrapper.o /scratch/mirzam/build_files/pyverilator_VectorVectorActivation_rtl_0_524yq09p/pyverilator_wrapper.cpp\n",
      "ccache g++  -I.  -MMD -I/usr/local/share/verilator/include -I/usr/local/share/verilator/include/vltstd -DVM_COVERAGE=0 -DVM_SC=0 -DVM_TRACE=1 -DVM_TRACE_FST=0 -DVM_TRACE_VCD=1 -faligned-new -fcf-protection=none -Wno-bool-operation -Wno-sign-compare -Wno-uninitialized -Wno-unused-but-set-variable -Wno-unused-parameter -Wno-unused-variable -Wno-shadow     -fPIC --std=c++11  -std=gnu++17 -Os -c -o verilated.o /usr/local/share/verilator/include/verilated.cpp\n",
      "ccache g++  -I.  -MMD -I/usr/local/share/verilator/include -I/usr/local/share/verilator/include/vltstd -DVM_COVERAGE=0 -DVM_SC=0 -DVM_TRACE=1 -DVM_TRACE_FST=0 -DVM_TRACE_VCD=1 -faligned-new -fcf-protection=none -Wno-bool-operation -Wno-sign-compare -Wno-uninitialized -Wno-unused-but-set-variable -Wno-unused-parameter -Wno-unused-variable -Wno-shadow     -fPIC --std=c++11  -std=gnu++17 -Os -c -o verilated_vcd_c.o /usr/local/share/verilator/include/verilated_vcd_c.cpp\n",
      "/usr/bin/perl /usr/local/share/verilator/bin/verilator_includer -DVL_INCLUDE_OPT=include VVectorVectorActivation_rtl_0.cpp VVectorVectorActivation_rtl_0___024root__DepSet_h052b7240__0.cpp VVectorVectorActivation_rtl_0__Trace__0.cpp VVectorVectorActivation_rtl_0___024root__Slow.cpp VVectorVectorActivation_rtl_0___024root__DepSet_h052b7240__0__Slow.cpp VVectorVectorActivation_rtl_0__Syms.cpp VVectorVectorActivation_rtl_0__Trace__0__Slow.cpp > VVectorVectorActivation_rtl_0__ALL.cpp\n",
      "ccache g++  -I.  -MMD -I/usr/local/share/verilator/include -I/usr/local/share/verilator/include/vltstd -DVM_COVERAGE=0 -DVM_SC=0 -DVM_TRACE=1 -DVM_TRACE_FST=0 -DVM_TRACE_VCD=1 -faligned-new -fcf-protection=none -Wno-bool-operation -Wno-sign-compare -Wno-uninitialized -Wno-unused-but-set-variable -Wno-unused-parameter -Wno-unused-variable -Wno-shadow     -fPIC --std=c++11  -std=gnu++17 -Os -c -o VVectorVectorActivation_rtl_0__ALL.o VVectorVectorActivation_rtl_0__ALL.cpp\n",
      "echo \"\" > VVectorVectorActivation_rtl_0__ALL.verilator_deplist.tmp\n",
      "Archive ar -rcs VVectorVectorActivation_rtl_0__ALL.a VVectorVectorActivation_rtl_0__ALL.o\n",
      "g++ -fPIC -shared pyverilator_wrapper.o verilated.o verilated_vcd_c.o VVectorVectorActivation_rtl_0__ALL.a      -o VVectorVectorActivation_rtl_0\n",
      "rm VVectorVectorActivation_rtl_0__ALL.verilator_deplist.tmp\n",
      "make: Leaving directory '/scratch/mirzam/build_files/pyverilator_VectorVectorActivation_rtl_0_524yq09p'\n"
     ]
    }
   ],
   "source": [
    "test_fpgadataflow_vvau_rtl(3, 10, 6, DataType[\"UINT8\"], DataType[\"INT6\"], \"xcvm1802-vsvd1760-2MP-e-S\", 1, 1, 3)"
   ]
  },
  {
   "cell_type": "markdown",
   "id": "7197dd31-1d1e-4be0-92ad-ca853d451ff6",
   "metadata": {},
   "source": [
    "# SIMD = 1"
   ]
  },
  {
   "cell_type": "code",
   "execution_count": 2,
   "id": "e3bb367a-1e85-4a4b-b18b-da07c903f1d6",
   "metadata": {},
   "outputs": [],
   "source": [
    "import numpy as np\n",
    "import pickle\n",
    "\n",
    "with open('hls_vvau_folded_output.pkl', 'rb') as f:\n",
    "    loaded_dict_hls = pickle.load(f)\n",
    "\n",
    "with open('rtl_vvau_output.pkl', 'rb') as f:\n",
    "    loaded_dict_rtl = pickle.load(f)\n"
   ]
  },
  {
   "cell_type": "code",
   "execution_count": 3,
   "id": "fcfec8fa-a8ec-4144-be14-f5030100e449",
   "metadata": {},
   "outputs": [
    {
     "data": {
      "text/plain": [
       "array([[[[ -45.,  123.,   87.,  -56.],\n",
       "         [-121.,  124.,   22., -121.],\n",
       "         [ -92., -110.,  -94.,  102.],\n",
       "         [  12.,   84.,  105.,    7.],\n",
       "         [  97.,  103.,  115.,   29.]],\n",
       "\n",
       "        [[ -20.,  -79.,  -79.,   77.],\n",
       "         [ 121.,  122., -102.,  -61.],\n",
       "         [ -57.,  -90.,  114., -110.],\n",
       "         [  57.,   36., -114.,   73.],\n",
       "         [-128.,  -38.,  -90.,    1.]],\n",
       "\n",
       "        [[-119.,   -6.,  -75.,  -75.],\n",
       "         [ -58.,   42.,   74.,   95.],\n",
       "         [  11.,  -44.,   66.,  -66.],\n",
       "         [ -75., -117.,   27.,   15.],\n",
       "         [ -32.,   39.,  -68.,  -10.]],\n",
       "\n",
       "        [[ -54.,   35.,  -30., -112.],\n",
       "         [ -74.,   32.,   86.,   13.],\n",
       "         [  41.,  127.,   56.,   41.],\n",
       "         [  34.,  -51., -119.,   38.],\n",
       "         [  82.,   44.,   46.,   34.]],\n",
       "\n",
       "        [[ -48.,  -10.,   77.,   43.],\n",
       "         [-113., -116.,  -87.,   -8.],\n",
       "         [-108.,  106., -107.,  -10.],\n",
       "         [  61.,  -97.,   71.,   43.],\n",
       "         [ -50.,   42.,   51.,  -65.]]]], dtype=float32)"
      ]
     },
     "execution_count": 3,
     "metadata": {},
     "output_type": "execute_result"
    }
   ],
   "source": [
    "loaded_dict_hls[\"Transpose_0_out0\"]"
   ]
  },
  {
   "cell_type": "code",
   "execution_count": 4,
   "id": "a3f97e27-91b1-4a52-93f7-f278e3d01e50",
   "metadata": {},
   "outputs": [
    {
     "data": {
      "text/plain": [
       "array([[[[ -45., -121.,  -92.,  -20.,  121.,  -57., -119.,  -58.,\n",
       "            11.,  123.,  124., -110.,  -79.,  122.,  -90.,   -6.,\n",
       "            42.,  -44.,   87.,   22.,  -94.,  -79., -102.,  114.,\n",
       "           -75.,   74.,   66.,  -56., -121.,  102.,   77.,  -61.,\n",
       "          -110.,  -75.,   95.,  -66.],\n",
       "         [-121.,  -92.,   12.,  121.,  -57.,   57.,  -58.,   11.,\n",
       "           -75.,  124., -110.,   84.,  122.,  -90.,   36.,   42.,\n",
       "           -44., -117.,   22.,  -94.,  105., -102.,  114., -114.,\n",
       "            74.,   66.,   27., -121.,  102.,    7.,  -61., -110.,\n",
       "            73.,   95.,  -66.,   15.],\n",
       "         [ -92.,   12.,   97.,  -57.,   57., -128.,   11.,  -75.,\n",
       "           -32., -110.,   84.,  103.,  -90.,   36.,  -38.,  -44.,\n",
       "          -117.,   39.,  -94.,  105.,  115.,  114., -114.,  -90.,\n",
       "            66.,   27.,  -68.,  102.,    7.,   29., -110.,   73.,\n",
       "             1.,  -66.,   15.,  -10.]],\n",
       "\n",
       "        [[ -20.,  121.,  -57., -119.,  -58.,   11.,  -54.,  -74.,\n",
       "            41.,  -79.,  122.,  -90.,   -6.,   42.,  -44.,   35.,\n",
       "            32.,  127.,  -79., -102.,  114.,  -75.,   74.,   66.,\n",
       "           -30.,   86.,   56.,   77.,  -61., -110.,  -75.,   95.,\n",
       "           -66., -112.,   13.,   41.],\n",
       "         [ 121.,  -57.,   57.,  -58.,   11.,  -75.,  -74.,   41.,\n",
       "            34.,  122.,  -90.,   36.,   42.,  -44., -117.,   32.,\n",
       "           127.,  -51., -102.,  114., -114.,   74.,   66.,   27.,\n",
       "            86.,   56., -119.,  -61., -110.,   73.,   95.,  -66.,\n",
       "            15.,   13.,   41.,   38.],\n",
       "         [ -57.,   57., -128.,   11.,  -75.,  -32.,   41.,   34.,\n",
       "            82.,  -90.,   36.,  -38.,  -44., -117.,   39.,  127.,\n",
       "           -51.,   44.,  114., -114.,  -90.,   66.,   27.,  -68.,\n",
       "            56., -119.,   46., -110.,   73.,    1.,  -66.,   15.,\n",
       "           -10.,   41.,   38.,   34.]],\n",
       "\n",
       "        [[-119.,  -58.,   11.,  -54.,  -74.,   41.,  -48., -113.,\n",
       "          -108.,   -6.,   42.,  -44.,   35.,   32.,  127.,  -10.,\n",
       "          -116.,  106.,  -75.,   74.,   66.,  -30.,   86.,   56.,\n",
       "            77.,  -87., -107.,  -75.,   95.,  -66., -112.,   13.,\n",
       "            41.,   43.,   -8.,  -10.],\n",
       "         [ -58.,   11.,  -75.,  -74.,   41.,   34., -113., -108.,\n",
       "            61.,   42.,  -44., -117.,   32.,  127.,  -51., -116.,\n",
       "           106.,  -97.,   74.,   66.,   27.,   86.,   56., -119.,\n",
       "           -87., -107.,   71.,   95.,  -66.,   15.,   13.,   41.,\n",
       "            38.,   -8.,  -10.,   43.],\n",
       "         [  11.,  -75.,  -32.,   41.,   34.,   82., -108.,   61.,\n",
       "           -50.,  -44., -117.,   39.,  127.,  -51.,   44.,  106.,\n",
       "           -97.,   42.,   66.,   27.,  -68.,   56., -119.,   46.,\n",
       "          -107.,   71.,   51.,  -66.,   15.,  -10.,   41.,   38.,\n",
       "            34.,  -10.,   43.,  -65.]]]], dtype=float32)"
      ]
     },
     "execution_count": 4,
     "metadata": {},
     "output_type": "execute_result"
    }
   ],
   "source": [
    "loaded_dict_hls[\"ConvolutionInputGenerator_rtl_0_out0\"]"
   ]
  },
  {
   "cell_type": "markdown",
   "id": "d98ad4d6-2c6b-4383-a053-d5951739ae43",
   "metadata": {},
   "source": [
    "# Some tests"
   ]
  },
  {
   "cell_type": "code",
   "execution_count": 1,
   "id": "af5cf1f8-4470-4041-a4fd-afd78d17332e",
   "metadata": {},
   "outputs": [],
   "source": [
    "import numpy as np\n",
    "import pickle\n",
    "\n",
    "with open('hls_vvau_folded_output.pkl', 'rb') as f:\n",
    "    dict_hls = pickle.load(f)\n",
    "\n",
    "with open('onnx_dws_conv.pkl', 'rb') as f:\n",
    "    dict_onnx = pickle.load(f)\n",
    "\n",
    "with open('stitched_ip_output.pkl', 'rb') as f:\n",
    "    dict_stitched_ip = pickle.load(f)\n",
    "\n",
    "with open('rtl_vvau_output.pkl', 'rb') as f:\n",
    "    dict_rtl = pickle.load(f)"
   ]
  },
  {
   "cell_type": "code",
   "execution_count": 2,
   "id": "85cf0990-df64-4bdf-8f60-91ab9ff4fded",
   "metadata": {},
   "outputs": [
    {
     "name": "stdout",
     "output_type": "stream",
     "text": [
      "(1, 4, 3, 3)\n"
     ]
    },
    {
     "data": {
      "text/plain": [
       "array([[[[ 4851., -5781.,  -466.],\n",
       "         [ -374., -4851.,  -633.],\n",
       "         [ 2689., -2184.,  -457.]],\n",
       "\n",
       "        [[ 2931.,  2494.,  2266.],\n",
       "         [ 2672.,  1388.,    24.],\n",
       "         [ 3199.,  7602.,  5672.]],\n",
       "\n",
       "        [[ -511.,  6304., -2546.],\n",
       "         [ 1704., -5466.,  2307.],\n",
       "         [ 5092.,  5691.,  1111.]],\n",
       "\n",
       "        [[  644., -6511., -1961.],\n",
       "         [ 4175., -1759., -4617.],\n",
       "         [-2317.,  4556., -3143.]]]], dtype=float32)"
      ]
     },
     "execution_count": 2,
     "metadata": {},
     "output_type": "execute_result"
    }
   ],
   "source": [
    "print(dict_onnx[\"global_out\"].shape)\n",
    "dict_onnx[\"global_out\"]"
   ]
  },
  {
   "cell_type": "code",
   "execution_count": 3,
   "id": "9eb23fca-0f3d-4a9a-a221-c92d4baafb91",
   "metadata": {},
   "outputs": [
    {
     "name": "stdout",
     "output_type": "stream",
     "text": [
      "(1, 4, 3, 3)\n"
     ]
    },
    {
     "data": {
      "text/plain": [
       "array([[[[ 3326.,  -494., -2079.],\n",
       "         [ 1161., -2468.,  1943.],\n",
       "         [-2519.,  2378., -4647.]],\n",
       "\n",
       "        [[ 3418.,  4054.,  5345.],\n",
       "         [ 6199.,  2266., -4485.],\n",
       "         [ 4412.,  5648.,  4910.]],\n",
       "\n",
       "        [[-1952.,   764.,   283.],\n",
       "         [ 2094.,  3534.,  8048.],\n",
       "         [10425., -2818.,  9857.]],\n",
       "\n",
       "        [[ 4084., -1630.,  3902.],\n",
       "         [ 3294., -2200.,  3158.],\n",
       "         [ 2638.,  1600.,  2399.]]]], dtype=float32)"
      ]
     },
     "execution_count": 3,
     "metadata": {},
     "output_type": "execute_result"
    }
   ],
   "source": [
    "print(dict_hls[\"global_out\"].shape)\n",
    "dict_hls[\"global_out\"]"
   ]
  },
  {
   "cell_type": "code",
   "execution_count": 4,
   "id": "5473db24-0ca5-4e26-9b42-5bcc9c92e477",
   "metadata": {},
   "outputs": [
    {
     "name": "stdout",
     "output_type": "stream",
     "text": [
      "(1, 3, 3, 4)\n"
     ]
    },
    {
     "data": {
      "text/plain": [
       "array([[[[ 4851., -5781.,  -466.],\n",
       "         [ -374., -4851.,  -633.],\n",
       "         [ 2689., -2184.,  -457.]],\n",
       "\n",
       "        [[ 2931.,  2494.,  2266.],\n",
       "         [ 2672.,  1388.,    24.],\n",
       "         [ 3199.,  7602.,  5672.]],\n",
       "\n",
       "        [[ -511.,  6304., -2546.],\n",
       "         [ 1704., -5466.,  2307.],\n",
       "         [ 5092.,  5691.,  1111.]],\n",
       "\n",
       "        [[  644., -6511., -1961.],\n",
       "         [ 4175., -1759., -4617.],\n",
       "         [-2317.,  4556., -3143.]]]], dtype=float32)"
      ]
     },
     "execution_count": 4,
     "metadata": {},
     "output_type": "execute_result"
    }
   ],
   "source": [
    "print(dict_stitched_ip[\"global_out\"].shape)\n",
    "np.transpose(dict_stitched_ip[\"global_out\"], (0,3,1,2))"
   ]
  },
  {
   "cell_type": "code",
   "execution_count": 5,
   "id": "8698104d-2711-4b52-b0fd-d9b6bc7df4f1",
   "metadata": {},
   "outputs": [
    {
     "name": "stdout",
     "output_type": "stream",
     "text": [
      "(1, 3, 3, 4)\n"
     ]
    },
    {
     "data": {
      "text/plain": [
       "array([[[[ 4851., -5781.,  -466.],\n",
       "         [ -374., -4851.,  -633.],\n",
       "         [ 2689., -2184.,  -457.]],\n",
       "\n",
       "        [[ 2931.,  2494.,  2266.],\n",
       "         [ 2672.,  1388.,    24.],\n",
       "         [ 3199.,  7602.,  5672.]],\n",
       "\n",
       "        [[ -511.,  6304., -2546.],\n",
       "         [ 1704., -5466.,  2307.],\n",
       "         [ 5092.,  5691.,  1111.]],\n",
       "\n",
       "        [[  644., -6511., -1961.],\n",
       "         [ 4175., -1759., -4617.],\n",
       "         [-2317.,  4556., -3143.]]]], dtype=float32)"
      ]
     },
     "execution_count": 5,
     "metadata": {},
     "output_type": "execute_result"
    }
   ],
   "source": [
    "print(dict_rtl[\"global_out\"].shape)\n",
    "np.transpose(dict_rtl[\"global_out\"], (0,3,1,2))"
   ]
  },
  {
   "cell_type": "code",
   "execution_count": 5,
   "id": "5ddddba9-d30e-4b5e-9108-92230a567ee8",
   "metadata": {},
   "outputs": [
    {
     "name": "stdout",
     "output_type": "stream",
     "text": [
      "2 0 2\n",
      "1 0 1\n",
      "0 0 0\n",
      "2 3 5\n",
      "1 3 4\n",
      "0 3 3\n",
      "2 6 8\n",
      "1 6 7\n",
      "0 6 6\n",
      "2 9 11\n",
      "1 9 10\n",
      "0 9 9\n"
     ]
    }
   ],
   "source": [
    "SIMD=3\n",
    "# ((SIMD-1-i) + int'(i/SIMD)*SIMD) + int'(i/SIMD) * SIMD\n",
    "for i in range(0,12):\n",
    "    a0 = (SIMD-1-i) + int(i/SIMD)*SIMD\n",
    "    a1 = int(i/SIMD)*SIMD\n",
    "    print(\"{} {} {}\".format(a0,a1,a0+a1))\n",
    "# (SIMD-1-i) % SIMD + (i/SIMD)*SIMD"
   ]
  },
  {
   "cell_type": "code",
   "execution_count": null,
   "id": "f597a603-c721-43d4-af6b-f20122b126df",
   "metadata": {},
   "outputs": [
    {
     "name": "stdout",
     "output_type": "stream",
     "text": [
      "> \u001b[0;32m/scratch/mirzam/finn/src/finn/core/onnx_exec.py\u001b[0m(95)\u001b[0;36mexecute_onnx\u001b[0;34m()\u001b[0m\n",
      "\u001b[0;32m     93 \u001b[0;31m        \u001b[0;31m# use stitched IP for rtlsim\u001b[0m\u001b[0;34m\u001b[0m\u001b[0;34m\u001b[0m\u001b[0m\n",
      "\u001b[0m\u001b[0;32m     94 \u001b[0;31m        \u001b[0;32mimport\u001b[0m \u001b[0mpdb\u001b[0m\u001b[0;34m;\u001b[0m \u001b[0mpdb\u001b[0m\u001b[0;34m.\u001b[0m\u001b[0mset_trace\u001b[0m\u001b[0;34m(\u001b[0m\u001b[0;34m)\u001b[0m\u001b[0;34m\u001b[0m\u001b[0;34m\u001b[0m\u001b[0m\n",
      "\u001b[0m\u001b[0;32m---> 95 \u001b[0;31m        \u001b[0mrtlsim_exec\u001b[0m\u001b[0;34m(\u001b[0m\u001b[0mmodel\u001b[0m\u001b[0;34m,\u001b[0m \u001b[0mexecution_context\u001b[0m\u001b[0;34m)\u001b[0m\u001b[0;34m\u001b[0m\u001b[0;34m\u001b[0m\u001b[0m\n",
      "\u001b[0m\u001b[0;32m     96 \u001b[0;31m    \u001b[0;32melse\u001b[0m\u001b[0;34m:\u001b[0m\u001b[0;34m\u001b[0m\u001b[0;34m\u001b[0m\u001b[0m\n",
      "\u001b[0m\u001b[0;32m     97 \u001b[0;31m        raise Exception(\n",
      "\u001b[0m\n"
     ]
    },
    {
     "name": "stdin",
     "output_type": "stream",
     "text": [
      "ipdb>  s\n"
     ]
    },
    {
     "name": "stdout",
     "output_type": "stream",
     "text": [
      "--Call--\n",
      "> \u001b[0;32m/scratch/mirzam/finn/src/finn/core/rtlsim_exec.py\u001b[0m(43)\u001b[0;36mrtlsim_exec\u001b[0;34m()\u001b[0m\n",
      "\u001b[0;32m     41 \u001b[0;31m\u001b[0;34m\u001b[0m\u001b[0m\n",
      "\u001b[0m\u001b[0;32m     42 \u001b[0;31m\u001b[0;34m\u001b[0m\u001b[0m\n",
      "\u001b[0m\u001b[0;32m---> 43 \u001b[0;31m\u001b[0;32mdef\u001b[0m \u001b[0mrtlsim_exec\u001b[0m\u001b[0;34m(\u001b[0m\u001b[0mmodel\u001b[0m\u001b[0;34m,\u001b[0m \u001b[0mexecution_context\u001b[0m\u001b[0;34m,\u001b[0m \u001b[0mpre_hook\u001b[0m\u001b[0;34m=\u001b[0m\u001b[0;32mNone\u001b[0m\u001b[0;34m,\u001b[0m \u001b[0mpost_hook\u001b[0m\u001b[0;34m=\u001b[0m\u001b[0;32mNone\u001b[0m\u001b[0;34m)\u001b[0m\u001b[0;34m:\u001b[0m\u001b[0;34m\u001b[0m\u001b[0;34m\u001b[0m\u001b[0m\n",
      "\u001b[0m\u001b[0;32m     44 \u001b[0;31m    \"\"\"Use PyVerilator to execute given model with stitched IP. The execution\n",
      "\u001b[0m\u001b[0;32m     45 \u001b[0;31m    \u001b[0mcontext\u001b[0m \u001b[0mcontains\u001b[0m \u001b[0mthe\u001b[0m \u001b[0minput\u001b[0m \u001b[0mvalues\u001b[0m\u001b[0;34m.\u001b[0m \u001b[0mHook\u001b[0m \u001b[0mfunctions\u001b[0m \u001b[0mcan\u001b[0m \u001b[0mbe\u001b[0m \u001b[0moptionally\u001b[0m\u001b[0;34m\u001b[0m\u001b[0;34m\u001b[0m\u001b[0m\n",
      "\u001b[0m\n"
     ]
    },
    {
     "name": "stdin",
     "output_type": "stream",
     "text": [
      "ipdb>  s\n"
     ]
    },
    {
     "name": "stdout",
     "output_type": "stream",
     "text": [
      "> \u001b[0;32m/scratch/mirzam/finn/src/finn/core/rtlsim_exec.py\u001b[0m(51)\u001b[0;36mrtlsim_exec\u001b[0;34m()\u001b[0m\n",
      "\u001b[0;32m     49 \u001b[0;31m    \u001b[0;34m-\u001b[0m \u001b[0mpost_hook\u001b[0m \u001b[0;34m:\u001b[0m \u001b[0mhook\u001b[0m \u001b[0mfunction\u001b[0m \u001b[0mto\u001b[0m \u001b[0mbe\u001b[0m \u001b[0mcalled\u001b[0m \u001b[0mafter\u001b[0m \u001b[0msim\u001b[0m \u001b[0mend\u001b[0m\u001b[0;34m\u001b[0m\u001b[0;34m\u001b[0m\u001b[0m\n",
      "\u001b[0m\u001b[0;32m     50 \u001b[0;31m    \"\"\"\n",
      "\u001b[0m\u001b[0;32m---> 51 \u001b[0;31m    \u001b[0;32mif\u001b[0m \u001b[0mPyVerilator\u001b[0m \u001b[0;32mis\u001b[0m \u001b[0;32mNone\u001b[0m\u001b[0;34m:\u001b[0m\u001b[0;34m\u001b[0m\u001b[0;34m\u001b[0m\u001b[0m\n",
      "\u001b[0m\u001b[0;32m     52 \u001b[0;31m        \u001b[0;32mraise\u001b[0m \u001b[0mImportError\u001b[0m\u001b[0;34m(\u001b[0m\u001b[0;34m\"Installation of PyVerilator is required.\"\u001b[0m\u001b[0;34m)\u001b[0m\u001b[0;34m\u001b[0m\u001b[0;34m\u001b[0m\u001b[0m\n",
      "\u001b[0m\u001b[0;32m     53 \u001b[0;31m    \u001b[0;31m# ensure stitched ip project already exists\u001b[0m\u001b[0;34m\u001b[0m\u001b[0;34m\u001b[0m\u001b[0m\n",
      "\u001b[0m\n"
     ]
    },
    {
     "name": "stdin",
     "output_type": "stream",
     "text": [
      "ipdb>  s\n"
     ]
    },
    {
     "name": "stdout",
     "output_type": "stream",
     "text": [
      "> \u001b[0;32m/scratch/mirzam/finn/src/finn/core/rtlsim_exec.py\u001b[0m(54)\u001b[0;36mrtlsim_exec\u001b[0;34m()\u001b[0m\n",
      "\u001b[0;32m     52 \u001b[0;31m        \u001b[0;32mraise\u001b[0m \u001b[0mImportError\u001b[0m\u001b[0;34m(\u001b[0m\u001b[0;34m\"Installation of PyVerilator is required.\"\u001b[0m\u001b[0;34m)\u001b[0m\u001b[0;34m\u001b[0m\u001b[0;34m\u001b[0m\u001b[0m\n",
      "\u001b[0m\u001b[0;32m     53 \u001b[0;31m    \u001b[0;31m# ensure stitched ip project already exists\u001b[0m\u001b[0;34m\u001b[0m\u001b[0;34m\u001b[0m\u001b[0m\n",
      "\u001b[0m\u001b[0;32m---> 54 \u001b[0;31m    assert os.path.isfile(\n",
      "\u001b[0m\u001b[0;32m     55 \u001b[0;31m        \u001b[0mmodel\u001b[0m\u001b[0;34m.\u001b[0m\u001b[0mget_metadata_prop\u001b[0m\u001b[0;34m(\u001b[0m\u001b[0;34m\"wrapper_filename\"\u001b[0m\u001b[0;34m)\u001b[0m\u001b[0;34m\u001b[0m\u001b[0;34m\u001b[0m\u001b[0m\n",
      "\u001b[0m\u001b[0;32m     56 \u001b[0;31m    ), \"\"\"The\n",
      "\u001b[0m\n"
     ]
    },
    {
     "name": "stdin",
     "output_type": "stream",
     "text": [
      "ipdb>  s\n"
     ]
    },
    {
     "name": "stdout",
     "output_type": "stream",
     "text": [
      "> \u001b[0;32m/scratch/mirzam/finn/src/finn/core/rtlsim_exec.py\u001b[0m(55)\u001b[0;36mrtlsim_exec\u001b[0;34m()\u001b[0m\n",
      "\u001b[0;32m     53 \u001b[0;31m    \u001b[0;31m# ensure stitched ip project already exists\u001b[0m\u001b[0;34m\u001b[0m\u001b[0;34m\u001b[0m\u001b[0m\n",
      "\u001b[0m\u001b[0;32m     54 \u001b[0;31m    assert os.path.isfile(\n",
      "\u001b[0m\u001b[0;32m---> 55 \u001b[0;31m        \u001b[0mmodel\u001b[0m\u001b[0;34m.\u001b[0m\u001b[0mget_metadata_prop\u001b[0m\u001b[0;34m(\u001b[0m\u001b[0;34m\"wrapper_filename\"\u001b[0m\u001b[0;34m)\u001b[0m\u001b[0;34m\u001b[0m\u001b[0;34m\u001b[0m\u001b[0m\n",
      "\u001b[0m\u001b[0;32m     56 \u001b[0;31m    ), \"\"\"The\n",
      "\u001b[0m\u001b[0;32m     57 \u001b[0;31m    file name from metadata property \"wrapper_filename\" doesn't exist.\"\"\"\n",
      "\u001b[0m\n"
     ]
    },
    {
     "name": "stdin",
     "output_type": "stream",
     "text": [
      "ipdb>  s\n"
     ]
    },
    {
     "name": "stdout",
     "output_type": "stream",
     "text": [
      "--Call--\n",
      "> \u001b[0;32m/scratch/mirzam/finn/deps/qonnx/src/qonnx/core/modelwrapper.py\u001b[0m(502)\u001b[0;36mget_metadata_prop\u001b[0;34m()\u001b[0m\n",
      "\u001b[0;32m    500 \u001b[0;31m        \u001b[0;32mreturn\u001b[0m \u001b[0mfanout\u001b[0m\u001b[0;34m\u001b[0m\u001b[0;34m\u001b[0m\u001b[0m\n",
      "\u001b[0m\u001b[0;32m    501 \u001b[0;31m\u001b[0;34m\u001b[0m\u001b[0m\n",
      "\u001b[0m\u001b[0;32m--> 502 \u001b[0;31m    \u001b[0;32mdef\u001b[0m \u001b[0mget_metadata_prop\u001b[0m\u001b[0;34m(\u001b[0m\u001b[0mself\u001b[0m\u001b[0;34m,\u001b[0m \u001b[0mkey\u001b[0m\u001b[0;34m)\u001b[0m\u001b[0;34m:\u001b[0m\u001b[0;34m\u001b[0m\u001b[0;34m\u001b[0m\u001b[0m\n",
      "\u001b[0m\u001b[0;32m    503 \u001b[0;31m        \"\"\"Returns the value associated with metadata_prop with given key,\n",
      "\u001b[0m\u001b[0;32m    504 \u001b[0;31m        or None otherwise.\"\"\"\n",
      "\u001b[0m\n"
     ]
    },
    {
     "name": "stdin",
     "output_type": "stream",
     "text": [
      "ipdb>  s\n"
     ]
    },
    {
     "name": "stdout",
     "output_type": "stream",
     "text": [
      "> \u001b[0;32m/scratch/mirzam/finn/deps/qonnx/src/qonnx/core/modelwrapper.py\u001b[0m(505)\u001b[0;36mget_metadata_prop\u001b[0;34m()\u001b[0m\n",
      "\u001b[0;32m    503 \u001b[0;31m        \"\"\"Returns the value associated with metadata_prop with given key,\n",
      "\u001b[0m\u001b[0;32m    504 \u001b[0;31m        or None otherwise.\"\"\"\n",
      "\u001b[0m\u001b[0;32m--> 505 \u001b[0;31m        \u001b[0mmetadata_prop\u001b[0m \u001b[0;34m=\u001b[0m \u001b[0mutil\u001b[0m\u001b[0;34m.\u001b[0m\u001b[0mget_by_name\u001b[0m\u001b[0;34m(\u001b[0m\u001b[0mself\u001b[0m\u001b[0;34m.\u001b[0m\u001b[0mmodel\u001b[0m\u001b[0;34m.\u001b[0m\u001b[0mmetadata_props\u001b[0m\u001b[0;34m,\u001b[0m \u001b[0mkey\u001b[0m\u001b[0;34m,\u001b[0m \u001b[0;34m\"key\"\u001b[0m\u001b[0;34m)\u001b[0m\u001b[0;34m\u001b[0m\u001b[0;34m\u001b[0m\u001b[0m\n",
      "\u001b[0m\u001b[0;32m    506 \u001b[0;31m        \u001b[0;32mif\u001b[0m \u001b[0mmetadata_prop\u001b[0m \u001b[0;32mis\u001b[0m \u001b[0;32mNone\u001b[0m\u001b[0;34m:\u001b[0m\u001b[0;34m\u001b[0m\u001b[0;34m\u001b[0m\u001b[0m\n",
      "\u001b[0m\u001b[0;32m    507 \u001b[0;31m            \u001b[0;32mreturn\u001b[0m \u001b[0;32mNone\u001b[0m\u001b[0;34m\u001b[0m\u001b[0;34m\u001b[0m\u001b[0m\n",
      "\u001b[0m\n"
     ]
    },
    {
     "name": "stdin",
     "output_type": "stream",
     "text": [
      "ipdb>  s\n"
     ]
    },
    {
     "name": "stdout",
     "output_type": "stream",
     "text": [
      "--Call--\n",
      "> \u001b[0;32m/scratch/mirzam/finn/deps/qonnx/src/qonnx/core/modelwrapper.py\u001b[0m(108)\u001b[0;36mmodel\u001b[0;34m()\u001b[0m\n",
      "\u001b[0;32m    106 \u001b[0;31m        \u001b[0mself\u001b[0m\u001b[0;34m.\u001b[0m\u001b[0m_model_proto\u001b[0m\u001b[0;34m.\u001b[0m\u001b[0mgraph\u001b[0m \u001b[0;34m=\u001b[0m \u001b[0mvalue\u001b[0m\u001b[0;34m\u001b[0m\u001b[0;34m\u001b[0m\u001b[0m\n",
      "\u001b[0m\u001b[0;32m    107 \u001b[0;31m\u001b[0;34m\u001b[0m\u001b[0m\n",
      "\u001b[0m\u001b[0;32m--> 108 \u001b[0;31m    \u001b[0;34m@\u001b[0m\u001b[0mproperty\u001b[0m\u001b[0;34m\u001b[0m\u001b[0;34m\u001b[0m\u001b[0m\n",
      "\u001b[0m\u001b[0;32m    109 \u001b[0;31m    \u001b[0;32mdef\u001b[0m \u001b[0mmodel\u001b[0m\u001b[0;34m(\u001b[0m\u001b[0mself\u001b[0m\u001b[0;34m)\u001b[0m\u001b[0;34m:\u001b[0m\u001b[0;34m\u001b[0m\u001b[0;34m\u001b[0m\u001b[0m\n",
      "\u001b[0m\u001b[0;32m    110 \u001b[0;31m        \u001b[0;34m\"\"\"Returns the model.\"\"\"\u001b[0m\u001b[0;34m\u001b[0m\u001b[0;34m\u001b[0m\u001b[0m\n",
      "\u001b[0m\n"
     ]
    },
    {
     "name": "stdin",
     "output_type": "stream",
     "text": [
      "ipdb>  s\n"
     ]
    },
    {
     "name": "stdout",
     "output_type": "stream",
     "text": [
      "> \u001b[0;32m/scratch/mirzam/finn/deps/qonnx/src/qonnx/core/modelwrapper.py\u001b[0m(111)\u001b[0;36mmodel\u001b[0;34m()\u001b[0m\n",
      "\u001b[0;32m    109 \u001b[0;31m    \u001b[0;32mdef\u001b[0m \u001b[0mmodel\u001b[0m\u001b[0;34m(\u001b[0m\u001b[0mself\u001b[0m\u001b[0;34m)\u001b[0m\u001b[0;34m:\u001b[0m\u001b[0;34m\u001b[0m\u001b[0;34m\u001b[0m\u001b[0m\n",
      "\u001b[0m\u001b[0;32m    110 \u001b[0;31m        \u001b[0;34m\"\"\"Returns the model.\"\"\"\u001b[0m\u001b[0;34m\u001b[0m\u001b[0;34m\u001b[0m\u001b[0m\n",
      "\u001b[0m\u001b[0;32m--> 111 \u001b[0;31m        \u001b[0;32mreturn\u001b[0m \u001b[0mself\u001b[0m\u001b[0;34m.\u001b[0m\u001b[0m_model_proto\u001b[0m\u001b[0;34m\u001b[0m\u001b[0;34m\u001b[0m\u001b[0m\n",
      "\u001b[0m\u001b[0;32m    112 \u001b[0;31m\u001b[0;34m\u001b[0m\u001b[0m\n",
      "\u001b[0m\u001b[0;32m    113 \u001b[0;31m    \u001b[0;34m@\u001b[0m\u001b[0mmodel\u001b[0m\u001b[0;34m.\u001b[0m\u001b[0msetter\u001b[0m\u001b[0;34m\u001b[0m\u001b[0;34m\u001b[0m\u001b[0m\n",
      "\u001b[0m\n"
     ]
    },
    {
     "name": "stdin",
     "output_type": "stream",
     "text": [
      "ipdb>  s\n"
     ]
    },
    {
     "name": "stdout",
     "output_type": "stream",
     "text": [
      "--Return--\n",
      "ir_version: 8...tl-vvu.vcd\"\n",
      "}\n",
      "\n",
      "> \u001b[0;32m/scratch/mirzam/finn/deps/qonnx/src/qonnx/core/modelwrapper.py\u001b[0m(111)\u001b[0;36mmodel\u001b[0;34m()\u001b[0m\n",
      "\u001b[0;32m    109 \u001b[0;31m    \u001b[0;32mdef\u001b[0m \u001b[0mmodel\u001b[0m\u001b[0;34m(\u001b[0m\u001b[0mself\u001b[0m\u001b[0;34m)\u001b[0m\u001b[0;34m:\u001b[0m\u001b[0;34m\u001b[0m\u001b[0;34m\u001b[0m\u001b[0m\n",
      "\u001b[0m\u001b[0;32m    110 \u001b[0;31m        \u001b[0;34m\"\"\"Returns the model.\"\"\"\u001b[0m\u001b[0;34m\u001b[0m\u001b[0;34m\u001b[0m\u001b[0m\n",
      "\u001b[0m\u001b[0;32m--> 111 \u001b[0;31m        \u001b[0;32mreturn\u001b[0m \u001b[0mself\u001b[0m\u001b[0;34m.\u001b[0m\u001b[0m_model_proto\u001b[0m\u001b[0;34m\u001b[0m\u001b[0;34m\u001b[0m\u001b[0m\n",
      "\u001b[0m\u001b[0;32m    112 \u001b[0;31m\u001b[0;34m\u001b[0m\u001b[0m\n",
      "\u001b[0m\u001b[0;32m    113 \u001b[0;31m    \u001b[0;34m@\u001b[0m\u001b[0mmodel\u001b[0m\u001b[0;34m.\u001b[0m\u001b[0msetter\u001b[0m\u001b[0;34m\u001b[0m\u001b[0;34m\u001b[0m\u001b[0m\n",
      "\u001b[0m\n"
     ]
    },
    {
     "name": "stdin",
     "output_type": "stream",
     "text": [
      "ipdb>  s\n"
     ]
    },
    {
     "name": "stdout",
     "output_type": "stream",
     "text": [
      "--Call--\n",
      "> \u001b[0;32m/scratch/mirzam/finn/deps/qonnx/src/qonnx/util/basic.py\u001b[0m(101)\u001b[0;36mget_by_name\u001b[0;34m()\u001b[0m\n",
      "\u001b[0;32m     99 \u001b[0;31m\u001b[0;34m\u001b[0m\u001b[0m\n",
      "\u001b[0m\u001b[0;32m    100 \u001b[0;31m\u001b[0;34m\u001b[0m\u001b[0m\n",
      "\u001b[0m\u001b[0;32m--> 101 \u001b[0;31m\u001b[0;32mdef\u001b[0m \u001b[0mget_by_name\u001b[0m\u001b[0;34m(\u001b[0m\u001b[0mcontainer\u001b[0m\u001b[0;34m,\u001b[0m \u001b[0mname\u001b[0m\u001b[0;34m,\u001b[0m \u001b[0mname_field\u001b[0m\u001b[0;34m=\u001b[0m\u001b[0;34m\"name\"\u001b[0m\u001b[0;34m)\u001b[0m\u001b[0;34m:\u001b[0m\u001b[0;34m\u001b[0m\u001b[0;34m\u001b[0m\u001b[0m\n",
      "\u001b[0m\u001b[0;32m    102 \u001b[0;31m    \"\"\"Return item from protobuf container by .name field if it exists, None otherwise.\n",
      "\u001b[0m\u001b[0;32m    103 \u001b[0;31m    \u001b[0mWill\u001b[0m \u001b[0mthrow\u001b[0m \u001b[0man\u001b[0m \u001b[0mException\u001b[0m \u001b[0;32mif\u001b[0m \u001b[0mmultiple\u001b[0m \u001b[0mitems\u001b[0m \u001b[0mare\u001b[0m \u001b[0mfound\u001b[0m\u001b[0;34m,\u001b[0m \u001b[0msince\u001b[0m \u001b[0mthis\u001b[0m \u001b[0mviolates\u001b[0m \u001b[0mthe\u001b[0m\u001b[0;34m\u001b[0m\u001b[0;34m\u001b[0m\u001b[0m\n",
      "\u001b[0m\n"
     ]
    },
    {
     "name": "stdin",
     "output_type": "stream",
     "text": [
      "ipdb>  s\n"
     ]
    },
    {
     "name": "stdout",
     "output_type": "stream",
     "text": [
      "> \u001b[0;32m/scratch/mirzam/finn/deps/qonnx/src/qonnx/util/basic.py\u001b[0m(105)\u001b[0;36mget_by_name\u001b[0;34m()\u001b[0m\n",
      "\u001b[0;32m    103 \u001b[0;31m    \u001b[0mWill\u001b[0m \u001b[0mthrow\u001b[0m \u001b[0man\u001b[0m \u001b[0mException\u001b[0m \u001b[0;32mif\u001b[0m \u001b[0mmultiple\u001b[0m \u001b[0mitems\u001b[0m \u001b[0mare\u001b[0m \u001b[0mfound\u001b[0m\u001b[0;34m,\u001b[0m \u001b[0msince\u001b[0m \u001b[0mthis\u001b[0m \u001b[0mviolates\u001b[0m \u001b[0mthe\u001b[0m\u001b[0;34m\u001b[0m\u001b[0;34m\u001b[0m\u001b[0m\n",
      "\u001b[0m\u001b[0;32m    104 \u001b[0;31m    ONNX standard.\"\"\"\n",
      "\u001b[0m\u001b[0;32m--> 105 \u001b[0;31m    \u001b[0mnames\u001b[0m \u001b[0;34m=\u001b[0m \u001b[0;34m[\u001b[0m\u001b[0mgetattr\u001b[0m\u001b[0;34m(\u001b[0m\u001b[0mx\u001b[0m\u001b[0;34m,\u001b[0m \u001b[0mname_field\u001b[0m\u001b[0;34m)\u001b[0m \u001b[0;32mfor\u001b[0m \u001b[0mx\u001b[0m \u001b[0;32min\u001b[0m \u001b[0mcontainer\u001b[0m\u001b[0;34m]\u001b[0m\u001b[0;34m\u001b[0m\u001b[0;34m\u001b[0m\u001b[0m\n",
      "\u001b[0m\u001b[0;32m    106 \u001b[0;31m\u001b[0;34m\u001b[0m\u001b[0m\n",
      "\u001b[0m\u001b[0;32m    107 \u001b[0;31m    \u001b[0minds\u001b[0m \u001b[0;34m=\u001b[0m \u001b[0;34m[\u001b[0m\u001b[0mi\u001b[0m \u001b[0;32mfor\u001b[0m \u001b[0mi\u001b[0m\u001b[0;34m,\u001b[0m \u001b[0me\u001b[0m \u001b[0;32min\u001b[0m \u001b[0menumerate\u001b[0m\u001b[0;34m(\u001b[0m\u001b[0mnames\u001b[0m\u001b[0;34m)\u001b[0m \u001b[0;32mif\u001b[0m \u001b[0me\u001b[0m \u001b[0;34m==\u001b[0m \u001b[0mname\u001b[0m\u001b[0;34m]\u001b[0m\u001b[0;34m\u001b[0m\u001b[0;34m\u001b[0m\u001b[0m\n",
      "\u001b[0m\n"
     ]
    },
    {
     "name": "stdin",
     "output_type": "stream",
     "text": [
      "ipdb>  s\n"
     ]
    },
    {
     "name": "stdout",
     "output_type": "stream",
     "text": [
      "--Call--\n",
      "> \u001b[0;32m/scratch/mirzam/finn/deps/qonnx/src/qonnx/util/basic.py\u001b[0m(105)\u001b[0;36m<listcomp>\u001b[0;34m()\u001b[0m\n",
      "\u001b[0;32m    103 \u001b[0;31m    \u001b[0mWill\u001b[0m \u001b[0mthrow\u001b[0m \u001b[0man\u001b[0m \u001b[0mException\u001b[0m \u001b[0;32mif\u001b[0m \u001b[0mmultiple\u001b[0m \u001b[0mitems\u001b[0m \u001b[0mare\u001b[0m \u001b[0mfound\u001b[0m\u001b[0;34m,\u001b[0m \u001b[0msince\u001b[0m \u001b[0mthis\u001b[0m \u001b[0mviolates\u001b[0m \u001b[0mthe\u001b[0m\u001b[0;34m\u001b[0m\u001b[0;34m\u001b[0m\u001b[0m\n",
      "\u001b[0m\u001b[0;32m    104 \u001b[0;31m    ONNX standard.\"\"\"\n",
      "\u001b[0m\u001b[0;32m--> 105 \u001b[0;31m    \u001b[0mnames\u001b[0m \u001b[0;34m=\u001b[0m \u001b[0;34m[\u001b[0m\u001b[0mgetattr\u001b[0m\u001b[0;34m(\u001b[0m\u001b[0mx\u001b[0m\u001b[0;34m,\u001b[0m \u001b[0mname_field\u001b[0m\u001b[0;34m)\u001b[0m \u001b[0;32mfor\u001b[0m \u001b[0mx\u001b[0m \u001b[0;32min\u001b[0m \u001b[0mcontainer\u001b[0m\u001b[0;34m]\u001b[0m\u001b[0;34m\u001b[0m\u001b[0;34m\u001b[0m\u001b[0m\n",
      "\u001b[0m\u001b[0;32m    106 \u001b[0;31m\u001b[0;34m\u001b[0m\u001b[0m\n",
      "\u001b[0m\u001b[0;32m    107 \u001b[0;31m    \u001b[0minds\u001b[0m \u001b[0;34m=\u001b[0m \u001b[0;34m[\u001b[0m\u001b[0mi\u001b[0m \u001b[0;32mfor\u001b[0m \u001b[0mi\u001b[0m\u001b[0;34m,\u001b[0m \u001b[0me\u001b[0m \u001b[0;32min\u001b[0m \u001b[0menumerate\u001b[0m\u001b[0;34m(\u001b[0m\u001b[0mnames\u001b[0m\u001b[0;34m)\u001b[0m \u001b[0;32mif\u001b[0m \u001b[0me\u001b[0m \u001b[0;34m==\u001b[0m \u001b[0mname\u001b[0m\u001b[0;34m]\u001b[0m\u001b[0;34m\u001b[0m\u001b[0;34m\u001b[0m\u001b[0m\n",
      "\u001b[0m\n"
     ]
    },
    {
     "name": "stdin",
     "output_type": "stream",
     "text": [
      "ipdb>  s\n"
     ]
    },
    {
     "name": "stdout",
     "output_type": "stream",
     "text": [
      "> \u001b[0;32m/scratch/mirzam/finn/deps/qonnx/src/qonnx/util/basic.py\u001b[0m(105)\u001b[0;36m<listcomp>\u001b[0;34m()\u001b[0m\n",
      "\u001b[0;32m    103 \u001b[0;31m    \u001b[0mWill\u001b[0m \u001b[0mthrow\u001b[0m \u001b[0man\u001b[0m \u001b[0mException\u001b[0m \u001b[0;32mif\u001b[0m \u001b[0mmultiple\u001b[0m \u001b[0mitems\u001b[0m \u001b[0mare\u001b[0m \u001b[0mfound\u001b[0m\u001b[0;34m,\u001b[0m \u001b[0msince\u001b[0m \u001b[0mthis\u001b[0m \u001b[0mviolates\u001b[0m \u001b[0mthe\u001b[0m\u001b[0;34m\u001b[0m\u001b[0;34m\u001b[0m\u001b[0m\n",
      "\u001b[0m\u001b[0;32m    104 \u001b[0;31m    ONNX standard.\"\"\"\n",
      "\u001b[0m\u001b[0;32m--> 105 \u001b[0;31m    \u001b[0mnames\u001b[0m \u001b[0;34m=\u001b[0m \u001b[0;34m[\u001b[0m\u001b[0mgetattr\u001b[0m\u001b[0;34m(\u001b[0m\u001b[0mx\u001b[0m\u001b[0;34m,\u001b[0m \u001b[0mname_field\u001b[0m\u001b[0;34m)\u001b[0m \u001b[0;32mfor\u001b[0m \u001b[0mx\u001b[0m \u001b[0;32min\u001b[0m \u001b[0mcontainer\u001b[0m\u001b[0;34m]\u001b[0m\u001b[0;34m\u001b[0m\u001b[0;34m\u001b[0m\u001b[0m\n",
      "\u001b[0m\u001b[0;32m    106 \u001b[0;31m\u001b[0;34m\u001b[0m\u001b[0m\n",
      "\u001b[0m\u001b[0;32m    107 \u001b[0;31m    \u001b[0minds\u001b[0m \u001b[0;34m=\u001b[0m \u001b[0;34m[\u001b[0m\u001b[0mi\u001b[0m \u001b[0;32mfor\u001b[0m \u001b[0mi\u001b[0m\u001b[0;34m,\u001b[0m \u001b[0me\u001b[0m \u001b[0;32min\u001b[0m \u001b[0menumerate\u001b[0m\u001b[0;34m(\u001b[0m\u001b[0mnames\u001b[0m\u001b[0;34m)\u001b[0m \u001b[0;32mif\u001b[0m \u001b[0me\u001b[0m \u001b[0;34m==\u001b[0m \u001b[0mname\u001b[0m\u001b[0;34m]\u001b[0m\u001b[0;34m\u001b[0m\u001b[0;34m\u001b[0m\u001b[0m\n",
      "\u001b[0m\n"
     ]
    },
    {
     "name": "stdin",
     "output_type": "stream",
     "text": [
      "ipdb>  s\n"
     ]
    },
    {
     "name": "stdout",
     "output_type": "stream",
     "text": [
      "> \u001b[0;32m/scratch/mirzam/finn/deps/qonnx/src/qonnx/util/basic.py\u001b[0m(105)\u001b[0;36m<listcomp>\u001b[0;34m()\u001b[0m\n",
      "\u001b[0;32m    103 \u001b[0;31m    \u001b[0mWill\u001b[0m \u001b[0mthrow\u001b[0m \u001b[0man\u001b[0m \u001b[0mException\u001b[0m \u001b[0;32mif\u001b[0m \u001b[0mmultiple\u001b[0m \u001b[0mitems\u001b[0m \u001b[0mare\u001b[0m \u001b[0mfound\u001b[0m\u001b[0;34m,\u001b[0m \u001b[0msince\u001b[0m \u001b[0mthis\u001b[0m \u001b[0mviolates\u001b[0m \u001b[0mthe\u001b[0m\u001b[0;34m\u001b[0m\u001b[0;34m\u001b[0m\u001b[0m\n",
      "\u001b[0m\u001b[0;32m    104 \u001b[0;31m    ONNX standard.\"\"\"\n",
      "\u001b[0m\u001b[0;32m--> 105 \u001b[0;31m    \u001b[0mnames\u001b[0m \u001b[0;34m=\u001b[0m \u001b[0;34m[\u001b[0m\u001b[0mgetattr\u001b[0m\u001b[0;34m(\u001b[0m\u001b[0mx\u001b[0m\u001b[0;34m,\u001b[0m \u001b[0mname_field\u001b[0m\u001b[0;34m)\u001b[0m \u001b[0;32mfor\u001b[0m \u001b[0mx\u001b[0m \u001b[0;32min\u001b[0m \u001b[0mcontainer\u001b[0m\u001b[0;34m]\u001b[0m\u001b[0;34m\u001b[0m\u001b[0;34m\u001b[0m\u001b[0m\n",
      "\u001b[0m\u001b[0;32m    106 \u001b[0;31m\u001b[0;34m\u001b[0m\u001b[0m\n",
      "\u001b[0m\u001b[0;32m    107 \u001b[0;31m    \u001b[0minds\u001b[0m \u001b[0;34m=\u001b[0m \u001b[0;34m[\u001b[0m\u001b[0mi\u001b[0m \u001b[0;32mfor\u001b[0m \u001b[0mi\u001b[0m\u001b[0;34m,\u001b[0m \u001b[0me\u001b[0m \u001b[0;32min\u001b[0m \u001b[0menumerate\u001b[0m\u001b[0;34m(\u001b[0m\u001b[0mnames\u001b[0m\u001b[0;34m)\u001b[0m \u001b[0;32mif\u001b[0m \u001b[0me\u001b[0m \u001b[0;34m==\u001b[0m \u001b[0mname\u001b[0m\u001b[0;34m]\u001b[0m\u001b[0;34m\u001b[0m\u001b[0;34m\u001b[0m\u001b[0m\n",
      "\u001b[0m\n"
     ]
    },
    {
     "name": "stdin",
     "output_type": "stream",
     "text": [
      "ipdb>  s\n"
     ]
    },
    {
     "name": "stdout",
     "output_type": "stream",
     "text": [
      "> \u001b[0;32m/scratch/mirzam/finn/deps/qonnx/src/qonnx/util/basic.py\u001b[0m(105)\u001b[0;36m<listcomp>\u001b[0;34m()\u001b[0m\n",
      "\u001b[0;32m    103 \u001b[0;31m    \u001b[0mWill\u001b[0m \u001b[0mthrow\u001b[0m \u001b[0man\u001b[0m \u001b[0mException\u001b[0m \u001b[0;32mif\u001b[0m \u001b[0mmultiple\u001b[0m \u001b[0mitems\u001b[0m \u001b[0mare\u001b[0m \u001b[0mfound\u001b[0m\u001b[0;34m,\u001b[0m \u001b[0msince\u001b[0m \u001b[0mthis\u001b[0m \u001b[0mviolates\u001b[0m \u001b[0mthe\u001b[0m\u001b[0;34m\u001b[0m\u001b[0;34m\u001b[0m\u001b[0m\n",
      "\u001b[0m\u001b[0;32m    104 \u001b[0;31m    ONNX standard.\"\"\"\n",
      "\u001b[0m\u001b[0;32m--> 105 \u001b[0;31m    \u001b[0mnames\u001b[0m \u001b[0;34m=\u001b[0m \u001b[0;34m[\u001b[0m\u001b[0mgetattr\u001b[0m\u001b[0;34m(\u001b[0m\u001b[0mx\u001b[0m\u001b[0;34m,\u001b[0m \u001b[0mname_field\u001b[0m\u001b[0;34m)\u001b[0m \u001b[0;32mfor\u001b[0m \u001b[0mx\u001b[0m \u001b[0;32min\u001b[0m \u001b[0mcontainer\u001b[0m\u001b[0;34m]\u001b[0m\u001b[0;34m\u001b[0m\u001b[0;34m\u001b[0m\u001b[0m\n",
      "\u001b[0m\u001b[0;32m    106 \u001b[0;31m\u001b[0;34m\u001b[0m\u001b[0m\n",
      "\u001b[0m\u001b[0;32m    107 \u001b[0;31m    \u001b[0minds\u001b[0m \u001b[0;34m=\u001b[0m \u001b[0;34m[\u001b[0m\u001b[0mi\u001b[0m \u001b[0;32mfor\u001b[0m \u001b[0mi\u001b[0m\u001b[0;34m,\u001b[0m \u001b[0me\u001b[0m \u001b[0;32min\u001b[0m \u001b[0menumerate\u001b[0m\u001b[0;34m(\u001b[0m\u001b[0mnames\u001b[0m\u001b[0;34m)\u001b[0m \u001b[0;32mif\u001b[0m \u001b[0me\u001b[0m \u001b[0;34m==\u001b[0m \u001b[0mname\u001b[0m\u001b[0;34m]\u001b[0m\u001b[0;34m\u001b[0m\u001b[0;34m\u001b[0m\u001b[0m\n",
      "\u001b[0m\n"
     ]
    },
    {
     "name": "stdin",
     "output_type": "stream",
     "text": [
      "ipdb>  s\n"
     ]
    },
    {
     "name": "stdout",
     "output_type": "stream",
     "text": [
      "> \u001b[0;32m/scratch/mirzam/finn/deps/qonnx/src/qonnx/util/basic.py\u001b[0m(105)\u001b[0;36m<listcomp>\u001b[0;34m()\u001b[0m\n",
      "\u001b[0;32m    103 \u001b[0;31m    \u001b[0mWill\u001b[0m \u001b[0mthrow\u001b[0m \u001b[0man\u001b[0m \u001b[0mException\u001b[0m \u001b[0;32mif\u001b[0m \u001b[0mmultiple\u001b[0m \u001b[0mitems\u001b[0m \u001b[0mare\u001b[0m \u001b[0mfound\u001b[0m\u001b[0;34m,\u001b[0m \u001b[0msince\u001b[0m \u001b[0mthis\u001b[0m \u001b[0mviolates\u001b[0m \u001b[0mthe\u001b[0m\u001b[0;34m\u001b[0m\u001b[0;34m\u001b[0m\u001b[0m\n",
      "\u001b[0m\u001b[0;32m    104 \u001b[0;31m    ONNX standard.\"\"\"\n",
      "\u001b[0m\u001b[0;32m--> 105 \u001b[0;31m    \u001b[0mnames\u001b[0m \u001b[0;34m=\u001b[0m \u001b[0;34m[\u001b[0m\u001b[0mgetattr\u001b[0m\u001b[0;34m(\u001b[0m\u001b[0mx\u001b[0m\u001b[0;34m,\u001b[0m \u001b[0mname_field\u001b[0m\u001b[0;34m)\u001b[0m \u001b[0;32mfor\u001b[0m \u001b[0mx\u001b[0m \u001b[0;32min\u001b[0m \u001b[0mcontainer\u001b[0m\u001b[0;34m]\u001b[0m\u001b[0;34m\u001b[0m\u001b[0;34m\u001b[0m\u001b[0m\n",
      "\u001b[0m\u001b[0;32m    106 \u001b[0;31m\u001b[0;34m\u001b[0m\u001b[0m\n",
      "\u001b[0m\u001b[0;32m    107 \u001b[0;31m    \u001b[0minds\u001b[0m \u001b[0;34m=\u001b[0m \u001b[0;34m[\u001b[0m\u001b[0mi\u001b[0m \u001b[0;32mfor\u001b[0m \u001b[0mi\u001b[0m\u001b[0;34m,\u001b[0m \u001b[0me\u001b[0m \u001b[0;32min\u001b[0m \u001b[0menumerate\u001b[0m\u001b[0;34m(\u001b[0m\u001b[0mnames\u001b[0m\u001b[0;34m)\u001b[0m \u001b[0;32mif\u001b[0m \u001b[0me\u001b[0m \u001b[0;34m==\u001b[0m \u001b[0mname\u001b[0m\u001b[0;34m]\u001b[0m\u001b[0;34m\u001b[0m\u001b[0;34m\u001b[0m\u001b[0m\n",
      "\u001b[0m\n"
     ]
    },
    {
     "name": "stdin",
     "output_type": "stream",
     "text": [
      "ipdb>  s\n"
     ]
    },
    {
     "name": "stdout",
     "output_type": "stream",
     "text": [
      "> \u001b[0;32m/scratch/mirzam/finn/deps/qonnx/src/qonnx/util/basic.py\u001b[0m(105)\u001b[0;36m<listcomp>\u001b[0;34m()\u001b[0m\n",
      "\u001b[0;32m    103 \u001b[0;31m    \u001b[0mWill\u001b[0m \u001b[0mthrow\u001b[0m \u001b[0man\u001b[0m \u001b[0mException\u001b[0m \u001b[0;32mif\u001b[0m \u001b[0mmultiple\u001b[0m \u001b[0mitems\u001b[0m \u001b[0mare\u001b[0m \u001b[0mfound\u001b[0m\u001b[0;34m,\u001b[0m \u001b[0msince\u001b[0m \u001b[0mthis\u001b[0m \u001b[0mviolates\u001b[0m \u001b[0mthe\u001b[0m\u001b[0;34m\u001b[0m\u001b[0;34m\u001b[0m\u001b[0m\n",
      "\u001b[0m\u001b[0;32m    104 \u001b[0;31m    ONNX standard.\"\"\"\n",
      "\u001b[0m\u001b[0;32m--> 105 \u001b[0;31m    \u001b[0mnames\u001b[0m \u001b[0;34m=\u001b[0m \u001b[0;34m[\u001b[0m\u001b[0mgetattr\u001b[0m\u001b[0;34m(\u001b[0m\u001b[0mx\u001b[0m\u001b[0;34m,\u001b[0m \u001b[0mname_field\u001b[0m\u001b[0;34m)\u001b[0m \u001b[0;32mfor\u001b[0m \u001b[0mx\u001b[0m \u001b[0;32min\u001b[0m \u001b[0mcontainer\u001b[0m\u001b[0;34m]\u001b[0m\u001b[0;34m\u001b[0m\u001b[0;34m\u001b[0m\u001b[0m\n",
      "\u001b[0m\u001b[0;32m    106 \u001b[0;31m\u001b[0;34m\u001b[0m\u001b[0m\n",
      "\u001b[0m\u001b[0;32m    107 \u001b[0;31m    \u001b[0minds\u001b[0m \u001b[0;34m=\u001b[0m \u001b[0;34m[\u001b[0m\u001b[0mi\u001b[0m \u001b[0;32mfor\u001b[0m \u001b[0mi\u001b[0m\u001b[0;34m,\u001b[0m \u001b[0me\u001b[0m \u001b[0;32min\u001b[0m \u001b[0menumerate\u001b[0m\u001b[0;34m(\u001b[0m\u001b[0mnames\u001b[0m\u001b[0;34m)\u001b[0m \u001b[0;32mif\u001b[0m \u001b[0me\u001b[0m \u001b[0;34m==\u001b[0m \u001b[0mname\u001b[0m\u001b[0;34m]\u001b[0m\u001b[0;34m\u001b[0m\u001b[0;34m\u001b[0m\u001b[0m\n",
      "\u001b[0m\n"
     ]
    },
    {
     "name": "stdin",
     "output_type": "stream",
     "text": [
      "ipdb>  n\n"
     ]
    },
    {
     "name": "stdout",
     "output_type": "stream",
     "text": [
      "> \u001b[0;32m/scratch/mirzam/finn/deps/qonnx/src/qonnx/util/basic.py\u001b[0m(105)\u001b[0;36m<listcomp>\u001b[0;34m()\u001b[0m\n",
      "\u001b[0;32m    103 \u001b[0;31m    \u001b[0mWill\u001b[0m \u001b[0mthrow\u001b[0m \u001b[0man\u001b[0m \u001b[0mException\u001b[0m \u001b[0;32mif\u001b[0m \u001b[0mmultiple\u001b[0m \u001b[0mitems\u001b[0m \u001b[0mare\u001b[0m \u001b[0mfound\u001b[0m\u001b[0;34m,\u001b[0m \u001b[0msince\u001b[0m \u001b[0mthis\u001b[0m \u001b[0mviolates\u001b[0m \u001b[0mthe\u001b[0m\u001b[0;34m\u001b[0m\u001b[0;34m\u001b[0m\u001b[0m\n",
      "\u001b[0m\u001b[0;32m    104 \u001b[0;31m    ONNX standard.\"\"\"\n",
      "\u001b[0m\u001b[0;32m--> 105 \u001b[0;31m    \u001b[0mnames\u001b[0m \u001b[0;34m=\u001b[0m \u001b[0;34m[\u001b[0m\u001b[0mgetattr\u001b[0m\u001b[0;34m(\u001b[0m\u001b[0mx\u001b[0m\u001b[0;34m,\u001b[0m \u001b[0mname_field\u001b[0m\u001b[0;34m)\u001b[0m \u001b[0;32mfor\u001b[0m \u001b[0mx\u001b[0m \u001b[0;32min\u001b[0m \u001b[0mcontainer\u001b[0m\u001b[0;34m]\u001b[0m\u001b[0;34m\u001b[0m\u001b[0;34m\u001b[0m\u001b[0m\n",
      "\u001b[0m\u001b[0;32m    106 \u001b[0;31m\u001b[0;34m\u001b[0m\u001b[0m\n",
      "\u001b[0m\u001b[0;32m    107 \u001b[0;31m    \u001b[0minds\u001b[0m \u001b[0;34m=\u001b[0m \u001b[0;34m[\u001b[0m\u001b[0mi\u001b[0m \u001b[0;32mfor\u001b[0m \u001b[0mi\u001b[0m\u001b[0;34m,\u001b[0m \u001b[0me\u001b[0m \u001b[0;32min\u001b[0m \u001b[0menumerate\u001b[0m\u001b[0;34m(\u001b[0m\u001b[0mnames\u001b[0m\u001b[0;34m)\u001b[0m \u001b[0;32mif\u001b[0m \u001b[0me\u001b[0m \u001b[0;34m==\u001b[0m \u001b[0mname\u001b[0m\u001b[0;34m]\u001b[0m\u001b[0;34m\u001b[0m\u001b[0;34m\u001b[0m\u001b[0m\n",
      "\u001b[0m\n"
     ]
    },
    {
     "name": "stdin",
     "output_type": "stream",
     "text": [
      "ipdb>  n\n"
     ]
    },
    {
     "name": "stdout",
     "output_type": "stream",
     "text": [
      "> \u001b[0;32m/scratch/mirzam/finn/deps/qonnx/src/qonnx/util/basic.py\u001b[0m(105)\u001b[0;36m<listcomp>\u001b[0;34m()\u001b[0m\n",
      "\u001b[0;32m    103 \u001b[0;31m    \u001b[0mWill\u001b[0m \u001b[0mthrow\u001b[0m \u001b[0man\u001b[0m \u001b[0mException\u001b[0m \u001b[0;32mif\u001b[0m \u001b[0mmultiple\u001b[0m \u001b[0mitems\u001b[0m \u001b[0mare\u001b[0m \u001b[0mfound\u001b[0m\u001b[0;34m,\u001b[0m \u001b[0msince\u001b[0m \u001b[0mthis\u001b[0m \u001b[0mviolates\u001b[0m \u001b[0mthe\u001b[0m\u001b[0;34m\u001b[0m\u001b[0;34m\u001b[0m\u001b[0m\n",
      "\u001b[0m\u001b[0;32m    104 \u001b[0;31m    ONNX standard.\"\"\"\n",
      "\u001b[0m\u001b[0;32m--> 105 \u001b[0;31m    \u001b[0mnames\u001b[0m \u001b[0;34m=\u001b[0m \u001b[0;34m[\u001b[0m\u001b[0mgetattr\u001b[0m\u001b[0;34m(\u001b[0m\u001b[0mx\u001b[0m\u001b[0;34m,\u001b[0m \u001b[0mname_field\u001b[0m\u001b[0;34m)\u001b[0m \u001b[0;32mfor\u001b[0m \u001b[0mx\u001b[0m \u001b[0;32min\u001b[0m \u001b[0mcontainer\u001b[0m\u001b[0;34m]\u001b[0m\u001b[0;34m\u001b[0m\u001b[0;34m\u001b[0m\u001b[0m\n",
      "\u001b[0m\u001b[0;32m    106 \u001b[0;31m\u001b[0;34m\u001b[0m\u001b[0m\n",
      "\u001b[0m\u001b[0;32m    107 \u001b[0;31m    \u001b[0minds\u001b[0m \u001b[0;34m=\u001b[0m \u001b[0;34m[\u001b[0m\u001b[0mi\u001b[0m \u001b[0;32mfor\u001b[0m \u001b[0mi\u001b[0m\u001b[0;34m,\u001b[0m \u001b[0me\u001b[0m \u001b[0;32min\u001b[0m \u001b[0menumerate\u001b[0m\u001b[0;34m(\u001b[0m\u001b[0mnames\u001b[0m\u001b[0;34m)\u001b[0m \u001b[0;32mif\u001b[0m \u001b[0me\u001b[0m \u001b[0;34m==\u001b[0m \u001b[0mname\u001b[0m\u001b[0;34m]\u001b[0m\u001b[0;34m\u001b[0m\u001b[0;34m\u001b[0m\u001b[0m\n",
      "\u001b[0m\n"
     ]
    },
    {
     "name": "stdin",
     "output_type": "stream",
     "text": [
      "ipdb>  n\n"
     ]
    },
    {
     "name": "stdout",
     "output_type": "stream",
     "text": [
      "> \u001b[0;32m/scratch/mirzam/finn/deps/qonnx/src/qonnx/util/basic.py\u001b[0m(105)\u001b[0;36m<listcomp>\u001b[0;34m()\u001b[0m\n",
      "\u001b[0;32m    103 \u001b[0;31m    \u001b[0mWill\u001b[0m \u001b[0mthrow\u001b[0m \u001b[0man\u001b[0m \u001b[0mException\u001b[0m \u001b[0;32mif\u001b[0m \u001b[0mmultiple\u001b[0m \u001b[0mitems\u001b[0m \u001b[0mare\u001b[0m \u001b[0mfound\u001b[0m\u001b[0;34m,\u001b[0m \u001b[0msince\u001b[0m \u001b[0mthis\u001b[0m \u001b[0mviolates\u001b[0m \u001b[0mthe\u001b[0m\u001b[0;34m\u001b[0m\u001b[0;34m\u001b[0m\u001b[0m\n",
      "\u001b[0m\u001b[0;32m    104 \u001b[0;31m    ONNX standard.\"\"\"\n",
      "\u001b[0m\u001b[0;32m--> 105 \u001b[0;31m    \u001b[0mnames\u001b[0m \u001b[0;34m=\u001b[0m \u001b[0;34m[\u001b[0m\u001b[0mgetattr\u001b[0m\u001b[0;34m(\u001b[0m\u001b[0mx\u001b[0m\u001b[0;34m,\u001b[0m \u001b[0mname_field\u001b[0m\u001b[0;34m)\u001b[0m \u001b[0;32mfor\u001b[0m \u001b[0mx\u001b[0m \u001b[0;32min\u001b[0m \u001b[0mcontainer\u001b[0m\u001b[0;34m]\u001b[0m\u001b[0;34m\u001b[0m\u001b[0;34m\u001b[0m\u001b[0m\n",
      "\u001b[0m\u001b[0;32m    106 \u001b[0;31m\u001b[0;34m\u001b[0m\u001b[0m\n",
      "\u001b[0m\u001b[0;32m    107 \u001b[0;31m    \u001b[0minds\u001b[0m \u001b[0;34m=\u001b[0m \u001b[0;34m[\u001b[0m\u001b[0mi\u001b[0m \u001b[0;32mfor\u001b[0m \u001b[0mi\u001b[0m\u001b[0;34m,\u001b[0m \u001b[0me\u001b[0m \u001b[0;32min\u001b[0m \u001b[0menumerate\u001b[0m\u001b[0;34m(\u001b[0m\u001b[0mnames\u001b[0m\u001b[0;34m)\u001b[0m \u001b[0;32mif\u001b[0m \u001b[0me\u001b[0m \u001b[0;34m==\u001b[0m \u001b[0mname\u001b[0m\u001b[0;34m]\u001b[0m\u001b[0;34m\u001b[0m\u001b[0;34m\u001b[0m\u001b[0m\n",
      "\u001b[0m\n"
     ]
    },
    {
     "name": "stdin",
     "output_type": "stream",
     "text": [
      "ipdb>  n\n"
     ]
    },
    {
     "name": "stdout",
     "output_type": "stream",
     "text": [
      "> \u001b[0;32m/scratch/mirzam/finn/deps/qonnx/src/qonnx/util/basic.py\u001b[0m(105)\u001b[0;36m<listcomp>\u001b[0;34m()\u001b[0m\n",
      "\u001b[0;32m    103 \u001b[0;31m    \u001b[0mWill\u001b[0m \u001b[0mthrow\u001b[0m \u001b[0man\u001b[0m \u001b[0mException\u001b[0m \u001b[0;32mif\u001b[0m \u001b[0mmultiple\u001b[0m \u001b[0mitems\u001b[0m \u001b[0mare\u001b[0m \u001b[0mfound\u001b[0m\u001b[0;34m,\u001b[0m \u001b[0msince\u001b[0m \u001b[0mthis\u001b[0m \u001b[0mviolates\u001b[0m \u001b[0mthe\u001b[0m\u001b[0;34m\u001b[0m\u001b[0;34m\u001b[0m\u001b[0m\n",
      "\u001b[0m\u001b[0;32m    104 \u001b[0;31m    ONNX standard.\"\"\"\n",
      "\u001b[0m\u001b[0;32m--> 105 \u001b[0;31m    \u001b[0mnames\u001b[0m \u001b[0;34m=\u001b[0m \u001b[0;34m[\u001b[0m\u001b[0mgetattr\u001b[0m\u001b[0;34m(\u001b[0m\u001b[0mx\u001b[0m\u001b[0;34m,\u001b[0m \u001b[0mname_field\u001b[0m\u001b[0;34m)\u001b[0m \u001b[0;32mfor\u001b[0m \u001b[0mx\u001b[0m \u001b[0;32min\u001b[0m \u001b[0mcontainer\u001b[0m\u001b[0;34m]\u001b[0m\u001b[0;34m\u001b[0m\u001b[0;34m\u001b[0m\u001b[0m\n",
      "\u001b[0m\u001b[0;32m    106 \u001b[0;31m\u001b[0;34m\u001b[0m\u001b[0m\n",
      "\u001b[0m\u001b[0;32m    107 \u001b[0;31m    \u001b[0minds\u001b[0m \u001b[0;34m=\u001b[0m \u001b[0;34m[\u001b[0m\u001b[0mi\u001b[0m \u001b[0;32mfor\u001b[0m \u001b[0mi\u001b[0m\u001b[0;34m,\u001b[0m \u001b[0me\u001b[0m \u001b[0;32min\u001b[0m \u001b[0menumerate\u001b[0m\u001b[0;34m(\u001b[0m\u001b[0mnames\u001b[0m\u001b[0;34m)\u001b[0m \u001b[0;32mif\u001b[0m \u001b[0me\u001b[0m \u001b[0;34m==\u001b[0m \u001b[0mname\u001b[0m\u001b[0;34m]\u001b[0m\u001b[0;34m\u001b[0m\u001b[0;34m\u001b[0m\u001b[0m\n",
      "\u001b[0m\n"
     ]
    },
    {
     "name": "stdin",
     "output_type": "stream",
     "text": [
      "ipdb>  n\n"
     ]
    },
    {
     "name": "stdout",
     "output_type": "stream",
     "text": [
      "> \u001b[0;32m/scratch/mirzam/finn/deps/qonnx/src/qonnx/util/basic.py\u001b[0m(105)\u001b[0;36m<listcomp>\u001b[0;34m()\u001b[0m\n",
      "\u001b[0;32m    103 \u001b[0;31m    \u001b[0mWill\u001b[0m \u001b[0mthrow\u001b[0m \u001b[0man\u001b[0m \u001b[0mException\u001b[0m \u001b[0;32mif\u001b[0m \u001b[0mmultiple\u001b[0m \u001b[0mitems\u001b[0m \u001b[0mare\u001b[0m \u001b[0mfound\u001b[0m\u001b[0;34m,\u001b[0m \u001b[0msince\u001b[0m \u001b[0mthis\u001b[0m \u001b[0mviolates\u001b[0m \u001b[0mthe\u001b[0m\u001b[0;34m\u001b[0m\u001b[0;34m\u001b[0m\u001b[0m\n",
      "\u001b[0m\u001b[0;32m    104 \u001b[0;31m    ONNX standard.\"\"\"\n",
      "\u001b[0m\u001b[0;32m--> 105 \u001b[0;31m    \u001b[0mnames\u001b[0m \u001b[0;34m=\u001b[0m \u001b[0;34m[\u001b[0m\u001b[0mgetattr\u001b[0m\u001b[0;34m(\u001b[0m\u001b[0mx\u001b[0m\u001b[0;34m,\u001b[0m \u001b[0mname_field\u001b[0m\u001b[0;34m)\u001b[0m \u001b[0;32mfor\u001b[0m \u001b[0mx\u001b[0m \u001b[0;32min\u001b[0m \u001b[0mcontainer\u001b[0m\u001b[0;34m]\u001b[0m\u001b[0;34m\u001b[0m\u001b[0;34m\u001b[0m\u001b[0m\n",
      "\u001b[0m\u001b[0;32m    106 \u001b[0;31m\u001b[0;34m\u001b[0m\u001b[0m\n",
      "\u001b[0m\u001b[0;32m    107 \u001b[0;31m    \u001b[0minds\u001b[0m \u001b[0;34m=\u001b[0m \u001b[0;34m[\u001b[0m\u001b[0mi\u001b[0m \u001b[0;32mfor\u001b[0m \u001b[0mi\u001b[0m\u001b[0;34m,\u001b[0m \u001b[0me\u001b[0m \u001b[0;32min\u001b[0m \u001b[0menumerate\u001b[0m\u001b[0;34m(\u001b[0m\u001b[0mnames\u001b[0m\u001b[0;34m)\u001b[0m \u001b[0;32mif\u001b[0m \u001b[0me\u001b[0m \u001b[0;34m==\u001b[0m \u001b[0mname\u001b[0m\u001b[0;34m]\u001b[0m\u001b[0;34m\u001b[0m\u001b[0;34m\u001b[0m\u001b[0m\n",
      "\u001b[0m\n"
     ]
    },
    {
     "name": "stdin",
     "output_type": "stream",
     "text": [
      "ipdb>  n\n"
     ]
    },
    {
     "name": "stdout",
     "output_type": "stream",
     "text": [
      "--Return--\n",
      "['vivado_stitch_proj', 'clk_ns', 'wrapper_filename', 'vivado_stitch_vlnv', 'vivado_stitch_ifnames', 'exec_mode', ...]\n",
      "> \u001b[0;32m/scratch/mirzam/finn/deps/qonnx/src/qonnx/util/basic.py\u001b[0m(105)\u001b[0;36m<listcomp>\u001b[0;34m()\u001b[0m\n",
      "\u001b[0;32m    103 \u001b[0;31m    \u001b[0mWill\u001b[0m \u001b[0mthrow\u001b[0m \u001b[0man\u001b[0m \u001b[0mException\u001b[0m \u001b[0;32mif\u001b[0m \u001b[0mmultiple\u001b[0m \u001b[0mitems\u001b[0m \u001b[0mare\u001b[0m \u001b[0mfound\u001b[0m\u001b[0;34m,\u001b[0m \u001b[0msince\u001b[0m \u001b[0mthis\u001b[0m \u001b[0mviolates\u001b[0m \u001b[0mthe\u001b[0m\u001b[0;34m\u001b[0m\u001b[0;34m\u001b[0m\u001b[0m\n",
      "\u001b[0m\u001b[0;32m    104 \u001b[0;31m    ONNX standard.\"\"\"\n",
      "\u001b[0m\u001b[0;32m--> 105 \u001b[0;31m    \u001b[0mnames\u001b[0m \u001b[0;34m=\u001b[0m \u001b[0;34m[\u001b[0m\u001b[0mgetattr\u001b[0m\u001b[0;34m(\u001b[0m\u001b[0mx\u001b[0m\u001b[0;34m,\u001b[0m \u001b[0mname_field\u001b[0m\u001b[0;34m)\u001b[0m \u001b[0;32mfor\u001b[0m \u001b[0mx\u001b[0m \u001b[0;32min\u001b[0m \u001b[0mcontainer\u001b[0m\u001b[0;34m]\u001b[0m\u001b[0;34m\u001b[0m\u001b[0;34m\u001b[0m\u001b[0m\n",
      "\u001b[0m\u001b[0;32m    106 \u001b[0;31m\u001b[0;34m\u001b[0m\u001b[0m\n",
      "\u001b[0m\u001b[0;32m    107 \u001b[0;31m    \u001b[0minds\u001b[0m \u001b[0;34m=\u001b[0m \u001b[0;34m[\u001b[0m\u001b[0mi\u001b[0m \u001b[0;32mfor\u001b[0m \u001b[0mi\u001b[0m\u001b[0;34m,\u001b[0m \u001b[0me\u001b[0m \u001b[0;32min\u001b[0m \u001b[0menumerate\u001b[0m\u001b[0;34m(\u001b[0m\u001b[0mnames\u001b[0m\u001b[0;34m)\u001b[0m \u001b[0;32mif\u001b[0m \u001b[0me\u001b[0m \u001b[0;34m==\u001b[0m \u001b[0mname\u001b[0m\u001b[0;34m]\u001b[0m\u001b[0;34m\u001b[0m\u001b[0;34m\u001b[0m\u001b[0m\n",
      "\u001b[0m\n"
     ]
    },
    {
     "name": "stdin",
     "output_type": "stream",
     "text": [
      "ipdb>  n\n"
     ]
    },
    {
     "name": "stdout",
     "output_type": "stream",
     "text": [
      "> \u001b[0;32m/scratch/mirzam/finn/deps/qonnx/src/qonnx/util/basic.py\u001b[0m(107)\u001b[0;36mget_by_name\u001b[0;34m()\u001b[0m\n",
      "\u001b[0;32m    105 \u001b[0;31m    \u001b[0mnames\u001b[0m \u001b[0;34m=\u001b[0m \u001b[0;34m[\u001b[0m\u001b[0mgetattr\u001b[0m\u001b[0;34m(\u001b[0m\u001b[0mx\u001b[0m\u001b[0;34m,\u001b[0m \u001b[0mname_field\u001b[0m\u001b[0;34m)\u001b[0m \u001b[0;32mfor\u001b[0m \u001b[0mx\u001b[0m \u001b[0;32min\u001b[0m \u001b[0mcontainer\u001b[0m\u001b[0;34m]\u001b[0m\u001b[0;34m\u001b[0m\u001b[0;34m\u001b[0m\u001b[0m\n",
      "\u001b[0m\u001b[0;32m    106 \u001b[0;31m\u001b[0;34m\u001b[0m\u001b[0m\n",
      "\u001b[0m\u001b[0;32m--> 107 \u001b[0;31m    \u001b[0minds\u001b[0m \u001b[0;34m=\u001b[0m \u001b[0;34m[\u001b[0m\u001b[0mi\u001b[0m \u001b[0;32mfor\u001b[0m \u001b[0mi\u001b[0m\u001b[0;34m,\u001b[0m \u001b[0me\u001b[0m \u001b[0;32min\u001b[0m \u001b[0menumerate\u001b[0m\u001b[0;34m(\u001b[0m\u001b[0mnames\u001b[0m\u001b[0;34m)\u001b[0m \u001b[0;32mif\u001b[0m \u001b[0me\u001b[0m \u001b[0;34m==\u001b[0m \u001b[0mname\u001b[0m\u001b[0;34m]\u001b[0m\u001b[0;34m\u001b[0m\u001b[0;34m\u001b[0m\u001b[0m\n",
      "\u001b[0m\u001b[0;32m    108 \u001b[0;31m    \u001b[0;32mif\u001b[0m \u001b[0mlen\u001b[0m\u001b[0;34m(\u001b[0m\u001b[0minds\u001b[0m\u001b[0;34m)\u001b[0m \u001b[0;34m>\u001b[0m \u001b[0;36m1\u001b[0m\u001b[0;34m:\u001b[0m\u001b[0;34m\u001b[0m\u001b[0;34m\u001b[0m\u001b[0m\n",
      "\u001b[0m\u001b[0;32m    109 \u001b[0;31m        \u001b[0;32mraise\u001b[0m \u001b[0mException\u001b[0m\u001b[0;34m(\u001b[0m\u001b[0;34m\"Found multiple get_by_name matches, undefined behavior\"\u001b[0m\u001b[0;34m)\u001b[0m\u001b[0;34m\u001b[0m\u001b[0;34m\u001b[0m\u001b[0m\n",
      "\u001b[0m\n"
     ]
    },
    {
     "name": "stdin",
     "output_type": "stream",
     "text": [
      "ipdb>  n\n"
     ]
    },
    {
     "name": "stdout",
     "output_type": "stream",
     "text": [
      "> \u001b[0;32m/scratch/mirzam/finn/deps/qonnx/src/qonnx/util/basic.py\u001b[0m(108)\u001b[0;36mget_by_name\u001b[0;34m()\u001b[0m\n",
      "\u001b[0;32m    106 \u001b[0;31m\u001b[0;34m\u001b[0m\u001b[0m\n",
      "\u001b[0m\u001b[0;32m    107 \u001b[0;31m    \u001b[0minds\u001b[0m \u001b[0;34m=\u001b[0m \u001b[0;34m[\u001b[0m\u001b[0mi\u001b[0m \u001b[0;32mfor\u001b[0m \u001b[0mi\u001b[0m\u001b[0;34m,\u001b[0m \u001b[0me\u001b[0m \u001b[0;32min\u001b[0m \u001b[0menumerate\u001b[0m\u001b[0;34m(\u001b[0m\u001b[0mnames\u001b[0m\u001b[0;34m)\u001b[0m \u001b[0;32mif\u001b[0m \u001b[0me\u001b[0m \u001b[0;34m==\u001b[0m \u001b[0mname\u001b[0m\u001b[0;34m]\u001b[0m\u001b[0;34m\u001b[0m\u001b[0;34m\u001b[0m\u001b[0m\n",
      "\u001b[0m\u001b[0;32m--> 108 \u001b[0;31m    \u001b[0;32mif\u001b[0m \u001b[0mlen\u001b[0m\u001b[0;34m(\u001b[0m\u001b[0minds\u001b[0m\u001b[0;34m)\u001b[0m \u001b[0;34m>\u001b[0m \u001b[0;36m1\u001b[0m\u001b[0;34m:\u001b[0m\u001b[0;34m\u001b[0m\u001b[0;34m\u001b[0m\u001b[0m\n",
      "\u001b[0m\u001b[0;32m    109 \u001b[0;31m        \u001b[0;32mraise\u001b[0m \u001b[0mException\u001b[0m\u001b[0;34m(\u001b[0m\u001b[0;34m\"Found multiple get_by_name matches, undefined behavior\"\u001b[0m\u001b[0;34m)\u001b[0m\u001b[0;34m\u001b[0m\u001b[0;34m\u001b[0m\u001b[0m\n",
      "\u001b[0m\u001b[0;32m    110 \u001b[0;31m    \u001b[0;32melif\u001b[0m \u001b[0mlen\u001b[0m\u001b[0;34m(\u001b[0m\u001b[0minds\u001b[0m\u001b[0;34m)\u001b[0m \u001b[0;34m==\u001b[0m \u001b[0;36m0\u001b[0m\u001b[0;34m:\u001b[0m\u001b[0;34m\u001b[0m\u001b[0;34m\u001b[0m\u001b[0m\n",
      "\u001b[0m\n"
     ]
    },
    {
     "name": "stdin",
     "output_type": "stream",
     "text": [
      "ipdb>  n\n"
     ]
    },
    {
     "name": "stdout",
     "output_type": "stream",
     "text": [
      "> \u001b[0;32m/scratch/mirzam/finn/deps/qonnx/src/qonnx/util/basic.py\u001b[0m(110)\u001b[0;36mget_by_name\u001b[0;34m()\u001b[0m\n",
      "\u001b[0;32m    108 \u001b[0;31m    \u001b[0;32mif\u001b[0m \u001b[0mlen\u001b[0m\u001b[0;34m(\u001b[0m\u001b[0minds\u001b[0m\u001b[0;34m)\u001b[0m \u001b[0;34m>\u001b[0m \u001b[0;36m1\u001b[0m\u001b[0;34m:\u001b[0m\u001b[0;34m\u001b[0m\u001b[0;34m\u001b[0m\u001b[0m\n",
      "\u001b[0m\u001b[0;32m    109 \u001b[0;31m        \u001b[0;32mraise\u001b[0m \u001b[0mException\u001b[0m\u001b[0;34m(\u001b[0m\u001b[0;34m\"Found multiple get_by_name matches, undefined behavior\"\u001b[0m\u001b[0;34m)\u001b[0m\u001b[0;34m\u001b[0m\u001b[0;34m\u001b[0m\u001b[0m\n",
      "\u001b[0m\u001b[0;32m--> 110 \u001b[0;31m    \u001b[0;32melif\u001b[0m \u001b[0mlen\u001b[0m\u001b[0;34m(\u001b[0m\u001b[0minds\u001b[0m\u001b[0;34m)\u001b[0m \u001b[0;34m==\u001b[0m \u001b[0;36m0\u001b[0m\u001b[0;34m:\u001b[0m\u001b[0;34m\u001b[0m\u001b[0;34m\u001b[0m\u001b[0m\n",
      "\u001b[0m\u001b[0;32m    111 \u001b[0;31m        \u001b[0;32mreturn\u001b[0m \u001b[0;32mNone\u001b[0m\u001b[0;34m\u001b[0m\u001b[0;34m\u001b[0m\u001b[0m\n",
      "\u001b[0m\u001b[0;32m    112 \u001b[0;31m    \u001b[0;32melse\u001b[0m\u001b[0;34m:\u001b[0m\u001b[0;34m\u001b[0m\u001b[0;34m\u001b[0m\u001b[0m\n",
      "\u001b[0m\n"
     ]
    },
    {
     "name": "stdin",
     "output_type": "stream",
     "text": [
      "ipdb>  n\n"
     ]
    },
    {
     "name": "stdout",
     "output_type": "stream",
     "text": [
      "> \u001b[0;32m/scratch/mirzam/finn/deps/qonnx/src/qonnx/util/basic.py\u001b[0m(113)\u001b[0;36mget_by_name\u001b[0;34m()\u001b[0m\n",
      "\u001b[0;32m    111 \u001b[0;31m        \u001b[0;32mreturn\u001b[0m \u001b[0;32mNone\u001b[0m\u001b[0;34m\u001b[0m\u001b[0;34m\u001b[0m\u001b[0m\n",
      "\u001b[0m\u001b[0;32m    112 \u001b[0;31m    \u001b[0;32melse\u001b[0m\u001b[0;34m:\u001b[0m\u001b[0;34m\u001b[0m\u001b[0;34m\u001b[0m\u001b[0m\n",
      "\u001b[0m\u001b[0;32m--> 113 \u001b[0;31m        \u001b[0mind\u001b[0m \u001b[0;34m=\u001b[0m \u001b[0minds\u001b[0m\u001b[0;34m[\u001b[0m\u001b[0;36m0\u001b[0m\u001b[0;34m]\u001b[0m\u001b[0;34m\u001b[0m\u001b[0;34m\u001b[0m\u001b[0m\n",
      "\u001b[0m\u001b[0;32m    114 \u001b[0;31m        \u001b[0;32mreturn\u001b[0m \u001b[0mcontainer\u001b[0m\u001b[0;34m[\u001b[0m\u001b[0mind\u001b[0m\u001b[0;34m]\u001b[0m\u001b[0;34m\u001b[0m\u001b[0;34m\u001b[0m\u001b[0m\n",
      "\u001b[0m\u001b[0;32m    115 \u001b[0;31m\u001b[0;34m\u001b[0m\u001b[0m\n",
      "\u001b[0m\n"
     ]
    },
    {
     "name": "stdin",
     "output_type": "stream",
     "text": [
      "ipdb>  n\n"
     ]
    },
    {
     "name": "stdout",
     "output_type": "stream",
     "text": [
      "> \u001b[0;32m/scratch/mirzam/finn/deps/qonnx/src/qonnx/util/basic.py\u001b[0m(114)\u001b[0;36mget_by_name\u001b[0;34m()\u001b[0m\n",
      "\u001b[0;32m    112 \u001b[0;31m    \u001b[0;32melse\u001b[0m\u001b[0;34m:\u001b[0m\u001b[0;34m\u001b[0m\u001b[0;34m\u001b[0m\u001b[0m\n",
      "\u001b[0m\u001b[0;32m    113 \u001b[0;31m        \u001b[0mind\u001b[0m \u001b[0;34m=\u001b[0m \u001b[0minds\u001b[0m\u001b[0;34m[\u001b[0m\u001b[0;36m0\u001b[0m\u001b[0;34m]\u001b[0m\u001b[0;34m\u001b[0m\u001b[0;34m\u001b[0m\u001b[0m\n",
      "\u001b[0m\u001b[0;32m--> 114 \u001b[0;31m        \u001b[0;32mreturn\u001b[0m \u001b[0mcontainer\u001b[0m\u001b[0;34m[\u001b[0m\u001b[0mind\u001b[0m\u001b[0;34m]\u001b[0m\u001b[0;34m\u001b[0m\u001b[0;34m\u001b[0m\u001b[0m\n",
      "\u001b[0m\u001b[0;32m    115 \u001b[0;31m\u001b[0;34m\u001b[0m\u001b[0m\n",
      "\u001b[0m\u001b[0;32m    116 \u001b[0;31m\u001b[0;34m\u001b[0m\u001b[0m\n",
      "\u001b[0m\n"
     ]
    },
    {
     "name": "stdin",
     "output_type": "stream",
     "text": [
      "ipdb>  n\n"
     ]
    },
    {
     "name": "stdout",
     "output_type": "stream",
     "text": [
      "--Return--\n",
      "key: \"wrapper...gn_wrapper.v\"\n",
      "\n",
      "> \u001b[0;32m/scratch/mirzam/finn/deps/qonnx/src/qonnx/util/basic.py\u001b[0m(114)\u001b[0;36mget_by_name\u001b[0;34m()\u001b[0m\n",
      "\u001b[0;32m    112 \u001b[0;31m    \u001b[0;32melse\u001b[0m\u001b[0;34m:\u001b[0m\u001b[0;34m\u001b[0m\u001b[0;34m\u001b[0m\u001b[0m\n",
      "\u001b[0m\u001b[0;32m    113 \u001b[0;31m        \u001b[0mind\u001b[0m \u001b[0;34m=\u001b[0m \u001b[0minds\u001b[0m\u001b[0;34m[\u001b[0m\u001b[0;36m0\u001b[0m\u001b[0;34m]\u001b[0m\u001b[0;34m\u001b[0m\u001b[0;34m\u001b[0m\u001b[0m\n",
      "\u001b[0m\u001b[0;32m--> 114 \u001b[0;31m        \u001b[0;32mreturn\u001b[0m \u001b[0mcontainer\u001b[0m\u001b[0;34m[\u001b[0m\u001b[0mind\u001b[0m\u001b[0;34m]\u001b[0m\u001b[0;34m\u001b[0m\u001b[0;34m\u001b[0m\u001b[0m\n",
      "\u001b[0m\u001b[0;32m    115 \u001b[0;31m\u001b[0;34m\u001b[0m\u001b[0m\n",
      "\u001b[0m\u001b[0;32m    116 \u001b[0;31m\u001b[0;34m\u001b[0m\u001b[0m\n",
      "\u001b[0m\n"
     ]
    },
    {
     "name": "stdin",
     "output_type": "stream",
     "text": [
      "ipdb>  n\n"
     ]
    },
    {
     "name": "stdout",
     "output_type": "stream",
     "text": [
      "> \u001b[0;32m/scratch/mirzam/finn/deps/qonnx/src/qonnx/core/modelwrapper.py\u001b[0m(506)\u001b[0;36mget_metadata_prop\u001b[0;34m()\u001b[0m\n",
      "\u001b[0;32m    504 \u001b[0;31m        or None otherwise.\"\"\"\n",
      "\u001b[0m\u001b[0;32m    505 \u001b[0;31m        \u001b[0mmetadata_prop\u001b[0m \u001b[0;34m=\u001b[0m \u001b[0mutil\u001b[0m\u001b[0;34m.\u001b[0m\u001b[0mget_by_name\u001b[0m\u001b[0;34m(\u001b[0m\u001b[0mself\u001b[0m\u001b[0;34m.\u001b[0m\u001b[0mmodel\u001b[0m\u001b[0;34m.\u001b[0m\u001b[0mmetadata_props\u001b[0m\u001b[0;34m,\u001b[0m \u001b[0mkey\u001b[0m\u001b[0;34m,\u001b[0m \u001b[0;34m\"key\"\u001b[0m\u001b[0;34m)\u001b[0m\u001b[0;34m\u001b[0m\u001b[0;34m\u001b[0m\u001b[0m\n",
      "\u001b[0m\u001b[0;32m--> 506 \u001b[0;31m        \u001b[0;32mif\u001b[0m \u001b[0mmetadata_prop\u001b[0m \u001b[0;32mis\u001b[0m \u001b[0;32mNone\u001b[0m\u001b[0;34m:\u001b[0m\u001b[0;34m\u001b[0m\u001b[0;34m\u001b[0m\u001b[0m\n",
      "\u001b[0m\u001b[0;32m    507 \u001b[0;31m            \u001b[0;32mreturn\u001b[0m \u001b[0;32mNone\u001b[0m\u001b[0;34m\u001b[0m\u001b[0;34m\u001b[0m\u001b[0m\n",
      "\u001b[0m\u001b[0;32m    508 \u001b[0;31m        \u001b[0;32melse\u001b[0m\u001b[0;34m:\u001b[0m\u001b[0;34m\u001b[0m\u001b[0;34m\u001b[0m\u001b[0m\n",
      "\u001b[0m\n"
     ]
    },
    {
     "name": "stdin",
     "output_type": "stream",
     "text": [
      "ipdb>  metadata_prop\n"
     ]
    },
    {
     "name": "stdout",
     "output_type": "stream",
     "text": [
      "key: \"wrapper_filename\"\n",
      "value: \"/scratch/mirzam/build_files/vivado_stitch_proj_m6isg2z8/finn_vivado_stitch_proj.gen/sources_1/bd/finn_design/hdl/finn_design_wrapper.v\"\n",
      "\n"
     ]
    },
    {
     "name": "stdin",
     "output_type": "stream",
     "text": [
      "ipdb>  n\n"
     ]
    },
    {
     "name": "stdout",
     "output_type": "stream",
     "text": [
      "> \u001b[0;32m/scratch/mirzam/finn/deps/qonnx/src/qonnx/core/modelwrapper.py\u001b[0m(509)\u001b[0;36mget_metadata_prop\u001b[0;34m()\u001b[0m\n",
      "\u001b[0;32m    507 \u001b[0;31m            \u001b[0;32mreturn\u001b[0m \u001b[0;32mNone\u001b[0m\u001b[0;34m\u001b[0m\u001b[0;34m\u001b[0m\u001b[0m\n",
      "\u001b[0m\u001b[0;32m    508 \u001b[0;31m        \u001b[0;32melse\u001b[0m\u001b[0;34m:\u001b[0m\u001b[0;34m\u001b[0m\u001b[0;34m\u001b[0m\u001b[0m\n",
      "\u001b[0m\u001b[0;32m--> 509 \u001b[0;31m            \u001b[0;32mreturn\u001b[0m \u001b[0mmetadata_prop\u001b[0m\u001b[0;34m.\u001b[0m\u001b[0mvalue\u001b[0m\u001b[0;34m\u001b[0m\u001b[0;34m\u001b[0m\u001b[0m\n",
      "\u001b[0m\u001b[0;32m    510 \u001b[0;31m\u001b[0;34m\u001b[0m\u001b[0m\n",
      "\u001b[0m\u001b[0;32m    511 \u001b[0;31m    \u001b[0;32mdef\u001b[0m \u001b[0mset_metadata_prop\u001b[0m\u001b[0;34m(\u001b[0m\u001b[0mself\u001b[0m\u001b[0;34m,\u001b[0m \u001b[0mkey\u001b[0m\u001b[0;34m,\u001b[0m \u001b[0mvalue\u001b[0m\u001b[0;34m)\u001b[0m\u001b[0;34m:\u001b[0m\u001b[0;34m\u001b[0m\u001b[0;34m\u001b[0m\u001b[0m\n",
      "\u001b[0m\n"
     ]
    },
    {
     "name": "stdin",
     "output_type": "stream",
     "text": [
      "ipdb>  n\n"
     ]
    },
    {
     "name": "stdout",
     "output_type": "stream",
     "text": [
      "--Return--\n",
      "'/scratch/mir...ign_wrapper.v'\n",
      "> \u001b[0;32m/scratch/mirzam/finn/deps/qonnx/src/qonnx/core/modelwrapper.py\u001b[0m(509)\u001b[0;36mget_metadata_prop\u001b[0;34m()\u001b[0m\n",
      "\u001b[0;32m    507 \u001b[0;31m            \u001b[0;32mreturn\u001b[0m \u001b[0;32mNone\u001b[0m\u001b[0;34m\u001b[0m\u001b[0;34m\u001b[0m\u001b[0m\n",
      "\u001b[0m\u001b[0;32m    508 \u001b[0;31m        \u001b[0;32melse\u001b[0m\u001b[0;34m:\u001b[0m\u001b[0;34m\u001b[0m\u001b[0;34m\u001b[0m\u001b[0m\n",
      "\u001b[0m\u001b[0;32m--> 509 \u001b[0;31m            \u001b[0;32mreturn\u001b[0m \u001b[0mmetadata_prop\u001b[0m\u001b[0;34m.\u001b[0m\u001b[0mvalue\u001b[0m\u001b[0;34m\u001b[0m\u001b[0;34m\u001b[0m\u001b[0m\n",
      "\u001b[0m\u001b[0;32m    510 \u001b[0;31m\u001b[0;34m\u001b[0m\u001b[0m\n",
      "\u001b[0m\u001b[0;32m    511 \u001b[0;31m    \u001b[0;32mdef\u001b[0m \u001b[0mset_metadata_prop\u001b[0m\u001b[0;34m(\u001b[0m\u001b[0mself\u001b[0m\u001b[0;34m,\u001b[0m \u001b[0mkey\u001b[0m\u001b[0;34m,\u001b[0m \u001b[0mvalue\u001b[0m\u001b[0;34m)\u001b[0m\u001b[0;34m:\u001b[0m\u001b[0;34m\u001b[0m\u001b[0;34m\u001b[0m\u001b[0m\n",
      "\u001b[0m\n"
     ]
    },
    {
     "name": "stdin",
     "output_type": "stream",
     "text": [
      "ipdb>  n\n"
     ]
    },
    {
     "name": "stdout",
     "output_type": "stream",
     "text": [
      "> \u001b[0;32m/scratch/mirzam/finn/src/finn/core/rtlsim_exec.py\u001b[0m(54)\u001b[0;36mrtlsim_exec\u001b[0;34m()\u001b[0m\n",
      "\u001b[0;32m     52 \u001b[0;31m        \u001b[0;32mraise\u001b[0m \u001b[0mImportError\u001b[0m\u001b[0;34m(\u001b[0m\u001b[0;34m\"Installation of PyVerilator is required.\"\u001b[0m\u001b[0;34m)\u001b[0m\u001b[0;34m\u001b[0m\u001b[0;34m\u001b[0m\u001b[0m\n",
      "\u001b[0m\u001b[0;32m     53 \u001b[0;31m    \u001b[0;31m# ensure stitched ip project already exists\u001b[0m\u001b[0;34m\u001b[0m\u001b[0;34m\u001b[0m\u001b[0m\n",
      "\u001b[0m\u001b[0;32m---> 54 \u001b[0;31m    assert os.path.isfile(\n",
      "\u001b[0m\u001b[0;32m     55 \u001b[0;31m        \u001b[0mmodel\u001b[0m\u001b[0;34m.\u001b[0m\u001b[0mget_metadata_prop\u001b[0m\u001b[0;34m(\u001b[0m\u001b[0;34m\"wrapper_filename\"\u001b[0m\u001b[0;34m)\u001b[0m\u001b[0;34m\u001b[0m\u001b[0;34m\u001b[0m\u001b[0m\n",
      "\u001b[0m\u001b[0;32m     56 \u001b[0;31m    ), \"\"\"The\n",
      "\u001b[0m\n"
     ]
    },
    {
     "name": "stdin",
     "output_type": "stream",
     "text": [
      "ipdb>  s\n"
     ]
    },
    {
     "name": "stdout",
     "output_type": "stream",
     "text": [
      "--Call--\n",
      "> \u001b[0;32m/usr/lib/python3.10/genericpath.py\u001b[0m(27)\u001b[0;36misfile\u001b[0;34m()\u001b[0m\n",
      "\u001b[0;32m     25 \u001b[0;31m\u001b[0;31m# This follows symbolic links, so both islink() and isdir() can be true\u001b[0m\u001b[0;34m\u001b[0m\u001b[0;34m\u001b[0m\u001b[0m\n",
      "\u001b[0m\u001b[0;32m     26 \u001b[0;31m\u001b[0;31m# for the same path on systems that support symlinks\u001b[0m\u001b[0;34m\u001b[0m\u001b[0;34m\u001b[0m\u001b[0m\n",
      "\u001b[0m\u001b[0;32m---> 27 \u001b[0;31m\u001b[0;32mdef\u001b[0m \u001b[0misfile\u001b[0m\u001b[0;34m(\u001b[0m\u001b[0mpath\u001b[0m\u001b[0;34m)\u001b[0m\u001b[0;34m:\u001b[0m\u001b[0;34m\u001b[0m\u001b[0;34m\u001b[0m\u001b[0m\n",
      "\u001b[0m\u001b[0;32m     28 \u001b[0;31m    \u001b[0;34m\"\"\"Test whether a path is a regular file\"\"\"\u001b[0m\u001b[0;34m\u001b[0m\u001b[0;34m\u001b[0m\u001b[0m\n",
      "\u001b[0m\u001b[0;32m     29 \u001b[0;31m    \u001b[0;32mtry\u001b[0m\u001b[0;34m:\u001b[0m\u001b[0;34m\u001b[0m\u001b[0;34m\u001b[0m\u001b[0m\n",
      "\u001b[0m\n"
     ]
    },
    {
     "name": "stdin",
     "output_type": "stream",
     "text": [
      "ipdb>  s\n"
     ]
    },
    {
     "name": "stdout",
     "output_type": "stream",
     "text": [
      "> \u001b[0;32m/usr/lib/python3.10/genericpath.py\u001b[0m(29)\u001b[0;36misfile\u001b[0;34m()\u001b[0m\n",
      "\u001b[0;32m     27 \u001b[0;31m\u001b[0;32mdef\u001b[0m \u001b[0misfile\u001b[0m\u001b[0;34m(\u001b[0m\u001b[0mpath\u001b[0m\u001b[0;34m)\u001b[0m\u001b[0;34m:\u001b[0m\u001b[0;34m\u001b[0m\u001b[0;34m\u001b[0m\u001b[0m\n",
      "\u001b[0m\u001b[0;32m     28 \u001b[0;31m    \u001b[0;34m\"\"\"Test whether a path is a regular file\"\"\"\u001b[0m\u001b[0;34m\u001b[0m\u001b[0;34m\u001b[0m\u001b[0m\n",
      "\u001b[0m\u001b[0;32m---> 29 \u001b[0;31m    \u001b[0;32mtry\u001b[0m\u001b[0;34m:\u001b[0m\u001b[0;34m\u001b[0m\u001b[0;34m\u001b[0m\u001b[0m\n",
      "\u001b[0m\u001b[0;32m     30 \u001b[0;31m        \u001b[0mst\u001b[0m \u001b[0;34m=\u001b[0m \u001b[0mos\u001b[0m\u001b[0;34m.\u001b[0m\u001b[0mstat\u001b[0m\u001b[0;34m(\u001b[0m\u001b[0mpath\u001b[0m\u001b[0;34m)\u001b[0m\u001b[0;34m\u001b[0m\u001b[0;34m\u001b[0m\u001b[0m\n",
      "\u001b[0m\u001b[0;32m     31 \u001b[0;31m    \u001b[0;32mexcept\u001b[0m \u001b[0;34m(\u001b[0m\u001b[0mOSError\u001b[0m\u001b[0;34m,\u001b[0m \u001b[0mValueError\u001b[0m\u001b[0;34m)\u001b[0m\u001b[0;34m:\u001b[0m\u001b[0;34m\u001b[0m\u001b[0;34m\u001b[0m\u001b[0m\n",
      "\u001b[0m\n"
     ]
    },
    {
     "name": "stdin",
     "output_type": "stream",
     "text": [
      "ipdb>  n\n"
     ]
    },
    {
     "name": "stdout",
     "output_type": "stream",
     "text": [
      "> \u001b[0;32m/usr/lib/python3.10/genericpath.py\u001b[0m(30)\u001b[0;36misfile\u001b[0;34m()\u001b[0m\n",
      "\u001b[0;32m     28 \u001b[0;31m    \u001b[0;34m\"\"\"Test whether a path is a regular file\"\"\"\u001b[0m\u001b[0;34m\u001b[0m\u001b[0;34m\u001b[0m\u001b[0m\n",
      "\u001b[0m\u001b[0;32m     29 \u001b[0;31m    \u001b[0;32mtry\u001b[0m\u001b[0;34m:\u001b[0m\u001b[0;34m\u001b[0m\u001b[0;34m\u001b[0m\u001b[0m\n",
      "\u001b[0m\u001b[0;32m---> 30 \u001b[0;31m        \u001b[0mst\u001b[0m \u001b[0;34m=\u001b[0m \u001b[0mos\u001b[0m\u001b[0;34m.\u001b[0m\u001b[0mstat\u001b[0m\u001b[0;34m(\u001b[0m\u001b[0mpath\u001b[0m\u001b[0;34m)\u001b[0m\u001b[0;34m\u001b[0m\u001b[0;34m\u001b[0m\u001b[0m\n",
      "\u001b[0m\u001b[0;32m     31 \u001b[0;31m    \u001b[0;32mexcept\u001b[0m \u001b[0;34m(\u001b[0m\u001b[0mOSError\u001b[0m\u001b[0;34m,\u001b[0m \u001b[0mValueError\u001b[0m\u001b[0;34m)\u001b[0m\u001b[0;34m:\u001b[0m\u001b[0;34m\u001b[0m\u001b[0;34m\u001b[0m\u001b[0m\n",
      "\u001b[0m\u001b[0;32m     32 \u001b[0;31m        \u001b[0;32mreturn\u001b[0m \u001b[0;32mFalse\u001b[0m\u001b[0;34m\u001b[0m\u001b[0;34m\u001b[0m\u001b[0m\n",
      "\u001b[0m\n"
     ]
    },
    {
     "name": "stdin",
     "output_type": "stream",
     "text": [
      "ipdb>  n\n"
     ]
    },
    {
     "name": "stdout",
     "output_type": "stream",
     "text": [
      "> \u001b[0;32m/usr/lib/python3.10/genericpath.py\u001b[0m(33)\u001b[0;36misfile\u001b[0;34m()\u001b[0m\n",
      "\u001b[0;32m     31 \u001b[0;31m    \u001b[0;32mexcept\u001b[0m \u001b[0;34m(\u001b[0m\u001b[0mOSError\u001b[0m\u001b[0;34m,\u001b[0m \u001b[0mValueError\u001b[0m\u001b[0;34m)\u001b[0m\u001b[0;34m:\u001b[0m\u001b[0;34m\u001b[0m\u001b[0;34m\u001b[0m\u001b[0m\n",
      "\u001b[0m\u001b[0;32m     32 \u001b[0;31m        \u001b[0;32mreturn\u001b[0m \u001b[0;32mFalse\u001b[0m\u001b[0;34m\u001b[0m\u001b[0;34m\u001b[0m\u001b[0m\n",
      "\u001b[0m\u001b[0;32m---> 33 \u001b[0;31m    \u001b[0;32mreturn\u001b[0m \u001b[0mstat\u001b[0m\u001b[0;34m.\u001b[0m\u001b[0mS_ISREG\u001b[0m\u001b[0;34m(\u001b[0m\u001b[0mst\u001b[0m\u001b[0;34m.\u001b[0m\u001b[0mst_mode\u001b[0m\u001b[0;34m)\u001b[0m\u001b[0;34m\u001b[0m\u001b[0;34m\u001b[0m\u001b[0m\n",
      "\u001b[0m\u001b[0;32m     34 \u001b[0;31m\u001b[0;34m\u001b[0m\u001b[0m\n",
      "\u001b[0m\u001b[0;32m     35 \u001b[0;31m\u001b[0;34m\u001b[0m\u001b[0m\n",
      "\u001b[0m\n"
     ]
    },
    {
     "name": "stdin",
     "output_type": "stream",
     "text": [
      "ipdb>  n\n"
     ]
    },
    {
     "name": "stdout",
     "output_type": "stream",
     "text": [
      "--Return--\n",
      "True\n",
      "> \u001b[0;32m/usr/lib/python3.10/genericpath.py\u001b[0m(33)\u001b[0;36misfile\u001b[0;34m()\u001b[0m\n",
      "\u001b[0;32m     31 \u001b[0;31m    \u001b[0;32mexcept\u001b[0m \u001b[0;34m(\u001b[0m\u001b[0mOSError\u001b[0m\u001b[0;34m,\u001b[0m \u001b[0mValueError\u001b[0m\u001b[0;34m)\u001b[0m\u001b[0;34m:\u001b[0m\u001b[0;34m\u001b[0m\u001b[0;34m\u001b[0m\u001b[0m\n",
      "\u001b[0m\u001b[0;32m     32 \u001b[0;31m        \u001b[0;32mreturn\u001b[0m \u001b[0;32mFalse\u001b[0m\u001b[0;34m\u001b[0m\u001b[0;34m\u001b[0m\u001b[0m\n",
      "\u001b[0m\u001b[0;32m---> 33 \u001b[0;31m    \u001b[0;32mreturn\u001b[0m \u001b[0mstat\u001b[0m\u001b[0;34m.\u001b[0m\u001b[0mS_ISREG\u001b[0m\u001b[0;34m(\u001b[0m\u001b[0mst\u001b[0m\u001b[0;34m.\u001b[0m\u001b[0mst_mode\u001b[0m\u001b[0;34m)\u001b[0m\u001b[0;34m\u001b[0m\u001b[0;34m\u001b[0m\u001b[0m\n",
      "\u001b[0m\u001b[0;32m     34 \u001b[0;31m\u001b[0;34m\u001b[0m\u001b[0m\n",
      "\u001b[0m\u001b[0;32m     35 \u001b[0;31m\u001b[0;34m\u001b[0m\u001b[0m\n",
      "\u001b[0m\n"
     ]
    },
    {
     "name": "stdin",
     "output_type": "stream",
     "text": [
      "ipdb>  n\n"
     ]
    },
    {
     "name": "stdout",
     "output_type": "stream",
     "text": [
      "> \u001b[0;32m/scratch/mirzam/finn/src/finn/core/rtlsim_exec.py\u001b[0m(58)\u001b[0;36mrtlsim_exec\u001b[0;34m()\u001b[0m\n",
      "\u001b[0;32m     56 \u001b[0;31m    ), \"\"\"The\n",
      "\u001b[0m\u001b[0;32m     57 \u001b[0;31m    file name from metadata property \"wrapper_filename\" doesn't exist.\"\"\"\n",
      "\u001b[0m\u001b[0;32m---> 58 \u001b[0;31m    assert os.path.isdir(\n",
      "\u001b[0m\u001b[0;32m     59 \u001b[0;31m        \u001b[0mmodel\u001b[0m\u001b[0;34m.\u001b[0m\u001b[0mget_metadata_prop\u001b[0m\u001b[0;34m(\u001b[0m\u001b[0;34m\"vivado_stitch_proj\"\u001b[0m\u001b[0;34m)\u001b[0m\u001b[0;34m\u001b[0m\u001b[0;34m\u001b[0m\u001b[0m\n",
      "\u001b[0m\u001b[0;32m     60 \u001b[0;31m    ), \"\"\"The\n",
      "\u001b[0m\n"
     ]
    },
    {
     "name": "stdin",
     "output_type": "stream",
     "text": [
      "ipdb>  n\n"
     ]
    },
    {
     "name": "stdout",
     "output_type": "stream",
     "text": [
      "> \u001b[0;32m/scratch/mirzam/finn/src/finn/core/rtlsim_exec.py\u001b[0m(59)\u001b[0;36mrtlsim_exec\u001b[0;34m()\u001b[0m\n",
      "\u001b[0;32m     57 \u001b[0;31m    file name from metadata property \"wrapper_filename\" doesn't exist.\"\"\"\n",
      "\u001b[0m\u001b[0;32m     58 \u001b[0;31m    assert os.path.isdir(\n",
      "\u001b[0m\u001b[0;32m---> 59 \u001b[0;31m        \u001b[0mmodel\u001b[0m\u001b[0;34m.\u001b[0m\u001b[0mget_metadata_prop\u001b[0m\u001b[0;34m(\u001b[0m\u001b[0;34m\"vivado_stitch_proj\"\u001b[0m\u001b[0;34m)\u001b[0m\u001b[0;34m\u001b[0m\u001b[0;34m\u001b[0m\u001b[0m\n",
      "\u001b[0m\u001b[0;32m     60 \u001b[0;31m    ), \"\"\"The\n",
      "\u001b[0m\u001b[0;32m     61 \u001b[0;31m    directory from metadata property \"vivado_stitch_proj\" doesn't exist\"\"\"\n",
      "\u001b[0m\n"
     ]
    },
    {
     "name": "stdin",
     "output_type": "stream",
     "text": [
      "ipdb>  n\n"
     ]
    },
    {
     "name": "stdout",
     "output_type": "stream",
     "text": [
      "> \u001b[0;32m/scratch/mirzam/finn/src/finn/core/rtlsim_exec.py\u001b[0m(58)\u001b[0;36mrtlsim_exec\u001b[0;34m()\u001b[0m\n",
      "\u001b[0;32m     56 \u001b[0;31m    ), \"\"\"The\n",
      "\u001b[0m\u001b[0;32m     57 \u001b[0;31m    file name from metadata property \"wrapper_filename\" doesn't exist.\"\"\"\n",
      "\u001b[0m\u001b[0;32m---> 58 \u001b[0;31m    assert os.path.isdir(\n",
      "\u001b[0m\u001b[0;32m     59 \u001b[0;31m        \u001b[0mmodel\u001b[0m\u001b[0;34m.\u001b[0m\u001b[0mget_metadata_prop\u001b[0m\u001b[0;34m(\u001b[0m\u001b[0;34m\"vivado_stitch_proj\"\u001b[0m\u001b[0;34m)\u001b[0m\u001b[0;34m\u001b[0m\u001b[0;34m\u001b[0m\u001b[0m\n",
      "\u001b[0m\u001b[0;32m     60 \u001b[0;31m    ), \"\"\"The\n",
      "\u001b[0m\n"
     ]
    },
    {
     "name": "stdin",
     "output_type": "stream",
     "text": [
      "ipdb>  n\n"
     ]
    },
    {
     "name": "stdout",
     "output_type": "stream",
     "text": [
      "> \u001b[0;32m/scratch/mirzam/finn/src/finn/core/rtlsim_exec.py\u001b[0m(62)\u001b[0;36mrtlsim_exec\u001b[0;34m()\u001b[0m\n",
      "\u001b[0;32m     60 \u001b[0;31m    ), \"\"\"The\n",
      "\u001b[0m\u001b[0;32m     61 \u001b[0;31m    directory from metadata property \"vivado_stitch_proj\" doesn't exist\"\"\"\n",
      "\u001b[0m\u001b[0;32m---> 62 \u001b[0;31m    \u001b[0mtrace_file\u001b[0m \u001b[0;34m=\u001b[0m \u001b[0mmodel\u001b[0m\u001b[0;34m.\u001b[0m\u001b[0mget_metadata_prop\u001b[0m\u001b[0;34m(\u001b[0m\u001b[0;34m\"rtlsim_trace\"\u001b[0m\u001b[0;34m)\u001b[0m\u001b[0;34m\u001b[0m\u001b[0;34m\u001b[0m\u001b[0m\n",
      "\u001b[0m\u001b[0;32m     63 \u001b[0;31m    \u001b[0;32mif\u001b[0m \u001b[0mtrace_file\u001b[0m \u001b[0;32mis\u001b[0m \u001b[0;32mNone\u001b[0m\u001b[0;34m:\u001b[0m\u001b[0;34m\u001b[0m\u001b[0;34m\u001b[0m\u001b[0m\n",
      "\u001b[0m\u001b[0;32m     64 \u001b[0;31m        \u001b[0mtrace_file\u001b[0m \u001b[0;34m=\u001b[0m \u001b[0;34m\"\"\u001b[0m\u001b[0;34m\u001b[0m\u001b[0;34m\u001b[0m\u001b[0m\n",
      "\u001b[0m\n"
     ]
    },
    {
     "name": "stdin",
     "output_type": "stream",
     "text": [
      "ipdb>  n\n"
     ]
    },
    {
     "name": "stdout",
     "output_type": "stream",
     "text": [
      "> \u001b[0;32m/scratch/mirzam/finn/src/finn/core/rtlsim_exec.py\u001b[0m(63)\u001b[0;36mrtlsim_exec\u001b[0;34m()\u001b[0m\n",
      "\u001b[0;32m     61 \u001b[0;31m    directory from metadata property \"vivado_stitch_proj\" doesn't exist\"\"\"\n",
      "\u001b[0m\u001b[0;32m     62 \u001b[0;31m    \u001b[0mtrace_file\u001b[0m \u001b[0;34m=\u001b[0m \u001b[0mmodel\u001b[0m\u001b[0;34m.\u001b[0m\u001b[0mget_metadata_prop\u001b[0m\u001b[0;34m(\u001b[0m\u001b[0;34m\"rtlsim_trace\"\u001b[0m\u001b[0;34m)\u001b[0m\u001b[0;34m\u001b[0m\u001b[0;34m\u001b[0m\u001b[0m\n",
      "\u001b[0m\u001b[0;32m---> 63 \u001b[0;31m    \u001b[0;32mif\u001b[0m \u001b[0mtrace_file\u001b[0m \u001b[0;32mis\u001b[0m \u001b[0;32mNone\u001b[0m\u001b[0;34m:\u001b[0m\u001b[0;34m\u001b[0m\u001b[0;34m\u001b[0m\u001b[0m\n",
      "\u001b[0m\u001b[0;32m     64 \u001b[0;31m        \u001b[0mtrace_file\u001b[0m \u001b[0;34m=\u001b[0m \u001b[0;34m\"\"\u001b[0m\u001b[0;34m\u001b[0m\u001b[0;34m\u001b[0m\u001b[0m\n",
      "\u001b[0m\u001b[0;32m     65 \u001b[0;31m    \u001b[0mextra_verilator_args\u001b[0m \u001b[0;34m=\u001b[0m \u001b[0mmodel\u001b[0m\u001b[0;34m.\u001b[0m\u001b[0mget_metadata_prop\u001b[0m\u001b[0;34m(\u001b[0m\u001b[0;34m\"extra_verilator_args\"\u001b[0m\u001b[0;34m)\u001b[0m\u001b[0;34m\u001b[0m\u001b[0;34m\u001b[0m\u001b[0m\n",
      "\u001b[0m\n"
     ]
    },
    {
     "name": "stdin",
     "output_type": "stream",
     "text": [
      "ipdb>  n\n"
     ]
    },
    {
     "name": "stdout",
     "output_type": "stream",
     "text": [
      "> \u001b[0;32m/scratch/mirzam/finn/src/finn/core/rtlsim_exec.py\u001b[0m(65)\u001b[0;36mrtlsim_exec\u001b[0;34m()\u001b[0m\n",
      "\u001b[0;32m     63 \u001b[0;31m    \u001b[0;32mif\u001b[0m \u001b[0mtrace_file\u001b[0m \u001b[0;32mis\u001b[0m \u001b[0;32mNone\u001b[0m\u001b[0;34m:\u001b[0m\u001b[0;34m\u001b[0m\u001b[0;34m\u001b[0m\u001b[0m\n",
      "\u001b[0m\u001b[0;32m     64 \u001b[0;31m        \u001b[0mtrace_file\u001b[0m \u001b[0;34m=\u001b[0m \u001b[0;34m\"\"\u001b[0m\u001b[0;34m\u001b[0m\u001b[0;34m\u001b[0m\u001b[0m\n",
      "\u001b[0m\u001b[0;32m---> 65 \u001b[0;31m    \u001b[0mextra_verilator_args\u001b[0m \u001b[0;34m=\u001b[0m \u001b[0mmodel\u001b[0m\u001b[0;34m.\u001b[0m\u001b[0mget_metadata_prop\u001b[0m\u001b[0;34m(\u001b[0m\u001b[0;34m\"extra_verilator_args\"\u001b[0m\u001b[0;34m)\u001b[0m\u001b[0;34m\u001b[0m\u001b[0;34m\u001b[0m\u001b[0m\n",
      "\u001b[0m\u001b[0;32m     66 \u001b[0;31m    \u001b[0;32mif\u001b[0m \u001b[0mextra_verilator_args\u001b[0m \u001b[0;32mis\u001b[0m \u001b[0;32mNone\u001b[0m\u001b[0;34m:\u001b[0m\u001b[0;34m\u001b[0m\u001b[0;34m\u001b[0m\u001b[0m\n",
      "\u001b[0m\u001b[0;32m     67 \u001b[0;31m        \u001b[0mextra_verilator_args\u001b[0m \u001b[0;34m=\u001b[0m \u001b[0;34m[\u001b[0m\u001b[0;34m]\u001b[0m\u001b[0;34m\u001b[0m\u001b[0;34m\u001b[0m\u001b[0m\n",
      "\u001b[0m\n"
     ]
    },
    {
     "name": "stdin",
     "output_type": "stream",
     "text": [
      "ipdb>  n\n"
     ]
    },
    {
     "name": "stdout",
     "output_type": "stream",
     "text": [
      "> \u001b[0;32m/scratch/mirzam/finn/src/finn/core/rtlsim_exec.py\u001b[0m(66)\u001b[0;36mrtlsim_exec\u001b[0;34m()\u001b[0m\n",
      "\u001b[0;32m     64 \u001b[0;31m        \u001b[0mtrace_file\u001b[0m \u001b[0;34m=\u001b[0m \u001b[0;34m\"\"\u001b[0m\u001b[0;34m\u001b[0m\u001b[0;34m\u001b[0m\u001b[0m\n",
      "\u001b[0m\u001b[0;32m     65 \u001b[0;31m    \u001b[0mextra_verilator_args\u001b[0m \u001b[0;34m=\u001b[0m \u001b[0mmodel\u001b[0m\u001b[0;34m.\u001b[0m\u001b[0mget_metadata_prop\u001b[0m\u001b[0;34m(\u001b[0m\u001b[0;34m\"extra_verilator_args\"\u001b[0m\u001b[0;34m)\u001b[0m\u001b[0;34m\u001b[0m\u001b[0;34m\u001b[0m\u001b[0m\n",
      "\u001b[0m\u001b[0;32m---> 66 \u001b[0;31m    \u001b[0;32mif\u001b[0m \u001b[0mextra_verilator_args\u001b[0m \u001b[0;32mis\u001b[0m \u001b[0;32mNone\u001b[0m\u001b[0;34m:\u001b[0m\u001b[0;34m\u001b[0m\u001b[0;34m\u001b[0m\u001b[0m\n",
      "\u001b[0m\u001b[0;32m     67 \u001b[0;31m        \u001b[0mextra_verilator_args\u001b[0m \u001b[0;34m=\u001b[0m \u001b[0;34m[\u001b[0m\u001b[0;34m]\u001b[0m\u001b[0;34m\u001b[0m\u001b[0;34m\u001b[0m\u001b[0m\n",
      "\u001b[0m\u001b[0;32m     68 \u001b[0;31m    \u001b[0;32melse\u001b[0m\u001b[0;34m:\u001b[0m\u001b[0;34m\u001b[0m\u001b[0;34m\u001b[0m\u001b[0m\n",
      "\u001b[0m\n"
     ]
    },
    {
     "name": "stdin",
     "output_type": "stream",
     "text": [
      "ipdb>  n\n"
     ]
    },
    {
     "name": "stdout",
     "output_type": "stream",
     "text": [
      "> \u001b[0;32m/scratch/mirzam/finn/src/finn/core/rtlsim_exec.py\u001b[0m(67)\u001b[0;36mrtlsim_exec\u001b[0;34m()\u001b[0m\n",
      "\u001b[0;32m     65 \u001b[0;31m    \u001b[0mextra_verilator_args\u001b[0m \u001b[0;34m=\u001b[0m \u001b[0mmodel\u001b[0m\u001b[0;34m.\u001b[0m\u001b[0mget_metadata_prop\u001b[0m\u001b[0;34m(\u001b[0m\u001b[0;34m\"extra_verilator_args\"\u001b[0m\u001b[0;34m)\u001b[0m\u001b[0;34m\u001b[0m\u001b[0;34m\u001b[0m\u001b[0m\n",
      "\u001b[0m\u001b[0;32m     66 \u001b[0;31m    \u001b[0;32mif\u001b[0m \u001b[0mextra_verilator_args\u001b[0m \u001b[0;32mis\u001b[0m \u001b[0;32mNone\u001b[0m\u001b[0;34m:\u001b[0m\u001b[0;34m\u001b[0m\u001b[0;34m\u001b[0m\u001b[0m\n",
      "\u001b[0m\u001b[0;32m---> 67 \u001b[0;31m        \u001b[0mextra_verilator_args\u001b[0m \u001b[0;34m=\u001b[0m \u001b[0;34m[\u001b[0m\u001b[0;34m]\u001b[0m\u001b[0;34m\u001b[0m\u001b[0;34m\u001b[0m\u001b[0m\n",
      "\u001b[0m\u001b[0;32m     68 \u001b[0;31m    \u001b[0;32melse\u001b[0m\u001b[0;34m:\u001b[0m\u001b[0;34m\u001b[0m\u001b[0;34m\u001b[0m\u001b[0m\n",
      "\u001b[0m\u001b[0;32m     69 \u001b[0;31m        \u001b[0mextra_verilator_args\u001b[0m \u001b[0;34m=\u001b[0m \u001b[0meval\u001b[0m\u001b[0;34m(\u001b[0m\u001b[0mextra_verilator_args\u001b[0m\u001b[0;34m)\u001b[0m\u001b[0;34m\u001b[0m\u001b[0;34m\u001b[0m\u001b[0m\n",
      "\u001b[0m\n"
     ]
    },
    {
     "name": "stdin",
     "output_type": "stream",
     "text": [
      "ipdb>  n\n"
     ]
    },
    {
     "name": "stdout",
     "output_type": "stream",
     "text": [
      "> \u001b[0;32m/scratch/mirzam/finn/src/finn/core/rtlsim_exec.py\u001b[0m(72)\u001b[0;36mrtlsim_exec\u001b[0;34m()\u001b[0m\n",
      "\u001b[0;32m     70 \u001b[0;31m\u001b[0;34m\u001b[0m\u001b[0m\n",
      "\u001b[0m\u001b[0;32m     71 \u001b[0;31m    \u001b[0;31m# extract i/o info to prepare io_dict\u001b[0m\u001b[0;34m\u001b[0m\u001b[0;34m\u001b[0m\u001b[0m\n",
      "\u001b[0m\u001b[0;32m---> 72 \u001b[0;31m    \u001b[0mio_dict\u001b[0m \u001b[0;34m=\u001b[0m \u001b[0;34m{\u001b[0m\u001b[0;34m\"inputs\"\u001b[0m\u001b[0;34m:\u001b[0m \u001b[0;34m{\u001b[0m\u001b[0;34m}\u001b[0m\u001b[0;34m,\u001b[0m \u001b[0;34m\"outputs\"\u001b[0m\u001b[0;34m:\u001b[0m \u001b[0;34m{\u001b[0m\u001b[0;34m}\u001b[0m\u001b[0;34m}\u001b[0m\u001b[0;34m\u001b[0m\u001b[0;34m\u001b[0m\u001b[0m\n",
      "\u001b[0m\u001b[0;32m     73 \u001b[0;31m    \u001b[0mif_dict\u001b[0m \u001b[0;34m=\u001b[0m \u001b[0meval\u001b[0m\u001b[0;34m(\u001b[0m\u001b[0mmodel\u001b[0m\u001b[0;34m.\u001b[0m\u001b[0mget_metadata_prop\u001b[0m\u001b[0;34m(\u001b[0m\u001b[0;34m\"vivado_stitch_ifnames\"\u001b[0m\u001b[0;34m)\u001b[0m\u001b[0;34m)\u001b[0m\u001b[0;34m\u001b[0m\u001b[0;34m\u001b[0m\u001b[0m\n",
      "\u001b[0m\u001b[0;32m     74 \u001b[0;31m    \u001b[0;31m# go over and prepare inputs\u001b[0m\u001b[0;34m\u001b[0m\u001b[0;34m\u001b[0m\u001b[0m\n",
      "\u001b[0m\n"
     ]
    },
    {
     "name": "stdin",
     "output_type": "stream",
     "text": [
      "ipdb>  n\n"
     ]
    },
    {
     "name": "stdout",
     "output_type": "stream",
     "text": [
      "> \u001b[0;32m/scratch/mirzam/finn/src/finn/core/rtlsim_exec.py\u001b[0m(73)\u001b[0;36mrtlsim_exec\u001b[0;34m()\u001b[0m\n",
      "\u001b[0;32m     71 \u001b[0;31m    \u001b[0;31m# extract i/o info to prepare io_dict\u001b[0m\u001b[0;34m\u001b[0m\u001b[0;34m\u001b[0m\u001b[0m\n",
      "\u001b[0m\u001b[0;32m     72 \u001b[0;31m    \u001b[0mio_dict\u001b[0m \u001b[0;34m=\u001b[0m \u001b[0;34m{\u001b[0m\u001b[0;34m\"inputs\"\u001b[0m\u001b[0;34m:\u001b[0m \u001b[0;34m{\u001b[0m\u001b[0;34m}\u001b[0m\u001b[0;34m,\u001b[0m \u001b[0;34m\"outputs\"\u001b[0m\u001b[0;34m:\u001b[0m \u001b[0;34m{\u001b[0m\u001b[0;34m}\u001b[0m\u001b[0;34m}\u001b[0m\u001b[0;34m\u001b[0m\u001b[0;34m\u001b[0m\u001b[0m\n",
      "\u001b[0m\u001b[0;32m---> 73 \u001b[0;31m    \u001b[0mif_dict\u001b[0m \u001b[0;34m=\u001b[0m \u001b[0meval\u001b[0m\u001b[0;34m(\u001b[0m\u001b[0mmodel\u001b[0m\u001b[0;34m.\u001b[0m\u001b[0mget_metadata_prop\u001b[0m\u001b[0;34m(\u001b[0m\u001b[0;34m\"vivado_stitch_ifnames\"\u001b[0m\u001b[0;34m)\u001b[0m\u001b[0;34m)\u001b[0m\u001b[0;34m\u001b[0m\u001b[0;34m\u001b[0m\u001b[0m\n",
      "\u001b[0m\u001b[0;32m     74 \u001b[0;31m    \u001b[0;31m# go over and prepare inputs\u001b[0m\u001b[0;34m\u001b[0m\u001b[0;34m\u001b[0m\u001b[0m\n",
      "\u001b[0m\u001b[0;32m     75 \u001b[0;31m    \u001b[0;32mfor\u001b[0m \u001b[0mi\u001b[0m\u001b[0;34m,\u001b[0m \u001b[0mi_vi\u001b[0m \u001b[0;32min\u001b[0m \u001b[0menumerate\u001b[0m\u001b[0;34m(\u001b[0m\u001b[0mmodel\u001b[0m\u001b[0;34m.\u001b[0m\u001b[0mgraph\u001b[0m\u001b[0;34m.\u001b[0m\u001b[0minput\u001b[0m\u001b[0;34m)\u001b[0m\u001b[0;34m:\u001b[0m\u001b[0;34m\u001b[0m\u001b[0;34m\u001b[0m\u001b[0m\n",
      "\u001b[0m\n"
     ]
    },
    {
     "name": "stdin",
     "output_type": "stream",
     "text": [
      "ipdb>  n\n"
     ]
    },
    {
     "name": "stdout",
     "output_type": "stream",
     "text": [
      "> \u001b[0;32m/scratch/mirzam/finn/src/finn/core/rtlsim_exec.py\u001b[0m(75)\u001b[0;36mrtlsim_exec\u001b[0;34m()\u001b[0m\n",
      "\u001b[0;32m     73 \u001b[0;31m    \u001b[0mif_dict\u001b[0m \u001b[0;34m=\u001b[0m \u001b[0meval\u001b[0m\u001b[0;34m(\u001b[0m\u001b[0mmodel\u001b[0m\u001b[0;34m.\u001b[0m\u001b[0mget_metadata_prop\u001b[0m\u001b[0;34m(\u001b[0m\u001b[0;34m\"vivado_stitch_ifnames\"\u001b[0m\u001b[0;34m)\u001b[0m\u001b[0;34m)\u001b[0m\u001b[0;34m\u001b[0m\u001b[0;34m\u001b[0m\u001b[0m\n",
      "\u001b[0m\u001b[0;32m     74 \u001b[0;31m    \u001b[0;31m# go over and prepare inputs\u001b[0m\u001b[0;34m\u001b[0m\u001b[0;34m\u001b[0m\u001b[0m\n",
      "\u001b[0m\u001b[0;32m---> 75 \u001b[0;31m    \u001b[0;32mfor\u001b[0m \u001b[0mi\u001b[0m\u001b[0;34m,\u001b[0m \u001b[0mi_vi\u001b[0m \u001b[0;32min\u001b[0m \u001b[0menumerate\u001b[0m\u001b[0;34m(\u001b[0m\u001b[0mmodel\u001b[0m\u001b[0;34m.\u001b[0m\u001b[0mgraph\u001b[0m\u001b[0;34m.\u001b[0m\u001b[0minput\u001b[0m\u001b[0;34m)\u001b[0m\u001b[0;34m:\u001b[0m\u001b[0;34m\u001b[0m\u001b[0;34m\u001b[0m\u001b[0m\n",
      "\u001b[0m\u001b[0;32m     76 \u001b[0;31m        \u001b[0mi_name\u001b[0m \u001b[0;34m=\u001b[0m \u001b[0mi_vi\u001b[0m\u001b[0;34m.\u001b[0m\u001b[0mname\u001b[0m\u001b[0;34m\u001b[0m\u001b[0;34m\u001b[0m\u001b[0m\n",
      "\u001b[0m\u001b[0;32m     77 \u001b[0;31m        \u001b[0mi_tensor\u001b[0m \u001b[0;34m=\u001b[0m \u001b[0mexecution_context\u001b[0m\u001b[0;34m[\u001b[0m\u001b[0mi_name\u001b[0m\u001b[0;34m]\u001b[0m\u001b[0;34m\u001b[0m\u001b[0;34m\u001b[0m\u001b[0m\n",
      "\u001b[0m\n"
     ]
    },
    {
     "name": "stdin",
     "output_type": "stream",
     "text": [
      "ipdb>  n\n"
     ]
    },
    {
     "name": "stdout",
     "output_type": "stream",
     "text": [
      "> \u001b[0;32m/scratch/mirzam/finn/src/finn/core/rtlsim_exec.py\u001b[0m(76)\u001b[0;36mrtlsim_exec\u001b[0;34m()\u001b[0m\n",
      "\u001b[0;32m     74 \u001b[0;31m    \u001b[0;31m# go over and prepare inputs\u001b[0m\u001b[0;34m\u001b[0m\u001b[0;34m\u001b[0m\u001b[0m\n",
      "\u001b[0m\u001b[0;32m     75 \u001b[0;31m    \u001b[0;32mfor\u001b[0m \u001b[0mi\u001b[0m\u001b[0;34m,\u001b[0m \u001b[0mi_vi\u001b[0m \u001b[0;32min\u001b[0m \u001b[0menumerate\u001b[0m\u001b[0;34m(\u001b[0m\u001b[0mmodel\u001b[0m\u001b[0;34m.\u001b[0m\u001b[0mgraph\u001b[0m\u001b[0;34m.\u001b[0m\u001b[0minput\u001b[0m\u001b[0;34m)\u001b[0m\u001b[0;34m:\u001b[0m\u001b[0;34m\u001b[0m\u001b[0;34m\u001b[0m\u001b[0m\n",
      "\u001b[0m\u001b[0;32m---> 76 \u001b[0;31m        \u001b[0mi_name\u001b[0m \u001b[0;34m=\u001b[0m \u001b[0mi_vi\u001b[0m\u001b[0;34m.\u001b[0m\u001b[0mname\u001b[0m\u001b[0;34m\u001b[0m\u001b[0;34m\u001b[0m\u001b[0m\n",
      "\u001b[0m\u001b[0;32m     77 \u001b[0;31m        \u001b[0mi_tensor\u001b[0m \u001b[0;34m=\u001b[0m \u001b[0mexecution_context\u001b[0m\u001b[0;34m[\u001b[0m\u001b[0mi_name\u001b[0m\u001b[0;34m]\u001b[0m\u001b[0;34m\u001b[0m\u001b[0;34m\u001b[0m\u001b[0m\n",
      "\u001b[0m\u001b[0;32m     78 \u001b[0;31m        \u001b[0mi_dt\u001b[0m \u001b[0;34m=\u001b[0m \u001b[0mmodel\u001b[0m\u001b[0;34m.\u001b[0m\u001b[0mget_tensor_datatype\u001b[0m\u001b[0;34m(\u001b[0m\u001b[0mi_name\u001b[0m\u001b[0;34m)\u001b[0m\u001b[0;34m\u001b[0m\u001b[0;34m\u001b[0m\u001b[0m\n",
      "\u001b[0m\n"
     ]
    },
    {
     "name": "stdin",
     "output_type": "stream",
     "text": [
      "ipdb>  n\n"
     ]
    },
    {
     "name": "stdout",
     "output_type": "stream",
     "text": [
      "> \u001b[0;32m/scratch/mirzam/finn/src/finn/core/rtlsim_exec.py\u001b[0m(77)\u001b[0;36mrtlsim_exec\u001b[0;34m()\u001b[0m\n",
      "\u001b[0;32m     75 \u001b[0;31m    \u001b[0;32mfor\u001b[0m \u001b[0mi\u001b[0m\u001b[0;34m,\u001b[0m \u001b[0mi_vi\u001b[0m \u001b[0;32min\u001b[0m \u001b[0menumerate\u001b[0m\u001b[0;34m(\u001b[0m\u001b[0mmodel\u001b[0m\u001b[0;34m.\u001b[0m\u001b[0mgraph\u001b[0m\u001b[0;34m.\u001b[0m\u001b[0minput\u001b[0m\u001b[0;34m)\u001b[0m\u001b[0;34m:\u001b[0m\u001b[0;34m\u001b[0m\u001b[0;34m\u001b[0m\u001b[0m\n",
      "\u001b[0m\u001b[0;32m     76 \u001b[0;31m        \u001b[0mi_name\u001b[0m \u001b[0;34m=\u001b[0m \u001b[0mi_vi\u001b[0m\u001b[0;34m.\u001b[0m\u001b[0mname\u001b[0m\u001b[0;34m\u001b[0m\u001b[0;34m\u001b[0m\u001b[0m\n",
      "\u001b[0m\u001b[0;32m---> 77 \u001b[0;31m        \u001b[0mi_tensor\u001b[0m \u001b[0;34m=\u001b[0m \u001b[0mexecution_context\u001b[0m\u001b[0;34m[\u001b[0m\u001b[0mi_name\u001b[0m\u001b[0;34m]\u001b[0m\u001b[0;34m\u001b[0m\u001b[0;34m\u001b[0m\u001b[0m\n",
      "\u001b[0m\u001b[0;32m     78 \u001b[0;31m        \u001b[0mi_dt\u001b[0m \u001b[0;34m=\u001b[0m \u001b[0mmodel\u001b[0m\u001b[0;34m.\u001b[0m\u001b[0mget_tensor_datatype\u001b[0m\u001b[0;34m(\u001b[0m\u001b[0mi_name\u001b[0m\u001b[0;34m)\u001b[0m\u001b[0;34m\u001b[0m\u001b[0;34m\u001b[0m\u001b[0m\n",
      "\u001b[0m\u001b[0;32m     79 \u001b[0;31m        \u001b[0mfirst_node_onnx\u001b[0m \u001b[0;34m=\u001b[0m \u001b[0mmodel\u001b[0m\u001b[0;34m.\u001b[0m\u001b[0mfind_consumer\u001b[0m\u001b[0;34m(\u001b[0m\u001b[0mi_name\u001b[0m\u001b[0;34m)\u001b[0m\u001b[0;34m\u001b[0m\u001b[0;34m\u001b[0m\u001b[0m\n",
      "\u001b[0m\n"
     ]
    },
    {
     "name": "stdin",
     "output_type": "stream",
     "text": [
      "ipdb>  n\n"
     ]
    },
    {
     "name": "stdout",
     "output_type": "stream",
     "text": [
      "> \u001b[0;32m/scratch/mirzam/finn/src/finn/core/rtlsim_exec.py\u001b[0m(78)\u001b[0;36mrtlsim_exec\u001b[0;34m()\u001b[0m\n",
      "\u001b[0;32m     76 \u001b[0;31m        \u001b[0mi_name\u001b[0m \u001b[0;34m=\u001b[0m \u001b[0mi_vi\u001b[0m\u001b[0;34m.\u001b[0m\u001b[0mname\u001b[0m\u001b[0;34m\u001b[0m\u001b[0;34m\u001b[0m\u001b[0m\n",
      "\u001b[0m\u001b[0;32m     77 \u001b[0;31m        \u001b[0mi_tensor\u001b[0m \u001b[0;34m=\u001b[0m \u001b[0mexecution_context\u001b[0m\u001b[0;34m[\u001b[0m\u001b[0mi_name\u001b[0m\u001b[0;34m]\u001b[0m\u001b[0;34m\u001b[0m\u001b[0;34m\u001b[0m\u001b[0m\n",
      "\u001b[0m\u001b[0;32m---> 78 \u001b[0;31m        \u001b[0mi_dt\u001b[0m \u001b[0;34m=\u001b[0m \u001b[0mmodel\u001b[0m\u001b[0;34m.\u001b[0m\u001b[0mget_tensor_datatype\u001b[0m\u001b[0;34m(\u001b[0m\u001b[0mi_name\u001b[0m\u001b[0;34m)\u001b[0m\u001b[0;34m\u001b[0m\u001b[0;34m\u001b[0m\u001b[0m\n",
      "\u001b[0m\u001b[0;32m     79 \u001b[0;31m        \u001b[0mfirst_node_onnx\u001b[0m \u001b[0;34m=\u001b[0m \u001b[0mmodel\u001b[0m\u001b[0;34m.\u001b[0m\u001b[0mfind_consumer\u001b[0m\u001b[0;34m(\u001b[0m\u001b[0mi_name\u001b[0m\u001b[0;34m)\u001b[0m\u001b[0;34m\u001b[0m\u001b[0;34m\u001b[0m\u001b[0m\n",
      "\u001b[0m\u001b[0;32m     80 \u001b[0;31m        \u001b[0mfirst_node\u001b[0m \u001b[0;34m=\u001b[0m \u001b[0mgetCustomOp\u001b[0m\u001b[0;34m(\u001b[0m\u001b[0mfirst_node_onnx\u001b[0m\u001b[0;34m)\u001b[0m\u001b[0;34m\u001b[0m\u001b[0;34m\u001b[0m\u001b[0m\n",
      "\u001b[0m\n"
     ]
    },
    {
     "name": "stdin",
     "output_type": "stream",
     "text": [
      "ipdb>  n\n"
     ]
    },
    {
     "name": "stdout",
     "output_type": "stream",
     "text": [
      "> \u001b[0;32m/scratch/mirzam/finn/src/finn/core/rtlsim_exec.py\u001b[0m(79)\u001b[0;36mrtlsim_exec\u001b[0;34m()\u001b[0m\n",
      "\u001b[0;32m     77 \u001b[0;31m        \u001b[0mi_tensor\u001b[0m \u001b[0;34m=\u001b[0m \u001b[0mexecution_context\u001b[0m\u001b[0;34m[\u001b[0m\u001b[0mi_name\u001b[0m\u001b[0;34m]\u001b[0m\u001b[0;34m\u001b[0m\u001b[0;34m\u001b[0m\u001b[0m\n",
      "\u001b[0m\u001b[0;32m     78 \u001b[0;31m        \u001b[0mi_dt\u001b[0m \u001b[0;34m=\u001b[0m \u001b[0mmodel\u001b[0m\u001b[0;34m.\u001b[0m\u001b[0mget_tensor_datatype\u001b[0m\u001b[0;34m(\u001b[0m\u001b[0mi_name\u001b[0m\u001b[0;34m)\u001b[0m\u001b[0;34m\u001b[0m\u001b[0;34m\u001b[0m\u001b[0m\n",
      "\u001b[0m\u001b[0;32m---> 79 \u001b[0;31m        \u001b[0mfirst_node_onnx\u001b[0m \u001b[0;34m=\u001b[0m \u001b[0mmodel\u001b[0m\u001b[0;34m.\u001b[0m\u001b[0mfind_consumer\u001b[0m\u001b[0;34m(\u001b[0m\u001b[0mi_name\u001b[0m\u001b[0;34m)\u001b[0m\u001b[0;34m\u001b[0m\u001b[0;34m\u001b[0m\u001b[0m\n",
      "\u001b[0m\u001b[0;32m     80 \u001b[0;31m        \u001b[0mfirst_node\u001b[0m \u001b[0;34m=\u001b[0m \u001b[0mgetCustomOp\u001b[0m\u001b[0;34m(\u001b[0m\u001b[0mfirst_node_onnx\u001b[0m\u001b[0;34m)\u001b[0m\u001b[0;34m\u001b[0m\u001b[0;34m\u001b[0m\u001b[0m\n",
      "\u001b[0m\u001b[0;32m     81 \u001b[0;31m        \u001b[0mnode_inp_ind\u001b[0m \u001b[0;34m=\u001b[0m \u001b[0mlist\u001b[0m\u001b[0;34m(\u001b[0m\u001b[0mfirst_node_onnx\u001b[0m\u001b[0;34m.\u001b[0m\u001b[0minput\u001b[0m\u001b[0;34m)\u001b[0m\u001b[0;34m.\u001b[0m\u001b[0mindex\u001b[0m\u001b[0;34m(\u001b[0m\u001b[0mi_name\u001b[0m\u001b[0;34m)\u001b[0m\u001b[0;34m\u001b[0m\u001b[0;34m\u001b[0m\u001b[0m\n",
      "\u001b[0m\n"
     ]
    },
    {
     "name": "stdin",
     "output_type": "stream",
     "text": [
      "ipdb>  n\n"
     ]
    },
    {
     "name": "stdout",
     "output_type": "stream",
     "text": [
      "> \u001b[0;32m/scratch/mirzam/finn/src/finn/core/rtlsim_exec.py\u001b[0m(80)\u001b[0;36mrtlsim_exec\u001b[0;34m()\u001b[0m\n",
      "\u001b[0;32m     78 \u001b[0;31m        \u001b[0mi_dt\u001b[0m \u001b[0;34m=\u001b[0m \u001b[0mmodel\u001b[0m\u001b[0;34m.\u001b[0m\u001b[0mget_tensor_datatype\u001b[0m\u001b[0;34m(\u001b[0m\u001b[0mi_name\u001b[0m\u001b[0;34m)\u001b[0m\u001b[0;34m\u001b[0m\u001b[0;34m\u001b[0m\u001b[0m\n",
      "\u001b[0m\u001b[0;32m     79 \u001b[0;31m        \u001b[0mfirst_node_onnx\u001b[0m \u001b[0;34m=\u001b[0m \u001b[0mmodel\u001b[0m\u001b[0;34m.\u001b[0m\u001b[0mfind_consumer\u001b[0m\u001b[0;34m(\u001b[0m\u001b[0mi_name\u001b[0m\u001b[0;34m)\u001b[0m\u001b[0;34m\u001b[0m\u001b[0;34m\u001b[0m\u001b[0m\n",
      "\u001b[0m\u001b[0;32m---> 80 \u001b[0;31m        \u001b[0mfirst_node\u001b[0m \u001b[0;34m=\u001b[0m \u001b[0mgetCustomOp\u001b[0m\u001b[0;34m(\u001b[0m\u001b[0mfirst_node_onnx\u001b[0m\u001b[0;34m)\u001b[0m\u001b[0;34m\u001b[0m\u001b[0;34m\u001b[0m\u001b[0m\n",
      "\u001b[0m\u001b[0;32m     81 \u001b[0;31m        \u001b[0mnode_inp_ind\u001b[0m \u001b[0;34m=\u001b[0m \u001b[0mlist\u001b[0m\u001b[0;34m(\u001b[0m\u001b[0mfirst_node_onnx\u001b[0m\u001b[0;34m.\u001b[0m\u001b[0minput\u001b[0m\u001b[0;34m)\u001b[0m\u001b[0;34m.\u001b[0m\u001b[0mindex\u001b[0m\u001b[0;34m(\u001b[0m\u001b[0mi_name\u001b[0m\u001b[0;34m)\u001b[0m\u001b[0;34m\u001b[0m\u001b[0;34m\u001b[0m\u001b[0m\n",
      "\u001b[0m\u001b[0;32m     82 \u001b[0;31m        \u001b[0;32mif\u001b[0m \u001b[0mnode_inp_ind\u001b[0m \u001b[0;34m==\u001b[0m \u001b[0;36m0\u001b[0m\u001b[0;34m:\u001b[0m\u001b[0;34m\u001b[0m\u001b[0;34m\u001b[0m\u001b[0m\n",
      "\u001b[0m\n"
     ]
    },
    {
     "name": "stdin",
     "output_type": "stream",
     "text": [
      "ipdb>  n\n"
     ]
    },
    {
     "name": "stdout",
     "output_type": "stream",
     "text": [
      "> \u001b[0;32m/scratch/mirzam/finn/src/finn/core/rtlsim_exec.py\u001b[0m(81)\u001b[0;36mrtlsim_exec\u001b[0;34m()\u001b[0m\n",
      "\u001b[0;32m     79 \u001b[0;31m        \u001b[0mfirst_node_onnx\u001b[0m \u001b[0;34m=\u001b[0m \u001b[0mmodel\u001b[0m\u001b[0;34m.\u001b[0m\u001b[0mfind_consumer\u001b[0m\u001b[0;34m(\u001b[0m\u001b[0mi_name\u001b[0m\u001b[0;34m)\u001b[0m\u001b[0;34m\u001b[0m\u001b[0;34m\u001b[0m\u001b[0m\n",
      "\u001b[0m\u001b[0;32m     80 \u001b[0;31m        \u001b[0mfirst_node\u001b[0m \u001b[0;34m=\u001b[0m \u001b[0mgetCustomOp\u001b[0m\u001b[0;34m(\u001b[0m\u001b[0mfirst_node_onnx\u001b[0m\u001b[0;34m)\u001b[0m\u001b[0;34m\u001b[0m\u001b[0;34m\u001b[0m\u001b[0m\n",
      "\u001b[0m\u001b[0;32m---> 81 \u001b[0;31m        \u001b[0mnode_inp_ind\u001b[0m \u001b[0;34m=\u001b[0m \u001b[0mlist\u001b[0m\u001b[0;34m(\u001b[0m\u001b[0mfirst_node_onnx\u001b[0m\u001b[0;34m.\u001b[0m\u001b[0minput\u001b[0m\u001b[0;34m)\u001b[0m\u001b[0;34m.\u001b[0m\u001b[0mindex\u001b[0m\u001b[0;34m(\u001b[0m\u001b[0mi_name\u001b[0m\u001b[0;34m)\u001b[0m\u001b[0;34m\u001b[0m\u001b[0;34m\u001b[0m\u001b[0m\n",
      "\u001b[0m\u001b[0;32m     82 \u001b[0;31m        \u001b[0;32mif\u001b[0m \u001b[0mnode_inp_ind\u001b[0m \u001b[0;34m==\u001b[0m \u001b[0;36m0\u001b[0m\u001b[0;34m:\u001b[0m\u001b[0;34m\u001b[0m\u001b[0;34m\u001b[0m\u001b[0m\n",
      "\u001b[0m\u001b[0;32m     83 \u001b[0;31m            \u001b[0;31m# default node input (input 0)\u001b[0m\u001b[0;34m\u001b[0m\u001b[0;34m\u001b[0m\u001b[0m\n",
      "\u001b[0m\n"
     ]
    },
    {
     "name": "stdin",
     "output_type": "stream",
     "text": [
      "ipdb>  n\n"
     ]
    },
    {
     "name": "stdout",
     "output_type": "stream",
     "text": [
      "> \u001b[0;32m/scratch/mirzam/finn/src/finn/core/rtlsim_exec.py\u001b[0m(82)\u001b[0;36mrtlsim_exec\u001b[0;34m()\u001b[0m\n",
      "\u001b[0;32m     80 \u001b[0;31m        \u001b[0mfirst_node\u001b[0m \u001b[0;34m=\u001b[0m \u001b[0mgetCustomOp\u001b[0m\u001b[0;34m(\u001b[0m\u001b[0mfirst_node_onnx\u001b[0m\u001b[0;34m)\u001b[0m\u001b[0;34m\u001b[0m\u001b[0;34m\u001b[0m\u001b[0m\n",
      "\u001b[0m\u001b[0;32m     81 \u001b[0;31m        \u001b[0mnode_inp_ind\u001b[0m \u001b[0;34m=\u001b[0m \u001b[0mlist\u001b[0m\u001b[0;34m(\u001b[0m\u001b[0mfirst_node_onnx\u001b[0m\u001b[0;34m.\u001b[0m\u001b[0minput\u001b[0m\u001b[0;34m)\u001b[0m\u001b[0;34m.\u001b[0m\u001b[0mindex\u001b[0m\u001b[0;34m(\u001b[0m\u001b[0mi_name\u001b[0m\u001b[0;34m)\u001b[0m\u001b[0;34m\u001b[0m\u001b[0;34m\u001b[0m\u001b[0m\n",
      "\u001b[0m\u001b[0;32m---> 82 \u001b[0;31m        \u001b[0;32mif\u001b[0m \u001b[0mnode_inp_ind\u001b[0m \u001b[0;34m==\u001b[0m \u001b[0;36m0\u001b[0m\u001b[0;34m:\u001b[0m\u001b[0;34m\u001b[0m\u001b[0;34m\u001b[0m\u001b[0m\n",
      "\u001b[0m\u001b[0;32m     83 \u001b[0;31m            \u001b[0;31m# default node input (input 0)\u001b[0m\u001b[0;34m\u001b[0m\u001b[0;34m\u001b[0m\u001b[0m\n",
      "\u001b[0m\u001b[0;32m     84 \u001b[0;31m            \u001b[0mi_stream_w\u001b[0m \u001b[0;34m=\u001b[0m \u001b[0mfirst_node\u001b[0m\u001b[0;34m.\u001b[0m\u001b[0mget_instream_width\u001b[0m\u001b[0;34m(\u001b[0m\u001b[0;34m)\u001b[0m\u001b[0;34m\u001b[0m\u001b[0;34m\u001b[0m\u001b[0m\n",
      "\u001b[0m\n"
     ]
    },
    {
     "name": "stdin",
     "output_type": "stream",
     "text": [
      "ipdb>  n\n"
     ]
    },
    {
     "name": "stdout",
     "output_type": "stream",
     "text": [
      "> \u001b[0;32m/scratch/mirzam/finn/src/finn/core/rtlsim_exec.py\u001b[0m(84)\u001b[0;36mrtlsim_exec\u001b[0;34m()\u001b[0m\n",
      "\u001b[0;32m     82 \u001b[0;31m        \u001b[0;32mif\u001b[0m \u001b[0mnode_inp_ind\u001b[0m \u001b[0;34m==\u001b[0m \u001b[0;36m0\u001b[0m\u001b[0;34m:\u001b[0m\u001b[0;34m\u001b[0m\u001b[0;34m\u001b[0m\u001b[0m\n",
      "\u001b[0m\u001b[0;32m     83 \u001b[0;31m            \u001b[0;31m# default node input (input 0)\u001b[0m\u001b[0;34m\u001b[0m\u001b[0;34m\u001b[0m\u001b[0m\n",
      "\u001b[0m\u001b[0;32m---> 84 \u001b[0;31m            \u001b[0mi_stream_w\u001b[0m \u001b[0;34m=\u001b[0m \u001b[0mfirst_node\u001b[0m\u001b[0;34m.\u001b[0m\u001b[0mget_instream_width\u001b[0m\u001b[0;34m(\u001b[0m\u001b[0;34m)\u001b[0m\u001b[0;34m\u001b[0m\u001b[0;34m\u001b[0m\u001b[0m\n",
      "\u001b[0m\u001b[0;32m     85 \u001b[0;31m            \u001b[0mi_folded_shape\u001b[0m \u001b[0;34m=\u001b[0m \u001b[0mfirst_node\u001b[0m\u001b[0;34m.\u001b[0m\u001b[0mget_folded_input_shape\u001b[0m\u001b[0;34m(\u001b[0m\u001b[0;34m)\u001b[0m\u001b[0;34m\u001b[0m\u001b[0;34m\u001b[0m\u001b[0m\n",
      "\u001b[0m\u001b[0;32m     86 \u001b[0;31m        \u001b[0;32melse\u001b[0m\u001b[0;34m:\u001b[0m\u001b[0;34m\u001b[0m\u001b[0;34m\u001b[0m\u001b[0m\n",
      "\u001b[0m\n"
     ]
    },
    {
     "name": "stdin",
     "output_type": "stream",
     "text": [
      "ipdb>  n\n"
     ]
    },
    {
     "name": "stdout",
     "output_type": "stream",
     "text": [
      "> \u001b[0;32m/scratch/mirzam/finn/src/finn/core/rtlsim_exec.py\u001b[0m(85)\u001b[0;36mrtlsim_exec\u001b[0;34m()\u001b[0m\n",
      "\u001b[0;32m     83 \u001b[0;31m            \u001b[0;31m# default node input (input 0)\u001b[0m\u001b[0;34m\u001b[0m\u001b[0;34m\u001b[0m\u001b[0m\n",
      "\u001b[0m\u001b[0;32m     84 \u001b[0;31m            \u001b[0mi_stream_w\u001b[0m \u001b[0;34m=\u001b[0m \u001b[0mfirst_node\u001b[0m\u001b[0;34m.\u001b[0m\u001b[0mget_instream_width\u001b[0m\u001b[0;34m(\u001b[0m\u001b[0;34m)\u001b[0m\u001b[0;34m\u001b[0m\u001b[0;34m\u001b[0m\u001b[0m\n",
      "\u001b[0m\u001b[0;32m---> 85 \u001b[0;31m            \u001b[0mi_folded_shape\u001b[0m \u001b[0;34m=\u001b[0m \u001b[0mfirst_node\u001b[0m\u001b[0;34m.\u001b[0m\u001b[0mget_folded_input_shape\u001b[0m\u001b[0;34m(\u001b[0m\u001b[0;34m)\u001b[0m\u001b[0;34m\u001b[0m\u001b[0;34m\u001b[0m\u001b[0m\n",
      "\u001b[0m\u001b[0;32m     86 \u001b[0;31m        \u001b[0;32melse\u001b[0m\u001b[0;34m:\u001b[0m\u001b[0;34m\u001b[0m\u001b[0;34m\u001b[0m\u001b[0m\n",
      "\u001b[0m\u001b[0;32m     87 \u001b[0;31m            \u001b[0;31m# not input 0; node must support specifying inp index\u001b[0m\u001b[0;34m\u001b[0m\u001b[0;34m\u001b[0m\u001b[0m\n",
      "\u001b[0m\n"
     ]
    },
    {
     "name": "stdin",
     "output_type": "stream",
     "text": [
      "ipdb>  n\n"
     ]
    },
    {
     "name": "stdout",
     "output_type": "stream",
     "text": [
      "> \u001b[0;32m/scratch/mirzam/finn/src/finn/core/rtlsim_exec.py\u001b[0m(91)\u001b[0;36mrtlsim_exec\u001b[0;34m()\u001b[0m\n",
      "\u001b[0;32m     89 \u001b[0;31m            \u001b[0mi_stream_w\u001b[0m \u001b[0;34m=\u001b[0m \u001b[0mfirst_node\u001b[0m\u001b[0;34m.\u001b[0m\u001b[0mget_instream_width\u001b[0m\u001b[0;34m(\u001b[0m\u001b[0mnode_inp_ind\u001b[0m\u001b[0;34m)\u001b[0m\u001b[0;34m\u001b[0m\u001b[0;34m\u001b[0m\u001b[0m\n",
      "\u001b[0m\u001b[0;32m     90 \u001b[0;31m            \u001b[0mi_folded_shape\u001b[0m \u001b[0;34m=\u001b[0m \u001b[0mfirst_node\u001b[0m\u001b[0;34m.\u001b[0m\u001b[0mget_folded_input_shape\u001b[0m\u001b[0;34m(\u001b[0m\u001b[0mnode_inp_ind\u001b[0m\u001b[0;34m)\u001b[0m\u001b[0;34m\u001b[0m\u001b[0;34m\u001b[0m\u001b[0m\n",
      "\u001b[0m\u001b[0;32m---> 91 \u001b[0;31m        \u001b[0mbatchsize\u001b[0m \u001b[0;34m=\u001b[0m \u001b[0mi_tensor\u001b[0m\u001b[0;34m.\u001b[0m\u001b[0mshape\u001b[0m\u001b[0;34m[\u001b[0m\u001b[0;36m0\u001b[0m\u001b[0;34m]\u001b[0m\u001b[0;34m\u001b[0m\u001b[0;34m\u001b[0m\u001b[0m\n",
      "\u001b[0m\u001b[0;32m     92 \u001b[0;31m        \u001b[0;31m# override batch size for input\u001b[0m\u001b[0;34m\u001b[0m\u001b[0;34m\u001b[0m\u001b[0m\n",
      "\u001b[0m\u001b[0;32m     93 \u001b[0;31m        \u001b[0mi_folded_shape\u001b[0m \u001b[0;34m=\u001b[0m \u001b[0mlist\u001b[0m\u001b[0;34m(\u001b[0m\u001b[0mi_folded_shape\u001b[0m\u001b[0;34m)\u001b[0m\u001b[0;34m\u001b[0m\u001b[0;34m\u001b[0m\u001b[0m\n",
      "\u001b[0m\n"
     ]
    },
    {
     "name": "stdin",
     "output_type": "stream",
     "text": [
      "ipdb>  n\n"
     ]
    },
    {
     "name": "stdout",
     "output_type": "stream",
     "text": [
      "> \u001b[0;32m/scratch/mirzam/finn/src/finn/core/rtlsim_exec.py\u001b[0m(93)\u001b[0;36mrtlsim_exec\u001b[0;34m()\u001b[0m\n",
      "\u001b[0;32m     91 \u001b[0;31m        \u001b[0mbatchsize\u001b[0m \u001b[0;34m=\u001b[0m \u001b[0mi_tensor\u001b[0m\u001b[0;34m.\u001b[0m\u001b[0mshape\u001b[0m\u001b[0;34m[\u001b[0m\u001b[0;36m0\u001b[0m\u001b[0;34m]\u001b[0m\u001b[0;34m\u001b[0m\u001b[0;34m\u001b[0m\u001b[0m\n",
      "\u001b[0m\u001b[0;32m     92 \u001b[0;31m        \u001b[0;31m# override batch size for input\u001b[0m\u001b[0;34m\u001b[0m\u001b[0;34m\u001b[0m\u001b[0m\n",
      "\u001b[0m\u001b[0;32m---> 93 \u001b[0;31m        \u001b[0mi_folded_shape\u001b[0m \u001b[0;34m=\u001b[0m \u001b[0mlist\u001b[0m\u001b[0;34m(\u001b[0m\u001b[0mi_folded_shape\u001b[0m\u001b[0;34m)\u001b[0m\u001b[0;34m\u001b[0m\u001b[0;34m\u001b[0m\u001b[0m\n",
      "\u001b[0m\u001b[0;32m     94 \u001b[0;31m        \u001b[0mi_folded_shape\u001b[0m\u001b[0;34m[\u001b[0m\u001b[0;36m0\u001b[0m\u001b[0;34m]\u001b[0m \u001b[0;34m=\u001b[0m \u001b[0mbatchsize\u001b[0m\u001b[0;34m\u001b[0m\u001b[0;34m\u001b[0m\u001b[0m\n",
      "\u001b[0m\u001b[0;32m     95 \u001b[0;31m        \u001b[0mi_folded_shape\u001b[0m \u001b[0;34m=\u001b[0m \u001b[0mtuple\u001b[0m\u001b[0;34m(\u001b[0m\u001b[0mi_folded_shape\u001b[0m\u001b[0;34m)\u001b[0m\u001b[0;34m\u001b[0m\u001b[0;34m\u001b[0m\u001b[0m\n",
      "\u001b[0m\n"
     ]
    },
    {
     "name": "stdin",
     "output_type": "stream",
     "text": [
      "ipdb>  n\n"
     ]
    },
    {
     "name": "stdout",
     "output_type": "stream",
     "text": [
      "> \u001b[0;32m/scratch/mirzam/finn/src/finn/core/rtlsim_exec.py\u001b[0m(94)\u001b[0;36mrtlsim_exec\u001b[0;34m()\u001b[0m\n",
      "\u001b[0;32m     92 \u001b[0;31m        \u001b[0;31m# override batch size for input\u001b[0m\u001b[0;34m\u001b[0m\u001b[0;34m\u001b[0m\u001b[0m\n",
      "\u001b[0m\u001b[0;32m     93 \u001b[0;31m        \u001b[0mi_folded_shape\u001b[0m \u001b[0;34m=\u001b[0m \u001b[0mlist\u001b[0m\u001b[0;34m(\u001b[0m\u001b[0mi_folded_shape\u001b[0m\u001b[0;34m)\u001b[0m\u001b[0;34m\u001b[0m\u001b[0;34m\u001b[0m\u001b[0m\n",
      "\u001b[0m\u001b[0;32m---> 94 \u001b[0;31m        \u001b[0mi_folded_shape\u001b[0m\u001b[0;34m[\u001b[0m\u001b[0;36m0\u001b[0m\u001b[0;34m]\u001b[0m \u001b[0;34m=\u001b[0m \u001b[0mbatchsize\u001b[0m\u001b[0;34m\u001b[0m\u001b[0;34m\u001b[0m\u001b[0m\n",
      "\u001b[0m\u001b[0;32m     95 \u001b[0;31m        \u001b[0mi_folded_shape\u001b[0m \u001b[0;34m=\u001b[0m \u001b[0mtuple\u001b[0m\u001b[0;34m(\u001b[0m\u001b[0mi_folded_shape\u001b[0m\u001b[0;34m)\u001b[0m\u001b[0;34m\u001b[0m\u001b[0;34m\u001b[0m\u001b[0m\n",
      "\u001b[0m\u001b[0;32m     96 \u001b[0;31m        \u001b[0;31m# TODO any other layout transformations need to happen here!\u001b[0m\u001b[0;34m\u001b[0m\u001b[0;34m\u001b[0m\u001b[0m\n",
      "\u001b[0m\n"
     ]
    },
    {
     "name": "stdin",
     "output_type": "stream",
     "text": [
      "ipdb>  n\n"
     ]
    },
    {
     "name": "stdout",
     "output_type": "stream",
     "text": [
      "> \u001b[0;32m/scratch/mirzam/finn/src/finn/core/rtlsim_exec.py\u001b[0m(95)\u001b[0;36mrtlsim_exec\u001b[0;34m()\u001b[0m\n",
      "\u001b[0;32m     93 \u001b[0;31m        \u001b[0mi_folded_shape\u001b[0m \u001b[0;34m=\u001b[0m \u001b[0mlist\u001b[0m\u001b[0;34m(\u001b[0m\u001b[0mi_folded_shape\u001b[0m\u001b[0;34m)\u001b[0m\u001b[0;34m\u001b[0m\u001b[0;34m\u001b[0m\u001b[0m\n",
      "\u001b[0m\u001b[0;32m     94 \u001b[0;31m        \u001b[0mi_folded_shape\u001b[0m\u001b[0;34m[\u001b[0m\u001b[0;36m0\u001b[0m\u001b[0;34m]\u001b[0m \u001b[0;34m=\u001b[0m \u001b[0mbatchsize\u001b[0m\u001b[0;34m\u001b[0m\u001b[0;34m\u001b[0m\u001b[0m\n",
      "\u001b[0m\u001b[0;32m---> 95 \u001b[0;31m        \u001b[0mi_folded_shape\u001b[0m \u001b[0;34m=\u001b[0m \u001b[0mtuple\u001b[0m\u001b[0;34m(\u001b[0m\u001b[0mi_folded_shape\u001b[0m\u001b[0;34m)\u001b[0m\u001b[0;34m\u001b[0m\u001b[0;34m\u001b[0m\u001b[0m\n",
      "\u001b[0m\u001b[0;32m     96 \u001b[0;31m        \u001b[0;31m# TODO any other layout transformations need to happen here!\u001b[0m\u001b[0;34m\u001b[0m\u001b[0;34m\u001b[0m\u001b[0m\n",
      "\u001b[0m\u001b[0;32m     97 \u001b[0;31m        \u001b[0mi_tensor\u001b[0m \u001b[0;34m=\u001b[0m \u001b[0mi_tensor\u001b[0m\u001b[0;34m.\u001b[0m\u001b[0mreshape\u001b[0m\u001b[0;34m(\u001b[0m\u001b[0mi_folded_shape\u001b[0m\u001b[0;34m)\u001b[0m\u001b[0;34m\u001b[0m\u001b[0;34m\u001b[0m\u001b[0m\n",
      "\u001b[0m\n"
     ]
    },
    {
     "name": "stdin",
     "output_type": "stream",
     "text": [
      "ipdb>  n\n"
     ]
    },
    {
     "name": "stdout",
     "output_type": "stream",
     "text": [
      "> \u001b[0;32m/scratch/mirzam/finn/src/finn/core/rtlsim_exec.py\u001b[0m(97)\u001b[0;36mrtlsim_exec\u001b[0;34m()\u001b[0m\n",
      "\u001b[0;32m     95 \u001b[0;31m        \u001b[0mi_folded_shape\u001b[0m \u001b[0;34m=\u001b[0m \u001b[0mtuple\u001b[0m\u001b[0;34m(\u001b[0m\u001b[0mi_folded_shape\u001b[0m\u001b[0;34m)\u001b[0m\u001b[0;34m\u001b[0m\u001b[0;34m\u001b[0m\u001b[0m\n",
      "\u001b[0m\u001b[0;32m     96 \u001b[0;31m        \u001b[0;31m# TODO any other layout transformations need to happen here!\u001b[0m\u001b[0;34m\u001b[0m\u001b[0;34m\u001b[0m\u001b[0m\n",
      "\u001b[0m\u001b[0;32m---> 97 \u001b[0;31m        \u001b[0mi_tensor\u001b[0m \u001b[0;34m=\u001b[0m \u001b[0mi_tensor\u001b[0m\u001b[0;34m.\u001b[0m\u001b[0mreshape\u001b[0m\u001b[0;34m(\u001b[0m\u001b[0mi_folded_shape\u001b[0m\u001b[0;34m)\u001b[0m\u001b[0;34m\u001b[0m\u001b[0;34m\u001b[0m\u001b[0m\n",
      "\u001b[0m\u001b[0;32m     98 \u001b[0;31m        \u001b[0;31m# pack input for rtlsim\u001b[0m\u001b[0;34m\u001b[0m\u001b[0;34m\u001b[0m\u001b[0m\n",
      "\u001b[0m\u001b[0;32m     99 \u001b[0;31m        \u001b[0mpacked_input\u001b[0m \u001b[0;34m=\u001b[0m \u001b[0mnpy_to_rtlsim_input\u001b[0m\u001b[0;34m(\u001b[0m\u001b[0mi_tensor\u001b[0m\u001b[0;34m,\u001b[0m \u001b[0mi_dt\u001b[0m\u001b[0;34m,\u001b[0m \u001b[0mi_stream_w\u001b[0m\u001b[0;34m)\u001b[0m\u001b[0;34m\u001b[0m\u001b[0;34m\u001b[0m\u001b[0m\n",
      "\u001b[0m\n"
     ]
    },
    {
     "name": "stdin",
     "output_type": "stream",
     "text": [
      "ipdb>  n\n"
     ]
    },
    {
     "name": "stdout",
     "output_type": "stream",
     "text": [
      "> \u001b[0;32m/scratch/mirzam/finn/src/finn/core/rtlsim_exec.py\u001b[0m(99)\u001b[0;36mrtlsim_exec\u001b[0;34m()\u001b[0m\n",
      "\u001b[0;32m     97 \u001b[0;31m        \u001b[0mi_tensor\u001b[0m \u001b[0;34m=\u001b[0m \u001b[0mi_tensor\u001b[0m\u001b[0;34m.\u001b[0m\u001b[0mreshape\u001b[0m\u001b[0;34m(\u001b[0m\u001b[0mi_folded_shape\u001b[0m\u001b[0;34m)\u001b[0m\u001b[0;34m\u001b[0m\u001b[0;34m\u001b[0m\u001b[0m\n",
      "\u001b[0m\u001b[0;32m     98 \u001b[0;31m        \u001b[0;31m# pack input for rtlsim\u001b[0m\u001b[0;34m\u001b[0m\u001b[0;34m\u001b[0m\u001b[0m\n",
      "\u001b[0m\u001b[0;32m---> 99 \u001b[0;31m        \u001b[0mpacked_input\u001b[0m \u001b[0;34m=\u001b[0m \u001b[0mnpy_to_rtlsim_input\u001b[0m\u001b[0;34m(\u001b[0m\u001b[0mi_tensor\u001b[0m\u001b[0;34m,\u001b[0m \u001b[0mi_dt\u001b[0m\u001b[0;34m,\u001b[0m \u001b[0mi_stream_w\u001b[0m\u001b[0;34m)\u001b[0m\u001b[0;34m\u001b[0m\u001b[0;34m\u001b[0m\u001b[0m\n",
      "\u001b[0m\u001b[0;32m    100 \u001b[0;31m        \u001b[0;31m# add to io_dict\u001b[0m\u001b[0;34m\u001b[0m\u001b[0;34m\u001b[0m\u001b[0m\n",
      "\u001b[0m\u001b[0;32m    101 \u001b[0;31m        \u001b[0mif_name\u001b[0m \u001b[0;34m=\u001b[0m \u001b[0mif_dict\u001b[0m\u001b[0;34m[\u001b[0m\u001b[0;34m\"s_axis\"\u001b[0m\u001b[0;34m]\u001b[0m\u001b[0;34m[\u001b[0m\u001b[0mi\u001b[0m\u001b[0;34m]\u001b[0m\u001b[0;34m[\u001b[0m\u001b[0;36m0\u001b[0m\u001b[0;34m]\u001b[0m\u001b[0;34m\u001b[0m\u001b[0;34m\u001b[0m\u001b[0m\n",
      "\u001b[0m\n"
     ]
    },
    {
     "name": "stdin",
     "output_type": "stream",
     "text": [
      "ipdb>  n\n"
     ]
    },
    {
     "name": "stdout",
     "output_type": "stream",
     "text": [
      "> \u001b[0;32m/scratch/mirzam/finn/src/finn/core/rtlsim_exec.py\u001b[0m(101)\u001b[0;36mrtlsim_exec\u001b[0;34m()\u001b[0m\n",
      "\u001b[0;32m     99 \u001b[0;31m        \u001b[0mpacked_input\u001b[0m \u001b[0;34m=\u001b[0m \u001b[0mnpy_to_rtlsim_input\u001b[0m\u001b[0;34m(\u001b[0m\u001b[0mi_tensor\u001b[0m\u001b[0;34m,\u001b[0m \u001b[0mi_dt\u001b[0m\u001b[0;34m,\u001b[0m \u001b[0mi_stream_w\u001b[0m\u001b[0;34m)\u001b[0m\u001b[0;34m\u001b[0m\u001b[0;34m\u001b[0m\u001b[0m\n",
      "\u001b[0m\u001b[0;32m    100 \u001b[0;31m        \u001b[0;31m# add to io_dict\u001b[0m\u001b[0;34m\u001b[0m\u001b[0;34m\u001b[0m\u001b[0m\n",
      "\u001b[0m\u001b[0;32m--> 101 \u001b[0;31m        \u001b[0mif_name\u001b[0m \u001b[0;34m=\u001b[0m \u001b[0mif_dict\u001b[0m\u001b[0;34m[\u001b[0m\u001b[0;34m\"s_axis\"\u001b[0m\u001b[0;34m]\u001b[0m\u001b[0;34m[\u001b[0m\u001b[0mi\u001b[0m\u001b[0;34m]\u001b[0m\u001b[0;34m[\u001b[0m\u001b[0;36m0\u001b[0m\u001b[0;34m]\u001b[0m\u001b[0;34m\u001b[0m\u001b[0;34m\u001b[0m\u001b[0m\n",
      "\u001b[0m\u001b[0;32m    102 \u001b[0;31m        \u001b[0mio_dict\u001b[0m\u001b[0;34m[\u001b[0m\u001b[0;34m\"inputs\"\u001b[0m\u001b[0;34m]\u001b[0m\u001b[0;34m[\u001b[0m\u001b[0mif_name\u001b[0m\u001b[0;34m]\u001b[0m \u001b[0;34m=\u001b[0m \u001b[0mpacked_input\u001b[0m\u001b[0;34m\u001b[0m\u001b[0;34m\u001b[0m\u001b[0m\n",
      "\u001b[0m\u001b[0;32m    103 \u001b[0;31m    \u001b[0;31m# go over outputs to determine how many values will be produced\u001b[0m\u001b[0;34m\u001b[0m\u001b[0;34m\u001b[0m\u001b[0m\n",
      "\u001b[0m\n"
     ]
    },
    {
     "name": "stdin",
     "output_type": "stream",
     "text": [
      "ipdb>  n\n"
     ]
    },
    {
     "name": "stdout",
     "output_type": "stream",
     "text": [
      "> \u001b[0;32m/scratch/mirzam/finn/src/finn/core/rtlsim_exec.py\u001b[0m(102)\u001b[0;36mrtlsim_exec\u001b[0;34m()\u001b[0m\n",
      "\u001b[0;32m    100 \u001b[0;31m        \u001b[0;31m# add to io_dict\u001b[0m\u001b[0;34m\u001b[0m\u001b[0;34m\u001b[0m\u001b[0m\n",
      "\u001b[0m\u001b[0;32m    101 \u001b[0;31m        \u001b[0mif_name\u001b[0m \u001b[0;34m=\u001b[0m \u001b[0mif_dict\u001b[0m\u001b[0;34m[\u001b[0m\u001b[0;34m\"s_axis\"\u001b[0m\u001b[0;34m]\u001b[0m\u001b[0;34m[\u001b[0m\u001b[0mi\u001b[0m\u001b[0;34m]\u001b[0m\u001b[0;34m[\u001b[0m\u001b[0;36m0\u001b[0m\u001b[0;34m]\u001b[0m\u001b[0;34m\u001b[0m\u001b[0;34m\u001b[0m\u001b[0m\n",
      "\u001b[0m\u001b[0;32m--> 102 \u001b[0;31m        \u001b[0mio_dict\u001b[0m\u001b[0;34m[\u001b[0m\u001b[0;34m\"inputs\"\u001b[0m\u001b[0;34m]\u001b[0m\u001b[0;34m[\u001b[0m\u001b[0mif_name\u001b[0m\u001b[0;34m]\u001b[0m \u001b[0;34m=\u001b[0m \u001b[0mpacked_input\u001b[0m\u001b[0;34m\u001b[0m\u001b[0;34m\u001b[0m\u001b[0m\n",
      "\u001b[0m\u001b[0;32m    103 \u001b[0;31m    \u001b[0;31m# go over outputs to determine how many values will be produced\u001b[0m\u001b[0;34m\u001b[0m\u001b[0;34m\u001b[0m\u001b[0m\n",
      "\u001b[0m\u001b[0;32m    104 \u001b[0;31m    \u001b[0mnum_out_values\u001b[0m \u001b[0;34m=\u001b[0m \u001b[0;36m0\u001b[0m\u001b[0;34m\u001b[0m\u001b[0;34m\u001b[0m\u001b[0m\n",
      "\u001b[0m\n"
     ]
    },
    {
     "name": "stdin",
     "output_type": "stream",
     "text": [
      "ipdb>  n\n"
     ]
    },
    {
     "name": "stdout",
     "output_type": "stream",
     "text": [
      "> \u001b[0;32m/scratch/mirzam/finn/src/finn/core/rtlsim_exec.py\u001b[0m(75)\u001b[0;36mrtlsim_exec\u001b[0;34m()\u001b[0m\n",
      "\u001b[0;32m     73 \u001b[0;31m    \u001b[0mif_dict\u001b[0m \u001b[0;34m=\u001b[0m \u001b[0meval\u001b[0m\u001b[0;34m(\u001b[0m\u001b[0mmodel\u001b[0m\u001b[0;34m.\u001b[0m\u001b[0mget_metadata_prop\u001b[0m\u001b[0;34m(\u001b[0m\u001b[0;34m\"vivado_stitch_ifnames\"\u001b[0m\u001b[0;34m)\u001b[0m\u001b[0;34m)\u001b[0m\u001b[0;34m\u001b[0m\u001b[0;34m\u001b[0m\u001b[0m\n",
      "\u001b[0m\u001b[0;32m     74 \u001b[0;31m    \u001b[0;31m# go over and prepare inputs\u001b[0m\u001b[0;34m\u001b[0m\u001b[0;34m\u001b[0m\u001b[0m\n",
      "\u001b[0m\u001b[0;32m---> 75 \u001b[0;31m    \u001b[0;32mfor\u001b[0m \u001b[0mi\u001b[0m\u001b[0;34m,\u001b[0m \u001b[0mi_vi\u001b[0m \u001b[0;32min\u001b[0m \u001b[0menumerate\u001b[0m\u001b[0;34m(\u001b[0m\u001b[0mmodel\u001b[0m\u001b[0;34m.\u001b[0m\u001b[0mgraph\u001b[0m\u001b[0;34m.\u001b[0m\u001b[0minput\u001b[0m\u001b[0;34m)\u001b[0m\u001b[0;34m:\u001b[0m\u001b[0;34m\u001b[0m\u001b[0;34m\u001b[0m\u001b[0m\n",
      "\u001b[0m\u001b[0;32m     76 \u001b[0;31m        \u001b[0mi_name\u001b[0m \u001b[0;34m=\u001b[0m \u001b[0mi_vi\u001b[0m\u001b[0;34m.\u001b[0m\u001b[0mname\u001b[0m\u001b[0;34m\u001b[0m\u001b[0;34m\u001b[0m\u001b[0m\n",
      "\u001b[0m\u001b[0;32m     77 \u001b[0;31m        \u001b[0mi_tensor\u001b[0m \u001b[0;34m=\u001b[0m \u001b[0mexecution_context\u001b[0m\u001b[0;34m[\u001b[0m\u001b[0mi_name\u001b[0m\u001b[0;34m]\u001b[0m\u001b[0;34m\u001b[0m\u001b[0;34m\u001b[0m\u001b[0m\n",
      "\u001b[0m\n"
     ]
    },
    {
     "name": "stdin",
     "output_type": "stream",
     "text": [
      "ipdb>  n\n"
     ]
    },
    {
     "name": "stdout",
     "output_type": "stream",
     "text": [
      "> \u001b[0;32m/scratch/mirzam/finn/src/finn/core/rtlsim_exec.py\u001b[0m(104)\u001b[0;36mrtlsim_exec\u001b[0;34m()\u001b[0m\n",
      "\u001b[0;32m    102 \u001b[0;31m        \u001b[0mio_dict\u001b[0m\u001b[0;34m[\u001b[0m\u001b[0;34m\"inputs\"\u001b[0m\u001b[0;34m]\u001b[0m\u001b[0;34m[\u001b[0m\u001b[0mif_name\u001b[0m\u001b[0;34m]\u001b[0m \u001b[0;34m=\u001b[0m \u001b[0mpacked_input\u001b[0m\u001b[0;34m\u001b[0m\u001b[0;34m\u001b[0m\u001b[0m\n",
      "\u001b[0m\u001b[0;32m    103 \u001b[0;31m    \u001b[0;31m# go over outputs to determine how many values will be produced\u001b[0m\u001b[0;34m\u001b[0m\u001b[0;34m\u001b[0m\u001b[0m\n",
      "\u001b[0m\u001b[0;32m--> 104 \u001b[0;31m    \u001b[0mnum_out_values\u001b[0m \u001b[0;34m=\u001b[0m \u001b[0;36m0\u001b[0m\u001b[0;34m\u001b[0m\u001b[0;34m\u001b[0m\u001b[0m\n",
      "\u001b[0m\u001b[0;32m    105 \u001b[0;31m    \u001b[0mo_tensor_info\u001b[0m \u001b[0;34m=\u001b[0m \u001b[0;34m[\u001b[0m\u001b[0;34m]\u001b[0m\u001b[0;34m\u001b[0m\u001b[0;34m\u001b[0m\u001b[0m\n",
      "\u001b[0m\u001b[0;32m    106 \u001b[0;31m    \u001b[0;32mfor\u001b[0m \u001b[0mo\u001b[0m\u001b[0;34m,\u001b[0m \u001b[0mo_vi\u001b[0m \u001b[0;32min\u001b[0m \u001b[0menumerate\u001b[0m\u001b[0;34m(\u001b[0m\u001b[0mmodel\u001b[0m\u001b[0;34m.\u001b[0m\u001b[0mgraph\u001b[0m\u001b[0;34m.\u001b[0m\u001b[0moutput\u001b[0m\u001b[0;34m)\u001b[0m\u001b[0;34m:\u001b[0m\u001b[0;34m\u001b[0m\u001b[0;34m\u001b[0m\u001b[0m\n",
      "\u001b[0m\n"
     ]
    },
    {
     "name": "stdin",
     "output_type": "stream",
     "text": [
      "ipdb>  n\n"
     ]
    },
    {
     "name": "stdout",
     "output_type": "stream",
     "text": [
      "> \u001b[0;32m/scratch/mirzam/finn/src/finn/core/rtlsim_exec.py\u001b[0m(105)\u001b[0;36mrtlsim_exec\u001b[0;34m()\u001b[0m\n",
      "\u001b[0;32m    103 \u001b[0;31m    \u001b[0;31m# go over outputs to determine how many values will be produced\u001b[0m\u001b[0;34m\u001b[0m\u001b[0;34m\u001b[0m\u001b[0m\n",
      "\u001b[0m\u001b[0;32m    104 \u001b[0;31m    \u001b[0mnum_out_values\u001b[0m \u001b[0;34m=\u001b[0m \u001b[0;36m0\u001b[0m\u001b[0;34m\u001b[0m\u001b[0;34m\u001b[0m\u001b[0m\n",
      "\u001b[0m\u001b[0;32m--> 105 \u001b[0;31m    \u001b[0mo_tensor_info\u001b[0m \u001b[0;34m=\u001b[0m \u001b[0;34m[\u001b[0m\u001b[0;34m]\u001b[0m\u001b[0;34m\u001b[0m\u001b[0;34m\u001b[0m\u001b[0m\n",
      "\u001b[0m\u001b[0;32m    106 \u001b[0;31m    \u001b[0;32mfor\u001b[0m \u001b[0mo\u001b[0m\u001b[0;34m,\u001b[0m \u001b[0mo_vi\u001b[0m \u001b[0;32min\u001b[0m \u001b[0menumerate\u001b[0m\u001b[0;34m(\u001b[0m\u001b[0mmodel\u001b[0m\u001b[0;34m.\u001b[0m\u001b[0mgraph\u001b[0m\u001b[0;34m.\u001b[0m\u001b[0moutput\u001b[0m\u001b[0;34m)\u001b[0m\u001b[0;34m:\u001b[0m\u001b[0;34m\u001b[0m\u001b[0;34m\u001b[0m\u001b[0m\n",
      "\u001b[0m\u001b[0;32m    107 \u001b[0;31m        \u001b[0;31m# output in io_dict just needs an empty list\u001b[0m\u001b[0;34m\u001b[0m\u001b[0;34m\u001b[0m\u001b[0m\n",
      "\u001b[0m\n"
     ]
    },
    {
     "name": "stdin",
     "output_type": "stream",
     "text": [
      "ipdb>  n\n"
     ]
    },
    {
     "name": "stdout",
     "output_type": "stream",
     "text": [
      "> \u001b[0;32m/scratch/mirzam/finn/src/finn/core/rtlsim_exec.py\u001b[0m(106)\u001b[0;36mrtlsim_exec\u001b[0;34m()\u001b[0m\n",
      "\u001b[0;32m    104 \u001b[0;31m    \u001b[0mnum_out_values\u001b[0m \u001b[0;34m=\u001b[0m \u001b[0;36m0\u001b[0m\u001b[0;34m\u001b[0m\u001b[0;34m\u001b[0m\u001b[0m\n",
      "\u001b[0m\u001b[0;32m    105 \u001b[0;31m    \u001b[0mo_tensor_info\u001b[0m \u001b[0;34m=\u001b[0m \u001b[0;34m[\u001b[0m\u001b[0;34m]\u001b[0m\u001b[0;34m\u001b[0m\u001b[0;34m\u001b[0m\u001b[0m\n",
      "\u001b[0m\u001b[0;32m--> 106 \u001b[0;31m    \u001b[0;32mfor\u001b[0m \u001b[0mo\u001b[0m\u001b[0;34m,\u001b[0m \u001b[0mo_vi\u001b[0m \u001b[0;32min\u001b[0m \u001b[0menumerate\u001b[0m\u001b[0;34m(\u001b[0m\u001b[0mmodel\u001b[0m\u001b[0;34m.\u001b[0m\u001b[0mgraph\u001b[0m\u001b[0;34m.\u001b[0m\u001b[0moutput\u001b[0m\u001b[0;34m)\u001b[0m\u001b[0;34m:\u001b[0m\u001b[0;34m\u001b[0m\u001b[0;34m\u001b[0m\u001b[0m\n",
      "\u001b[0m\u001b[0;32m    107 \u001b[0;31m        \u001b[0;31m# output in io_dict just needs an empty list\u001b[0m\u001b[0;34m\u001b[0m\u001b[0;34m\u001b[0m\u001b[0m\n",
      "\u001b[0m\u001b[0;32m    108 \u001b[0;31m        \u001b[0mif_name\u001b[0m \u001b[0;34m=\u001b[0m \u001b[0mif_dict\u001b[0m\u001b[0;34m[\u001b[0m\u001b[0;34m\"m_axis\"\u001b[0m\u001b[0;34m]\u001b[0m\u001b[0;34m[\u001b[0m\u001b[0mo\u001b[0m\u001b[0;34m]\u001b[0m\u001b[0;34m[\u001b[0m\u001b[0;36m0\u001b[0m\u001b[0;34m]\u001b[0m\u001b[0;34m\u001b[0m\u001b[0;34m\u001b[0m\u001b[0m\n",
      "\u001b[0m\n"
     ]
    },
    {
     "name": "stdin",
     "output_type": "stream",
     "text": [
      "ipdb>  n\n"
     ]
    },
    {
     "name": "stdout",
     "output_type": "stream",
     "text": [
      "> \u001b[0;32m/scratch/mirzam/finn/src/finn/core/rtlsim_exec.py\u001b[0m(108)\u001b[0;36mrtlsim_exec\u001b[0;34m()\u001b[0m\n",
      "\u001b[0;32m    106 \u001b[0;31m    \u001b[0;32mfor\u001b[0m \u001b[0mo\u001b[0m\u001b[0;34m,\u001b[0m \u001b[0mo_vi\u001b[0m \u001b[0;32min\u001b[0m \u001b[0menumerate\u001b[0m\u001b[0;34m(\u001b[0m\u001b[0mmodel\u001b[0m\u001b[0;34m.\u001b[0m\u001b[0mgraph\u001b[0m\u001b[0;34m.\u001b[0m\u001b[0moutput\u001b[0m\u001b[0;34m)\u001b[0m\u001b[0;34m:\u001b[0m\u001b[0;34m\u001b[0m\u001b[0;34m\u001b[0m\u001b[0m\n",
      "\u001b[0m\u001b[0;32m    107 \u001b[0;31m        \u001b[0;31m# output in io_dict just needs an empty list\u001b[0m\u001b[0;34m\u001b[0m\u001b[0;34m\u001b[0m\u001b[0m\n",
      "\u001b[0m\u001b[0;32m--> 108 \u001b[0;31m        \u001b[0mif_name\u001b[0m \u001b[0;34m=\u001b[0m \u001b[0mif_dict\u001b[0m\u001b[0;34m[\u001b[0m\u001b[0;34m\"m_axis\"\u001b[0m\u001b[0;34m]\u001b[0m\u001b[0;34m[\u001b[0m\u001b[0mo\u001b[0m\u001b[0;34m]\u001b[0m\u001b[0;34m[\u001b[0m\u001b[0;36m0\u001b[0m\u001b[0;34m]\u001b[0m\u001b[0;34m\u001b[0m\u001b[0;34m\u001b[0m\u001b[0m\n",
      "\u001b[0m\u001b[0;32m    109 \u001b[0;31m        \u001b[0mio_dict\u001b[0m\u001b[0;34m[\u001b[0m\u001b[0;34m\"outputs\"\u001b[0m\u001b[0;34m]\u001b[0m\u001b[0;34m[\u001b[0m\u001b[0mif_name\u001b[0m\u001b[0;34m]\u001b[0m \u001b[0;34m=\u001b[0m \u001b[0;34m[\u001b[0m\u001b[0;34m]\u001b[0m\u001b[0;34m\u001b[0m\u001b[0;34m\u001b[0m\u001b[0m\n",
      "\u001b[0m\u001b[0;32m    110 \u001b[0;31m        \u001b[0;31m# extract output shape\u001b[0m\u001b[0;34m\u001b[0m\u001b[0;34m\u001b[0m\u001b[0m\n",
      "\u001b[0m\n"
     ]
    },
    {
     "name": "stdin",
     "output_type": "stream",
     "text": [
      "ipdb>  n\n"
     ]
    },
    {
     "name": "stdout",
     "output_type": "stream",
     "text": [
      "> \u001b[0;32m/scratch/mirzam/finn/src/finn/core/rtlsim_exec.py\u001b[0m(109)\u001b[0;36mrtlsim_exec\u001b[0;34m()\u001b[0m\n",
      "\u001b[0;32m    107 \u001b[0;31m        \u001b[0;31m# output in io_dict just needs an empty list\u001b[0m\u001b[0;34m\u001b[0m\u001b[0;34m\u001b[0m\u001b[0m\n",
      "\u001b[0m\u001b[0;32m    108 \u001b[0;31m        \u001b[0mif_name\u001b[0m \u001b[0;34m=\u001b[0m \u001b[0mif_dict\u001b[0m\u001b[0;34m[\u001b[0m\u001b[0;34m\"m_axis\"\u001b[0m\u001b[0;34m]\u001b[0m\u001b[0;34m[\u001b[0m\u001b[0mo\u001b[0m\u001b[0;34m]\u001b[0m\u001b[0;34m[\u001b[0m\u001b[0;36m0\u001b[0m\u001b[0;34m]\u001b[0m\u001b[0;34m\u001b[0m\u001b[0;34m\u001b[0m\u001b[0m\n",
      "\u001b[0m\u001b[0;32m--> 109 \u001b[0;31m        \u001b[0mio_dict\u001b[0m\u001b[0;34m[\u001b[0m\u001b[0;34m\"outputs\"\u001b[0m\u001b[0;34m]\u001b[0m\u001b[0;34m[\u001b[0m\u001b[0mif_name\u001b[0m\u001b[0;34m]\u001b[0m \u001b[0;34m=\u001b[0m \u001b[0;34m[\u001b[0m\u001b[0;34m]\u001b[0m\u001b[0;34m\u001b[0m\u001b[0;34m\u001b[0m\u001b[0m\n",
      "\u001b[0m\u001b[0;32m    110 \u001b[0;31m        \u001b[0;31m# extract output shape\u001b[0m\u001b[0;34m\u001b[0m\u001b[0;34m\u001b[0m\u001b[0m\n",
      "\u001b[0m\u001b[0;32m    111 \u001b[0;31m        \u001b[0mo_name\u001b[0m \u001b[0;34m=\u001b[0m \u001b[0mo_vi\u001b[0m\u001b[0;34m.\u001b[0m\u001b[0mname\u001b[0m\u001b[0;34m\u001b[0m\u001b[0;34m\u001b[0m\u001b[0m\n",
      "\u001b[0m\n"
     ]
    },
    {
     "name": "stdin",
     "output_type": "stream",
     "text": [
      "ipdb>  n\n"
     ]
    },
    {
     "name": "stdout",
     "output_type": "stream",
     "text": [
      "> \u001b[0;32m/scratch/mirzam/finn/src/finn/core/rtlsim_exec.py\u001b[0m(111)\u001b[0;36mrtlsim_exec\u001b[0;34m()\u001b[0m\n",
      "\u001b[0;32m    109 \u001b[0;31m        \u001b[0mio_dict\u001b[0m\u001b[0;34m[\u001b[0m\u001b[0;34m\"outputs\"\u001b[0m\u001b[0;34m]\u001b[0m\u001b[0;34m[\u001b[0m\u001b[0mif_name\u001b[0m\u001b[0;34m]\u001b[0m \u001b[0;34m=\u001b[0m \u001b[0;34m[\u001b[0m\u001b[0;34m]\u001b[0m\u001b[0;34m\u001b[0m\u001b[0;34m\u001b[0m\u001b[0m\n",
      "\u001b[0m\u001b[0;32m    110 \u001b[0;31m        \u001b[0;31m# extract output shape\u001b[0m\u001b[0;34m\u001b[0m\u001b[0;34m\u001b[0m\u001b[0m\n",
      "\u001b[0m\u001b[0;32m--> 111 \u001b[0;31m        \u001b[0mo_name\u001b[0m \u001b[0;34m=\u001b[0m \u001b[0mo_vi\u001b[0m\u001b[0;34m.\u001b[0m\u001b[0mname\u001b[0m\u001b[0;34m\u001b[0m\u001b[0;34m\u001b[0m\u001b[0m\n",
      "\u001b[0m\u001b[0;32m    112 \u001b[0;31m        \u001b[0mo_shape\u001b[0m \u001b[0;34m=\u001b[0m \u001b[0mmodel\u001b[0m\u001b[0;34m.\u001b[0m\u001b[0mget_tensor_shape\u001b[0m\u001b[0;34m(\u001b[0m\u001b[0mo_name\u001b[0m\u001b[0;34m)\u001b[0m\u001b[0;34m\u001b[0m\u001b[0;34m\u001b[0m\u001b[0m\n",
      "\u001b[0m\u001b[0;32m    113 \u001b[0;31m        \u001b[0mo_dt\u001b[0m \u001b[0;34m=\u001b[0m \u001b[0mmodel\u001b[0m\u001b[0;34m.\u001b[0m\u001b[0mget_tensor_datatype\u001b[0m\u001b[0;34m(\u001b[0m\u001b[0mo_name\u001b[0m\u001b[0;34m)\u001b[0m\u001b[0;34m\u001b[0m\u001b[0;34m\u001b[0m\u001b[0m\n",
      "\u001b[0m\n"
     ]
    },
    {
     "name": "stdin",
     "output_type": "stream",
     "text": [
      "ipdb>  n\n"
     ]
    },
    {
     "name": "stdout",
     "output_type": "stream",
     "text": [
      "> \u001b[0;32m/scratch/mirzam/finn/src/finn/core/rtlsim_exec.py\u001b[0m(112)\u001b[0;36mrtlsim_exec\u001b[0;34m()\u001b[0m\n",
      "\u001b[0;32m    110 \u001b[0;31m        \u001b[0;31m# extract output shape\u001b[0m\u001b[0;34m\u001b[0m\u001b[0;34m\u001b[0m\u001b[0m\n",
      "\u001b[0m\u001b[0;32m    111 \u001b[0;31m        \u001b[0mo_name\u001b[0m \u001b[0;34m=\u001b[0m \u001b[0mo_vi\u001b[0m\u001b[0;34m.\u001b[0m\u001b[0mname\u001b[0m\u001b[0;34m\u001b[0m\u001b[0;34m\u001b[0m\u001b[0m\n",
      "\u001b[0m\u001b[0;32m--> 112 \u001b[0;31m        \u001b[0mo_shape\u001b[0m \u001b[0;34m=\u001b[0m \u001b[0mmodel\u001b[0m\u001b[0;34m.\u001b[0m\u001b[0mget_tensor_shape\u001b[0m\u001b[0;34m(\u001b[0m\u001b[0mo_name\u001b[0m\u001b[0;34m)\u001b[0m\u001b[0;34m\u001b[0m\u001b[0;34m\u001b[0m\u001b[0m\n",
      "\u001b[0m\u001b[0;32m    113 \u001b[0;31m        \u001b[0mo_dt\u001b[0m \u001b[0;34m=\u001b[0m \u001b[0mmodel\u001b[0m\u001b[0;34m.\u001b[0m\u001b[0mget_tensor_datatype\u001b[0m\u001b[0;34m(\u001b[0m\u001b[0mo_name\u001b[0m\u001b[0;34m)\u001b[0m\u001b[0;34m\u001b[0m\u001b[0;34m\u001b[0m\u001b[0m\n",
      "\u001b[0m\u001b[0;32m    114 \u001b[0;31m        \u001b[0mlast_node\u001b[0m \u001b[0;34m=\u001b[0m \u001b[0mgetCustomOp\u001b[0m\u001b[0;34m(\u001b[0m\u001b[0mmodel\u001b[0m\u001b[0;34m.\u001b[0m\u001b[0mfind_producer\u001b[0m\u001b[0;34m(\u001b[0m\u001b[0mo_name\u001b[0m\u001b[0;34m)\u001b[0m\u001b[0;34m)\u001b[0m\u001b[0;34m\u001b[0m\u001b[0;34m\u001b[0m\u001b[0m\n",
      "\u001b[0m\n"
     ]
    },
    {
     "name": "stdin",
     "output_type": "stream",
     "text": [
      "ipdb>  n\n"
     ]
    },
    {
     "name": "stdout",
     "output_type": "stream",
     "text": [
      "> \u001b[0;32m/scratch/mirzam/finn/src/finn/core/rtlsim_exec.py\u001b[0m(113)\u001b[0;36mrtlsim_exec\u001b[0;34m()\u001b[0m\n",
      "\u001b[0;32m    111 \u001b[0;31m        \u001b[0mo_name\u001b[0m \u001b[0;34m=\u001b[0m \u001b[0mo_vi\u001b[0m\u001b[0;34m.\u001b[0m\u001b[0mname\u001b[0m\u001b[0;34m\u001b[0m\u001b[0;34m\u001b[0m\u001b[0m\n",
      "\u001b[0m\u001b[0;32m    112 \u001b[0;31m        \u001b[0mo_shape\u001b[0m \u001b[0;34m=\u001b[0m \u001b[0mmodel\u001b[0m\u001b[0;34m.\u001b[0m\u001b[0mget_tensor_shape\u001b[0m\u001b[0;34m(\u001b[0m\u001b[0mo_name\u001b[0m\u001b[0;34m)\u001b[0m\u001b[0;34m\u001b[0m\u001b[0;34m\u001b[0m\u001b[0m\n",
      "\u001b[0m\u001b[0;32m--> 113 \u001b[0;31m        \u001b[0mo_dt\u001b[0m \u001b[0;34m=\u001b[0m \u001b[0mmodel\u001b[0m\u001b[0;34m.\u001b[0m\u001b[0mget_tensor_datatype\u001b[0m\u001b[0;34m(\u001b[0m\u001b[0mo_name\u001b[0m\u001b[0;34m)\u001b[0m\u001b[0;34m\u001b[0m\u001b[0;34m\u001b[0m\u001b[0m\n",
      "\u001b[0m\u001b[0;32m    114 \u001b[0;31m        \u001b[0mlast_node\u001b[0m \u001b[0;34m=\u001b[0m \u001b[0mgetCustomOp\u001b[0m\u001b[0;34m(\u001b[0m\u001b[0mmodel\u001b[0m\u001b[0;34m.\u001b[0m\u001b[0mfind_producer\u001b[0m\u001b[0;34m(\u001b[0m\u001b[0mo_name\u001b[0m\u001b[0;34m)\u001b[0m\u001b[0;34m)\u001b[0m\u001b[0;34m\u001b[0m\u001b[0;34m\u001b[0m\u001b[0m\n",
      "\u001b[0m\u001b[0;32m    115 \u001b[0;31m        \u001b[0mo_folded_shape\u001b[0m \u001b[0;34m=\u001b[0m \u001b[0mlast_node\u001b[0m\u001b[0;34m.\u001b[0m\u001b[0mget_folded_output_shape\u001b[0m\u001b[0;34m(\u001b[0m\u001b[0;34m)\u001b[0m\u001b[0;34m\u001b[0m\u001b[0;34m\u001b[0m\u001b[0m\n",
      "\u001b[0m\n"
     ]
    },
    {
     "name": "stdin",
     "output_type": "stream",
     "text": [
      "ipdb>  n\n"
     ]
    },
    {
     "name": "stdout",
     "output_type": "stream",
     "text": [
      "> \u001b[0;32m/scratch/mirzam/finn/src/finn/core/rtlsim_exec.py\u001b[0m(114)\u001b[0;36mrtlsim_exec\u001b[0;34m()\u001b[0m\n",
      "\u001b[0;32m    112 \u001b[0;31m        \u001b[0mo_shape\u001b[0m \u001b[0;34m=\u001b[0m \u001b[0mmodel\u001b[0m\u001b[0;34m.\u001b[0m\u001b[0mget_tensor_shape\u001b[0m\u001b[0;34m(\u001b[0m\u001b[0mo_name\u001b[0m\u001b[0;34m)\u001b[0m\u001b[0;34m\u001b[0m\u001b[0;34m\u001b[0m\u001b[0m\n",
      "\u001b[0m\u001b[0;32m    113 \u001b[0;31m        \u001b[0mo_dt\u001b[0m \u001b[0;34m=\u001b[0m \u001b[0mmodel\u001b[0m\u001b[0;34m.\u001b[0m\u001b[0mget_tensor_datatype\u001b[0m\u001b[0;34m(\u001b[0m\u001b[0mo_name\u001b[0m\u001b[0;34m)\u001b[0m\u001b[0;34m\u001b[0m\u001b[0;34m\u001b[0m\u001b[0m\n",
      "\u001b[0m\u001b[0;32m--> 114 \u001b[0;31m        \u001b[0mlast_node\u001b[0m \u001b[0;34m=\u001b[0m \u001b[0mgetCustomOp\u001b[0m\u001b[0;34m(\u001b[0m\u001b[0mmodel\u001b[0m\u001b[0;34m.\u001b[0m\u001b[0mfind_producer\u001b[0m\u001b[0;34m(\u001b[0m\u001b[0mo_name\u001b[0m\u001b[0;34m)\u001b[0m\u001b[0;34m)\u001b[0m\u001b[0;34m\u001b[0m\u001b[0;34m\u001b[0m\u001b[0m\n",
      "\u001b[0m\u001b[0;32m    115 \u001b[0;31m        \u001b[0mo_folded_shape\u001b[0m \u001b[0;34m=\u001b[0m \u001b[0mlast_node\u001b[0m\u001b[0;34m.\u001b[0m\u001b[0mget_folded_output_shape\u001b[0m\u001b[0;34m(\u001b[0m\u001b[0;34m)\u001b[0m\u001b[0;34m\u001b[0m\u001b[0;34m\u001b[0m\u001b[0m\n",
      "\u001b[0m\u001b[0;32m    116 \u001b[0;31m        \u001b[0;31m# override batch size from actual input\u001b[0m\u001b[0;34m\u001b[0m\u001b[0;34m\u001b[0m\u001b[0m\n",
      "\u001b[0m\n"
     ]
    },
    {
     "name": "stdin",
     "output_type": "stream",
     "text": [
      "ipdb>  n\n"
     ]
    },
    {
     "name": "stdout",
     "output_type": "stream",
     "text": [
      "> \u001b[0;32m/scratch/mirzam/finn/src/finn/core/rtlsim_exec.py\u001b[0m(115)\u001b[0;36mrtlsim_exec\u001b[0;34m()\u001b[0m\n",
      "\u001b[0;32m    113 \u001b[0;31m        \u001b[0mo_dt\u001b[0m \u001b[0;34m=\u001b[0m \u001b[0mmodel\u001b[0m\u001b[0;34m.\u001b[0m\u001b[0mget_tensor_datatype\u001b[0m\u001b[0;34m(\u001b[0m\u001b[0mo_name\u001b[0m\u001b[0;34m)\u001b[0m\u001b[0;34m\u001b[0m\u001b[0;34m\u001b[0m\u001b[0m\n",
      "\u001b[0m\u001b[0;32m    114 \u001b[0;31m        \u001b[0mlast_node\u001b[0m \u001b[0;34m=\u001b[0m \u001b[0mgetCustomOp\u001b[0m\u001b[0;34m(\u001b[0m\u001b[0mmodel\u001b[0m\u001b[0;34m.\u001b[0m\u001b[0mfind_producer\u001b[0m\u001b[0;34m(\u001b[0m\u001b[0mo_name\u001b[0m\u001b[0;34m)\u001b[0m\u001b[0;34m)\u001b[0m\u001b[0;34m\u001b[0m\u001b[0;34m\u001b[0m\u001b[0m\n",
      "\u001b[0m\u001b[0;32m--> 115 \u001b[0;31m        \u001b[0mo_folded_shape\u001b[0m \u001b[0;34m=\u001b[0m \u001b[0mlast_node\u001b[0m\u001b[0;34m.\u001b[0m\u001b[0mget_folded_output_shape\u001b[0m\u001b[0;34m(\u001b[0m\u001b[0;34m)\u001b[0m\u001b[0;34m\u001b[0m\u001b[0;34m\u001b[0m\u001b[0m\n",
      "\u001b[0m\u001b[0;32m    116 \u001b[0;31m        \u001b[0;31m# override batch size from actual input\u001b[0m\u001b[0;34m\u001b[0m\u001b[0;34m\u001b[0m\u001b[0m\n",
      "\u001b[0m\u001b[0;32m    117 \u001b[0;31m        \u001b[0mo_shape\u001b[0m \u001b[0;34m=\u001b[0m \u001b[0mlist\u001b[0m\u001b[0;34m(\u001b[0m\u001b[0mo_shape\u001b[0m\u001b[0;34m)\u001b[0m\u001b[0;34m\u001b[0m\u001b[0;34m\u001b[0m\u001b[0m\n",
      "\u001b[0m\n"
     ]
    },
    {
     "name": "stdin",
     "output_type": "stream",
     "text": [
      "ipdb>  n\n"
     ]
    },
    {
     "name": "stdout",
     "output_type": "stream",
     "text": [
      "> \u001b[0;32m/scratch/mirzam/finn/src/finn/core/rtlsim_exec.py\u001b[0m(117)\u001b[0;36mrtlsim_exec\u001b[0;34m()\u001b[0m\n",
      "\u001b[0;32m    115 \u001b[0;31m        \u001b[0mo_folded_shape\u001b[0m \u001b[0;34m=\u001b[0m \u001b[0mlast_node\u001b[0m\u001b[0;34m.\u001b[0m\u001b[0mget_folded_output_shape\u001b[0m\u001b[0;34m(\u001b[0m\u001b[0;34m)\u001b[0m\u001b[0;34m\u001b[0m\u001b[0;34m\u001b[0m\u001b[0m\n",
      "\u001b[0m\u001b[0;32m    116 \u001b[0;31m        \u001b[0;31m# override batch size from actual input\u001b[0m\u001b[0;34m\u001b[0m\u001b[0;34m\u001b[0m\u001b[0m\n",
      "\u001b[0m\u001b[0;32m--> 117 \u001b[0;31m        \u001b[0mo_shape\u001b[0m \u001b[0;34m=\u001b[0m \u001b[0mlist\u001b[0m\u001b[0;34m(\u001b[0m\u001b[0mo_shape\u001b[0m\u001b[0;34m)\u001b[0m\u001b[0;34m\u001b[0m\u001b[0;34m\u001b[0m\u001b[0m\n",
      "\u001b[0m\u001b[0;32m    118 \u001b[0;31m        \u001b[0mo_shape\u001b[0m\u001b[0;34m[\u001b[0m\u001b[0;36m0\u001b[0m\u001b[0;34m]\u001b[0m \u001b[0;34m=\u001b[0m \u001b[0mbatchsize\u001b[0m\u001b[0;34m\u001b[0m\u001b[0;34m\u001b[0m\u001b[0m\n",
      "\u001b[0m\u001b[0;32m    119 \u001b[0;31m        \u001b[0mo_shape\u001b[0m \u001b[0;34m=\u001b[0m \u001b[0mtuple\u001b[0m\u001b[0;34m(\u001b[0m\u001b[0mo_shape\u001b[0m\u001b[0;34m)\u001b[0m\u001b[0;34m\u001b[0m\u001b[0;34m\u001b[0m\u001b[0m\n",
      "\u001b[0m\n"
     ]
    },
    {
     "name": "stdin",
     "output_type": "stream",
     "text": [
      "ipdb>  n\n"
     ]
    },
    {
     "name": "stdout",
     "output_type": "stream",
     "text": [
      "> \u001b[0;32m/scratch/mirzam/finn/src/finn/core/rtlsim_exec.py\u001b[0m(118)\u001b[0;36mrtlsim_exec\u001b[0;34m()\u001b[0m\n",
      "\u001b[0;32m    116 \u001b[0;31m        \u001b[0;31m# override batch size from actual input\u001b[0m\u001b[0;34m\u001b[0m\u001b[0;34m\u001b[0m\u001b[0m\n",
      "\u001b[0m\u001b[0;32m    117 \u001b[0;31m        \u001b[0mo_shape\u001b[0m \u001b[0;34m=\u001b[0m \u001b[0mlist\u001b[0m\u001b[0;34m(\u001b[0m\u001b[0mo_shape\u001b[0m\u001b[0;34m)\u001b[0m\u001b[0;34m\u001b[0m\u001b[0;34m\u001b[0m\u001b[0m\n",
      "\u001b[0m\u001b[0;32m--> 118 \u001b[0;31m        \u001b[0mo_shape\u001b[0m\u001b[0;34m[\u001b[0m\u001b[0;36m0\u001b[0m\u001b[0;34m]\u001b[0m \u001b[0;34m=\u001b[0m \u001b[0mbatchsize\u001b[0m\u001b[0;34m\u001b[0m\u001b[0;34m\u001b[0m\u001b[0m\n",
      "\u001b[0m\u001b[0;32m    119 \u001b[0;31m        \u001b[0mo_shape\u001b[0m \u001b[0;34m=\u001b[0m \u001b[0mtuple\u001b[0m\u001b[0;34m(\u001b[0m\u001b[0mo_shape\u001b[0m\u001b[0;34m)\u001b[0m\u001b[0;34m\u001b[0m\u001b[0;34m\u001b[0m\u001b[0m\n",
      "\u001b[0m\u001b[0;32m    120 \u001b[0;31m        \u001b[0mo_folded_shape\u001b[0m \u001b[0;34m=\u001b[0m \u001b[0mlist\u001b[0m\u001b[0;34m(\u001b[0m\u001b[0mo_folded_shape\u001b[0m\u001b[0;34m)\u001b[0m\u001b[0;34m\u001b[0m\u001b[0;34m\u001b[0m\u001b[0m\n",
      "\u001b[0m\n"
     ]
    },
    {
     "name": "stdin",
     "output_type": "stream",
     "text": [
      "ipdb>  n\n"
     ]
    },
    {
     "name": "stdout",
     "output_type": "stream",
     "text": [
      "> \u001b[0;32m/scratch/mirzam/finn/src/finn/core/rtlsim_exec.py\u001b[0m(119)\u001b[0;36mrtlsim_exec\u001b[0;34m()\u001b[0m\n",
      "\u001b[0;32m    117 \u001b[0;31m        \u001b[0mo_shape\u001b[0m \u001b[0;34m=\u001b[0m \u001b[0mlist\u001b[0m\u001b[0;34m(\u001b[0m\u001b[0mo_shape\u001b[0m\u001b[0;34m)\u001b[0m\u001b[0;34m\u001b[0m\u001b[0;34m\u001b[0m\u001b[0m\n",
      "\u001b[0m\u001b[0;32m    118 \u001b[0;31m        \u001b[0mo_shape\u001b[0m\u001b[0;34m[\u001b[0m\u001b[0;36m0\u001b[0m\u001b[0;34m]\u001b[0m \u001b[0;34m=\u001b[0m \u001b[0mbatchsize\u001b[0m\u001b[0;34m\u001b[0m\u001b[0;34m\u001b[0m\u001b[0m\n",
      "\u001b[0m\u001b[0;32m--> 119 \u001b[0;31m        \u001b[0mo_shape\u001b[0m \u001b[0;34m=\u001b[0m \u001b[0mtuple\u001b[0m\u001b[0;34m(\u001b[0m\u001b[0mo_shape\u001b[0m\u001b[0;34m)\u001b[0m\u001b[0;34m\u001b[0m\u001b[0;34m\u001b[0m\u001b[0m\n",
      "\u001b[0m\u001b[0;32m    120 \u001b[0;31m        \u001b[0mo_folded_shape\u001b[0m \u001b[0;34m=\u001b[0m \u001b[0mlist\u001b[0m\u001b[0;34m(\u001b[0m\u001b[0mo_folded_shape\u001b[0m\u001b[0;34m)\u001b[0m\u001b[0;34m\u001b[0m\u001b[0;34m\u001b[0m\u001b[0m\n",
      "\u001b[0m\u001b[0;32m    121 \u001b[0;31m        \u001b[0mo_folded_shape\u001b[0m\u001b[0;34m[\u001b[0m\u001b[0;36m0\u001b[0m\u001b[0;34m]\u001b[0m \u001b[0;34m=\u001b[0m \u001b[0mbatchsize\u001b[0m\u001b[0;34m\u001b[0m\u001b[0;34m\u001b[0m\u001b[0m\n",
      "\u001b[0m\n"
     ]
    },
    {
     "name": "stdin",
     "output_type": "stream",
     "text": [
      "ipdb>  n\n"
     ]
    },
    {
     "name": "stdout",
     "output_type": "stream",
     "text": [
      "> \u001b[0;32m/scratch/mirzam/finn/src/finn/core/rtlsim_exec.py\u001b[0m(120)\u001b[0;36mrtlsim_exec\u001b[0;34m()\u001b[0m\n",
      "\u001b[0;32m    118 \u001b[0;31m        \u001b[0mo_shape\u001b[0m\u001b[0;34m[\u001b[0m\u001b[0;36m0\u001b[0m\u001b[0;34m]\u001b[0m \u001b[0;34m=\u001b[0m \u001b[0mbatchsize\u001b[0m\u001b[0;34m\u001b[0m\u001b[0;34m\u001b[0m\u001b[0m\n",
      "\u001b[0m\u001b[0;32m    119 \u001b[0;31m        \u001b[0mo_shape\u001b[0m \u001b[0;34m=\u001b[0m \u001b[0mtuple\u001b[0m\u001b[0;34m(\u001b[0m\u001b[0mo_shape\u001b[0m\u001b[0;34m)\u001b[0m\u001b[0;34m\u001b[0m\u001b[0;34m\u001b[0m\u001b[0m\n",
      "\u001b[0m\u001b[0;32m--> 120 \u001b[0;31m        \u001b[0mo_folded_shape\u001b[0m \u001b[0;34m=\u001b[0m \u001b[0mlist\u001b[0m\u001b[0;34m(\u001b[0m\u001b[0mo_folded_shape\u001b[0m\u001b[0;34m)\u001b[0m\u001b[0;34m\u001b[0m\u001b[0;34m\u001b[0m\u001b[0m\n",
      "\u001b[0m\u001b[0;32m    121 \u001b[0;31m        \u001b[0mo_folded_shape\u001b[0m\u001b[0;34m[\u001b[0m\u001b[0;36m0\u001b[0m\u001b[0;34m]\u001b[0m \u001b[0;34m=\u001b[0m \u001b[0mbatchsize\u001b[0m\u001b[0;34m\u001b[0m\u001b[0;34m\u001b[0m\u001b[0m\n",
      "\u001b[0m\u001b[0;32m    122 \u001b[0;31m        \u001b[0mo_folded_shape\u001b[0m \u001b[0;34m=\u001b[0m \u001b[0mtuple\u001b[0m\u001b[0;34m(\u001b[0m\u001b[0mo_folded_shape\u001b[0m\u001b[0;34m)\u001b[0m\u001b[0;34m\u001b[0m\u001b[0;34m\u001b[0m\u001b[0m\n",
      "\u001b[0m\n"
     ]
    },
    {
     "name": "stdin",
     "output_type": "stream",
     "text": [
      "ipdb>  n\n"
     ]
    },
    {
     "name": "stdout",
     "output_type": "stream",
     "text": [
      "> \u001b[0;32m/scratch/mirzam/finn/src/finn/core/rtlsim_exec.py\u001b[0m(121)\u001b[0;36mrtlsim_exec\u001b[0;34m()\u001b[0m\n",
      "\u001b[0;32m    119 \u001b[0;31m        \u001b[0mo_shape\u001b[0m \u001b[0;34m=\u001b[0m \u001b[0mtuple\u001b[0m\u001b[0;34m(\u001b[0m\u001b[0mo_shape\u001b[0m\u001b[0;34m)\u001b[0m\u001b[0;34m\u001b[0m\u001b[0;34m\u001b[0m\u001b[0m\n",
      "\u001b[0m\u001b[0;32m    120 \u001b[0;31m        \u001b[0mo_folded_shape\u001b[0m \u001b[0;34m=\u001b[0m \u001b[0mlist\u001b[0m\u001b[0;34m(\u001b[0m\u001b[0mo_folded_shape\u001b[0m\u001b[0;34m)\u001b[0m\u001b[0;34m\u001b[0m\u001b[0;34m\u001b[0m\u001b[0m\n",
      "\u001b[0m\u001b[0;32m--> 121 \u001b[0;31m        \u001b[0mo_folded_shape\u001b[0m\u001b[0;34m[\u001b[0m\u001b[0;36m0\u001b[0m\u001b[0;34m]\u001b[0m \u001b[0;34m=\u001b[0m \u001b[0mbatchsize\u001b[0m\u001b[0;34m\u001b[0m\u001b[0;34m\u001b[0m\u001b[0m\n",
      "\u001b[0m\u001b[0;32m    122 \u001b[0;31m        \u001b[0mo_folded_shape\u001b[0m \u001b[0;34m=\u001b[0m \u001b[0mtuple\u001b[0m\u001b[0;34m(\u001b[0m\u001b[0mo_folded_shape\u001b[0m\u001b[0;34m)\u001b[0m\u001b[0;34m\u001b[0m\u001b[0;34m\u001b[0m\u001b[0m\n",
      "\u001b[0m\u001b[0;32m    123 \u001b[0;31m        \u001b[0mo_stream_w\u001b[0m \u001b[0;34m=\u001b[0m \u001b[0mlast_node\u001b[0m\u001b[0;34m.\u001b[0m\u001b[0mget_outstream_width\u001b[0m\u001b[0;34m(\u001b[0m\u001b[0;34m)\u001b[0m\u001b[0;34m\u001b[0m\u001b[0;34m\u001b[0m\u001b[0m\n",
      "\u001b[0m\n"
     ]
    },
    {
     "name": "stdin",
     "output_type": "stream",
     "text": [
      "ipdb>  n\n"
     ]
    },
    {
     "name": "stdout",
     "output_type": "stream",
     "text": [
      "> \u001b[0;32m/scratch/mirzam/finn/src/finn/core/rtlsim_exec.py\u001b[0m(122)\u001b[0;36mrtlsim_exec\u001b[0;34m()\u001b[0m\n",
      "\u001b[0;32m    120 \u001b[0;31m        \u001b[0mo_folded_shape\u001b[0m \u001b[0;34m=\u001b[0m \u001b[0mlist\u001b[0m\u001b[0;34m(\u001b[0m\u001b[0mo_folded_shape\u001b[0m\u001b[0;34m)\u001b[0m\u001b[0;34m\u001b[0m\u001b[0;34m\u001b[0m\u001b[0m\n",
      "\u001b[0m\u001b[0;32m    121 \u001b[0;31m        \u001b[0mo_folded_shape\u001b[0m\u001b[0;34m[\u001b[0m\u001b[0;36m0\u001b[0m\u001b[0;34m]\u001b[0m \u001b[0;34m=\u001b[0m \u001b[0mbatchsize\u001b[0m\u001b[0;34m\u001b[0m\u001b[0;34m\u001b[0m\u001b[0m\n",
      "\u001b[0m\u001b[0;32m--> 122 \u001b[0;31m        \u001b[0mo_folded_shape\u001b[0m \u001b[0;34m=\u001b[0m \u001b[0mtuple\u001b[0m\u001b[0;34m(\u001b[0m\u001b[0mo_folded_shape\u001b[0m\u001b[0;34m)\u001b[0m\u001b[0;34m\u001b[0m\u001b[0;34m\u001b[0m\u001b[0m\n",
      "\u001b[0m\u001b[0;32m    123 \u001b[0;31m        \u001b[0mo_stream_w\u001b[0m \u001b[0;34m=\u001b[0m \u001b[0mlast_node\u001b[0m\u001b[0;34m.\u001b[0m\u001b[0mget_outstream_width\u001b[0m\u001b[0;34m(\u001b[0m\u001b[0;34m)\u001b[0m\u001b[0;34m\u001b[0m\u001b[0;34m\u001b[0m\u001b[0m\n",
      "\u001b[0m\u001b[0;32m    124 \u001b[0;31m        \u001b[0mo_tensor_info\u001b[0m\u001b[0;34m.\u001b[0m\u001b[0mappend\u001b[0m\u001b[0;34m(\u001b[0m\u001b[0;34m(\u001b[0m\u001b[0mo_stream_w\u001b[0m\u001b[0;34m,\u001b[0m \u001b[0mo_dt\u001b[0m\u001b[0;34m,\u001b[0m \u001b[0mo_folded_shape\u001b[0m\u001b[0;34m,\u001b[0m \u001b[0mo_shape\u001b[0m\u001b[0;34m)\u001b[0m\u001b[0;34m)\u001b[0m\u001b[0;34m\u001b[0m\u001b[0;34m\u001b[0m\u001b[0m\n",
      "\u001b[0m\n"
     ]
    },
    {
     "name": "stdin",
     "output_type": "stream",
     "text": [
      "ipdb>  n\n"
     ]
    },
    {
     "name": "stdout",
     "output_type": "stream",
     "text": [
      "> \u001b[0;32m/scratch/mirzam/finn/src/finn/core/rtlsim_exec.py\u001b[0m(123)\u001b[0;36mrtlsim_exec\u001b[0;34m()\u001b[0m\n",
      "\u001b[0;32m    121 \u001b[0;31m        \u001b[0mo_folded_shape\u001b[0m\u001b[0;34m[\u001b[0m\u001b[0;36m0\u001b[0m\u001b[0;34m]\u001b[0m \u001b[0;34m=\u001b[0m \u001b[0mbatchsize\u001b[0m\u001b[0;34m\u001b[0m\u001b[0;34m\u001b[0m\u001b[0m\n",
      "\u001b[0m\u001b[0;32m    122 \u001b[0;31m        \u001b[0mo_folded_shape\u001b[0m \u001b[0;34m=\u001b[0m \u001b[0mtuple\u001b[0m\u001b[0;34m(\u001b[0m\u001b[0mo_folded_shape\u001b[0m\u001b[0;34m)\u001b[0m\u001b[0;34m\u001b[0m\u001b[0;34m\u001b[0m\u001b[0m\n",
      "\u001b[0m\u001b[0;32m--> 123 \u001b[0;31m        \u001b[0mo_stream_w\u001b[0m \u001b[0;34m=\u001b[0m \u001b[0mlast_node\u001b[0m\u001b[0;34m.\u001b[0m\u001b[0mget_outstream_width\u001b[0m\u001b[0;34m(\u001b[0m\u001b[0;34m)\u001b[0m\u001b[0;34m\u001b[0m\u001b[0;34m\u001b[0m\u001b[0m\n",
      "\u001b[0m\u001b[0;32m    124 \u001b[0;31m        \u001b[0mo_tensor_info\u001b[0m\u001b[0;34m.\u001b[0m\u001b[0mappend\u001b[0m\u001b[0;34m(\u001b[0m\u001b[0;34m(\u001b[0m\u001b[0mo_stream_w\u001b[0m\u001b[0;34m,\u001b[0m \u001b[0mo_dt\u001b[0m\u001b[0;34m,\u001b[0m \u001b[0mo_folded_shape\u001b[0m\u001b[0;34m,\u001b[0m \u001b[0mo_shape\u001b[0m\u001b[0;34m)\u001b[0m\u001b[0;34m)\u001b[0m\u001b[0;34m\u001b[0m\u001b[0;34m\u001b[0m\u001b[0m\n",
      "\u001b[0m\u001b[0;32m    125 \u001b[0;31m        \u001b[0mnum_out_values\u001b[0m \u001b[0;34m+=\u001b[0m \u001b[0mbatchsize\u001b[0m \u001b[0;34m*\u001b[0m \u001b[0mlast_node\u001b[0m\u001b[0;34m.\u001b[0m\u001b[0mget_number_output_values\u001b[0m\u001b[0;34m(\u001b[0m\u001b[0;34m)\u001b[0m\u001b[0;34m\u001b[0m\u001b[0;34m\u001b[0m\u001b[0m\n",
      "\u001b[0m\n"
     ]
    },
    {
     "name": "stdin",
     "output_type": "stream",
     "text": [
      "ipdb>  n\n"
     ]
    },
    {
     "name": "stdout",
     "output_type": "stream",
     "text": [
      "> \u001b[0;32m/scratch/mirzam/finn/src/finn/core/rtlsim_exec.py\u001b[0m(124)\u001b[0;36mrtlsim_exec\u001b[0;34m()\u001b[0m\n",
      "\u001b[0;32m    122 \u001b[0;31m        \u001b[0mo_folded_shape\u001b[0m \u001b[0;34m=\u001b[0m \u001b[0mtuple\u001b[0m\u001b[0;34m(\u001b[0m\u001b[0mo_folded_shape\u001b[0m\u001b[0;34m)\u001b[0m\u001b[0;34m\u001b[0m\u001b[0;34m\u001b[0m\u001b[0m\n",
      "\u001b[0m\u001b[0;32m    123 \u001b[0;31m        \u001b[0mo_stream_w\u001b[0m \u001b[0;34m=\u001b[0m \u001b[0mlast_node\u001b[0m\u001b[0;34m.\u001b[0m\u001b[0mget_outstream_width\u001b[0m\u001b[0;34m(\u001b[0m\u001b[0;34m)\u001b[0m\u001b[0;34m\u001b[0m\u001b[0;34m\u001b[0m\u001b[0m\n",
      "\u001b[0m\u001b[0;32m--> 124 \u001b[0;31m        \u001b[0mo_tensor_info\u001b[0m\u001b[0;34m.\u001b[0m\u001b[0mappend\u001b[0m\u001b[0;34m(\u001b[0m\u001b[0;34m(\u001b[0m\u001b[0mo_stream_w\u001b[0m\u001b[0;34m,\u001b[0m \u001b[0mo_dt\u001b[0m\u001b[0;34m,\u001b[0m \u001b[0mo_folded_shape\u001b[0m\u001b[0;34m,\u001b[0m \u001b[0mo_shape\u001b[0m\u001b[0;34m)\u001b[0m\u001b[0;34m)\u001b[0m\u001b[0;34m\u001b[0m\u001b[0;34m\u001b[0m\u001b[0m\n",
      "\u001b[0m\u001b[0;32m    125 \u001b[0;31m        \u001b[0mnum_out_values\u001b[0m \u001b[0;34m+=\u001b[0m \u001b[0mbatchsize\u001b[0m \u001b[0;34m*\u001b[0m \u001b[0mlast_node\u001b[0m\u001b[0;34m.\u001b[0m\u001b[0mget_number_output_values\u001b[0m\u001b[0;34m(\u001b[0m\u001b[0;34m)\u001b[0m\u001b[0;34m\u001b[0m\u001b[0;34m\u001b[0m\u001b[0m\n",
      "\u001b[0m\u001b[0;32m    126 \u001b[0;31m\u001b[0;34m\u001b[0m\u001b[0m\n",
      "\u001b[0m\n"
     ]
    },
    {
     "name": "stdin",
     "output_type": "stream",
     "text": [
      "ipdb>  n\n"
     ]
    },
    {
     "name": "stdout",
     "output_type": "stream",
     "text": [
      "> \u001b[0;32m/scratch/mirzam/finn/src/finn/core/rtlsim_exec.py\u001b[0m(125)\u001b[0;36mrtlsim_exec\u001b[0;34m()\u001b[0m\n",
      "\u001b[0;32m    123 \u001b[0;31m        \u001b[0mo_stream_w\u001b[0m \u001b[0;34m=\u001b[0m \u001b[0mlast_node\u001b[0m\u001b[0;34m.\u001b[0m\u001b[0mget_outstream_width\u001b[0m\u001b[0;34m(\u001b[0m\u001b[0;34m)\u001b[0m\u001b[0;34m\u001b[0m\u001b[0;34m\u001b[0m\u001b[0m\n",
      "\u001b[0m\u001b[0;32m    124 \u001b[0;31m        \u001b[0mo_tensor_info\u001b[0m\u001b[0;34m.\u001b[0m\u001b[0mappend\u001b[0m\u001b[0;34m(\u001b[0m\u001b[0;34m(\u001b[0m\u001b[0mo_stream_w\u001b[0m\u001b[0;34m,\u001b[0m \u001b[0mo_dt\u001b[0m\u001b[0;34m,\u001b[0m \u001b[0mo_folded_shape\u001b[0m\u001b[0;34m,\u001b[0m \u001b[0mo_shape\u001b[0m\u001b[0;34m)\u001b[0m\u001b[0;34m)\u001b[0m\u001b[0;34m\u001b[0m\u001b[0;34m\u001b[0m\u001b[0m\n",
      "\u001b[0m\u001b[0;32m--> 125 \u001b[0;31m        \u001b[0mnum_out_values\u001b[0m \u001b[0;34m+=\u001b[0m \u001b[0mbatchsize\u001b[0m \u001b[0;34m*\u001b[0m \u001b[0mlast_node\u001b[0m\u001b[0;34m.\u001b[0m\u001b[0mget_number_output_values\u001b[0m\u001b[0;34m(\u001b[0m\u001b[0;34m)\u001b[0m\u001b[0;34m\u001b[0m\u001b[0;34m\u001b[0m\u001b[0m\n",
      "\u001b[0m\u001b[0;32m    126 \u001b[0;31m\u001b[0;34m\u001b[0m\u001b[0m\n",
      "\u001b[0m\u001b[0;32m    127 \u001b[0;31m    \u001b[0;31m# prepare pyverilator model\u001b[0m\u001b[0;34m\u001b[0m\u001b[0;34m\u001b[0m\u001b[0m\n",
      "\u001b[0m\n"
     ]
    },
    {
     "name": "stdin",
     "output_type": "stream",
     "text": [
      "ipdb>  n\n"
     ]
    },
    {
     "name": "stdout",
     "output_type": "stream",
     "text": [
      "> \u001b[0;32m/scratch/mirzam/finn/src/finn/core/rtlsim_exec.py\u001b[0m(106)\u001b[0;36mrtlsim_exec\u001b[0;34m()\u001b[0m\n",
      "\u001b[0;32m    104 \u001b[0;31m    \u001b[0mnum_out_values\u001b[0m \u001b[0;34m=\u001b[0m \u001b[0;36m0\u001b[0m\u001b[0;34m\u001b[0m\u001b[0;34m\u001b[0m\u001b[0m\n",
      "\u001b[0m\u001b[0;32m    105 \u001b[0;31m    \u001b[0mo_tensor_info\u001b[0m \u001b[0;34m=\u001b[0m \u001b[0;34m[\u001b[0m\u001b[0;34m]\u001b[0m\u001b[0;34m\u001b[0m\u001b[0;34m\u001b[0m\u001b[0m\n",
      "\u001b[0m\u001b[0;32m--> 106 \u001b[0;31m    \u001b[0;32mfor\u001b[0m \u001b[0mo\u001b[0m\u001b[0;34m,\u001b[0m \u001b[0mo_vi\u001b[0m \u001b[0;32min\u001b[0m \u001b[0menumerate\u001b[0m\u001b[0;34m(\u001b[0m\u001b[0mmodel\u001b[0m\u001b[0;34m.\u001b[0m\u001b[0mgraph\u001b[0m\u001b[0;34m.\u001b[0m\u001b[0moutput\u001b[0m\u001b[0;34m)\u001b[0m\u001b[0;34m:\u001b[0m\u001b[0;34m\u001b[0m\u001b[0;34m\u001b[0m\u001b[0m\n",
      "\u001b[0m\u001b[0;32m    107 \u001b[0;31m        \u001b[0;31m# output in io_dict just needs an empty list\u001b[0m\u001b[0;34m\u001b[0m\u001b[0;34m\u001b[0m\u001b[0m\n",
      "\u001b[0m\u001b[0;32m    108 \u001b[0;31m        \u001b[0mif_name\u001b[0m \u001b[0;34m=\u001b[0m \u001b[0mif_dict\u001b[0m\u001b[0;34m[\u001b[0m\u001b[0;34m\"m_axis\"\u001b[0m\u001b[0;34m]\u001b[0m\u001b[0;34m[\u001b[0m\u001b[0mo\u001b[0m\u001b[0;34m]\u001b[0m\u001b[0;34m[\u001b[0m\u001b[0;36m0\u001b[0m\u001b[0;34m]\u001b[0m\u001b[0;34m\u001b[0m\u001b[0;34m\u001b[0m\u001b[0m\n",
      "\u001b[0m\n"
     ]
    },
    {
     "name": "stdin",
     "output_type": "stream",
     "text": [
      "ipdb>  n\n"
     ]
    },
    {
     "name": "stdout",
     "output_type": "stream",
     "text": [
      "> \u001b[0;32m/scratch/mirzam/finn/src/finn/core/rtlsim_exec.py\u001b[0m(128)\u001b[0;36mrtlsim_exec\u001b[0;34m()\u001b[0m\n",
      "\u001b[0;32m    126 \u001b[0;31m\u001b[0;34m\u001b[0m\u001b[0m\n",
      "\u001b[0m\u001b[0;32m    127 \u001b[0;31m    \u001b[0;31m# prepare pyverilator model\u001b[0m\u001b[0;34m\u001b[0m\u001b[0;34m\u001b[0m\u001b[0m\n",
      "\u001b[0m\u001b[0;32m--> 128 \u001b[0;31m    \u001b[0mrtlsim_so\u001b[0m \u001b[0;34m=\u001b[0m \u001b[0mmodel\u001b[0m\u001b[0;34m.\u001b[0m\u001b[0mget_metadata_prop\u001b[0m\u001b[0;34m(\u001b[0m\u001b[0;34m\"rtlsim_so\"\u001b[0m\u001b[0;34m)\u001b[0m\u001b[0;34m\u001b[0m\u001b[0;34m\u001b[0m\u001b[0m\n",
      "\u001b[0m\u001b[0;32m    129 \u001b[0;31m    \u001b[0;32mif\u001b[0m \u001b[0;34m(\u001b[0m\u001b[0mrtlsim_so\u001b[0m \u001b[0;32mis\u001b[0m \u001b[0;32mNone\u001b[0m\u001b[0;34m)\u001b[0m \u001b[0;32mor\u001b[0m \u001b[0;34m(\u001b[0m\u001b[0;32mnot\u001b[0m \u001b[0mos\u001b[0m\u001b[0;34m.\u001b[0m\u001b[0mpath\u001b[0m\u001b[0;34m.\u001b[0m\u001b[0misfile\u001b[0m\u001b[0;34m(\u001b[0m\u001b[0mrtlsim_so\u001b[0m\u001b[0;34m)\u001b[0m\u001b[0;34m)\u001b[0m\u001b[0;34m:\u001b[0m\u001b[0;34m\u001b[0m\u001b[0;34m\u001b[0m\u001b[0m\n",
      "\u001b[0m\u001b[0;32m    130 \u001b[0;31m        \u001b[0msim\u001b[0m \u001b[0;34m=\u001b[0m \u001b[0mpyverilate_stitched_ip\u001b[0m\u001b[0;34m(\u001b[0m\u001b[0mmodel\u001b[0m\u001b[0;34m,\u001b[0m \u001b[0mextra_verilator_args\u001b[0m\u001b[0;34m=\u001b[0m\u001b[0mextra_verilator_args\u001b[0m\u001b[0;34m)\u001b[0m\u001b[0;34m\u001b[0m\u001b[0;34m\u001b[0m\u001b[0m\n",
      "\u001b[0m\n"
     ]
    },
    {
     "name": "stdin",
     "output_type": "stream",
     "text": [
      "ipdb>  rtlsim_so\n"
     ]
    },
    {
     "name": "stdout",
     "output_type": "stream",
     "text": [
      "*** NameError: name 'rtlsim_so' is not defined\n"
     ]
    },
    {
     "name": "stdin",
     "output_type": "stream",
     "text": [
      "ipdb>  n\n"
     ]
    },
    {
     "name": "stdout",
     "output_type": "stream",
     "text": [
      "> \u001b[0;32m/scratch/mirzam/finn/src/finn/core/rtlsim_exec.py\u001b[0m(129)\u001b[0;36mrtlsim_exec\u001b[0;34m()\u001b[0m\n",
      "\u001b[0;32m    127 \u001b[0;31m    \u001b[0;31m# prepare pyverilator model\u001b[0m\u001b[0;34m\u001b[0m\u001b[0;34m\u001b[0m\u001b[0m\n",
      "\u001b[0m\u001b[0;32m    128 \u001b[0;31m    \u001b[0mrtlsim_so\u001b[0m \u001b[0;34m=\u001b[0m \u001b[0mmodel\u001b[0m\u001b[0;34m.\u001b[0m\u001b[0mget_metadata_prop\u001b[0m\u001b[0;34m(\u001b[0m\u001b[0;34m\"rtlsim_so\"\u001b[0m\u001b[0;34m)\u001b[0m\u001b[0;34m\u001b[0m\u001b[0;34m\u001b[0m\u001b[0m\n",
      "\u001b[0m\u001b[0;32m--> 129 \u001b[0;31m    \u001b[0;32mif\u001b[0m \u001b[0;34m(\u001b[0m\u001b[0mrtlsim_so\u001b[0m \u001b[0;32mis\u001b[0m \u001b[0;32mNone\u001b[0m\u001b[0;34m)\u001b[0m \u001b[0;32mor\u001b[0m \u001b[0;34m(\u001b[0m\u001b[0;32mnot\u001b[0m \u001b[0mos\u001b[0m\u001b[0;34m.\u001b[0m\u001b[0mpath\u001b[0m\u001b[0;34m.\u001b[0m\u001b[0misfile\u001b[0m\u001b[0;34m(\u001b[0m\u001b[0mrtlsim_so\u001b[0m\u001b[0;34m)\u001b[0m\u001b[0;34m)\u001b[0m\u001b[0;34m:\u001b[0m\u001b[0;34m\u001b[0m\u001b[0;34m\u001b[0m\u001b[0m\n",
      "\u001b[0m\u001b[0;32m    130 \u001b[0;31m        \u001b[0msim\u001b[0m \u001b[0;34m=\u001b[0m \u001b[0mpyverilate_stitched_ip\u001b[0m\u001b[0;34m(\u001b[0m\u001b[0mmodel\u001b[0m\u001b[0;34m,\u001b[0m \u001b[0mextra_verilator_args\u001b[0m\u001b[0;34m=\u001b[0m\u001b[0mextra_verilator_args\u001b[0m\u001b[0;34m)\u001b[0m\u001b[0;34m\u001b[0m\u001b[0;34m\u001b[0m\u001b[0m\n",
      "\u001b[0m\u001b[0;32m    131 \u001b[0;31m        \u001b[0mmodel\u001b[0m\u001b[0;34m.\u001b[0m\u001b[0mset_metadata_prop\u001b[0m\u001b[0;34m(\u001b[0m\u001b[0;34m\"rtlsim_so\"\u001b[0m\u001b[0;34m,\u001b[0m \u001b[0msim\u001b[0m\u001b[0;34m.\u001b[0m\u001b[0mlib\u001b[0m\u001b[0;34m.\u001b[0m\u001b[0m_name\u001b[0m\u001b[0;34m)\u001b[0m\u001b[0;34m\u001b[0m\u001b[0;34m\u001b[0m\u001b[0m\n",
      "\u001b[0m\n"
     ]
    },
    {
     "name": "stdin",
     "output_type": "stream",
     "text": [
      "ipdb>  rtlsim_so\n"
     ]
    },
    {
     "name": "stdout",
     "output_type": "stream",
     "text": [
      "'/scratch/mirzam/build_files/pyverilator_ipstitched_fdjz8nvu/Vfinn_design_wrapper'\n"
     ]
    }
   ],
   "source": [
    "from qonnx.core.modelwrapper import ModelWrapper\n",
    "import finn.core.onnx_exec as oxe\n",
    "from qonnx.util.basic import (\n",
    "    gen_finn_dt_tensor\n",
    ")\n",
    "\n",
    "model = ModelWrapper(\"partition_rtl_vvau.onnx\")\n",
    "input_dict = {\"global_in\" : gen_finn_dt_tensor(model.get_tensor_datatype(\"global_in\"), model.get_tensor_shape(\"global_in\"))}\n",
    "\n",
    "build_dir = \"/scratch/mirzam/build_files\"\n",
    "model.set_metadata_prop(\"rtlsim_trace\", build_dir+\"/rtl-vvu.vcd\")\n",
    "# set top-level prop for stitched-ip rtlsim and launch\n",
    "model.set_metadata_prop(\"exec_mode\", \"rtlsim\")\n",
    "vvu_rtl_out = oxe.execute_onnx(model, input_dict, return_full_exec_context=True)"
   ]
  },
  {
   "cell_type": "code",
   "execution_count": 22,
   "id": "2fcdaae7-7c59-45d5-a264-bde6ed1bf88e",
   "metadata": {},
   "outputs": [
    {
     "data": {
      "text/plain": [
       "{'global_in': array([[[[ 113.,  125., -101.,  -40.],\n",
       "          [ -28.,  102.,   98.,  125.],\n",
       "          [ -63.,   43.,   66.,   35.],\n",
       "          [ -75.,  -55.,  -64.,  -62.],\n",
       "          [  30.,  -83.,   81.,  -95.]],\n",
       " \n",
       "         [[  96.,  -87.,   29., -106.],\n",
       "          [  39.,  -45.,  -40.,  -60.],\n",
       "          [  52.,  -44.,  -45.,   84.],\n",
       "          [  95.,   58.,  126.,  -96.],\n",
       "          [ -76.,  113.,  120.,  -35.]],\n",
       " \n",
       "         [[ 105., -112., -111.,  -23.],\n",
       "          [ -94.,  -24.,  -18.,   42.],\n",
       "          [ -37.,  -84.,    2.,  -73.],\n",
       "          [  62.,  -13., -100., -101.],\n",
       "          [ -24.,   -8.,  122.,  -36.]],\n",
       " \n",
       "         [[ -38.,  -92., -106.,   57.],\n",
       "          [  62.,  116., -124.,  -92.],\n",
       "          [  31.,  -67., -118.,  -85.],\n",
       "          [ -79.,  117.,   40.,  -94.],\n",
       "          [ -61.,  -16.,   22.,  -60.]],\n",
       " \n",
       "         [[-115.,  -89.,   49.,   71.],\n",
       "          [ 110.,   78., -109.,   78.],\n",
       "          [ -34.,  -49.,  -95.,  -38.],\n",
       "          [-114.,   80.,   29.,   72.],\n",
       "          [ -47.,   -9.,  107.,  -12.]]]], dtype=float32),\n",
       " 'global_out': array([[[[ 9.410e+02,  0.000e+00,  5.777e+03,  0.000e+00],\n",
       "          [ 3.564e+03,  0.000e+00,  7.049e+03,  0.000e+00],\n",
       "          [-3.929e+03, -1.000e+00,  7.454e+03,  0.000e+00]],\n",
       " \n",
       "         [[-5.261e+03, -1.000e+00,  3.750e+02,  0.000e+00],\n",
       "          [ 3.990e+02,  0.000e+00, -6.623e+03, -1.000e+00],\n",
       "          [-9.560e+02, -1.000e+00, -4.235e+03, -1.000e+00]],\n",
       " \n",
       "         [[ 1.685e+03,  0.000e+00,  3.869e+03,  0.000e+00],\n",
       "          [-5.408e+03, -1.000e+00, -4.249e+03, -1.000e+00],\n",
       "          [-5.396e+03, -1.000e+00,  6.680e+02,  0.000e+00]]]],\n",
       "       dtype=float32),\n",
       " 'VectorVectorActivation_rtl_0_param0': array([[[[ -4., -15., -30.],\n",
       "          [-26.,  -4.,  27.],\n",
       "          [ 22.,  12.,  23.]]],\n",
       " \n",
       " \n",
       "        [[[ 15.,   5., -29.],\n",
       "          [-20.,  17.,  13.],\n",
       "          [ -9., -26., -31.]]],\n",
       " \n",
       " \n",
       "        [[[ 22.,  15.,  -8.],\n",
       "          [ 29., -26., -27.],\n",
       "          [-10., -24., -12.]]],\n",
       " \n",
       " \n",
       "        [[[-22.,  27.,   0.],\n",
       "          [-12., -31., -15.],\n",
       "          [ 11.,   0.,  27.]]]], dtype=float32),\n",
       " 'ConvolutionInputGenerator_rtl_0_out0': array([[[[0., 0., 0., 0., 0., 0., 0., 0., 0., 0., 0., 0., 0., 0., 0.,\n",
       "           0., 0., 0., 0., 0., 0., 0., 0., 0., 0., 0., 0., 0., 0., 0.,\n",
       "           0., 0., 0., 0., 0., 0.],\n",
       "          [0., 0., 0., 0., 0., 0., 0., 0., 0., 0., 0., 0., 0., 0., 0.,\n",
       "           0., 0., 0., 0., 0., 0., 0., 0., 0., 0., 0., 0., 0., 0., 0.,\n",
       "           0., 0., 0., 0., 0., 0.],\n",
       "          [0., 0., 0., 0., 0., 0., 0., 0., 0., 0., 0., 0., 0., 0., 0.,\n",
       "           0., 0., 0., 0., 0., 0., 0., 0., 0., 0., 0., 0., 0., 0., 0.,\n",
       "           0., 0., 0., 0., 0., 0.]],\n",
       " \n",
       "         [[0., 0., 0., 0., 0., 0., 0., 0., 0., 0., 0., 0., 0., 0., 0.,\n",
       "           0., 0., 0., 0., 0., 0., 0., 0., 0., 0., 0., 0., 0., 0., 0.,\n",
       "           0., 0., 0., 0., 0., 0.],\n",
       "          [0., 0., 0., 0., 0., 0., 0., 0., 0., 0., 0., 0., 0., 0., 0.,\n",
       "           0., 0., 0., 0., 0., 0., 0., 0., 0., 0., 0., 0., 0., 0., 0.,\n",
       "           0., 0., 0., 0., 0., 0.],\n",
       "          [0., 0., 0., 0., 0., 0., 0., 0., 0., 0., 0., 0., 0., 0., 0.,\n",
       "           0., 0., 0., 0., 0., 0., 0., 0., 0., 0., 0., 0., 0., 0., 0.,\n",
       "           0., 0., 0., 0., 0., 0.]],\n",
       " \n",
       "         [[0., 0., 0., 0., 0., 0., 0., 0., 0., 0., 0., 0., 0., 0., 0.,\n",
       "           0., 0., 0., 0., 0., 0., 0., 0., 0., 0., 0., 0., 0., 0., 0.,\n",
       "           0., 0., 0., 0., 0., 0.],\n",
       "          [0., 0., 0., 0., 0., 0., 0., 0., 0., 0., 0., 0., 0., 0., 0.,\n",
       "           0., 0., 0., 0., 0., 0., 0., 0., 0., 0., 0., 0., 0., 0., 0.,\n",
       "           0., 0., 0., 0., 0., 0.],\n",
       "          [0., 0., 0., 0., 0., 0., 0., 0., 0., 0., 0., 0., 0., 0., 0.,\n",
       "           0., 0., 0., 0., 0., 0., 0., 0., 0., 0., 0., 0., 0., 0., 0.,\n",
       "           0., 0., 0., 0., 0., 0.]]]], dtype=float32),\n",
       " 'StreamingDataWidthConverter_ParallelWindow_Batch_0_out0': array([[[[0., 0., 0., 0., 0., 0., 0., 0., 0., 0., 0., 0., 0., 0., 0.,\n",
       "           0., 0., 0., 0., 0., 0., 0., 0., 0., 0., 0., 0., 0., 0., 0.,\n",
       "           0., 0., 0., 0., 0., 0.],\n",
       "          [0., 0., 0., 0., 0., 0., 0., 0., 0., 0., 0., 0., 0., 0., 0.,\n",
       "           0., 0., 0., 0., 0., 0., 0., 0., 0., 0., 0., 0., 0., 0., 0.,\n",
       "           0., 0., 0., 0., 0., 0.],\n",
       "          [0., 0., 0., 0., 0., 0., 0., 0., 0., 0., 0., 0., 0., 0., 0.,\n",
       "           0., 0., 0., 0., 0., 0., 0., 0., 0., 0., 0., 0., 0., 0., 0.,\n",
       "           0., 0., 0., 0., 0., 0.]],\n",
       " \n",
       "         [[0., 0., 0., 0., 0., 0., 0., 0., 0., 0., 0., 0., 0., 0., 0.,\n",
       "           0., 0., 0., 0., 0., 0., 0., 0., 0., 0., 0., 0., 0., 0., 0.,\n",
       "           0., 0., 0., 0., 0., 0.],\n",
       "          [0., 0., 0., 0., 0., 0., 0., 0., 0., 0., 0., 0., 0., 0., 0.,\n",
       "           0., 0., 0., 0., 0., 0., 0., 0., 0., 0., 0., 0., 0., 0., 0.,\n",
       "           0., 0., 0., 0., 0., 0.],\n",
       "          [0., 0., 0., 0., 0., 0., 0., 0., 0., 0., 0., 0., 0., 0., 0.,\n",
       "           0., 0., 0., 0., 0., 0., 0., 0., 0., 0., 0., 0., 0., 0., 0.,\n",
       "           0., 0., 0., 0., 0., 0.]],\n",
       " \n",
       "         [[0., 0., 0., 0., 0., 0., 0., 0., 0., 0., 0., 0., 0., 0., 0.,\n",
       "           0., 0., 0., 0., 0., 0., 0., 0., 0., 0., 0., 0., 0., 0., 0.,\n",
       "           0., 0., 0., 0., 0., 0.],\n",
       "          [0., 0., 0., 0., 0., 0., 0., 0., 0., 0., 0., 0., 0., 0., 0.,\n",
       "           0., 0., 0., 0., 0., 0., 0., 0., 0., 0., 0., 0., 0., 0., 0.,\n",
       "           0., 0., 0., 0., 0., 0.],\n",
       "          [0., 0., 0., 0., 0., 0., 0., 0., 0., 0., 0., 0., 0., 0., 0.,\n",
       "           0., 0., 0., 0., 0., 0., 0., 0., 0., 0., 0., 0., 0., 0., 0.,\n",
       "           0., 0., 0., 0., 0., 0.]]]], dtype=float32),\n",
       " 'StreamingFIFO_1_out0': array([[[[0., 0., 0., 0., 0., 0., 0., 0., 0., 0., 0., 0., 0., 0., 0.,\n",
       "           0., 0., 0., 0., 0., 0., 0., 0., 0., 0., 0., 0., 0., 0., 0.,\n",
       "           0., 0., 0., 0., 0., 0.],\n",
       "          [0., 0., 0., 0., 0., 0., 0., 0., 0., 0., 0., 0., 0., 0., 0.,\n",
       "           0., 0., 0., 0., 0., 0., 0., 0., 0., 0., 0., 0., 0., 0., 0.,\n",
       "           0., 0., 0., 0., 0., 0.],\n",
       "          [0., 0., 0., 0., 0., 0., 0., 0., 0., 0., 0., 0., 0., 0., 0.,\n",
       "           0., 0., 0., 0., 0., 0., 0., 0., 0., 0., 0., 0., 0., 0., 0.,\n",
       "           0., 0., 0., 0., 0., 0.]],\n",
       " \n",
       "         [[0., 0., 0., 0., 0., 0., 0., 0., 0., 0., 0., 0., 0., 0., 0.,\n",
       "           0., 0., 0., 0., 0., 0., 0., 0., 0., 0., 0., 0., 0., 0., 0.,\n",
       "           0., 0., 0., 0., 0., 0.],\n",
       "          [0., 0., 0., 0., 0., 0., 0., 0., 0., 0., 0., 0., 0., 0., 0.,\n",
       "           0., 0., 0., 0., 0., 0., 0., 0., 0., 0., 0., 0., 0., 0., 0.,\n",
       "           0., 0., 0., 0., 0., 0.],\n",
       "          [0., 0., 0., 0., 0., 0., 0., 0., 0., 0., 0., 0., 0., 0., 0.,\n",
       "           0., 0., 0., 0., 0., 0., 0., 0., 0., 0., 0., 0., 0., 0., 0.,\n",
       "           0., 0., 0., 0., 0., 0.]],\n",
       " \n",
       "         [[0., 0., 0., 0., 0., 0., 0., 0., 0., 0., 0., 0., 0., 0., 0.,\n",
       "           0., 0., 0., 0., 0., 0., 0., 0., 0., 0., 0., 0., 0., 0., 0.,\n",
       "           0., 0., 0., 0., 0., 0.],\n",
       "          [0., 0., 0., 0., 0., 0., 0., 0., 0., 0., 0., 0., 0., 0., 0.,\n",
       "           0., 0., 0., 0., 0., 0., 0., 0., 0., 0., 0., 0., 0., 0., 0.,\n",
       "           0., 0., 0., 0., 0., 0.],\n",
       "          [0., 0., 0., 0., 0., 0., 0., 0., 0., 0., 0., 0., 0., 0., 0.,\n",
       "           0., 0., 0., 0., 0., 0., 0., 0., 0., 0., 0., 0., 0., 0., 0.,\n",
       "           0., 0., 0., 0., 0., 0.]]]], dtype=float32),\n",
       " 'StreamingFIFO_2_out0': array([[[[0., 0., 0., 0., 0., 0., 0., 0., 0., 0., 0., 0., 0., 0., 0.,\n",
       "           0., 0., 0., 0., 0., 0., 0., 0., 0., 0., 0., 0., 0., 0., 0.,\n",
       "           0., 0., 0., 0., 0., 0.],\n",
       "          [0., 0., 0., 0., 0., 0., 0., 0., 0., 0., 0., 0., 0., 0., 0.,\n",
       "           0., 0., 0., 0., 0., 0., 0., 0., 0., 0., 0., 0., 0., 0., 0.,\n",
       "           0., 0., 0., 0., 0., 0.],\n",
       "          [0., 0., 0., 0., 0., 0., 0., 0., 0., 0., 0., 0., 0., 0., 0.,\n",
       "           0., 0., 0., 0., 0., 0., 0., 0., 0., 0., 0., 0., 0., 0., 0.,\n",
       "           0., 0., 0., 0., 0., 0.]],\n",
       " \n",
       "         [[0., 0., 0., 0., 0., 0., 0., 0., 0., 0., 0., 0., 0., 0., 0.,\n",
       "           0., 0., 0., 0., 0., 0., 0., 0., 0., 0., 0., 0., 0., 0., 0.,\n",
       "           0., 0., 0., 0., 0., 0.],\n",
       "          [0., 0., 0., 0., 0., 0., 0., 0., 0., 0., 0., 0., 0., 0., 0.,\n",
       "           0., 0., 0., 0., 0., 0., 0., 0., 0., 0., 0., 0., 0., 0., 0.,\n",
       "           0., 0., 0., 0., 0., 0.],\n",
       "          [0., 0., 0., 0., 0., 0., 0., 0., 0., 0., 0., 0., 0., 0., 0.,\n",
       "           0., 0., 0., 0., 0., 0., 0., 0., 0., 0., 0., 0., 0., 0., 0.,\n",
       "           0., 0., 0., 0., 0., 0.]],\n",
       " \n",
       "         [[0., 0., 0., 0., 0., 0., 0., 0., 0., 0., 0., 0., 0., 0., 0.,\n",
       "           0., 0., 0., 0., 0., 0., 0., 0., 0., 0., 0., 0., 0., 0., 0.,\n",
       "           0., 0., 0., 0., 0., 0.],\n",
       "          [0., 0., 0., 0., 0., 0., 0., 0., 0., 0., 0., 0., 0., 0., 0.,\n",
       "           0., 0., 0., 0., 0., 0., 0., 0., 0., 0., 0., 0., 0., 0., 0.,\n",
       "           0., 0., 0., 0., 0., 0.],\n",
       "          [0., 0., 0., 0., 0., 0., 0., 0., 0., 0., 0., 0., 0., 0., 0.,\n",
       "           0., 0., 0., 0., 0., 0., 0., 0., 0., 0., 0., 0., 0., 0., 0.,\n",
       "           0., 0., 0., 0., 0., 0.]]]], dtype=float32),\n",
       " 'StreamingFIFO_0_out0': array([[[[0., 0., 0., 0.],\n",
       "          [0., 0., 0., 0.],\n",
       "          [0., 0., 0., 0.],\n",
       "          [0., 0., 0., 0.],\n",
       "          [0., 0., 0., 0.]],\n",
       " \n",
       "         [[0., 0., 0., 0.],\n",
       "          [0., 0., 0., 0.],\n",
       "          [0., 0., 0., 0.],\n",
       "          [0., 0., 0., 0.],\n",
       "          [0., 0., 0., 0.]],\n",
       " \n",
       "         [[0., 0., 0., 0.],\n",
       "          [0., 0., 0., 0.],\n",
       "          [0., 0., 0., 0.],\n",
       "          [0., 0., 0., 0.],\n",
       "          [0., 0., 0., 0.]],\n",
       " \n",
       "         [[0., 0., 0., 0.],\n",
       "          [0., 0., 0., 0.],\n",
       "          [0., 0., 0., 0.],\n",
       "          [0., 0., 0., 0.],\n",
       "          [0., 0., 0., 0.]],\n",
       " \n",
       "         [[0., 0., 0., 0.],\n",
       "          [0., 0., 0., 0.],\n",
       "          [0., 0., 0., 0.],\n",
       "          [0., 0., 0., 0.],\n",
       "          [0., 0., 0., 0.]]]], dtype=float32)}"
      ]
     },
     "execution_count": 22,
     "metadata": {},
     "output_type": "execute_result"
    }
   ],
   "source": [
    "vvu_rtl_out"
   ]
  },
  {
   "cell_type": "code",
   "execution_count": 8,
   "id": "ad199485-8c53-4396-811f-17fe1a11e2db",
   "metadata": {},
   "outputs": [
    {
     "name": "stdout",
     "output_type": "stream",
     "text": [
      "0.13026771814254978\n",
      "0.047145530308804084\n",
      "0.8032996963778009\n",
      "0.0002831472334502824\n"
     ]
    }
   ],
   "source": [
    "a = 10.673539876937866\n",
    "a = a+1.1306219100952148\n",
    "a = a+5.44316291809082\n",
    "a = a+2.610429048538208\n",
    "a = a+5.802148818969727\n",
    "a = a+0.32395219802856445\n",
    "a = a+0.05273103713989258\n",
    "a = a+8.063836097717285\n",
    "a = a+326.1223919391632\n",
    "a = a+2425.6277453899384\n",
    "a = a+877.1852259635925\n",
    "a = a+14960.15063881874\n",
    "\n",
    "print(2426/a)\n",
    "print(878/a)\n",
    "print(14960/a)\n",
    "print(0.05273103713989258/a*100)"
   ]
  },
  {
   "cell_type": "code",
   "execution_count": 1,
   "id": "9dae69b1-0dee-467a-b456-37784f5ad61e",
   "metadata": {},
   "outputs": [
    {
     "name": "stdout",
     "output_type": "stream",
     "text": [
      "0.022927575284550226\n",
      "0.11218385460330386\n",
      "0.04164825602147656\n",
      "0.8207651262414218\n"
     ]
    }
   ],
   "source": [
    "a = 10.251316547393799\n",
    "a = a+ 1.1076984405517578\n",
    "a = a+5.140721082687378\n",
    "a = a+2.5184714794158936\n",
    "a = a+ 5.734774589538574\n",
    "a = a+ 0.3354811668395996\n",
    "a = a+ 0.0513148307800293\n",
    "a = a+ 7.986029148101807\n",
    "a = a+ 327.8631513118744\n",
    "a = a+ 1600.0939083099365\n",
    "a = a+ 594.3238687515259\n",
    "a = a+ 11706.895140647888\n",
    "\n",
    "print(327/a)\n",
    "print(1600/a)\n",
    "print(594/a)\n",
    "print(11706/a)"
   ]
  }
 ],
 "metadata": {
  "kernelspec": {
   "display_name": "Python 3 (ipykernel)",
   "language": "python",
   "name": "python3"
  },
  "language_info": {
   "codemirror_mode": {
    "name": "ipython",
    "version": 3
   },
   "file_extension": ".py",
   "mimetype": "text/x-python",
   "name": "python",
   "nbconvert_exporter": "python",
   "pygments_lexer": "ipython3",
   "version": "3.10.12"
  }
 },
 "nbformat": 4,
 "nbformat_minor": 5
}
