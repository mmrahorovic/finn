{
 "cells": [
  {
   "cell_type": "code",
   "execution_count": 38,
   "metadata": {},
   "outputs": [],
   "source": [
    "from onnx import TensorProto, helper\n",
    "import numpy as np\n",
    "import pytest\n",
    "\n",
    "from finn.core.datatype import DataType\n",
    "from finn.transformation.infer_shapes import InferShapes\n",
    "from finn.transformation.infer_datatypes import InferDataTypes\n",
    "from finn.transformation.general import GiveUniqueNodeNames\n",
    "from finn.transformation.lower_convs_to_matmul import LowerConvsToMatMul\n",
    "\n",
    "from finn.transformation.fpgadataflow.prepare_ip import PrepareIP\n",
    "from finn.transformation.fpgadataflow.prepare_rtlsim import PrepareRTLSim\n",
    "from finn.transformation.fpgadataflow.hlssynth_ip import HLSSynthIP\n",
    "import finn.core.onnx_exec as oxe\n",
    "from finn.core.modelwrapper import ModelWrapper\n",
    "from finn.util.basic import gen_finn_dt_tensor\n",
    "import finn.transformation.fpgadataflow.convert_to_hls_layers as to_hls\n",
    "\n",
    "from finn.transformation.fpgadataflow.prepare_cppsim import PrepareCppSim\n",
    "from finn.transformation.fpgadataflow.compile_cppsim import CompileCppSim\n",
    "from finn.transformation.fpgadataflow.set_exec_mode import SetExecMode\n",
    "from finn.custom_op.general.im2col import compute_conv_output_dim\n",
    "from finn.custom_op.registry import getCustomOp\n",
    "from finn.analysis.fpgadataflow.exp_cycles_per_layer import exp_cycles_per_layer\n",
    "\n",
    "\n",
    "def test_convert_to_hls_conv_layer(conv_config, depthwise, exec_mode):\n",
    "    kernel_size, stride, pad = conv_config\n",
    "    np.random.seed(0)\n",
    "    idt = DataType.UINT4\n",
    "\n",
    "    in_feature_dim = 7\n",
    "    in_chn = 16\n",
    "\n",
    "    if depthwise is True:\n",
    "        group = out_chn = in_chn\n",
    "        conv_param_shape = [out_chn, 1, kernel_size, kernel_size]\n",
    "    else:\n",
    "        group = 1\n",
    "        out_chn = 20\n",
    "        conv_param_shape = [out_chn, in_chn, kernel_size, kernel_size]\n",
    "\n",
    "    out_feature_dim = compute_conv_output_dim(in_feature_dim, kernel_size, stride, pad)\n",
    "\n",
    "    input_shape = [1, in_chn, in_feature_dim, in_feature_dim]\n",
    "    output_shape = [1, out_chn, out_feature_dim, out_feature_dim]\n",
    "\n",
    "    conv_weight_dt = DataType.UINT4\n",
    "\n",
    "    conv_config = {}\n",
    "    conv_config[\"dilations\"] = [1, 1]\n",
    "    conv_config[\"group\"] = group\n",
    "    conv_config[\"kernel_shape\"] = [kernel_size, kernel_size]\n",
    "    conv_config[\"pads\"] = [pad, pad, pad, pad]\n",
    "    conv_config[\"strides\"] = [stride, stride]\n",
    "\n",
    "    top_in = helper.make_tensor_value_info(\"top_in\", TensorProto.FLOAT, input_shape)\n",
    "    top_out = helper.make_tensor_value_info(\"top_out\", TensorProto.FLOAT, output_shape)\n",
    "    value_info = [\n",
    "        helper.make_tensor_value_info(\"p1\", TensorProto.FLOAT, conv_param_shape)\n",
    "    ]\n",
    "\n",
    "    modelproto = helper.make_model(\n",
    "        helper.make_graph(\n",
    "            name=\"conv_test\",\n",
    "            inputs=[top_in],\n",
    "            outputs=[top_out],\n",
    "            value_info=value_info,\n",
    "            nodes=[\n",
    "                helper.make_node(\"Conv\", [\"top_in\", \"p1\"], [\"top_out\"], **conv_config)\n",
    "            ],\n",
    "        )\n",
    "    )\n",
    "\n",
    "    model = ModelWrapper(modelproto)\n",
    "    model.set_tensor_datatype(\"top_in\", idt)\n",
    "    model.set_tensor_datatype(\"top_out\", idt)\n",
    "    model.set_tensor_datatype(\"p1\", conv_weight_dt)\n",
    "    model.set_initializer(\"p1\", gen_finn_dt_tensor(conv_weight_dt, conv_param_shape))\n",
    "\n",
    "    model = model.transform(InferShapes())\n",
    "    model = model.transform(InferDataTypes())\n",
    "\n",
    "    model.save(\"/tmp/conv.onnx\")\n",
    "    new_model = model.transform(LowerConvsToMatMul())\n",
    "    new_model.save(\"/tmp/conv_lowered.onnx\")\n",
    "    new_model = new_model.transform(to_hls.InferConvInpGen())\n",
    "    new_model.save(\"/tmp/conv_inferConvInpGen.onnx\")\n",
    "    if depthwise is True:\n",
    "        new_model = new_model.transform(to_hls.InferVVAU())\n",
    "        new_model.save(\"/tmp/conv_dws_inferVVAU.onnx\")\n",
    "    else:\n",
    "        new_model = new_model.transform(to_hls.InferQuantizedStreamingFCLayer())\n",
    "        new_model.save(\"/tmp/conv_regular_inferQuantizedStreamingFCLayer.onnx\")\n",
    "        fc_node = new_model.get_nodes_by_op_type(\"StreamingFCLayer_Batch\")[0]\n",
    "        fc_inst = getCustomOp(fc_node)\n",
    "        mw = fc_inst.get_nodeattr(\"MW\")\n",
    "        mh = fc_inst.get_nodeattr(\"MH\")\n",
    "        pe_cands = list(filter(lambda x: mh % x == 0, range(2, mh + 1)))\n",
    "        simd_cands = list(filter(lambda x: mw % x == 0, range(2, mw + 1)))\n",
    "        fc_inst.set_nodeattr(\"PE\", pe_cands[0])\n",
    "        fc_inst.set_nodeattr(\"SIMD\", simd_cands[0])\n",
    "\n",
    "    new_model = new_model.transform(GiveUniqueNodeNames())\n",
    "    new_model = new_model.transform(InferShapes())\n",
    "    new_model = new_model.transform(InferDataTypes())\n",
    "\n",
    "    if exec_mode == \"cppsim\":\n",
    "        new_model = new_model.transform(PrepareCppSim())\n",
    "        new_model.save(\"/tmp/conv_prepareCppSim.onnx\")\n",
    "        import sys\n",
    "        sys.exit()\n",
    "        #new_model = new_model.transform(CompileCppSim())\n",
    "        new_model = new_model.transform(SetExecMode(\"cppsim\"))\n",
    "    elif exec_mode == \"rtlsim\":\n",
    "        new_model = new_model.transform(SetExecMode(\"rtlsim\"))\n",
    "        new_model = new_model.transform(GiveUniqueNodeNames())\n",
    "        new_model = new_model.transform(PrepareIP(\"xc7z020clg400-1\", 5))\n",
    "        new_model = new_model.transform(HLSSynthIP())\n",
    "        new_model = new_model.transform(PrepareRTLSim())\n",
    "    else:\n",
    "        raise Exception(\"Unknown exec_mode\")\n",
    "\n",
    "    x = gen_finn_dt_tensor(idt, input_shape)\n",
    "    inp_dict = {model.graph.input[0].name: x}\n",
    "    assert oxe.compare_execution(model, new_model, inp_dict)\n",
    "    if kernel_size == 1 and stride > 1 and pad == 0:\n",
    "        assert new_model.graph.node[1].op_type == \"DownSampler\"\n",
    "        if exec_mode == \"rtlsim\":\n",
    "            node = new_model.get_nodes_by_op_type(\"DownSampler\")[0]\n",
    "            inst = getCustomOp(node)\n",
    "            cycles_rtlsim = inst.get_nodeattr(\"cycles_rtlsim\")\n",
    "            exp_cycles_dict = new_model.analysis(exp_cycles_per_layer)\n",
    "            exp_cycles = exp_cycles_dict[node.name]\n",
    "            assert np.isclose(exp_cycles, cycles_rtlsim, atol=11)\n",
    "            assert exp_cycles != 0\n",
    "\n",
    "    if pad == 1:\n",
    "        padding_node = new_model.get_nodes_by_op_type(\"FMPadding_Batch\")[0]\n",
    "        padding_inst = getCustomOp(padding_node)\n",
    "        assert padding_inst.get_nodeattr(\"SIMD\") == in_chn\n",
    "\n",
    "    if depthwise is True and exec_mode == \"rtlsim\":\n",
    "        node = new_model.get_nodes_by_op_type(\"Vector_Vector_Activate_Batch\")[0]\n",
    "        inst = getCustomOp(node)\n",
    "        cycles_rtlsim = inst.get_nodeattr(\"cycles_rtlsim\")\n",
    "        exp_cycles_dict = new_model.analysis(exp_cycles_per_layer)\n",
    "        exp_cycles = exp_cycles_dict[node.name]\n",
    "        assert np.isclose(exp_cycles, cycles_rtlsim, atol=11)\n",
    "        assert exp_cycles != 0"
   ]
  },
  {
   "cell_type": "code",
   "execution_count": 39,
   "metadata": {},
   "outputs": [
    {
     "ename": "SystemExit",
     "evalue": "",
     "output_type": "error",
     "traceback": [
      "An exception has occurred, use %tb to see the full traceback.\n",
      "\u001b[0;31mSystemExit\u001b[0m\n"
     ]
    }
   ],
   "source": [
    "conv_config = (1,2,0)\n",
    "depthwise=False\n",
    "exec_mode=\"cppsim\"\n",
    "\n",
    "test_convert_to_hls_conv_layer(conv_config, depthwise, exec_mode)"
   ]
  },
  {
   "cell_type": "code",
   "execution_count": 40,
   "metadata": {},
   "outputs": [
    {
     "name": "stdout",
     "output_type": "stream",
     "text": [
      "\n",
      "Stopping http://0.0.0.0:8081\n",
      "Serving '/tmp/conv_prepareCppSim.onnx' at http://0.0.0.0:8081\n"
     ]
    },
    {
     "data": {
      "text/html": [
       "\n",
       "        <iframe\n",
       "            width=\"100%\"\n",
       "            height=\"400\"\n",
       "            src=\"http://0.0.0.0:8081/\"\n",
       "            frameborder=\"0\"\n",
       "            allowfullscreen\n",
       "        ></iframe>\n",
       "        "
      ],
      "text/plain": [
       "<IPython.lib.display.IFrame at 0x7f902a6bcd30>"
      ]
     },
     "execution_count": 40,
     "metadata": {},
     "output_type": "execute_result"
    }
   ],
   "source": [
    "from finn.util.visualization import showInNetron\n",
    "\n",
    "file1 = \"/tmp/conv.onnx\"\n",
    "file2 = \"/tmp/conv_lowered.onnx\"\n",
    "file3 = \"/tmp/conv_inferConvInpGen.onnx\"\n",
    "file4 = \"/tmp/conv_dws_inferVVAU.onnx\"\n",
    "file5 = \"/tmp/conv_regular_inferQuantizedStreamingFCLayer.onnx\"\n",
    "\n",
    "showInNetron(\"/tmp/conv_prepareCppSim.onnx\")"
   ]
  },
  {
   "cell_type": "code",
   "execution_count": 41,
   "metadata": {},
   "outputs": [
    {
     "name": "stdout",
     "output_type": "stream",
     "text": [
      "\n",
      "Stopping http://0.0.0.0:8081\n",
      "Serving '/tmp/quartznet.onnx' at http://0.0.0.0:8081\n"
     ]
    },
    {
     "data": {
      "text/html": [
       "\n",
       "        <iframe\n",
       "            width=\"100%\"\n",
       "            height=\"400\"\n",
       "            src=\"http://0.0.0.0:8081/\"\n",
       "            frameborder=\"0\"\n",
       "            allowfullscreen\n",
       "        ></iframe>\n",
       "        "
      ],
      "text/plain": [
       "<IPython.lib.display.IFrame at 0x7f902bf35128>"
      ]
     },
     "execution_count": 41,
     "metadata": {},
     "output_type": "execute_result"
    }
   ],
   "source": [
    "\n",
    "showInNetron(\"/tmp/quartznet.onnx\")"
   ]
  }
 ],
 "metadata": {
  "kernelspec": {
   "display_name": "Python 3",
   "language": "python",
   "name": "python3"
  },
  "language_info": {
   "codemirror_mode": {
    "name": "ipython",
    "version": 3
   },
   "file_extension": ".py",
   "mimetype": "text/x-python",
   "name": "python",
   "nbconvert_exporter": "python",
   "pygments_lexer": "ipython3",
   "version": "3.6.8"
  }
 },
 "nbformat": 4,
 "nbformat_minor": 4
}
