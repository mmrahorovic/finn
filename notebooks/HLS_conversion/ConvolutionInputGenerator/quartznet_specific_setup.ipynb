{
 "cells": [
  {
   "cell_type": "code",
   "execution_count": 3,
   "id": "preceding-massage",
   "metadata": {},
   "outputs": [],
   "source": [
    "import numpy as np\n",
    "\n",
    "from onnx import TensorProto, helper\n",
    "\n",
    "import finn.core.onnx_exec as oxe\n",
    "from finn.core.datatype import DataType\n",
    "from finn.core.modelwrapper import ModelWrapper\n",
    "from finn.transformation.fpgadataflow.prepare_ip import PrepareIP\n",
    "from finn.transformation.fpgadataflow.prepare_cppsim import PrepareCppSim\n",
    "from finn.transformation.fpgadataflow.compile_cppsim import CompileCppSim\n",
    "from finn.transformation.fpgadataflow.hlssynth_ip import HLSSynthIP\n",
    "from finn.transformation.fpgadataflow.set_exec_mode import SetExecMode\n",
    "from finn.transformation.fpgadataflow.prepare_rtlsim import PrepareRTLSim\n",
    "from finn.transformation.general import GiveUniqueNodeNames\n",
    "from finn.util.basic import gen_finn_dt_tensor\n",
    "\n",
    "from finn.custom_op.registry import getCustomOp\n",
    "from finn.analysis.fpgadataflow.exp_cycles_per_layer import exp_cycles_per_layer\n",
    "from finn.analysis.fpgadataflow.res_estimation import res_estimation\n",
    "from finn.analysis.fpgadataflow.hls_synth_res_estimation import hls_synth_res_estimation\n",
    "from finn.custom_op.general.im2col import compute_conv_output_dim\n",
    "\n",
    "\n",
    "def make_single_im2col_modelwrapper(\n",
    "    k_h, k_w, ifm_ch, ifm_dim_h, ifm_dim_w, ofm_dim_h, ofm_dim_w,\n",
    "    simd, stride_h, stride_w, dilation, idt\n",
    "):\n",
    "    odt = idt\n",
    "    inp = helper.make_tensor_value_info(\n",
    "        \"inp\", TensorProto.FLOAT, [1, ifm_dim_h, ifm_dim_w, ifm_ch]\n",
    "    )\n",
    "    outp = helper.make_tensor_value_info(\n",
    "        \"outp\", TensorProto.FLOAT, [1, ofm_dim_h, ofm_dim_w, k_h * k_w * ifm_ch]\n",
    "    )\n",
    "    \n",
    "    # Assume dilation of 1 along 'dummy' dimension always\n",
    "    if k_h==1 and ifm_dim_h==1 and ofm_dim_h==1:\n",
    "        dilation_h = 1\n",
    "        dilation_w = dilation\n",
    "    else:\n",
    "        dilation_w = dilation\n",
    "        dilation_h = dilation\n",
    "\n",
    "    im2col_node = helper.make_node(\n",
    "        \"Im2Col\",\n",
    "        [\"inp\"],\n",
    "        [\"outp\"],\n",
    "        domain=\"finn.custom_op.general\",\n",
    "        backend=\"fpgadataflow\",\n",
    "        stride=[stride_h, stride_w],\n",
    "        kernel_size=[k_h, k_w],\n",
    "        input_shape=str((1, ifm_dim_h, ifm_dim_w, ifm_ch)),\n",
    "        dilations=[dilation_h, dilation_w],\n",
    "        pad_amount=[0, 0, 0, 0],\n",
    "        pad_value=0,\n",
    "    )\n",
    "    graph = helper.make_graph(\n",
    "        nodes=[im2col_node], name=\"im2col_graph\", inputs=[inp], outputs=[outp]\n",
    "    )\n",
    "\n",
    "    model = helper.make_model(graph, producer_name=\"im2col-model\")\n",
    "    model = ModelWrapper(model)\n",
    "\n",
    "    model.set_tensor_datatype(\"inp\", idt)\n",
    "    model.set_tensor_datatype(\"outp\", odt)\n",
    "\n",
    "    return model\n",
    "\n",
    "\n",
    "def make_single_slidingwindow_modelwrapper(\n",
    "    k_h, k_w, ifm_ch, ifm_dim_h, ifm_dim_w, ofm_dim_h, ofm_dim_w, simd,\n",
    "    stride_h, stride_w, dilation, idt, dw=0\n",
    "):\n",
    "    odt = idt\n",
    "    inp = helper.make_tensor_value_info(\n",
    "        \"inp\", TensorProto.FLOAT, [1, ifm_dim_h, ifm_dim_w, ifm_ch]\n",
    "    )\n",
    "    outp = helper.make_tensor_value_info(\n",
    "        \"outp\", TensorProto.FLOAT, [1, ofm_dim_h, ofm_dim_w, k_h * k_w * ifm_ch]\n",
    "    )\n",
    "    \n",
    "    # Assume dilation of 1 along 'dummy' dimension always\n",
    "    if k_h==1 and ifm_dim_h==1 and ofm_dim_h==1:\n",
    "        dilation_h = 1\n",
    "        dilation_w = dilation\n",
    "    else:\n",
    "        dilation_w = dilation\n",
    "        dilation_h = dilation\n",
    "\n",
    "    SlidingWindow_node = helper.make_node(\n",
    "        \"ConvolutionInputGenerator1D\",\n",
    "        [\"inp\"],\n",
    "        [\"outp\"],\n",
    "        domain=\"finn.custom_op.fpgadataflow\",\n",
    "        backend=\"fpgadataflow\",\n",
    "        ConvKernelDim=[k_h, k_w],\n",
    "        IFMChannels=ifm_ch,\n",
    "        IFMDim=[ifm_dim_h, ifm_dim_w],\n",
    "        OFMDim=[ofm_dim_h, ofm_dim_w],\n",
    "        SIMD=simd,\n",
    "        Stride=[stride_h, stride_w],\n",
    "        Dilation=[dilation_h, dilation_w],\n",
    "        inputDataType=idt.name,\n",
    "        outputDataType=odt.name,\n",
    "        depthwise=dw,\n",
    "    )\n",
    "    graph = helper.make_graph(\n",
    "        nodes=[SlidingWindow_node],\n",
    "        name=\"slidingwindow_graph\",\n",
    "        inputs=[inp],\n",
    "        outputs=[outp],\n",
    "    )\n",
    "\n",
    "    model = helper.make_model(graph, producer_name=\"slidingwindow-model\")\n",
    "    model = ModelWrapper(model)\n",
    "\n",
    "    model.set_tensor_datatype(\"inp\", idt)\n",
    "    model.set_tensor_datatype(\"outp\", odt)\n",
    "\n",
    "    return model\n",
    "\n",
    "\n",
    "def prepare_inputs(input_tensor):\n",
    "    return {\"inp\": input_tensor}\n",
    "\n",
    "\n",
    "def test_fpgadataflow_slidingwindow(\n",
    "    idt, k_h, k_w, ifm_dim_h, ifm_dim_w, ifm_ch, stride_h, stride_w, dilation, exec_mode, simd, dw\n",
    "):\n",
    "    ofm_dim_h = compute_conv_output_dim(ifm_dim_h, k_h, stride_h, 0, dilation)\n",
    "    ofm_dim_w = compute_conv_output_dim(ifm_dim_w, k_w, stride_w, 0, dilation)\n",
    "\n",
    "    x = gen_finn_dt_tensor(idt, (1, ifm_dim_h, ifm_dim_w, ifm_ch))\n",
    "    \n",
    "    model = make_single_slidingwindow_modelwrapper(\n",
    "        k_h = k_h, k_w = k_w, ifm_ch = ifm_ch, ifm_dim_h = ifm_dim_h, ifm_dim_w = ifm_dim_w,\n",
    "        ofm_dim_h = ofm_dim_h, ofm_dim_w = ofm_dim_w, simd = simd, stride_h = stride_h,\n",
    "        stride_w = stride_w, dilation=dilation, idt=idt, dw=dw\n",
    "    )\n",
    "    \n",
    "    model.save(\"/tmp/test_convInputGenerator.onnx\")\n",
    "\n",
    "    if exec_mode == \"cppsim\":\n",
    "        model = model.transform(SetExecMode(\"cppsim\"))\n",
    "        model = model.transform(PrepareCppSim())\n",
    "        model = model.transform(CompileCppSim())\n",
    "        model.save(\"/tmp/test_convInputGenerator_compiled.onnx\")\n",
    "    elif exec_mode == \"rtlsim\":\n",
    "        model = model.transform(SetExecMode(\"rtlsim\"))\n",
    "        model = model.transform(GiveUniqueNodeNames())\n",
    "        model = model.transform(PrepareIP(\"xcu250-figd2104-2L-e\", 5))\n",
    "        model = model.transform(HLSSynthIP())\n",
    "        model = model.transform(PrepareRTLSim())\n",
    "        model.save(\"/tmp/test_convInputGenerator_compiled_rtlsim.onnx\")\n",
    "    else:\n",
    "        raise Exception(\"Unknown exec_mode in test_fpgadataflow_slidingwindow\")\n",
    "\n",
    "    # prepare input data\n",
    "    input_dict = prepare_inputs(x)\n",
    "    # execute model\n",
    "    y_produced = oxe.execute_onnx(model, input_dict)[\"outp\"]\n",
    "    golden = make_single_im2col_modelwrapper(\n",
    "        k_h = k_h, k_w = k_w, ifm_ch = ifm_ch, ifm_dim_h = ifm_dim_h, ifm_dim_w = ifm_dim_w,\n",
    "        ofm_dim_h = ofm_dim_h, ofm_dim_w = ofm_dim_w, simd = simd, stride_h = stride_h,\n",
    "        stride_w = stride_w, dilation = dilation, idt = idt\n",
    "    )\n",
    "    golden.save(\"/tmp/test_convInputGenerator_im2col.onnx\")\n",
    "    y_expected = oxe.execute_onnx(golden, input_dict)[\"outp\"]\n",
    "    \n",
    "    if dw == 0:\n",
    "        assert (y_produced == y_expected).all()\n",
    "        return x, y_produced, y_expected\n",
    "    else:\n",
    "        y_expected = y_expected.reshape(\n",
    "            1, ofm_dim_h, ofm_dim_w, k_h * k_w, ifm_ch // simd, simd\n",
    "        )\n",
    "        y_expected = y_expected.transpose(0, 1, 2, 4, 3, 5)\n",
    "        y_expected = y_expected.reshape(1, ofm_dim_h, ofm_dim_w, ifm_ch * k_h * k_w)        \n",
    "        assert (y_produced == y_expected).all()\n",
    "        return x, y_produced, y_expected\n",
    "\n",
    "    if exec_mode == \"rtlsim\":\n",
    "        node = model.get_nodes_by_op_type(\"ConvolutionInputGenerator1D\")[0]\n",
    "        inst = getCustomOp(node)\n",
    "        cycles_rtlsim = inst.get_nodeattr(\"cycles_rtlsim\")\n",
    "        exp_cycles_dict = model.analysis(exp_cycles_per_layer)\n",
    "        exp_cycles = exp_cycles_dict[node.name]\n",
    "        print(\"---------------\\n{}\\t{}\".format(cycles_rtlsim, exp_cycles))\n",
    "        assert np.isclose(exp_cycles, cycles_rtlsim, atol=10)\n",
    "        assert exp_cycles != 0\n",
    "        \n",
    "        exp_resources = model.analysis(res_estimation)\n",
    "        hls_resources = model.analysis(hls_synth_res_estimation)\n",
    "        print(\"---------------\\nExp:{}\\nHLS:{}\".format(exp_resources, hls_resources))\n",
    "        "
   ]
  },
  {
   "cell_type": "code",
   "execution_count": 5,
   "id": "peripheral-cinema",
   "metadata": {},
   "outputs": [],
   "source": [
    "# config = [IH, IW, KH, KW, SH, SW, ICH, D, \"cppsim\", SIMD=1, DW]\n",
    "\n",
    "config1 = [288, 1, 33, 1, 2, 2, 64, 1, \"cppsim\", 1, 1]  # fails\n",
    "config1_T = [1, 288, 1, 33, 1, 2, 64, 1, \"cppsim\", 1, 1]  # fails\n",
    "# The one that works:\n",
    "config1 = [1,   288, 1,  33, 2, 2, 64, 1, \"cppsim\", 1, 1] # works ConvolutionInputGenerator_NonSquare_dws\n",
    "\n",
    "config2 = [160, 1, 33, 1, 1, 1, 256, 1, \"rtlsim\", 1, 1] # works ConvolutionInputGenerator_NonSquare_dws\n",
    "config2_T = [1, 160, 1, 33, 1, 1, 256, 1, \"cppsim\", 1, 1] # works ConvolutionInputGenerator_NonSquare_dws\n",
    "\n",
    "config3 = [166, 1, 39, 1, 1, 1, 256, 1, \"cppsim\", 1, 1] # works ConvolutionInputGenerator_NonSquare_dws\n",
    "config3_T = [1, 166, 1, 39, 1, 1, 256, 1, \"cppsim\", 1, 1] # works ConvolutionInputGenerator_NonSquare_dws\n",
    "\n",
    "config4 = [178, 1, 51, 1, 1, 1, 256, 1, \"cppsim\", 1, 1] # works ConvolutionInputGenerator_NonSquare_dws\n",
    "config4_T = [1, 178, 1, 51, 1, 1, 256, 1, \"cppsim\", 1, 1] # works ConvolutionInputGenerator_NonSquare_dws\n",
    "\n",
    "config5 = [178, 1, 51, 1, 1, 1, 512, 1, \"cppsim\", 1, 1] # works ConvolutionInputGenerator_NonSquare_dws\n",
    "config5_T = [1, 178, 1, 51, 1, 1, 512, 1, \"cppsim\", 1, 1] # works ConvolutionInputGenerator_NonSquare_dws\n",
    "\n",
    "config6 = [190, 1, 63, 1, 1, 1, 512, 1, \"cppsim\", 1, 1] # works ConvolutionInputGenerator_NonSquare_dws\n",
    "config6_T = [1, 190, 1, 63, 1, 1, 512, 1, \"cppsim\", 1, 1] # works ConvolutionInputGenerator_NonSquare_dws\n",
    "\n",
    "config7 = [202, 1, 75, 1, 1, 1, 512, 1, \"cppsim\", 1, 1] # works ConvolutionInputGenerator_NonSquare_dws\n",
    "config7_T = [1, 202, 1, 75, 1, 1, 512, 1, \"cppsim\", 1, 1] # works ConvolutionInputGenerator_NonSquare_dws\n",
    "\n",
    "config8 = [300, 1, 87, 1, 1, 1, 512, 2, \"cppsim\", 1, 1] # fails ConvolutionInputGenerator_NonSquare_Dilated\n",
    "config8_T = [1, 300, 1, 87, 1, 1, 512, 2, \"cppsim\", 1, 1] # fails ConvolutionInputGenerator_NonSquare_Dilated\n",
    "# The one that works:\n",
    "config8 = [1, 300, 1, 87, 1, 1, 512, 2, \"cppsim\", 1, 1] # works ConvolutionInputGenerator_NonSquare_dws\n",
    "\n",
    "##### After changing [H, W] -> [X, Y] assumption\n",
    "#config = [10, 1, 2, 1, 1, 1, 3, 1, \"cppsim\", 1, 1]\n",
    "\n",
    "config = [160, 1, 33, 1, 1, 1, 256, 1, 'cppsim', 1, 1]\n",
    "\n",
    "#config = [288, 1, 33, 1, 2, 1, 64, 1, \"cppsim\", 1, 1]\n",
    "#x, y_produced, y_expected = test_fpgadataflow_slidingwindow(DataType.INT8, config[2], config[3], config[0], config[1], config[6],\n",
    "#                                config[4], config[5], config[7], config[8], config[9], config[10])\n",
    "\n",
    "x, y_produced, y_expected = test_fpgadataflow_slidingwindow(DataType.INT8, config[2], config[3], config[0], config[1], config[6],\n",
    "                                config[4], config[5], config[7], config[8], config[9], config[10])\n",
    "\n"
   ]
  },
  {
   "cell_type": "code",
   "execution_count": null,
   "id": "settled-attempt",
   "metadata": {},
   "outputs": [],
   "source": [
    "assert((y_produced==y_expected).all())"
   ]
  },
  {
   "cell_type": "code",
   "execution_count": 24,
   "id": "operational-argentina",
   "metadata": {},
   "outputs": [
    {
     "name": "stdout",
     "output_type": "stream",
     "text": [
      "[[[[-66.  -6.]\n",
      "   [ 62. 103.]]\n",
      "\n",
      "  [[ 50. -73.]\n",
      "   [ 94.  75.]]]]\n"
     ]
    }
   ],
   "source": [
    "print(x)"
   ]
  },
  {
   "cell_type": "code",
   "execution_count": 31,
   "id": "alert-scanner",
   "metadata": {},
   "outputs": [
    {
     "name": "stdout",
     "output_type": "stream",
     "text": [
      "(1, 4, 2, 12)\n",
      "[[[[ -11.  -50.  -98.  -91.  -95.  -90. -121.   80.  -40. -105.  -99.\n",
      "     -27.]\n",
      "   [ -95.  -90.  -78.  -63.  -64.  -83.  -99.  -27.  111.  125.  110.\n",
      "    -109.]]\n",
      "\n",
      "  [[  70. -116. -123.   30.  -85.  -30. -114.   27.  100.  100.   20.\n",
      "      23.]\n",
      "   [ -85.  -30.  -82.  106.  110.  -29.   20.   23.  -59. -106.   67.\n",
      "     -61.]]\n",
      "\n",
      "  [[ -13.    6.  -27.    0.  110. -122.  -36. -127.   26.  112.  -46.\n",
      "       0.]\n",
      "   [ 110. -122.  -55. -104.   21.   -7.  -46.    0.  -57.  123.   50.\n",
      "      88.]]\n",
      "\n",
      "  [[ 109.   37. -110.  -44. -110. -124.  -43.   82.  -95.   -3.   57.\n",
      "      11.]\n",
      "   [-110. -124.  -58. -109.   85.   -3.   57.   11.   53.  -31.   23.\n",
      "     119.]]]]\n"
     ]
    }
   ],
   "source": [
    "print(np.shape(y_expected))\n",
    "print(y_expected)"
   ]
  },
  {
   "cell_type": "code",
   "execution_count": 32,
   "id": "spare-xerox",
   "metadata": {},
   "outputs": [
    {
     "name": "stdout",
     "output_type": "stream",
     "text": [
      "(1, 4, 2, 12)\n",
      "[[[[ -11.  -50.  -98.  -91.  -95.  -90.  -99.  -27.  111.  125.  110.\n",
      "    -109.]\n",
      "   [ -95.  -90.  -78.  -63.  -64.  -83.  110. -109.   25. -115.   70.\n",
      "    -116.]]\n",
      "\n",
      "  [[  70. -116. -123.   30.  -85.  -30.   20.   23.  -59. -106.   67.\n",
      "     -61.]\n",
      "   [ -85.  -30.  -82.  106.  110.  -29.   67.  -61.  -30.  105.   56.\n",
      "    -107.]]\n",
      "\n",
      "  [[ -13.    6.  -27.    0.  110. -122.  -46.    0.  -57.  123.   50.\n",
      "      88.]\n",
      "   [ 110. -122.  -55. -104.   21.   -7.   50.   88. -113.  -35.  109.\n",
      "      37.]]\n",
      "\n",
      "  [[ 109.   37. -110.  -44. -110. -124.   57.   11.   53.  -31.   23.\n",
      "     119.]\n",
      "   [-110. -124.  -58. -109.   85.   -3.   23.  119.  -17.    4.   56.\n",
      "    -107.]]]]\n"
     ]
    }
   ],
   "source": [
    "print(np.shape(y_produced))\n",
    "print(y_produced)"
   ]
  },
  {
   "cell_type": "code",
   "execution_count": 10,
   "id": "mysterious-mobility",
   "metadata": {},
   "outputs": [
    {
     "ename": "OSError",
     "evalue": "[Errno 98] Address already in use",
     "output_type": "error",
     "traceback": [
      "\u001b[0;31m---------------------------------------------------------------------------\u001b[0m",
      "\u001b[0;31mOSError\u001b[0m                                   Traceback (most recent call last)",
      "\u001b[0;32m<ipython-input-10-3abff08ff61e>\u001b[0m in \u001b[0;36m<module>\u001b[0;34m\u001b[0m\n\u001b[1;32m      1\u001b[0m \u001b[0;32mfrom\u001b[0m \u001b[0mfinn\u001b[0m\u001b[0;34m.\u001b[0m\u001b[0mutil\u001b[0m\u001b[0;34m.\u001b[0m\u001b[0mvisualization\u001b[0m \u001b[0;32mimport\u001b[0m \u001b[0mshowInNetron\u001b[0m\u001b[0;34m\u001b[0m\u001b[0;34m\u001b[0m\u001b[0m\n\u001b[1;32m      2\u001b[0m \u001b[0;34m\u001b[0m\u001b[0m\n\u001b[0;32m----> 3\u001b[0;31m \u001b[0mshowInNetron\u001b[0m\u001b[0;34m(\u001b[0m\u001b[0;34m\"/tmp/test_convInputGenerator_compiled_rtlsim.onnx\"\u001b[0m\u001b[0;34m)\u001b[0m\u001b[0;34m\u001b[0m\u001b[0;34m\u001b[0m\u001b[0m\n\u001b[0m",
      "\u001b[0;32m/workspace/finn/src/finn/util/visualization.py\u001b[0m in \u001b[0;36mshowInNetron\u001b[0;34m(model_filename)\u001b[0m\n\u001b[1;32m     37\u001b[0m \u001b[0;34m\u001b[0m\u001b[0m\n\u001b[1;32m     38\u001b[0m \u001b[0;32mdef\u001b[0m \u001b[0mshowInNetron\u001b[0m\u001b[0;34m(\u001b[0m\u001b[0mmodel_filename\u001b[0m\u001b[0;34m)\u001b[0m\u001b[0;34m:\u001b[0m\u001b[0;34m\u001b[0m\u001b[0;34m\u001b[0m\u001b[0m\n\u001b[0;32m---> 39\u001b[0;31m     \u001b[0mnetron\u001b[0m\u001b[0;34m.\u001b[0m\u001b[0mstart\u001b[0m\u001b[0;34m(\u001b[0m\u001b[0mmodel_filename\u001b[0m\u001b[0;34m,\u001b[0m \u001b[0maddress\u001b[0m\u001b[0;34m=\u001b[0m\u001b[0;34m(\u001b[0m\u001b[0;34m\"0.0.0.0\"\u001b[0m\u001b[0;34m,\u001b[0m \u001b[0;36m8081\u001b[0m\u001b[0;34m)\u001b[0m\u001b[0;34m)\u001b[0m\u001b[0;34m\u001b[0m\u001b[0;34m\u001b[0m\u001b[0m\n\u001b[0m\u001b[1;32m     40\u001b[0m     \u001b[0;32mreturn\u001b[0m \u001b[0mIFrame\u001b[0m\u001b[0;34m(\u001b[0m\u001b[0msrc\u001b[0m\u001b[0;34m=\u001b[0m\u001b[0;34m\"http://0.0.0.0:8081/\"\u001b[0m\u001b[0;34m,\u001b[0m \u001b[0mwidth\u001b[0m\u001b[0;34m=\u001b[0m\u001b[0;34m\"100%\"\u001b[0m\u001b[0;34m,\u001b[0m \u001b[0mheight\u001b[0m\u001b[0;34m=\u001b[0m\u001b[0;36m400\u001b[0m\u001b[0;34m)\u001b[0m\u001b[0;34m\u001b[0m\u001b[0;34m\u001b[0m\u001b[0m\n",
      "\u001b[0;32m/opt/conda/lib/python3.6/site-packages/netron/server.py\u001b[0m in \u001b[0;36mstart\u001b[0;34m(file, address, browse, log)\u001b[0m\n\u001b[1;32m    286\u001b[0m         \u001b[0mA\u001b[0m \u001b[0;34m(\u001b[0m\u001b[0mhost\u001b[0m\u001b[0;34m,\u001b[0m \u001b[0mport\u001b[0m\u001b[0;34m)\u001b[0m \u001b[0maddress\u001b[0m \u001b[0mtuple\u001b[0m\u001b[0;34m.\u001b[0m\u001b[0;34m\u001b[0m\u001b[0;34m\u001b[0m\u001b[0m\n\u001b[1;32m    287\u001b[0m     '''\n\u001b[0;32m--> 288\u001b[0;31m     \u001b[0;32mreturn\u001b[0m \u001b[0mserve\u001b[0m\u001b[0;34m(\u001b[0m\u001b[0mfile\u001b[0m\u001b[0;34m,\u001b[0m \u001b[0;32mNone\u001b[0m\u001b[0;34m,\u001b[0m \u001b[0mbrowse\u001b[0m\u001b[0;34m=\u001b[0m\u001b[0mbrowse\u001b[0m\u001b[0;34m,\u001b[0m \u001b[0maddress\u001b[0m\u001b[0;34m=\u001b[0m\u001b[0maddress\u001b[0m\u001b[0;34m,\u001b[0m \u001b[0mlog\u001b[0m\u001b[0;34m=\u001b[0m\u001b[0mlog\u001b[0m\u001b[0;34m)\u001b[0m\u001b[0;34m\u001b[0m\u001b[0;34m\u001b[0m\u001b[0m\n\u001b[0m",
      "\u001b[0;32m/opt/conda/lib/python3.6/site-packages/netron/server.py\u001b[0m in \u001b[0;36mserve\u001b[0;34m(file, data, address, browse, log)\u001b[0m\n\u001b[1;32m    258\u001b[0m     \u001b[0m_update_thread_list\u001b[0m\u001b[0;34m(\u001b[0m\u001b[0;34m)\u001b[0m\u001b[0;34m\u001b[0m\u001b[0;34m\u001b[0m\u001b[0m\n\u001b[1;32m    259\u001b[0m \u001b[0;34m\u001b[0m\u001b[0m\n\u001b[0;32m--> 260\u001b[0;31m     \u001b[0mthread\u001b[0m \u001b[0;34m=\u001b[0m \u001b[0mHTTPServerThread\u001b[0m\u001b[0;34m(\u001b[0m\u001b[0mdata\u001b[0m\u001b[0;34m,\u001b[0m \u001b[0mfile\u001b[0m\u001b[0;34m,\u001b[0m \u001b[0maddress\u001b[0m\u001b[0;34m,\u001b[0m \u001b[0mlog\u001b[0m\u001b[0;34m)\u001b[0m\u001b[0;34m\u001b[0m\u001b[0;34m\u001b[0m\u001b[0m\n\u001b[0m\u001b[1;32m    261\u001b[0m     \u001b[0mthread\u001b[0m\u001b[0;34m.\u001b[0m\u001b[0mstart\u001b[0m\u001b[0;34m(\u001b[0m\u001b[0;34m)\u001b[0m\u001b[0;34m\u001b[0m\u001b[0;34m\u001b[0m\u001b[0m\n\u001b[1;32m    262\u001b[0m     \u001b[0;32mwhile\u001b[0m \u001b[0;32mnot\u001b[0m \u001b[0mthread\u001b[0m\u001b[0;34m.\u001b[0m\u001b[0malive\u001b[0m\u001b[0;34m(\u001b[0m\u001b[0;34m)\u001b[0m\u001b[0;34m:\u001b[0m\u001b[0;34m\u001b[0m\u001b[0;34m\u001b[0m\u001b[0m\n",
      "\u001b[0;32m/opt/conda/lib/python3.6/site-packages/netron/server.py\u001b[0m in \u001b[0;36m__init__\u001b[0;34m(self, data, file, address, log)\u001b[0m\n\u001b[1;32m    121\u001b[0m         \u001b[0mself\u001b[0m\u001b[0;34m.\u001b[0m\u001b[0murl\u001b[0m \u001b[0;34m=\u001b[0m \u001b[0;34m'http://'\u001b[0m \u001b[0;34m+\u001b[0m \u001b[0maddress\u001b[0m\u001b[0;34m[\u001b[0m\u001b[0;36m0\u001b[0m\u001b[0;34m]\u001b[0m \u001b[0;34m+\u001b[0m \u001b[0;34m':'\u001b[0m \u001b[0;34m+\u001b[0m \u001b[0mstr\u001b[0m\u001b[0;34m(\u001b[0m\u001b[0maddress\u001b[0m\u001b[0;34m[\u001b[0m\u001b[0;36m1\u001b[0m\u001b[0;34m]\u001b[0m\u001b[0;34m)\u001b[0m\u001b[0;34m\u001b[0m\u001b[0;34m\u001b[0m\u001b[0m\n\u001b[1;32m    122\u001b[0m         \u001b[0mself\u001b[0m\u001b[0;34m.\u001b[0m\u001b[0mfile\u001b[0m \u001b[0;34m=\u001b[0m \u001b[0mfile\u001b[0m\u001b[0;34m\u001b[0m\u001b[0;34m\u001b[0m\u001b[0m\n\u001b[0;32m--> 123\u001b[0;31m         \u001b[0mself\u001b[0m\u001b[0;34m.\u001b[0m\u001b[0mserver\u001b[0m \u001b[0;34m=\u001b[0m \u001b[0mThreadedHTTPServer\u001b[0m\u001b[0;34m(\u001b[0m\u001b[0maddress\u001b[0m\u001b[0;34m,\u001b[0m \u001b[0mHTTPRequestHandler\u001b[0m\u001b[0;34m)\u001b[0m\u001b[0;34m\u001b[0m\u001b[0;34m\u001b[0m\u001b[0m\n\u001b[0m\u001b[1;32m    124\u001b[0m         \u001b[0mself\u001b[0m\u001b[0;34m.\u001b[0m\u001b[0mserver\u001b[0m\u001b[0;34m.\u001b[0m\u001b[0mtimeout\u001b[0m \u001b[0;34m=\u001b[0m \u001b[0;36m0.25\u001b[0m\u001b[0;34m\u001b[0m\u001b[0;34m\u001b[0m\u001b[0m\n\u001b[1;32m    125\u001b[0m         \u001b[0;32mif\u001b[0m \u001b[0mfile\u001b[0m\u001b[0;34m:\u001b[0m\u001b[0;34m\u001b[0m\u001b[0;34m\u001b[0m\u001b[0m\n",
      "\u001b[0;32m/opt/conda/lib/python3.6/socketserver.py\u001b[0m in \u001b[0;36m__init__\u001b[0;34m(self, server_address, RequestHandlerClass, bind_and_activate)\u001b[0m\n\u001b[1;32m    454\u001b[0m         \u001b[0;32mif\u001b[0m \u001b[0mbind_and_activate\u001b[0m\u001b[0;34m:\u001b[0m\u001b[0;34m\u001b[0m\u001b[0;34m\u001b[0m\u001b[0m\n\u001b[1;32m    455\u001b[0m             \u001b[0;32mtry\u001b[0m\u001b[0;34m:\u001b[0m\u001b[0;34m\u001b[0m\u001b[0;34m\u001b[0m\u001b[0m\n\u001b[0;32m--> 456\u001b[0;31m                 \u001b[0mself\u001b[0m\u001b[0;34m.\u001b[0m\u001b[0mserver_bind\u001b[0m\u001b[0;34m(\u001b[0m\u001b[0;34m)\u001b[0m\u001b[0;34m\u001b[0m\u001b[0;34m\u001b[0m\u001b[0m\n\u001b[0m\u001b[1;32m    457\u001b[0m                 \u001b[0mself\u001b[0m\u001b[0;34m.\u001b[0m\u001b[0mserver_activate\u001b[0m\u001b[0;34m(\u001b[0m\u001b[0;34m)\u001b[0m\u001b[0;34m\u001b[0m\u001b[0;34m\u001b[0m\u001b[0m\n\u001b[1;32m    458\u001b[0m             \u001b[0;32mexcept\u001b[0m\u001b[0;34m:\u001b[0m\u001b[0;34m\u001b[0m\u001b[0;34m\u001b[0m\u001b[0m\n",
      "\u001b[0;32m/opt/conda/lib/python3.6/http/server.py\u001b[0m in \u001b[0;36mserver_bind\u001b[0;34m(self)\u001b[0m\n\u001b[1;32m    134\u001b[0m     \u001b[0;32mdef\u001b[0m \u001b[0mserver_bind\u001b[0m\u001b[0;34m(\u001b[0m\u001b[0mself\u001b[0m\u001b[0;34m)\u001b[0m\u001b[0;34m:\u001b[0m\u001b[0;34m\u001b[0m\u001b[0;34m\u001b[0m\u001b[0m\n\u001b[1;32m    135\u001b[0m         \u001b[0;34m\"\"\"Override server_bind to store the server name.\"\"\"\u001b[0m\u001b[0;34m\u001b[0m\u001b[0;34m\u001b[0m\u001b[0m\n\u001b[0;32m--> 136\u001b[0;31m         \u001b[0msocketserver\u001b[0m\u001b[0;34m.\u001b[0m\u001b[0mTCPServer\u001b[0m\u001b[0;34m.\u001b[0m\u001b[0mserver_bind\u001b[0m\u001b[0;34m(\u001b[0m\u001b[0mself\u001b[0m\u001b[0;34m)\u001b[0m\u001b[0;34m\u001b[0m\u001b[0;34m\u001b[0m\u001b[0m\n\u001b[0m\u001b[1;32m    137\u001b[0m         \u001b[0mhost\u001b[0m\u001b[0;34m,\u001b[0m \u001b[0mport\u001b[0m \u001b[0;34m=\u001b[0m \u001b[0mself\u001b[0m\u001b[0;34m.\u001b[0m\u001b[0mserver_address\u001b[0m\u001b[0;34m[\u001b[0m\u001b[0;34m:\u001b[0m\u001b[0;36m2\u001b[0m\u001b[0;34m]\u001b[0m\u001b[0;34m\u001b[0m\u001b[0;34m\u001b[0m\u001b[0m\n\u001b[1;32m    138\u001b[0m         \u001b[0mself\u001b[0m\u001b[0;34m.\u001b[0m\u001b[0mserver_name\u001b[0m \u001b[0;34m=\u001b[0m \u001b[0msocket\u001b[0m\u001b[0;34m.\u001b[0m\u001b[0mgetfqdn\u001b[0m\u001b[0;34m(\u001b[0m\u001b[0mhost\u001b[0m\u001b[0;34m)\u001b[0m\u001b[0;34m\u001b[0m\u001b[0;34m\u001b[0m\u001b[0m\n",
      "\u001b[0;32m/opt/conda/lib/python3.6/socketserver.py\u001b[0m in \u001b[0;36mserver_bind\u001b[0;34m(self)\u001b[0m\n\u001b[1;32m    468\u001b[0m         \u001b[0;32mif\u001b[0m \u001b[0mself\u001b[0m\u001b[0;34m.\u001b[0m\u001b[0mallow_reuse_address\u001b[0m\u001b[0;34m:\u001b[0m\u001b[0;34m\u001b[0m\u001b[0;34m\u001b[0m\u001b[0m\n\u001b[1;32m    469\u001b[0m             \u001b[0mself\u001b[0m\u001b[0;34m.\u001b[0m\u001b[0msocket\u001b[0m\u001b[0;34m.\u001b[0m\u001b[0msetsockopt\u001b[0m\u001b[0;34m(\u001b[0m\u001b[0msocket\u001b[0m\u001b[0;34m.\u001b[0m\u001b[0mSOL_SOCKET\u001b[0m\u001b[0;34m,\u001b[0m \u001b[0msocket\u001b[0m\u001b[0;34m.\u001b[0m\u001b[0mSO_REUSEADDR\u001b[0m\u001b[0;34m,\u001b[0m \u001b[0;36m1\u001b[0m\u001b[0;34m)\u001b[0m\u001b[0;34m\u001b[0m\u001b[0;34m\u001b[0m\u001b[0m\n\u001b[0;32m--> 470\u001b[0;31m         \u001b[0mself\u001b[0m\u001b[0;34m.\u001b[0m\u001b[0msocket\u001b[0m\u001b[0;34m.\u001b[0m\u001b[0mbind\u001b[0m\u001b[0;34m(\u001b[0m\u001b[0mself\u001b[0m\u001b[0;34m.\u001b[0m\u001b[0mserver_address\u001b[0m\u001b[0;34m)\u001b[0m\u001b[0;34m\u001b[0m\u001b[0;34m\u001b[0m\u001b[0m\n\u001b[0m\u001b[1;32m    471\u001b[0m         \u001b[0mself\u001b[0m\u001b[0;34m.\u001b[0m\u001b[0mserver_address\u001b[0m \u001b[0;34m=\u001b[0m \u001b[0mself\u001b[0m\u001b[0;34m.\u001b[0m\u001b[0msocket\u001b[0m\u001b[0;34m.\u001b[0m\u001b[0mgetsockname\u001b[0m\u001b[0;34m(\u001b[0m\u001b[0;34m)\u001b[0m\u001b[0;34m\u001b[0m\u001b[0;34m\u001b[0m\u001b[0m\n\u001b[1;32m    472\u001b[0m \u001b[0;34m\u001b[0m\u001b[0m\n",
      "\u001b[0;31mOSError\u001b[0m: [Errno 98] Address already in use"
     ]
    }
   ],
   "source": [
    "from finn.util.visualization import showInNetron\n",
    "\n",
    "showInNetron(\"/tmp/test_convInputGenerator_compiled_rtlsim.onnx\")"
   ]
  },
  {
   "cell_type": "code",
   "execution_count": 21,
   "id": "molecular-repository",
   "metadata": {},
   "outputs": [
    {
     "name": "stdout",
     "output_type": "stream",
     "text": [
      "Stopping http://0.0.0.0:8081\n",
      "Serving '/tmp/test_convInputGenerator_compiled.onnx' at http://0.0.0.0:8081\n"
     ]
    },
    {
     "data": {
      "text/html": [
       "\n",
       "        <iframe\n",
       "            width=\"100%\"\n",
       "            height=\"400\"\n",
       "            src=\"http://0.0.0.0:8081/\"\n",
       "            frameborder=\"0\"\n",
       "            allowfullscreen\n",
       "        ></iframe>\n",
       "        "
      ],
      "text/plain": [
       "<IPython.lib.display.IFrame at 0x7ff08cd27630>"
      ]
     },
     "execution_count": 21,
     "metadata": {},
     "output_type": "execute_result"
    }
   ],
   "source": [
    "from finn.util.visualization import showInNetron\n",
    "\n",
    "#showInNetron(\"/tmp/test_convInputGenerator.onnx\")\n",
    "\n",
    "showInNetron(\"/tmp/test_convInputGenerator_compiled.onnx\")\n"
   ]
  },
  {
   "cell_type": "code",
   "execution_count": 22,
   "id": "shaped-indicator",
   "metadata": {},
   "outputs": [
    {
     "name": "stdout",
     "output_type": "stream",
     "text": [
      "Stopping http://0.0.0.0:8081\n",
      "Serving '/tmp/test_convInputGenerator_im2col.onnx' at http://0.0.0.0:8081\n"
     ]
    },
    {
     "data": {
      "text/html": [
       "\n",
       "        <iframe\n",
       "            width=\"100%\"\n",
       "            height=\"400\"\n",
       "            src=\"http://0.0.0.0:8081/\"\n",
       "            frameborder=\"0\"\n",
       "            allowfullscreen\n",
       "        ></iframe>\n",
       "        "
      ],
      "text/plain": [
       "<IPython.lib.display.IFrame at 0x7ff031e69198>"
      ]
     },
     "execution_count": 22,
     "metadata": {},
     "output_type": "execute_result"
    }
   ],
   "source": [
    "showInNetron(\"/tmp/test_convInputGenerator_im2col.onnx\")"
   ]
  },
  {
   "cell_type": "code",
   "execution_count": null,
   "id": "interstate-secret",
   "metadata": {},
   "outputs": [],
   "source": []
  }
 ],
 "metadata": {
  "kernelspec": {
   "display_name": "Python 3",
   "language": "python",
   "name": "python3"
  },
  "language_info": {
   "codemirror_mode": {
    "name": "ipython",
    "version": 3
   },
   "file_extension": ".py",
   "mimetype": "text/x-python",
   "name": "python",
   "nbconvert_exporter": "python",
   "pygments_lexer": "ipython3",
   "version": "3.6.8"
  }
 },
 "nbformat": 4,
 "nbformat_minor": 5
}
