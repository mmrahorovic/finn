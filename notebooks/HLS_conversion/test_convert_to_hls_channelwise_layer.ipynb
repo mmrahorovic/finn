{
 "cells": [
  {
   "cell_type": "code",
   "execution_count": 4,
   "id": "devoted-performance",
   "metadata": {},
   "outputs": [
    {
     "name": "stdout",
     "output_type": "stream",
     "text": [
      "<class 'str'>\tBINARY\tDataType.BINARY\n",
      "<class 'str'>\tUINT2\tDataType.UINT2\n",
      "<class 'str'>\tUINT3\tDataType.UINT3\n",
      "<class 'str'>\tUINT4\tDataType.UINT4\n",
      "<class 'str'>\tUINT5\tDataType.UINT5\n",
      "<class 'str'>\tUINT6\tDataType.UINT6\n",
      "<class 'str'>\tUINT7\tDataType.UINT7\n",
      "<class 'str'>\tUINT8\tDataType.UINT8\n",
      "<class 'str'>\tUINT9\tDataType.UINT9\n",
      "<class 'str'>\tUINT10\tDataType.UINT10\n",
      "<class 'str'>\tUINT11\tDataType.UINT11\n",
      "<class 'str'>\tUINT12\tDataType.UINT12\n",
      "<class 'str'>\tUINT13\tDataType.UINT13\n",
      "<class 'str'>\tUINT14\tDataType.UINT14\n",
      "<class 'str'>\tUINT15\tDataType.UINT15\n",
      "<class 'str'>\tUINT16\tDataType.UINT16\n",
      "<class 'str'>\tUINT17\tDataType.UINT17\n",
      "<class 'str'>\tUINT18\tDataType.UINT18\n",
      "<class 'str'>\tUINT19\tDataType.UINT19\n",
      "<class 'str'>\tUINT20\tDataType.UINT20\n",
      "<class 'str'>\tUINT21\tDataType.UINT21\n",
      "<class 'str'>\tUINT22\tDataType.UINT22\n",
      "<class 'str'>\tUINT23\tDataType.UINT23\n",
      "<class 'str'>\tUINT24\tDataType.UINT24\n",
      "<class 'str'>\tUINT25\tDataType.UINT25\n",
      "<class 'str'>\tUINT26\tDataType.UINT26\n",
      "<class 'str'>\tUINT27\tDataType.UINT27\n",
      "<class 'str'>\tUINT28\tDataType.UINT28\n",
      "<class 'str'>\tUINT29\tDataType.UINT29\n",
      "<class 'str'>\tUINT30\tDataType.UINT30\n",
      "<class 'str'>\tUINT31\tDataType.UINT31\n",
      "<class 'str'>\tUINT32\tDataType.UINT32\n",
      "<class 'str'>\tUINT64\tDataType.UINT64\n",
      "<class 'str'>\tBIPOLAR\tDataType.BIPOLAR\n",
      "<class 'str'>\tTERNARY\tDataType.TERNARY\n",
      "<class 'str'>\tINT2\tDataType.INT2\n",
      "<class 'str'>\tINT3\tDataType.INT3\n",
      "<class 'str'>\tINT4\tDataType.INT4\n",
      "<class 'str'>\tINT5\tDataType.INT5\n",
      "<class 'str'>\tINT6\tDataType.INT6\n",
      "<class 'str'>\tINT7\tDataType.INT7\n",
      "<class 'str'>\tINT8\tDataType.INT8\n",
      "<class 'str'>\tINT9\tDataType.INT9\n",
      "<class 'str'>\tINT10\tDataType.INT10\n",
      "<class 'str'>\tINT11\tDataType.INT11\n",
      "<class 'str'>\tINT12\tDataType.INT12\n",
      "<class 'str'>\tINT13\tDataType.INT13\n",
      "<class 'str'>\tINT14\tDataType.INT14\n",
      "<class 'str'>\tINT15\tDataType.INT15\n",
      "<class 'str'>\tINT16\tDataType.INT16\n",
      "<class 'str'>\tINT17\tDataType.INT17\n",
      "<class 'str'>\tINT18\tDataType.INT18\n",
      "<class 'str'>\tINT19\tDataType.INT19\n",
      "<class 'str'>\tINT20\tDataType.INT20\n",
      "<class 'str'>\tINT21\tDataType.INT21\n",
      "<class 'str'>\tINT22\tDataType.INT22\n",
      "<class 'str'>\tINT23\tDataType.INT23\n",
      "<class 'str'>\tINT24\tDataType.INT24\n",
      "<class 'str'>\tINT25\tDataType.INT25\n",
      "<class 'str'>\tINT26\tDataType.INT26\n",
      "<class 'str'>\tINT27\tDataType.INT27\n",
      "<class 'str'>\tINT28\tDataType.INT28\n",
      "<class 'str'>\tINT29\tDataType.INT29\n",
      "<class 'str'>\tINT30\tDataType.INT30\n",
      "<class 'str'>\tINT31\tDataType.INT31\n",
      "<class 'str'>\tINT32\tDataType.INT32\n",
      "<class 'str'>\tINT64\tDataType.INT64\n",
      "<class 'str'>\tFLOAT32\tDataType.FLOAT32\n"
     ]
    }
   ],
   "source": [
    "from finn.core.datatype import DataType\n",
    "\n",
    "for k in DataType.__members__:\n",
    "    print(\"{}\\t{}\\t{}\".format(type(k),k, DataType[k]))"
   ]
  }
 ],
 "metadata": {
  "kernelspec": {
   "display_name": "Python 3",
   "language": "python",
   "name": "python3"
  },
  "language_info": {
   "codemirror_mode": {
    "name": "ipython",
    "version": 3
   },
   "file_extension": ".py",
   "mimetype": "text/x-python",
   "name": "python",
   "nbconvert_exporter": "python",
   "pygments_lexer": "ipython3",
   "version": "3.6.8"
  }
 },
 "nbformat": 4,
 "nbformat_minor": 5
}
