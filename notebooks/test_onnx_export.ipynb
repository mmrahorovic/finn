{
 "cells": [
  {
   "cell_type": "code",
   "execution_count": 4,
   "id": "abf7b9dc",
   "metadata": {},
   "outputs": [
    {
     "name": "stdout",
     "output_type": "stream",
     "text": [
      "expected.npy\t\ttest_brevitas_fc_6u5_ans7\r\n",
      "exported_qn_model.onnx\ttest_brevitas_fc_pvtpnyn7\r\n",
      "finn_dev_mirza\t\ttest_brevitas_quartznet_k43b176w\r\n",
      "partitioning_ivd8hw4i\ttest_brevitas_quartznet_kovnyhz0\r\n",
      "partitioning_kfpdhp2y\ttest_streamline_cnv_5vp0w1lo\r\n",
      "partitioning_lcfdzgnn\ttest_streamline_cnv_svvjo8no\r\n",
      "produced.npy\t\ttest_streamline_fc_05ibpkj3\r\n",
      "quartznet_export.onnx\ttest_streamline_fc_4kdx61fp\r\n"
     ]
    }
   ],
   "source": [
    "!ls /tmp"
   ]
  },
  {
   "cell_type": "code",
   "execution_count": 17,
   "id": "99d7c187",
   "metadata": {},
   "outputs": [
    {
     "name": "stdout",
     "output_type": "stream",
     "text": [
      "Stopping http://0.0.0.0:8081\n",
      "Serving '/tmp/quartznet_export.onnx' at http://0.0.0.0:8081\n"
     ]
    },
    {
     "data": {
      "text/html": [
       "\n",
       "        <iframe\n",
       "            width=\"100%\"\n",
       "            height=\"400\"\n",
       "            src=\"http://0.0.0.0:8081/\"\n",
       "            frameborder=\"0\"\n",
       "            allowfullscreen\n",
       "        ></iframe>\n",
       "        "
      ],
      "text/plain": [
       "<IPython.lib.display.IFrame at 0x7f0278135898>"
      ]
     },
     "execution_count": 17,
     "metadata": {},
     "output_type": "execute_result"
    }
   ],
   "source": [
    "from finn.util.visualization import showInNetron\n",
    "\n",
    "showInNetron(\"/tmp/quartznet_export.onnx\")"
   ]
  },
  {
   "cell_type": "code",
   "execution_count": 14,
   "id": "05731cff",
   "metadata": {},
   "outputs": [
    {
     "name": "stdout",
     "output_type": "stream",
     "text": [
      "Stopping http://0.0.0.0:8081\n",
      "Serving '/tmp/exported_qn_model.onnx' at http://0.0.0.0:8081\n"
     ]
    },
    {
     "data": {
      "text/html": [
       "\n",
       "        <iframe\n",
       "            width=\"100%\"\n",
       "            height=\"400\"\n",
       "            src=\"http://0.0.0.0:8081/\"\n",
       "            frameborder=\"0\"\n",
       "            allowfullscreen\n",
       "        ></iframe>\n",
       "        "
      ],
      "text/plain": [
       "<IPython.lib.display.IFrame at 0x7f01fc1a2f28>"
      ]
     },
     "execution_count": 14,
     "metadata": {},
     "output_type": "execute_result"
    }
   ],
   "source": [
    "from finn.util.visualization import showInNetron\n",
    "\n",
    "showInNetron(\"/tmp/exported_qn_model.onnx\")"
   ]
  },
  {
   "cell_type": "code",
   "execution_count": 15,
   "id": "f0ce0535",
   "metadata": {},
   "outputs": [],
   "source": [
    "import numpy as np\n",
    "from finn.core.modelwrapper import ModelWrapper\n",
    "import finn.core.onnx_exec as oxe\n",
    "\n",
    "model = ModelWrapper(\"/tmp/quartznet_export.onnx\")\n",
    "\n",
    "inp_val = np.load(\"input_sample_float_0.npy\")\n",
    "input_dict = {model.graph.input[0].name: inp_val}\n",
    "output_dict_export = oxe.execute_onnx(model, input_dict, return_full_exec_context=True)\n"
   ]
  },
  {
   "cell_type": "code",
   "execution_count": 16,
   "id": "16620fd9",
   "metadata": {},
   "outputs": [],
   "source": [
    "import numpy as np\n",
    "from finn.core.modelwrapper import ModelWrapper\n",
    "import finn.core.onnx_exec as oxe\n",
    "\n",
    "model = ModelWrapper(\"/tmp/exported_qn_model.onnx\")\n",
    "\n",
    "z = model.get_initializer(model.graph.node[0].input[1])\n",
    "s = model.get_initializer(model.graph.node[1].input[1])\n",
    "\n",
    "inp_val = np.load(\"input_sample_float_0.npy\")\n",
    "inp_val = np.round(inp_val / s + z)\n",
    "input_dict = {model.graph.input[0].name: inp_val}\n",
    "output_dict_quantized = oxe.execute_onnx(model, input_dict, return_full_exec_context=True)\n",
    "\n"
   ]
  },
  {
   "cell_type": "code",
   "execution_count": 21,
   "id": "c82537ff",
   "metadata": {},
   "outputs": [
    {
     "name": "stdout",
     "output_type": "stream",
     "text": [
      "28 - 28 = 0\n",
      "28 - 28 = 0\n",
      "28 - 28 = 0\n",
      "28 - 28 = 0\n",
      "28 - 28 = 0\n",
      "28 - 28 = 0\n",
      "28 - 28 = 0\n",
      "28 - 28 = 0\n",
      "28 - 28 = 0\n",
      "28 - 28 = 0\n",
      "28 - 28 = 0\n",
      "28 - 28 = 0\n",
      "28 - 28 = 0\n",
      "28 - 28 = 0\n",
      "28 - 28 = 0\n",
      "28 - 28 = 0\n",
      "28 - 28 = 0\n",
      "28 - 28 = 0\n",
      "28 - 28 = 0\n",
      "28 - 28 = 0\n",
      "28 - 28 = 0\n",
      "28 - 28 = 0\n",
      "28 - 28 = 0\n",
      "28 - 28 = 0\n",
      "22 - 22 = 0\n",
      "28 - 28 = 0\n",
      "28 - 28 = 0\n",
      "1 - 1 = 0\n",
      "28 - 28 = 0\n",
      "28 - 28 = 0\n",
      "14 - 14 = 0\n",
      "28 - 28 = 0\n",
      "28 - 28 = 0\n",
      "9 - 9 = 0\n",
      "28 - 28 = 0\n",
      "28 - 28 = 0\n",
      "20 - 20 = 0\n",
      "28 - 28 = 0\n",
      "28 - 28 = 0\n",
      "25 - 25 = 0\n",
      "28 - 28 = 0\n",
      "28 - 28 = 0\n",
      "28 - 28 = 0\n",
      "0 - 0 = 0\n",
      "0 - 0 = 0\n",
      "28 - 28 = 0\n",
      "1 - 1 = 0\n",
      "14 - 14 = 0\n",
      "4 - 4 = 0\n",
      "4 - 28 = -24\n",
      "0 - 0 = 0\n",
      "0 - 0 = 0\n",
      "28 - 28 = 0\n",
      "22 - 22 = 0\n",
      "28 - 28 = 0\n",
      "28 - 28 = 0\n",
      "5 - 5 = 0\n",
      "28 - 28 = 0\n",
      "28 - 28 = 0\n",
      "28 - 28 = 0\n",
      "28 - 28 = 0\n",
      "24 - 24 = 0\n",
      "28 - 28 = 0\n",
      "28 - 28 = 0\n",
      "28 - 28 = 0\n",
      "28 - 28 = 0\n",
      "1 - 1 = 0\n",
      "28 - 28 = 0\n",
      "28 - 28 = 0\n",
      "28 - 28 = 0\n",
      "20 - 20 = 0\n",
      "9 - 9 = 0\n",
      "9 - 9 = 0\n",
      "28 - 28 = 0\n",
      "15 - 15 = 0\n",
      "14 - 14 = 0\n",
      "28 - 28 = 0\n",
      "28 - 28 = 0\n",
      "0 - 0 = 0\n",
      "0 - 0 = 0\n",
      "0 - 0 = 0\n",
      "28 - 28 = 0\n",
      "28 - 28 = 0\n",
      "15 - 15 = 0\n",
      "6 - 22 = -16\n",
      "28 - 28 = 0\n",
      "28 - 28 = 0\n",
      "28 - 28 = 0\n",
      "0 - 0 = 0\n",
      "28 - 28 = 0\n",
      "28 - 28 = 0\n",
      "19 - 19 = 0\n",
      "19 - 19 = 0\n",
      "28 - 28 = 0\n",
      "16 - 16 = 0\n",
      "28 - 28 = 0\n",
      "28 - 28 = 0\n",
      "28 - 28 = 0\n",
      "28 - 1 = 27\n",
      "1 - 28 = -27\n",
      "28 - 28 = 0\n",
      "28 - 28 = 0\n",
      "4 - 14 = -10\n",
      "28 - 28 = 0\n",
      "28 - 28 = 0\n",
      "28 - 28 = 0\n",
      "28 - 28 = 0\n",
      "28 - 28 = 0\n",
      "28 - 28 = 0\n",
      "28 - 28 = 0\n",
      "28 - 28 = 0\n",
      "28 - 28 = 0\n",
      "28 - 28 = 0\n",
      "28 - 28 = 0\n",
      "28 - 28 = 0\n",
      "28 - 28 = 0\n",
      "28 - 28 = 0\n",
      "28 - 28 = 0\n",
      "28 - 28 = 0\n",
      "28 - 28 = 0\n",
      "28 - 28 = 0\n",
      "28 - 28 = 0\n",
      "28 - 28 = 0\n",
      "28 - 28 = 0\n",
      "28 - 28 = 0\n",
      "28 - 28 = 0\n",
      "28 - 28 = 0\n",
      "28 - 28 = 0\n"
     ]
    }
   ],
   "source": [
    "model_export = ModelWrapper(\"/tmp/quartznet_export.onnx\")\n",
    "export_out = output_dict_export[model_export.graph.output[0].name]\n",
    "\n",
    "model_quantized = ModelWrapper(\"/tmp/exported_qn_model.onnx\")\n",
    "quantized_out = output_dict_quantized[model_quantized.graph.output[0].name]\n",
    "\n",
    "for idx, el in enumerate(export_out.flatten()):\n",
    "    print(\"{} - {} = {}\".format(el, quantized_out.flatten()[idx], el-quantized_out.flatten()[idx]))"
   ]
  },
  {
   "cell_type": "code",
   "execution_count": 22,
   "id": "9a8d756b",
   "metadata": {},
   "outputs": [
    {
     "name": "stdout",
     "output_type": "stream",
     "text": [
      "['vanity and vexation of spad']\n",
      "['vanity and vexation ov span']\n"
     ]
    }
   ],
   "source": [
    "labels = [\" \", \"a\", \"b\", \"c\", \"d\", \"e\", \"f\", \"g\", \"h\", \"i\", \"j\", \"k\", \"l\", \"m\",\n",
    "         \"n\", \"o\", \"p\", \"q\", \"r\", \"s\", \"t\", \"u\", \"v\", \"w\", \"x\", \"y\", \"z\", \"'\"]\n",
    "    \n",
    "def __ctc_decoder_predictions_tensor(tensor, labels):\n",
    "    \"\"\"\n",
    "    Decodes a sequence of labels to words\n",
    "    \"\"\"\n",
    "    blank_id = len(labels)\n",
    "    hypotheses = []\n",
    "    labels_map = dict([(i, labels[i]) for i in range(len(labels))])\n",
    "    decoded_prediction = []\n",
    "    previous = len(labels)  # id of a blank symbol\n",
    "    prediction = tensor\n",
    "    for p in prediction:\n",
    "        if (p != previous or previous == blank_id) and p != blank_id:\n",
    "            decoded_prediction.append(p)\n",
    "        previous = p\n",
    "    hypothesis = ''.join([labels_map[c] for c in decoded_prediction])\n",
    "    hypotheses.append(hypothesis)\n",
    "    return hypotheses\n",
    "\n",
    "print(__ctc_decoder_predictions_tensor(export_out.flatten(),labels))\n",
    "print(__ctc_decoder_predictions_tensor(quantized_out.flatten(),labels))"
   ]
  }
 ],
 "metadata": {
  "kernelspec": {
   "display_name": "Python 3",
   "language": "python",
   "name": "python3"
  },
  "language_info": {
   "codemirror_mode": {
    "name": "ipython",
    "version": 3
   },
   "file_extension": ".py",
   "mimetype": "text/x-python",
   "name": "python",
   "nbconvert_exporter": "python",
   "pygments_lexer": "ipython3",
   "version": "3.6.8"
  }
 },
 "nbformat": 4,
 "nbformat_minor": 5
}
