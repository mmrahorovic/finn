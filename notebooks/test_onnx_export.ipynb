{
 "cells": [
  {
   "cell_type": "code",
   "execution_count": 4,
   "id": "abf7b9dc",
   "metadata": {},
   "outputs": [
    {
     "name": "stdout",
     "output_type": "stream",
     "text": [
      "expected.npy\t\ttest_brevitas_fc_6u5_ans7\r\n",
      "exported_qn_model.onnx\ttest_brevitas_fc_pvtpnyn7\r\n",
      "finn_dev_mirza\t\ttest_brevitas_quartznet_k43b176w\r\n",
      "partitioning_ivd8hw4i\ttest_brevitas_quartznet_kovnyhz0\r\n",
      "partitioning_kfpdhp2y\ttest_streamline_cnv_5vp0w1lo\r\n",
      "partitioning_lcfdzgnn\ttest_streamline_cnv_svvjo8no\r\n",
      "produced.npy\t\ttest_streamline_fc_05ibpkj3\r\n",
      "quartznet_export.onnx\ttest_streamline_fc_4kdx61fp\r\n"
     ]
    }
   ],
   "source": [
    "!ls /tmp"
   ]
  },
  {
   "cell_type": "code",
   "execution_count": 17,
   "id": "99d7c187",
   "metadata": {},
   "outputs": [
    {
     "name": "stdout",
     "output_type": "stream",
     "text": [
      "Stopping http://0.0.0.0:8081\n",
      "Serving '/tmp/quartznet_export.onnx' at http://0.0.0.0:8081\n"
     ]
    },
    {
     "data": {
      "text/html": [
       "\n",
       "        <iframe\n",
       "            width=\"100%\"\n",
       "            height=\"400\"\n",
       "            src=\"http://0.0.0.0:8081/\"\n",
       "            frameborder=\"0\"\n",
       "            allowfullscreen\n",
       "        ></iframe>\n",
       "        "
      ],
      "text/plain": [
       "<IPython.lib.display.IFrame at 0x7f0278135898>"
      ]
     },
     "execution_count": 17,
     "metadata": {},
     "output_type": "execute_result"
    }
   ],
   "source": [
    "from finn.util.visualization import showInNetron\n",
    "\n",
    "showInNetron(\"/tmp/quartznet_export.onnx\")"
   ]
  },
  {
   "cell_type": "code",
   "execution_count": 14,
   "id": "05731cff",
   "metadata": {},
   "outputs": [
    {
     "name": "stdout",
     "output_type": "stream",
     "text": [
      "Stopping http://0.0.0.0:8081\n",
      "Serving '/tmp/exported_qn_model.onnx' at http://0.0.0.0:8081\n"
     ]
    },
    {
     "data": {
      "text/html": [
       "\n",
       "        <iframe\n",
       "            width=\"100%\"\n",
       "            height=\"400\"\n",
       "            src=\"http://0.0.0.0:8081/\"\n",
       "            frameborder=\"0\"\n",
       "            allowfullscreen\n",
       "        ></iframe>\n",
       "        "
      ],
      "text/plain": [
       "<IPython.lib.display.IFrame at 0x7f01fc1a2f28>"
      ]
     },
     "execution_count": 14,
     "metadata": {},
     "output_type": "execute_result"
    }
   ],
   "source": [
    "from finn.util.visualization import showInNetron\n",
    "\n",
    "showInNetron(\"/tmp/exported_qn_model.onnx\")"
   ]
  },
  {
   "cell_type": "code",
   "execution_count": 13,
   "id": "5a74f2d1",
   "metadata": {},
   "outputs": [],
   "source": [
    "labels = [\" \", \"a\", \"b\", \"c\", \"d\", \"e\", \"f\", \"g\", \"h\", \"i\", \"j\", \"k\", \"l\", \"m\",\n",
    "         \"n\", \"o\", \"p\", \"q\", \"r\", \"s\", \"t\", \"u\", \"v\", \"w\", \"x\", \"y\", \"z\", \"'\"]\n",
    "    \n",
    "def __ctc_decoder_predictions_tensor(tensor, labels):\n",
    "    \"\"\"\n",
    "    Decodes a sequence of labels to words\n",
    "    \"\"\"\n",
    "    blank_id = len(labels)\n",
    "    hypotheses = []\n",
    "    labels_map = dict([(i, labels[i]) for i in range(len(labels))])\n",
    "    decoded_prediction = []\n",
    "    previous = len(labels)  # id of a blank symbol\n",
    "    prediction = tensor\n",
    "    for p in prediction:\n",
    "        if (p != previous or previous == blank_id) and p != blank_id:\n",
    "            decoded_prediction.append(p)\n",
    "        previous = p\n",
    "    hypothesis = ''.join([labels_map[c] for c in decoded_prediction])\n",
    "    hypotheses.append(hypothesis)\n",
    "    return hypotheses"
   ]
  },
  {
   "cell_type": "code",
   "execution_count": 16,
   "id": "fb748074",
   "metadata": {},
   "outputs": [
    {
     "name": "stdout",
     "output_type": "stream",
     "text": [
      "['anno bufishae p']\n",
      "['anno bufishae p']\n",
      "['andnopacticion as spate']\n",
      "['e eeaeaca']\n"
     ]
    }
   ],
   "source": [
    "import numpy as np\n",
    "\n",
    "out_export = np.load(\"/workspace/results/syn_end2end_0806/quartznet_export_output.npy\")\n",
    "out_tidy = np.load(\"/workspace/results/syn_end2end_0806/quartznet_tidy_and_change_shape_tensors.npy\")\n",
    "out_streamline = np.load(\"/workspace/results/syn_end2end_0806/quartznet_streamline.npy\")\n",
    "out_cppsim = np.load(\"/workspace/results/syn_end2end_0806/quartznet_cppsim.npy\")\n",
    "\n",
    "print(__ctc_decoder_predictions_tensor(out_export.flatten(), labels))\n",
    "print(__ctc_decoder_predictions_tensor(out_tidy.flatten(), labels))\n",
    "print(__ctc_decoder_predictions_tensor(out_streamline.flatten(), labels))\n",
    "print(__ctc_decoder_predictions_tensor(out_cppsim.flatten(), labels))"
   ]
  },
  {
   "cell_type": "code",
   "execution_count": 12,
   "id": "a803a149",
   "metadata": {},
   "outputs": [
    {
     "name": "stdout",
     "output_type": "stream",
     "text": [
      "df_model.onnx\r\n",
      "end2end_quartznet_dataflow_partition.onnx\r\n",
      "end2end_quartznet_export_dev.onnx\r\n",
      "quartznet_cppsim.npy\r\n",
      "quartznet_export_output.npy\r\n",
      "quartznet_streamline.npy\r\n",
      "quartznet_tidy_and_change_shape_tensors.npy\r\n"
     ]
    }
   ],
   "source": [
    "!ls /workspace/results/syn_end2end_0806"
   ]
  },
  {
   "cell_type": "markdown",
   "id": "3238f2b4",
   "metadata": {},
   "source": [
    "# Model quartznet_export.onnx"
   ]
  },
  {
   "cell_type": "code",
   "execution_count": 2,
   "id": "f0ce0535",
   "metadata": {},
   "outputs": [
    {
     "ename": "AssertionError",
     "evalue": "",
     "output_type": "error",
     "traceback": [
      "\u001b[0;31m---------------------------------------------------------------------------\u001b[0m",
      "\u001b[0;31mAssertionError\u001b[0m                            Traceback (most recent call last)",
      "\u001b[0;32m<ipython-input-2-10872f88346c>\u001b[0m in \u001b[0;36m<module>\u001b[0;34m\u001b[0m\n\u001b[1;32m      3\u001b[0m \u001b[0;32mimport\u001b[0m \u001b[0mfinn\u001b[0m\u001b[0;34m.\u001b[0m\u001b[0mcore\u001b[0m\u001b[0;34m.\u001b[0m\u001b[0monnx_exec\u001b[0m \u001b[0;32mas\u001b[0m \u001b[0moxe\u001b[0m\u001b[0;34m\u001b[0m\u001b[0;34m\u001b[0m\u001b[0m\n\u001b[1;32m      4\u001b[0m \u001b[0;34m\u001b[0m\u001b[0m\n\u001b[0;32m----> 5\u001b[0;31m \u001b[0mmodel\u001b[0m \u001b[0;34m=\u001b[0m \u001b[0mModelWrapper\u001b[0m\u001b[0;34m(\u001b[0m\u001b[0;34m\"/tmp/quartznet_export.onnx\"\u001b[0m\u001b[0;34m)\u001b[0m\u001b[0;34m\u001b[0m\u001b[0;34m\u001b[0m\u001b[0m\n\u001b[0m\u001b[1;32m      6\u001b[0m \u001b[0;34m\u001b[0m\u001b[0m\n\u001b[1;32m      7\u001b[0m \u001b[0minp_val\u001b[0m \u001b[0;34m=\u001b[0m \u001b[0mnp\u001b[0m\u001b[0;34m.\u001b[0m\u001b[0mload\u001b[0m\u001b[0;34m(\u001b[0m\u001b[0;34m\"input_sample_float_0.npy\"\u001b[0m\u001b[0;34m)\u001b[0m\u001b[0;34m\u001b[0m\u001b[0;34m\u001b[0m\u001b[0m\n",
      "\u001b[0;32m/workspace/finn-base/src/finn/core/modelwrapper.py\u001b[0m in \u001b[0;36m__init__\u001b[0;34m(self, onnx_model_proto, make_deepcopy)\u001b[0m\n\u001b[1;32m     59\u001b[0m         \"\"\"\n\u001b[1;32m     60\u001b[0m         \u001b[0;32mif\u001b[0m \u001b[0misinstance\u001b[0m\u001b[0;34m(\u001b[0m\u001b[0monnx_model_proto\u001b[0m\u001b[0;34m,\u001b[0m \u001b[0mstr\u001b[0m\u001b[0;34m)\u001b[0m\u001b[0;34m:\u001b[0m\u001b[0;34m\u001b[0m\u001b[0;34m\u001b[0m\u001b[0m\n\u001b[0;32m---> 61\u001b[0;31m             \u001b[0;32massert\u001b[0m \u001b[0mos\u001b[0m\u001b[0;34m.\u001b[0m\u001b[0mpath\u001b[0m\u001b[0;34m.\u001b[0m\u001b[0misfile\u001b[0m\u001b[0;34m(\u001b[0m\u001b[0monnx_model_proto\u001b[0m\u001b[0;34m)\u001b[0m\u001b[0;34m\u001b[0m\u001b[0;34m\u001b[0m\u001b[0m\n\u001b[0m\u001b[1;32m     62\u001b[0m             \u001b[0mself\u001b[0m\u001b[0;34m.\u001b[0m\u001b[0m_model_proto\u001b[0m \u001b[0;34m=\u001b[0m \u001b[0monnx\u001b[0m\u001b[0;34m.\u001b[0m\u001b[0mload\u001b[0m\u001b[0;34m(\u001b[0m\u001b[0monnx_model_proto\u001b[0m\u001b[0;34m)\u001b[0m\u001b[0;34m\u001b[0m\u001b[0;34m\u001b[0m\u001b[0m\n\u001b[1;32m     63\u001b[0m         \u001b[0;32melif\u001b[0m \u001b[0misinstance\u001b[0m\u001b[0;34m(\u001b[0m\u001b[0monnx_model_proto\u001b[0m\u001b[0;34m,\u001b[0m \u001b[0mbytes\u001b[0m\u001b[0;34m)\u001b[0m\u001b[0;34m:\u001b[0m\u001b[0;34m\u001b[0m\u001b[0;34m\u001b[0m\u001b[0m\n",
      "\u001b[0;31mAssertionError\u001b[0m: "
     ]
    }
   ],
   "source": [
    "import numpy as np\n",
    "from finn.core.modelwrapper import ModelWrapper\n",
    "import finn.core.onnx_exec as oxe\n",
    "\n",
    "model = ModelWrapper(\"/tmp/quartznet_export.onnx\")\n",
    "\n",
    "inp_val = np.load(\"input_sample_float_0.npy\")\n",
    "input_dict = {model.graph.input[0].name: inp_val}\n",
    "output_dict_export = oxe.execute_onnx(model, input_dict, return_full_exec_context=True)\n",
    "\n",
    "print(__ctc_decoder_predictions_tensor(output_dict_export.flatten(),labels))"
   ]
  },
  {
   "cell_type": "markdown",
   "id": "51796393",
   "metadata": {},
   "source": [
    "# Model quantized quartznet export"
   ]
  },
  {
   "cell_type": "code",
   "execution_count": 16,
   "id": "16620fd9",
   "metadata": {},
   "outputs": [],
   "source": [
    "import numpy as np\n",
    "from finn.core.modelwrapper import ModelWrapper\n",
    "import finn.core.onnx_exec as oxe\n",
    "\n",
    "model = ModelWrapper(\"/tmp/exported_qn_model.onnx\")\n",
    "\n",
    "z = model.get_initializer(model.graph.node[0].input[1])\n",
    "s = model.get_initializer(model.graph.node[1].input[1])\n",
    "\n",
    "inp_val = np.load(\"input_sample_float_0.npy\")\n",
    "inp_val = np.round(inp_val / s + z)\n",
    "input_dict = {model.graph.input[0].name: inp_val}\n",
    "output_dict_quantized = oxe.execute_onnx(model, input_dict, return_full_exec_context=True)\n",
    "\n"
   ]
  },
  {
   "cell_type": "markdown",
   "id": "ede3ba77",
   "metadata": {},
   "source": [
    "# Model latest quartznet export dev branch Brevitas"
   ]
  },
  {
   "cell_type": "code",
   "execution_count": 3,
   "id": "c6942d74",
   "metadata": {},
   "outputs": [
    {
     "ename": "AttributeError",
     "evalue": "'dict' object has no attribute 'flatten'",
     "output_type": "error",
     "traceback": [
      "\u001b[0;31m---------------------------------------------------------------------------\u001b[0m",
      "\u001b[0;31mAttributeError\u001b[0m                            Traceback (most recent call last)",
      "\u001b[0;32m<ipython-input-3-f52491984d97>\u001b[0m in \u001b[0;36m<module>\u001b[0;34m\u001b[0m\n\u001b[1;32m      9\u001b[0m \u001b[0moutput_dict_latest_export\u001b[0m \u001b[0;34m=\u001b[0m \u001b[0moxe\u001b[0m\u001b[0;34m.\u001b[0m\u001b[0mexecute_onnx\u001b[0m\u001b[0;34m(\u001b[0m\u001b[0mmodel\u001b[0m\u001b[0;34m,\u001b[0m \u001b[0minput_dict\u001b[0m\u001b[0;34m,\u001b[0m \u001b[0mreturn_full_exec_context\u001b[0m\u001b[0;34m=\u001b[0m\u001b[0;32mTrue\u001b[0m\u001b[0;34m)\u001b[0m\u001b[0;34m\u001b[0m\u001b[0;34m\u001b[0m\u001b[0m\n\u001b[1;32m     10\u001b[0m \u001b[0;34m\u001b[0m\u001b[0m\n\u001b[0;32m---> 11\u001b[0;31m \u001b[0mprint\u001b[0m\u001b[0;34m(\u001b[0m\u001b[0m__ctc_decoder_predictions_tensor\u001b[0m\u001b[0;34m(\u001b[0m\u001b[0moutput_dict_latest_export\u001b[0m\u001b[0;34m.\u001b[0m\u001b[0mflatten\u001b[0m\u001b[0;34m(\u001b[0m\u001b[0;34m)\u001b[0m\u001b[0;34m,\u001b[0m\u001b[0mlabels\u001b[0m\u001b[0;34m)\u001b[0m\u001b[0;34m)\u001b[0m\u001b[0;34m\u001b[0m\u001b[0;34m\u001b[0m\u001b[0m\n\u001b[0m",
      "\u001b[0;31mAttributeError\u001b[0m: 'dict' object has no attribute 'flatten'"
     ]
    }
   ],
   "source": [
    "import numpy as np\n",
    "from finn.core.modelwrapper import ModelWrapper\n",
    "import finn.core.onnx_exec as oxe\n",
    "\n",
    "model = ModelWrapper(\"/tmp/end2end_quartznet_export_dev.onnx\")\n",
    "\n",
    "inp_val = np.load(\"input_sample_float_0.npy\")\n",
    "input_dict = {model.graph.input[0].name: inp_val}\n",
    "output_dict_latest_export = oxe.execute_onnx(model, input_dict, return_full_exec_context=True)\n"
   ]
  },
  {
   "cell_type": "code",
   "execution_count": 4,
   "id": "a58df12e",
   "metadata": {},
   "outputs": [
    {
     "name": "stdout",
     "output_type": "stream",
     "text": [
      "['vanity and vexation of spad']\n"
     ]
    }
   ],
   "source": [
    "print(__ctc_decoder_predictions_tensor(output_dict_latest_export[model.graph.output[0].name].flatten(),labels))"
   ]
  },
  {
   "cell_type": "code",
   "execution_count": 6,
   "id": "0dee9911",
   "metadata": {},
   "outputs": [
    {
     "name": "stdout",
     "output_type": "stream",
     "text": [
      "Serving '/tmp/end2end_quartznet_export_dev.onnx' at http://0.0.0.0:8081\n"
     ]
    },
    {
     "data": {
      "text/html": [
       "\n",
       "        <iframe\n",
       "            width=\"100%\"\n",
       "            height=\"400\"\n",
       "            src=\"http://0.0.0.0:8081/\"\n",
       "            frameborder=\"0\"\n",
       "            allowfullscreen\n",
       "        ></iframe>\n",
       "        "
      ],
      "text/plain": [
       "<IPython.lib.display.IFrame at 0x7fe5f82bacf8>"
      ]
     },
     "execution_count": 6,
     "metadata": {},
     "output_type": "execute_result"
    }
   ],
   "source": [
    "from finn.util.visualization import showInNetron\n",
    "\n",
    "showInNetron(\"/tmp/end2end_quartznet_export_dev.onnx\")"
   ]
  },
  {
   "cell_type": "markdown",
   "id": "0412c9bd",
   "metadata": {},
   "source": [
    "# Comparisons below"
   ]
  },
  {
   "cell_type": "code",
   "execution_count": 21,
   "id": "c82537ff",
   "metadata": {},
   "outputs": [
    {
     "name": "stdout",
     "output_type": "stream",
     "text": [
      "28 - 28 = 0\n",
      "28 - 28 = 0\n",
      "28 - 28 = 0\n",
      "28 - 28 = 0\n",
      "28 - 28 = 0\n",
      "28 - 28 = 0\n",
      "28 - 28 = 0\n",
      "28 - 28 = 0\n",
      "28 - 28 = 0\n",
      "28 - 28 = 0\n",
      "28 - 28 = 0\n",
      "28 - 28 = 0\n",
      "28 - 28 = 0\n",
      "28 - 28 = 0\n",
      "28 - 28 = 0\n",
      "28 - 28 = 0\n",
      "28 - 28 = 0\n",
      "28 - 28 = 0\n",
      "28 - 28 = 0\n",
      "28 - 28 = 0\n",
      "28 - 28 = 0\n",
      "28 - 28 = 0\n",
      "28 - 28 = 0\n",
      "28 - 28 = 0\n",
      "22 - 22 = 0\n",
      "28 - 28 = 0\n",
      "28 - 28 = 0\n",
      "1 - 1 = 0\n",
      "28 - 28 = 0\n",
      "28 - 28 = 0\n",
      "14 - 14 = 0\n",
      "28 - 28 = 0\n",
      "28 - 28 = 0\n",
      "9 - 9 = 0\n",
      "28 - 28 = 0\n",
      "28 - 28 = 0\n",
      "20 - 20 = 0\n",
      "28 - 28 = 0\n",
      "28 - 28 = 0\n",
      "25 - 25 = 0\n",
      "28 - 28 = 0\n",
      "28 - 28 = 0\n",
      "28 - 28 = 0\n",
      "0 - 0 = 0\n",
      "0 - 0 = 0\n",
      "28 - 28 = 0\n",
      "1 - 1 = 0\n",
      "14 - 14 = 0\n",
      "4 - 4 = 0\n",
      "4 - 28 = -24\n",
      "0 - 0 = 0\n",
      "0 - 0 = 0\n",
      "28 - 28 = 0\n",
      "22 - 22 = 0\n",
      "28 - 28 = 0\n",
      "28 - 28 = 0\n",
      "5 - 5 = 0\n",
      "28 - 28 = 0\n",
      "28 - 28 = 0\n",
      "28 - 28 = 0\n",
      "28 - 28 = 0\n",
      "24 - 24 = 0\n",
      "28 - 28 = 0\n",
      "28 - 28 = 0\n",
      "28 - 28 = 0\n",
      "28 - 28 = 0\n",
      "1 - 1 = 0\n",
      "28 - 28 = 0\n",
      "28 - 28 = 0\n",
      "28 - 28 = 0\n",
      "20 - 20 = 0\n",
      "9 - 9 = 0\n",
      "9 - 9 = 0\n",
      "28 - 28 = 0\n",
      "15 - 15 = 0\n",
      "14 - 14 = 0\n",
      "28 - 28 = 0\n",
      "28 - 28 = 0\n",
      "0 - 0 = 0\n",
      "0 - 0 = 0\n",
      "0 - 0 = 0\n",
      "28 - 28 = 0\n",
      "28 - 28 = 0\n",
      "15 - 15 = 0\n",
      "6 - 22 = -16\n",
      "28 - 28 = 0\n",
      "28 - 28 = 0\n",
      "28 - 28 = 0\n",
      "0 - 0 = 0\n",
      "28 - 28 = 0\n",
      "28 - 28 = 0\n",
      "19 - 19 = 0\n",
      "19 - 19 = 0\n",
      "28 - 28 = 0\n",
      "16 - 16 = 0\n",
      "28 - 28 = 0\n",
      "28 - 28 = 0\n",
      "28 - 28 = 0\n",
      "28 - 1 = 27\n",
      "1 - 28 = -27\n",
      "28 - 28 = 0\n",
      "28 - 28 = 0\n",
      "4 - 14 = -10\n",
      "28 - 28 = 0\n",
      "28 - 28 = 0\n",
      "28 - 28 = 0\n",
      "28 - 28 = 0\n",
      "28 - 28 = 0\n",
      "28 - 28 = 0\n",
      "28 - 28 = 0\n",
      "28 - 28 = 0\n",
      "28 - 28 = 0\n",
      "28 - 28 = 0\n",
      "28 - 28 = 0\n",
      "28 - 28 = 0\n",
      "28 - 28 = 0\n",
      "28 - 28 = 0\n",
      "28 - 28 = 0\n",
      "28 - 28 = 0\n",
      "28 - 28 = 0\n",
      "28 - 28 = 0\n",
      "28 - 28 = 0\n",
      "28 - 28 = 0\n",
      "28 - 28 = 0\n",
      "28 - 28 = 0\n",
      "28 - 28 = 0\n",
      "28 - 28 = 0\n",
      "28 - 28 = 0\n"
     ]
    }
   ],
   "source": [
    "model_export = ModelWrapper(\"/tmp/quartznet_export.onnx\")\n",
    "export_out = output_dict_export[model_export.graph.output[0].name]\n",
    "\n",
    "model_quantized = ModelWrapper(\"/tmp/exported_qn_model.onnx\")\n",
    "quantized_out = output_dict_quantized[model_quantized.graph.output[0].name]\n",
    "\n",
    "for idx, el in enumerate(export_out.flatten()):\n",
    "    print(\"{} - {} = {}\".format(el, quantized_out.flatten()[idx], el-quantized_out.flatten()[idx]))"
   ]
  },
  {
   "cell_type": "code",
   "execution_count": 22,
   "id": "9a8d756b",
   "metadata": {},
   "outputs": [
    {
     "name": "stdout",
     "output_type": "stream",
     "text": [
      "['vanity and vexation of spad']\n",
      "['vanity and vexation ov span']\n"
     ]
    }
   ],
   "source": [
    "labels = [\" \", \"a\", \"b\", \"c\", \"d\", \"e\", \"f\", \"g\", \"h\", \"i\", \"j\", \"k\", \"l\", \"m\",\n",
    "         \"n\", \"o\", \"p\", \"q\", \"r\", \"s\", \"t\", \"u\", \"v\", \"w\", \"x\", \"y\", \"z\", \"'\"]\n",
    "    \n",
    "def __ctc_decoder_predictions_tensor(tensor, labels):\n",
    "    \"\"\"\n",
    "    Decodes a sequence of labels to words\n",
    "    \"\"\"\n",
    "    blank_id = len(labels)\n",
    "    hypotheses = []\n",
    "    labels_map = dict([(i, labels[i]) for i in range(len(labels))])\n",
    "    decoded_prediction = []\n",
    "    previous = len(labels)  # id of a blank symbol\n",
    "    prediction = tensor\n",
    "    for p in prediction:\n",
    "        if (p != previous or previous == blank_id) and p != blank_id:\n",
    "            decoded_prediction.append(p)\n",
    "        previous = p\n",
    "    hypothesis = ''.join([labels_map[c] for c in decoded_prediction])\n",
    "    hypotheses.append(hypothesis)\n",
    "    return hypotheses\n",
    "\n",
    "print(__ctc_decoder_predictions_tensor(export_out.flatten(),labels))\n",
    "print(__ctc_decoder_predictions_tensor(quantized_out.flatten(),labels))\n"
   ]
  }
 ],
 "metadata": {
  "kernelspec": {
   "display_name": "Python 3",
   "language": "python",
   "name": "python3"
  },
  "language_info": {
   "codemirror_mode": {
    "name": "ipython",
    "version": 3
   },
   "file_extension": ".py",
   "mimetype": "text/x-python",
   "name": "python",
   "nbconvert_exporter": "python",
   "pygments_lexer": "ipython3",
   "version": "3.6.8"
  }
 },
 "nbformat": 4,
 "nbformat_minor": 5
}
