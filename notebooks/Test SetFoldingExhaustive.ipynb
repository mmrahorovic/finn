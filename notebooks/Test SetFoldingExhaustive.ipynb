{
 "cells": [
  {
   "cell_type": "code",
   "execution_count": 4,
   "id": "27cff1f6",
   "metadata": {},
   "outputs": [],
   "source": [
    "from finn.core.modelwrapper import ModelWrapper\n",
    "from finn.analysis.fpgadataflow.res_estimation import res_estimation\n",
    "\n",
    "#model = ModelWrapper('intermediate_models/kernel_partitions/partition_2.onnx')\n",
    "#model = ModelWrapper('model_modified.onnx')\n",
    "#model = ModelWrapper('cnv_w1a1_u250.onnx')\n",
    "#model = ModelWrapper('cnv_w1a1_factor_0_9.onnx')\n",
    "model = ModelWrapper('partition_2.onnx')\n",
    "\n",
    "resources = res_estimation(model)"
   ]
  },
  {
   "cell_type": "code",
   "execution_count": 5,
   "id": "d59ff9a6",
   "metadata": {},
   "outputs": [
    {
     "name": "stdout",
     "output_type": "stream",
     "text": [
      "Max luts: 53200\n",
      "70%: 37240.0\n"
     ]
    }
   ],
   "source": [
    "from finn.util.platforms import platforms\n",
    "\n",
    "board = \"Pynq-Z1\"\n",
    "#board = \"ZCU104\"\n",
    "#board = \"U250\"\n",
    "\n",
    "board_resources = platforms[board]().compute_resources\n",
    "max_luts = sum(res[0] for res in board_resources)\n",
    "\n",
    "print(\"Max luts: {}\".format(max_luts))\n",
    "print(\"70%: {}\".format(max_luts*0.7))"
   ]
  },
  {
   "cell_type": "code",
   "execution_count": 6,
   "id": "0dd8b291",
   "metadata": {},
   "outputs": [
    {
     "name": "stdout",
     "output_type": "stream",
     "text": [
      "LUT count: 30179\n",
      "Fraction: 56.73%\n"
     ]
    }
   ],
   "source": [
    "import numpy as np\n",
    "\n",
    "lut_count = 0\n",
    "for k,v in resources.items():\n",
    "    lut_node = v.get(\"LUT\")\n",
    "    lut_count = lut_count + lut_node\n",
    "\n",
    "print(\"LUT count: {}\".format(lut_count))\n",
    "\n",
    "fraction = np.round(lut_count/max_luts*100,2)\n",
    "print(\"Fraction: {}%\".format(fraction))\n",
    "\n",
    "\n"
   ]
  },
  {
   "cell_type": "code",
   "execution_count": 11,
   "id": "2362667e",
   "metadata": {},
   "outputs": [
    {
     "name": "stdout",
     "output_type": "stream",
     "text": [
      "3072\n",
      "24588\n",
      "28224\n"
     ]
    }
   ],
   "source": [
    "from finn.custom_op.registry import getCustomOp\n",
    "\n",
    "model = ModelWrapper('intermediate_models/kernel_partitions/partition_2.onnx')\n",
    "\n",
    "max_cycles=0\n",
    "for n in model.graph.node:\n",
    "    inst = getCustomOp(n)\n",
    "    cycles = inst.get_nodeattr('cycles_estimate')\n",
    "    if cycles>max_cycles:\n",
    "        max_cycles=cycles\n",
    "        print(cycles)\n",
    "        largest_node = n"
   ]
  },
  {
   "cell_type": "code",
   "execution_count": 81,
   "id": "01c33900",
   "metadata": {},
   "outputs": [
    {
     "name": "stdout",
     "output_type": "stream",
     "text": [
      "input: \"StreamingFIFO_3_out0\"\n",
      "input: \"StreamingFCLayer_Batch_1_param0\"\n",
      "input: \"StreamingFCLayer_Batch_1_param1\"\n",
      "output: \"StreamingFCLayer_Batch_1_out0\"\n",
      "name: \"StreamingDataflowPartition_1_StreamingFCLayer_Batch_1\"\n",
      "op_type: \"StreamingFCLayer_Batch\"\n",
      "attribute {\n",
      "  name: \"ActVal\"\n",
      "  i: 0\n",
      "  type: INT\n",
      "}\n",
      "attribute {\n",
      "  name: \"MH\"\n",
      "  i: 64\n",
      "  type: INT\n",
      "}\n",
      "attribute {\n",
      "  name: \"MW\"\n",
      "  i: 576\n",
      "  type: INT\n",
      "}\n",
      "attribute {\n",
      "  name: \"PE\"\n",
      "  i: 32\n",
      "  type: INT\n",
      "}\n",
      "attribute {\n",
      "  name: \"SIMD\"\n",
      "  i: 32\n",
      "  type: INT\n",
      "}\n",
      "attribute {\n",
      "  name: \"backend\"\n",
      "  s: \"fpgadataflow\"\n",
      "  type: STRING\n",
      "}\n",
      "attribute {\n",
      "  name: \"binaryXnorMode\"\n",
      "  i: 1\n",
      "  type: INT\n",
      "}\n",
      "attribute {\n",
      "  name: \"inputDataType\"\n",
      "  s: \"BINARY\"\n",
      "  type: STRING\n",
      "}\n",
      "attribute {\n",
      "  name: \"mem_mode\"\n",
      "  s: \"decoupled\"\n",
      "  type: STRING\n",
      "}\n",
      "attribute {\n",
      "  name: \"noActivation\"\n",
      "  i: 0\n",
      "  type: INT\n",
      "}\n",
      "attribute {\n",
      "  name: \"numInputVectors\"\n",
      "  ints: 1\n",
      "  ints: 28\n",
      "  ints: 28\n",
      "  type: INTS\n",
      "}\n",
      "attribute {\n",
      "  name: \"outputDataType\"\n",
      "  s: \"BINARY\"\n",
      "  type: STRING\n",
      "}\n",
      "attribute {\n",
      "  name: \"weightDataType\"\n",
      "  s: \"BINARY\"\n",
      "  type: STRING\n",
      "}\n",
      "attribute {\n",
      "  name: \"accDataType\"\n",
      "  s: \"UINT10\"\n",
      "  type: STRING\n",
      "}\n",
      "attribute {\n",
      "  name: \"ram_style\"\n",
      "  s: \"auto\"\n",
      "  type: STRING\n",
      "}\n",
      "attribute {\n",
      "  name: \"resType\"\n",
      "  s: \"lut\"\n",
      "  type: STRING\n",
      "}\n",
      "attribute {\n",
      "  name: \"cycles_estimate\"\n",
      "  i: 28224\n",
      "  type: INT\n",
      "}\n",
      "attribute {\n",
      "  name: \"code_gen_dir_ipgen\"\n",
      "  s: \"/scratch/users/mirzam/forks/build_cnv_w1a1_pynq/code_gen_ipgen_StreamingFCLayer_Batch_1_esztdziv\"\n",
      "  type: STRING\n",
      "}\n",
      "attribute {\n",
      "  name: \"ipgen_path\"\n",
      "  s: \"/scratch/users/mirzam/forks/build_cnv_w1a1_pynq/code_gen_ipgen_StreamingFCLayer_Batch_1_esztdziv/project_StreamingFCLayer_Batch_1\"\n",
      "  type: STRING\n",
      "}\n",
      "attribute {\n",
      "  name: \"ip_path\"\n",
      "  s: \"/scratch/users/mirzam/forks/build_cnv_w1a1_pynq/code_gen_ipgen_StreamingFCLayer_Batch_1_esztdziv/project_StreamingFCLayer_Batch_1/sol1/impl/ip\"\n",
      "  type: STRING\n",
      "}\n",
      "attribute {\n",
      "  name: \"ip_vlnv\"\n",
      "  s: \"xilinx.com:hls:StreamingFCLayer_Batch_1:1.0\"\n",
      "  type: STRING\n",
      "}\n",
      "attribute {\n",
      "  name: \"inFIFODepth\"\n",
      "  i: 0\n",
      "  type: INT\n",
      "}\n",
      "attribute {\n",
      "  name: \"outFIFODepth\"\n",
      "  i: 0\n",
      "  type: INT\n",
      "}\n",
      "attribute {\n",
      "  name: \"slr\"\n",
      "  i: -1\n",
      "  type: INT\n",
      "}\n",
      "attribute {\n",
      "  name: \"partition_id\"\n",
      "  i: 2\n",
      "  type: INT\n",
      "}\n",
      "domain: \"finn.custom_op.fpgadataflow\"\n",
      "\n"
     ]
    }
   ],
   "source": [
    "print(largest_node)"
   ]
  },
  {
   "cell_type": "code",
   "execution_count": 85,
   "id": "9e9f1072",
   "metadata": {},
   "outputs": [
    {
     "name": "stdout",
     "output_type": "stream",
     "text": [
      "8255\n"
     ]
    }
   ],
   "source": [
    "temp_node = largest_node\n",
    "\n",
    "temp_inst = getCustomOp(temp_node)\n",
    "\n",
    "print(temp_inst.get_nodeattr(\"\"))\n",
    "luts = temp_inst.lut_estimation()\n",
    "\n",
    "print(luts)"
   ]
  }
 ],
 "metadata": {
  "kernelspec": {
   "display_name": "Python 3",
   "language": "python",
   "name": "python3"
  },
  "language_info": {
   "codemirror_mode": {
    "name": "ipython",
    "version": 3
   },
   "file_extension": ".py",
   "mimetype": "text/x-python",
   "name": "python",
   "nbconvert_exporter": "python",
   "pygments_lexer": "ipython3",
   "version": "3.8.5"
  }
 },
 "nbformat": 4,
 "nbformat_minor": 5
}
