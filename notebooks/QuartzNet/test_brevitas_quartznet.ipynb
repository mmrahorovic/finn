{
 "cells": [
  {
   "cell_type": "code",
   "execution_count": 1,
   "id": "complex-candle",
   "metadata": {},
   "outputs": [
    {
     "name": "stdout",
     "output_type": "stream",
     "text": [
      "Could not import torchaudio. Some features might not work.\n"
     ]
    }
   ],
   "source": [
    "import brevitas.onnx as bo\n",
    "import numpy as np\n",
    "import torch\n",
    "\n",
    "import finn.core.onnx_exec as oxe\n",
    "from finn.core.modelwrapper import ModelWrapper\n",
    "from finn.transformation.fold_constants import FoldConstants\n",
    "from finn.transformation.general import RemoveStaticGraphInputs\n",
    "from finn.transformation.infer_shapes import InferShapes\n",
    "from finn.util.basic import make_build_dir, gen_finn_dt_tensor\n",
    "from finn.core.datatype import DataType\n",
    "import brevitas_examples.speech_to_text as stt\n",
    "\n",
    "export_onnx_path = make_build_dir(\"test_brevitas_quartznet_\")\n",
    "\n",
    "\n",
    "def test_brevitas_quartznet_onnx_export_and_exec():\n",
    "    nname = \"quartznet-4b\"\n",
    "    finn_onnx = export_onnx_path + \"/%s.onnx\" % nname\n",
    "    quartznet_torch = stt.quant_quartznet_perchannelscaling_4b(export_mode=True)\n",
    "    ishape = (1, 64, 256)\n",
    "    idt = DataType.FLOAT32\n",
    "    bo.export_finn_onnx(quartznet_torch, ishape, finn_onnx)\n",
    "    model = ModelWrapper(finn_onnx)\n",
    "    model = model.transform(InferShapes())\n",
    "    model = model.transform(FoldConstants())\n",
    "    model = model.transform(RemoveStaticGraphInputs())\n",
    "    assert len(model.graph.input) == 1\n",
    "    assert len(model.graph.output) == 1\n",
    "    # generate a random test vector\n",
    "    iname = model.graph.input[0].name\n",
    "    oname = model.graph.output[0].name\n",
    "    np.random.seed(42)\n",
    "    rand_inp = gen_finn_dt_tensor(idt, ishape)\n",
    "    # run using FINN-based execution\n",
    "    input_dict = {iname: rand_inp}\n",
    "    output_dict = oxe.execute_onnx(model, input_dict)\n",
    "    produced = output_dict[oname]\n",
    "    # run using PyTorch/Brevitas\n",
    "    rand_inp_torch = torch.from_numpy(rand_inp).float()\n",
    "    # do forward pass in PyTorch/Brevitas\n",
    "    expected = quartznet_torch.forward(rand_inp_torch).detach().numpy()\n",
    "    #assert np.isclose(produced, expected, atol=1e-3).all()\n",
    "    \n",
    "    return expected, produced"
   ]
  },
  {
   "cell_type": "code",
   "execution_count": null,
   "id": "lightweight-gregory",
   "metadata": {},
   "outputs": [
    {
     "name": "stdout",
     "output_type": "stream",
     "text": [
      "=> Loading encoder checkpoint from:'https://github.com/Xilinx/brevitas/releases/download/quant_quartznet_4b-r0/quant_quartznet_encoder_4b-0a46a232.pth'\n",
      "=> Loading decoder checkpoint from:'https://github.com/Xilinx/brevitas/releases/download/quant_quartznet_4b-r0/quant_quartznet_decoder_4b-bcbf8c7b.pth'\n",
      "Checkpoint restored\n"
     ]
    }
   ],
   "source": [
    "expected_brevitas, produced_finn = test_brevitas_quartznet_onnx_export_and_exec()"
   ]
  },
  {
   "cell_type": "code",
   "execution_count": null,
   "id": "binding-bubble",
   "metadata": {},
   "outputs": [],
   "source": [
    "assert np.isclose(expected_brevitas, produced_finn, atol=1e-3).all()"
   ]
  }
 ],
 "metadata": {
  "kernelspec": {
   "display_name": "Python 3",
   "language": "python",
   "name": "python3"
  },
  "language_info": {
   "codemirror_mode": {
    "name": "ipython",
    "version": 3
   },
   "file_extension": ".py",
   "mimetype": "text/x-python",
   "name": "python",
   "nbconvert_exporter": "python",
   "pygments_lexer": "ipython3",
   "version": "3.6.8"
  }
 },
 "nbformat": 4,
 "nbformat_minor": 5
}
