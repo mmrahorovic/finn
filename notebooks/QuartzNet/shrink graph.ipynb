{
 "cells": [
  {
   "cell_type": "code",
   "execution_count": 38,
   "id": "empirical-science",
   "metadata": {},
   "outputs": [
    {
     "name": "stdout",
     "output_type": "stream",
     "text": [
      "end2end_quartznet_export_dev.onnx\r\n",
      "end2end_quartznet_folded.onnx\r\n",
      "end2end_quartznet_folded_renamed.onnx\r\n",
      "end2end_quartznet_folded_test.onnx\r\n",
      "end2end_quartznet_hls_layers.onnx\r\n",
      "end2end_quartznet_lowered.onnx\r\n",
      "end2end_quartznet_lowered_partitioned.onnx\r\n",
      "end2end_quartznet_streamline.onnx\r\n",
      "end2end_quartznet_tidy.onnx\r\n",
      "experiment_partitions\r\n",
      "partitioning_repartition\r\n"
     ]
    }
   ],
   "source": [
    "!ls /workspace/results/syn_v0/"
   ]
  },
  {
   "cell_type": "markdown",
   "id": "genetic-being",
   "metadata": {},
   "source": [
    "# Copy all files to new directory for testing"
   ]
  },
  {
   "cell_type": "code",
   "execution_count": 50,
   "id": "orange-description",
   "metadata": {},
   "outputs": [
    {
     "name": "stdout",
     "output_type": "stream",
     "text": [
      "mkdir: cannot create directory '/workspace/results/syn_v0/experiment_partitions': File exists\r\n"
     ]
    }
   ],
   "source": [
    "!mkdir /workspace/results/syn_v0/experiment_partitions\n",
    "!cp /workspace/results/syn_v0/end2end_quartznet_folded.onnx /workspace/results/syn_v0/experiment_partitions/\n",
    "!cp -r /workspace/results/syn_v0/partitioning_repartition/. /workspace/results/syn_v0/experiment_partitions/"
   ]
  },
  {
   "cell_type": "code",
   "execution_count": 71,
   "id": "moving-continuity",
   "metadata": {},
   "outputs": [],
   "source": [
    "!cp /workspace/results/syn_v0/end2end_quartznet_folded.onnx /workspace/results/syn_v0/experiment_partitions/\n",
    "!cp -r /workspace/results/syn_v0/partitioning_repartition/. /workspace/results/syn_v0/experiment_partitions/"
   ]
  },
  {
   "cell_type": "code",
   "execution_count": 35,
   "id": "intended-tolerance",
   "metadata": {},
   "outputs": [
    {
     "name": "stdout",
     "output_type": "stream",
     "text": [
      "end2end_quartznet_folded.onnx\t\t\tpartition_16.onnx\r\n",
      "end2end_quartznet_folded_cropped.onnx\t\tpartition_1_cropped.onnx\r\n",
      "end2end_quartznet_folded_cropped_extended.onnx\tpartition_2.onnx\r\n",
      "partition_0.onnx\t\t\t\tpartition_2_cropped.onnx\r\n",
      "partition_1.onnx\t\t\t\tpartition_3.onnx\r\n",
      "partition_10.onnx\t\t\t\tpartition_4.onnx\r\n",
      "partition_10_cropped.onnx\t\t\tpartition_4_cropped.onnx\r\n",
      "partition_11.onnx\t\t\t\tpartition_5.onnx\r\n",
      "partition_12.onnx\t\t\t\tpartition_6.onnx\r\n",
      "partition_13.onnx\t\t\t\tpartition_7.onnx\r\n",
      "partition_13_cropped.onnx\t\t\tpartition_7_cropped.onnx\r\n",
      "partition_14.onnx\t\t\t\tpartition_8.onnx\r\n",
      "partition_15.onnx\t\t\t\tpartition_9.onnx\r\n"
     ]
    }
   ],
   "source": [
    "!ls /workspace/results/syn_v0/experiment_partitions/"
   ]
  },
  {
   "cell_type": "code",
   "execution_count": 34,
   "id": "modified-acceptance",
   "metadata": {},
   "outputs": [],
   "source": []
  },
  {
   "cell_type": "markdown",
   "id": "cultural-winter",
   "metadata": {},
   "source": [
    "# Rename model path (if needed..)"
   ]
  },
  {
   "cell_type": "code",
   "execution_count": 72,
   "id": "defined-filename",
   "metadata": {},
   "outputs": [],
   "source": [
    "from finn.custom_op.registry import getCustomOp\n",
    "from finn.core.modelwrapper import ModelWrapper\n",
    "\n",
    "model = ModelWrapper(\"/workspace/results/syn_v0/experiment_partitions/end2end_quartznet_folded.onnx\")\n",
    "\n",
    "for n in model.graph.node:\n",
    "    if n.op_type==\"GenericPartition\":\n",
    "        inst = getCustomOp(n)\n",
    "        model_path = inst.get_nodeattr(\"model\")\n",
    "        new_model_path = model_path.replace(\"/finn_dev_mirza/partitioning_repartition\", \"/syn_v0/experiment_partitions\")\n",
    "        inst.set_nodeattr(\"model\", new_model_path)\n",
    "                \n",
    "model.save(\"/workspace/results/syn_v0/experiment_partitions/end2end_quartznet_folded.onnx\")"
   ]
  },
  {
   "cell_type": "code",
   "execution_count": 74,
   "id": "sacred-wright",
   "metadata": {},
   "outputs": [
    {
     "name": "stdout",
     "output_type": "stream",
     "text": [
      "Stopping http://0.0.0.0:8081\n",
      "Serving '/workspace/results/syn_v0/experiment_partitions/end2end_quartznet_folded.onnx' at http://0.0.0.0:8081\n"
     ]
    },
    {
     "data": {
      "text/html": [
       "\n",
       "        <iframe\n",
       "            width=\"100%\"\n",
       "            height=\"400\"\n",
       "            src=\"http://0.0.0.0:8081/\"\n",
       "            frameborder=\"0\"\n",
       "            allowfullscreen\n",
       "        ></iframe>\n",
       "        "
      ],
      "text/plain": [
       "<IPython.lib.display.IFrame at 0x7f72e851d5c0>"
      ]
     },
     "execution_count": 74,
     "metadata": {},
     "output_type": "execute_result"
    }
   ],
   "source": [
    "showInNetron(\"/workspace/results/syn_v0/experiment_partitions/end2end_quartznet_folded.onnx\")"
   ]
  },
  {
   "cell_type": "markdown",
   "id": "dominican-smile",
   "metadata": {},
   "source": [
    "# Repartition graph (exclude Transpose node in first partition)\n",
    "## CAUTION: run only once..."
   ]
  },
  {
   "cell_type": "code",
   "execution_count": 75,
   "id": "auburn-metadata",
   "metadata": {},
   "outputs": [],
   "source": [
    "from finn.core.modelwrapper import ModelWrapper\n",
    "from finn.transformation.extend_partition import ExtendPartition\n",
    "from finn.transformation.create_generic_partitions import PartitionFromDict\n",
    "\n",
    "partitioning = {0: range(1,4)}\n",
    "\n",
    "model = ModelWrapper(\"/workspace/results/syn_v0/experiment_partitions/end2end_quartznet_folded.onnx\")\n",
    "\n",
    "model = model.transform(ExtendPartition([0]))\n",
    "model = model.transform(PartitionFromDict(partitioning, \"/workspace/results/syn_v0/experiment_partitions\"))\n",
    "\n",
    "model.save(\"/workspace/results/syn_v0/experiment_partitions/end2end_quartznet_folded.onnx\")\n",
    "#showInNetron(\"/workspace/results/syn_v0/experiment_partitions/end2end_quartznet_folded.onnx\")"
   ]
  },
  {
   "cell_type": "code",
   "execution_count": 76,
   "id": "dried-microphone",
   "metadata": {},
   "outputs": [
    {
     "name": "stdout",
     "output_type": "stream",
     "text": [
      "Stopping http://0.0.0.0:8081\n",
      "Serving '/workspace/results/syn_v0/experiment_partitions/end2end_quartznet_folded.onnx' at http://0.0.0.0:8081\n"
     ]
    },
    {
     "data": {
      "text/html": [
       "\n",
       "        <iframe\n",
       "            width=\"100%\"\n",
       "            height=\"400\"\n",
       "            src=\"http://0.0.0.0:8081/\"\n",
       "            frameborder=\"0\"\n",
       "            allowfullscreen\n",
       "        ></iframe>\n",
       "        "
      ],
      "text/plain": [
       "<IPython.lib.display.IFrame at 0x7f73446625c0>"
      ]
     },
     "execution_count": 76,
     "metadata": {},
     "output_type": "execute_result"
    }
   ],
   "source": [
    "from finn.util.visualization import showInNetron\n",
    "showInNetron(\"/workspace/results/syn_v0/experiment_partitions/end2end_quartznet_folded.onnx\")"
   ]
  },
  {
   "cell_type": "markdown",
   "id": "fifteen-prior",
   "metadata": {},
   "source": [
    "# SetFolding"
   ]
  },
  {
   "cell_type": "code",
   "execution_count": 80,
   "id": "nonprofit-compromise",
   "metadata": {},
   "outputs": [],
   "source": [
    "from finn.core.modelwrapper import ModelWrapper\n",
    "from finn.custom_op.registry import getCustomOp\n",
    "from finn.transformation.fpgadataflow.set_folding import SetFolding\n",
    "\n",
    "model = ModelWrapper(\"/workspace/results/syn_v0/experiment_partitions/end2end_quartznet_folded.onnx\")\n",
    "\n",
    "for n in model.graph.node:\n",
    "    if n.op_type==\"GenericPartition\":\n",
    "        inst = getCustomOp(n)\n",
    "        model_path = inst.get_nodeattr(\"model\")\n",
    "        model_partition = ModelWrapper(model_path)\n",
    "        model_partition = model_partition.transform(SetFolding(target_cycles_per_frame=1200000))  \n",
    "        model_partition.save(model_path)\n",
    "        \n",
    "#model.save(\"/workspace/results/syn_v0/experiment_partitions/end2end_quartznet_folded.onnx\")"
   ]
  },
  {
   "cell_type": "code",
   "execution_count": 105,
   "id": "guilty-geography",
   "metadata": {},
   "outputs": [],
   "source": [
    "## COUNT nodes that have certain PE, SIMD value\n",
    "\n",
    "model = ModelWrapper(\"/workspace/results/syn_v0/experiment_partitions/end2end_quartznet_folded.onnx\")\n",
    "pe_dict={}\n",
    "for n in model.graph.node:\n",
    "    if n.op_type==\"GenericPartition\":\n",
    "        inst = getCustomOp(n)\n",
    "        model_path = inst.get_nodeattr(\"model\")\n",
    "        model_partition = ModelWrapper(model_path)\n",
    "        for npar in model_partition.graph.node:\n",
    "            inst_par = getCustomOp(npar)\n",
    "            if npar.op_type==\"ConvolutionInputGenerator1D\":\n",
    "                pe = inst_par.get_nodeattr(\"SIMD\")\n",
    "                if pe in pe_dict:\n",
    "                    pe_dict[pe] += 1\n",
    "                else:\n",
    "                    pe_dict[pe] = 1\n",
    "        "
   ]
  },
  {
   "cell_type": "code",
   "execution_count": 99,
   "id": "complimentary-sharp",
   "metadata": {},
   "outputs": [
    {
     "name": "stdout",
     "output_type": "stream",
     "text": [
      "Stopping http://0.0.0.0:8081\n",
      "Serving '/workspace/results/syn_v0/experiment_partitions/partition_4.onnx' at http://0.0.0.0:8081\n"
     ]
    },
    {
     "data": {
      "text/html": [
       "\n",
       "        <iframe\n",
       "            width=\"100%\"\n",
       "            height=\"400\"\n",
       "            src=\"http://0.0.0.0:8081/\"\n",
       "            frameborder=\"0\"\n",
       "            allowfullscreen\n",
       "        ></iframe>\n",
       "        "
      ],
      "text/plain": [
       "<IPython.lib.display.IFrame at 0x7f7326db5588>"
      ]
     },
     "execution_count": 99,
     "metadata": {},
     "output_type": "execute_result"
    }
   ],
   "source": [
    "from finn.util.visualization import showInNetron\n",
    "showInNetron(\"/workspace/results/syn_v0/experiment_partitions/partition_4.onnx\")"
   ]
  },
  {
   "cell_type": "markdown",
   "id": "rising-bunny",
   "metadata": {},
   "source": [
    "# Crop model"
   ]
  },
  {
   "cell_type": "code",
   "execution_count": 135,
   "id": "incident-symphony",
   "metadata": {},
   "outputs": [],
   "source": [
    "from finn.core.modelwrapper import ModelWrapper\n",
    "from finn.transformation.general import (\n",
    "    RemoveStaticGraphInputs,\n",
    "    RemoveUnusedTensors,\n",
    "    SortGraph,\n",
    ")\n",
    "from finn.transformation.infer_shapes import InferShapes\n",
    "\n",
    "model = ModelWrapper(\"/workspace/results/syn_v0/experiment_partitions/partition_1.onnx\")\n",
    "#for idx,n in enumerate(model.graph.node):\n",
    "#    print(\"{}\\t{}\".format(idx,n.name))\n",
    "\n",
    "idx_to_remove = [7,8,9,10,11,12,13,14,15,16,17,18]\n",
    "nodes = [n for n in model.graph.node]\n",
    "for idx, n in enumerate(nodes):\n",
    "    if n.name==\"pt_1_FMPadding_Batch_1\":\n",
    "        inp_connect = n.input[0]\n",
    "    if n.name==\"pt_1_FMPadding_Batch_4\":\n",
    "        n.input[0]=inp_connect\n",
    "    if idx in idx_to_remove:\n",
    "        model.graph.node.remove(n) \n",
    "\n",
    "model = model.transform(RemoveUnusedTensors())\n",
    "model = model.transform(RemoveStaticGraphInputs())\n",
    "model = model.transform(SortGraph())        \n",
    "#model = model.transform(InferShapes())\n",
    "model.save(\"/workspace/results/syn_v0/experiment_partitions/cropped_partition_1.onnx\")\n",
    "############################################################################################################\n",
    "\n",
    "model = ModelWrapper(\"/workspace/results/syn_v0/experiment_partitions/partition_4.onnx\")\n",
    "idx_to_remove = [2,4,5,6,7,8,9,10,11,12,13,14,15,16,17,18]\n",
    "nodes = [n for n in model.graph.node]\n",
    "for idx, n in enumerate(nodes):\n",
    "    if n.name==\"pt_4_FMPadding_Batch_0\":\n",
    "        inp_connect = n.input[0]\n",
    "    if n.name==\"pt_4_FMPadding_Batch_4\":\n",
    "        n.input[0]=inp_connect\n",
    "    if idx in idx_to_remove:\n",
    "        model.graph.node.remove(n) \n",
    "\n",
    "model = model.transform(RemoveUnusedTensors())\n",
    "model = model.transform(RemoveStaticGraphInputs())\n",
    "model = model.transform(SortGraph())        \n",
    "#model = model.transform(InferShapes())\n",
    "model.save(\"/workspace/results/syn_v0/experiment_partitions/cropped_partition_4.onnx\")\n",
    "############################################################################################################\n",
    "\n",
    "model = ModelWrapper(\"/workspace/results/syn_v0/experiment_partitions/partition_7.onnx\")\n",
    "idx_to_remove = [7,8,9,10,11,12,13,14,15,16,17,18]\n",
    "nodes = [n for n in model.graph.node]\n",
    "for idx, n in enumerate(nodes):\n",
    "    if n.name==\"pt_7_FMPadding_Batch_1\":\n",
    "        inp_connect = n.input[0]\n",
    "    if n.name==\"pt_7_FMPadding_Batch_4\":\n",
    "        n.input[0]=inp_connect\n",
    "    if idx in idx_to_remove:\n",
    "        model.graph.node.remove(n) \n",
    "\n",
    "model = model.transform(RemoveUnusedTensors())\n",
    "model = model.transform(RemoveStaticGraphInputs())\n",
    "model = model.transform(SortGraph())        \n",
    "#model = model.transform(InferShapes())\n",
    "model.save(\"/workspace/results/syn_v0/experiment_partitions/cropped_partition_7.onnx\")\n",
    "############################################################################################################\n",
    "\n",
    "model = ModelWrapper(\"/workspace/results/syn_v0/experiment_partitions/partition_10.onnx\")\n",
    "idx_to_remove = [2,4,5,6,7,8,9,10,11,12,13,14,15,16,17,18]\n",
    "nodes = [n for n in model.graph.node]\n",
    "for idx, n in enumerate(nodes):\n",
    "    if n.name==\"pt_10_FMPadding_Batch_0\":\n",
    "        inp_connect = n.input[0]\n",
    "    if n.name==\"pt_10_FMPadding_Batch_4\":\n",
    "        n.input[0]=inp_connect\n",
    "    if idx in idx_to_remove:\n",
    "        model.graph.node.remove(n) \n",
    "\n",
    "model = model.transform(RemoveUnusedTensors())\n",
    "model = model.transform(RemoveStaticGraphInputs())\n",
    "model = model.transform(SortGraph())        \n",
    "#model = model.transform(InferShapes())\n",
    "model.save(\"/workspace/results/syn_v0/experiment_partitions/cropped_partition_10.onnx\")\n",
    "############################################################################################################\n",
    "\n",
    "model = ModelWrapper(\"/workspace/results/syn_v0/experiment_partitions/partition_13.onnx\")\n",
    "idx_to_remove = [2,4,5,6,7,8,9,10,11,12,13,14,15,16,17,18]\n",
    "nodes = [n for n in model.graph.node]\n",
    "for idx, n in enumerate(nodes):\n",
    "    if n.name==\"pt_13_FMPadding_Batch_0\":\n",
    "        inp_connect = n.input[0]\n",
    "    if n.name==\"pt_13_FMPadding_Batch_4\":\n",
    "        n.input[0]=inp_connect\n",
    "    if idx in idx_to_remove:\n",
    "        model.graph.node.remove(n) \n",
    "\n",
    "model = model.transform(RemoveUnusedTensors())\n",
    "model = model.transform(RemoveStaticGraphInputs())\n",
    "model = model.transform(SortGraph())        \n",
    "#model = model.transform(InferShapes())\n",
    "model.save(\"/workspace/results/syn_v0/experiment_partitions/cropped_partition_13.onnx\")\n",
    "############################################################################################################\n",
    "\n",
    "model = ModelWrapper(\"/workspace/results/syn_v0/experiment_partitions/partition_16.onnx\")\n",
    "model.save(\"/workspace/results/syn_v0/experiment_partitions/cropped_partition_16.onnx\")"
   ]
  },
  {
   "cell_type": "code",
   "execution_count": 86,
   "id": "noble-florida",
   "metadata": {},
   "outputs": [
    {
     "name": "stdout",
     "output_type": "stream",
     "text": [
      "cropped_partition_1.onnx       partition_10.onnx  partition_3.onnx\r\n",
      "cropped_partition_10.onnx      partition_11.onnx  partition_4.onnx\r\n",
      "cropped_partition_13.onnx      partition_12.onnx  partition_5.onnx\r\n",
      "cropped_partition_4.onnx       partition_13.onnx  partition_6.onnx\r\n",
      "cropped_partition_7.onnx       partition_14.onnx  partition_7.onnx\r\n",
      "end2end_quartznet_folded.onnx  partition_15.onnx  partition_8.onnx\r\n",
      "partition_0.onnx\t       partition_16.onnx  partition_9.onnx\r\n",
      "partition_1.onnx\t       partition_2.onnx\r\n"
     ]
    }
   ],
   "source": [
    "!ls /workspace/results/syn_v0/experiment_partitions/"
   ]
  },
  {
   "cell_type": "code",
   "execution_count": 138,
   "id": "available-error",
   "metadata": {},
   "outputs": [
    {
     "name": "stdout",
     "output_type": "stream",
     "text": [
      "Stopping http://0.0.0.0:8081\n",
      "Serving '/workspace/results/syn_v0/experiment_partitions/cropped_partition_10.onnx' at http://0.0.0.0:8081\n"
     ]
    },
    {
     "data": {
      "text/html": [
       "\n",
       "        <iframe\n",
       "            width=\"100%\"\n",
       "            height=\"400\"\n",
       "            src=\"http://0.0.0.0:8081/\"\n",
       "            frameborder=\"0\"\n",
       "            allowfullscreen\n",
       "        ></iframe>\n",
       "        "
      ],
      "text/plain": [
       "<IPython.lib.display.IFrame at 0x7f73265cec88>"
      ]
     },
     "execution_count": 138,
     "metadata": {},
     "output_type": "execute_result"
    }
   ],
   "source": [
    "showInNetron(\"/workspace/results/syn_v0/experiment_partitions/cropped_partition_10.onnx\")"
   ]
  },
  {
   "cell_type": "code",
   "execution_count": 137,
   "id": "indian-march",
   "metadata": {},
   "outputs": [
    {
     "name": "stdout",
     "output_type": "stream",
     "text": [
      "Stopping http://0.0.0.0:8081\n",
      "Serving '/workspace/results/syn_v0/experiment_partitions/partition_10.onnx' at http://0.0.0.0:8081\n"
     ]
    },
    {
     "data": {
      "text/html": [
       "\n",
       "        <iframe\n",
       "            width=\"100%\"\n",
       "            height=\"400\"\n",
       "            src=\"http://0.0.0.0:8081/\"\n",
       "            frameborder=\"0\"\n",
       "            allowfullscreen\n",
       "        ></iframe>\n",
       "        "
      ],
      "text/plain": [
       "<IPython.lib.display.IFrame at 0x7f73265cec18>"
      ]
     },
     "execution_count": 137,
     "metadata": {},
     "output_type": "execute_result"
    }
   ],
   "source": [
    "showInNetron(\"/workspace/results/syn_v0/experiment_partitions/partition_10.onnx\")"
   ]
  },
  {
   "cell_type": "markdown",
   "id": "packed-authority",
   "metadata": {},
   "source": [
    "## Construct new model out of cropped ones"
   ]
  },
  {
   "cell_type": "code",
   "execution_count": 108,
   "id": "adjacent-uncertainty",
   "metadata": {},
   "outputs": [
    {
     "name": "stdout",
     "output_type": "stream",
     "text": [
      "cropped_partition_1.onnx       partition_10.onnx  partition_3.onnx\r\n",
      "cropped_partition_10.onnx      partition_11.onnx  partition_4.onnx\r\n",
      "cropped_partition_13.onnx      partition_12.onnx  partition_5.onnx\r\n",
      "cropped_partition_4.onnx       partition_13.onnx  partition_6.onnx\r\n",
      "cropped_partition_7.onnx       partition_14.onnx  partition_7.onnx\r\n",
      "end2end_quartznet_folded.onnx  partition_15.onnx  partition_8.onnx\r\n",
      "partition_0.onnx\t       partition_16.onnx  partition_9.onnx\r\n",
      "partition_1.onnx\t       partition_2.onnx\r\n"
     ]
    }
   ],
   "source": [
    "!ls /workspace/results/syn_v0/experiment_partitions/"
   ]
  },
  {
   "cell_type": "code",
   "execution_count": 139,
   "id": "polish-mystery",
   "metadata": {},
   "outputs": [
    {
     "name": "stdout",
     "output_type": "stream",
     "text": [
      "MultiThreshold_12_out0\n",
      "MultiThreshold_36_out0\n",
      "MultiThreshold_48_out0\n",
      "MultiThreshold_72_out0\n",
      "MultiThreshold_84_out0\n",
      "MultiThreshold_108_out0\n",
      "MultiThreshold_120_out0\n",
      "MultiThreshold_144_out0\n",
      "MultiThreshold_156_out0\n",
      "MultiThreshold_180_out0\n"
     ]
    }
   ],
   "source": [
    "from finn.core.modelwrapper import ModelWrapper\n",
    "from finn.transformation.general import (\n",
    "    RemoveStaticGraphInputs,\n",
    "    RemoveUnusedTensors,\n",
    "    SortGraph,\n",
    ")\n",
    "from finn.custom_op.registry import getCustomOp\n",
    "\n",
    "model = ModelWrapper(\"/workspace/results/syn_v0/experiment_partitions/end2end_quartznet_folded.onnx\")\n",
    "\n",
    "def reshape_tensors_and_attributes_partition(n, model, outp_connect):\n",
    "        outp_connect_vi = model.get_tensor_valueinfo(outp_connect)\n",
    "        print(outp_connect)\n",
    "        # Change input within GenericPartition graph\n",
    "        inst = getCustomOp(n)\n",
    "        model_path = inst.get_nodeattr(\"model\")\n",
    "        new_model_path = model_path.replace(\"/partition_\", \"/cropped_partition_\")\n",
    "        inst.set_nodeattr(\"model\", new_model_path)\n",
    "        model_partition = ModelWrapper(new_model_path)\n",
    "        for m in model_partition.graph.input:\n",
    "            print(m.name)\n",
    "            cons = model_partition.find_consumer(m.name)\n",
    "            cons.input[0] = outp_connect_vi.name\n",
    "        model_partition.graph.input.remove(model_partition.graph.input[0])\n",
    "        model_partition.graph.input.insert(0, outp_connect_vi)\n",
    "        model_partition.save(new_model_path)\n",
    "\n",
    "nodes_to_keep = [\"GenericPartition_0\", \"GenericPartition_1\", \"GenericPartition_4\", \"GenericPartition_7\", \"GenericPartition_10\", \"GenericPartition_13\", \"GenericPartition_16\"]\n",
    "for n in model.graph.node:\n",
    "    if n.name==\"GenericPartition_0\":\n",
    "        outp_connect = n.output[0]\n",
    "    elif n.name==\"GenericPartition_1\":\n",
    "        n.input[0] = outp_connect\n",
    "        inst = getCustomOp(n)\n",
    "        model_path = inst.get_nodeattr(\"model\")\n",
    "        new_model_path = model_path.replace(\"/partition_\", \"/cropped_partition_\")\n",
    "        inst.set_nodeattr(\"model\", new_model_path)\n",
    "        outp_connect = n.output[0]\n",
    "    elif n.name==\"GenericPartition_2\":\n",
    "        model.graph.node.remove(n)\n",
    "    elif n.name==\"GenericPartition_3\":\n",
    "        model.graph.node.remove(n)\n",
    "    elif n.name==\"GenericPartition_4\":\n",
    "        # Change input of GenericPartition\n",
    "        n.input[0] = outp_connect\n",
    "        reshape_tensors_and_attributes_partition(n, model, outp_connect)\n",
    "        outp_connect = n.output[0]\n",
    "    elif n.name==\"GenericPartition_5\":\n",
    "        model.graph.node.remove(n)\n",
    "    elif n.name==\"GenericPartition_6\":\n",
    "        model.graph.node.remove(n)\n",
    "    elif n.name==\"GenericPartition_7\":\n",
    "        # Change input of GenericPartition\n",
    "        n.input[0] = outp_connect\n",
    "        reshape_tensors_and_attributes_partition(n, model, outp_connect)\n",
    "        outp_connect = n.output[0]\n",
    "    elif n.name==\"GenericPartition_8\":\n",
    "        model.graph.node.remove(n)\n",
    "    elif n.name==\"GenericPartition_9\":\n",
    "        model.graph.node.remove(n)\n",
    "    elif n.name==\"GenericPartition_10\":\n",
    "        n.input[0] = outp_connect\n",
    "        reshape_tensors_and_attributes_partition(n, model, outp_connect)\n",
    "        outp_connect = n.output[0]\n",
    "    elif n.name==\"GenericPartition_11\":\n",
    "        model.graph.node.remove(n)\n",
    "    elif n.name==\"GenericPartition_12\":\n",
    "        model.graph.node.remove(n)\n",
    "    elif n.name==\"GenericPartition_13\":\n",
    "        n.input[0] = outp_connect\n",
    "        reshape_tensors_and_attributes_partition(n, model, outp_connect)\n",
    "        outp_connect = n.output[0]\n",
    "    elif n.name==\"GenericPartition_14\":\n",
    "        model.graph.node.remove(n)\n",
    "    elif n.name==\"GenericPartition_15\":\n",
    "        model.graph.node.remove(n)\n",
    "    elif n.name==\"GenericPartition_16\":\n",
    "        n.input[0] = outp_connect\n",
    "        reshape_tensors_and_attributes_partition(n, model, outp_connect)\n",
    "        \n",
    "model = model.transform(RemoveUnusedTensors())\n",
    "model = model.transform(RemoveStaticGraphInputs())\n",
    "model = model.transform(SortGraph()) \n",
    "\n",
    "model.save(\"/workspace/results/syn_v0/experiment_partitions/end2end_quartznet_folded_cropped.onnx\")"
   ]
  },
  {
   "cell_type": "code",
   "execution_count": 140,
   "id": "absolute-clothing",
   "metadata": {},
   "outputs": [
    {
     "name": "stdout",
     "output_type": "stream",
     "text": [
      "Stopping http://0.0.0.0:8081\n",
      "Serving '/workspace/results/syn_v0/experiment_partitions/end2end_quartznet_folded_cropped.onnx' at http://0.0.0.0:8081\n"
     ]
    },
    {
     "data": {
      "text/html": [
       "\n",
       "        <iframe\n",
       "            width=\"100%\"\n",
       "            height=\"400\"\n",
       "            src=\"http://0.0.0.0:8081/\"\n",
       "            frameborder=\"0\"\n",
       "            allowfullscreen\n",
       "        ></iframe>\n",
       "        "
      ],
      "text/plain": [
       "<IPython.lib.display.IFrame at 0x7f73275b4710>"
      ]
     },
     "execution_count": 140,
     "metadata": {},
     "output_type": "execute_result"
    }
   ],
   "source": [
    "showInNetron(\"/workspace/results/syn_v0/experiment_partitions/end2end_quartznet_folded_cropped.onnx\")"
   ]
  },
  {
   "cell_type": "markdown",
   "id": "civilian-summit",
   "metadata": {},
   "source": [
    "## Extend partitions"
   ]
  },
  {
   "cell_type": "code",
   "execution_count": 149,
   "id": "periodic-columbus",
   "metadata": {},
   "outputs": [
    {
     "name": "stdout",
     "output_type": "stream",
     "text": [
      "1\n",
      "2\n",
      "3\n",
      "4\n",
      "5\n",
      "6\n",
      "7\n"
     ]
    }
   ],
   "source": [
    "from finn.transformation.extend_partition import ExtendPartition\n",
    "\n",
    "model = ModelWrapper(\"/workspace/results/syn_v0/experiment_partitions/end2end_quartznet_folded_cropped.onnx\")\n",
    "\n",
    "for idx,n in enumerate(model.graph.node):\n",
    "    if n.op_type==\"GenericPartition\":\n",
    "        print(idx)\n",
    "        \n",
    "model = model.transform(ExtendPartition([1,2,3,4,5,6,7]))\n",
    "\n",
    "model.save(\"/workspace/results/syn_v0/experiment_partitions/end2end_quartznet_folded_cropped_extended.onnx\")"
   ]
  },
  {
   "cell_type": "code",
   "execution_count": 150,
   "id": "forty-florida",
   "metadata": {},
   "outputs": [
    {
     "name": "stdout",
     "output_type": "stream",
     "text": [
      "Stopping http://0.0.0.0:8081\n",
      "Serving '/workspace/results/syn_v0/experiment_partitions/end2end_quartznet_folded_cropped_extended.onnx' at http://0.0.0.0:8081\n"
     ]
    },
    {
     "data": {
      "text/html": [
       "\n",
       "        <iframe\n",
       "            width=\"100%\"\n",
       "            height=\"400\"\n",
       "            src=\"http://0.0.0.0:8081/\"\n",
       "            frameborder=\"0\"\n",
       "            allowfullscreen\n",
       "        ></iframe>\n",
       "        "
      ],
      "text/plain": [
       "<IPython.lib.display.IFrame at 0x7f72e84bf400>"
      ]
     },
     "execution_count": 150,
     "metadata": {},
     "output_type": "execute_result"
    }
   ],
   "source": [
    "showInNetron(\"/workspace/results/syn_v0/experiment_partitions/end2end_quartznet_folded_cropped_extended.onnx\")"
   ]
  },
  {
   "cell_type": "markdown",
   "id": "fleet-vegetable",
   "metadata": {},
   "source": [
    "# Clean up node attributes (caused by previous synthesis)"
   ]
  },
  {
   "cell_type": "code",
   "execution_count": 152,
   "id": "stone-interference",
   "metadata": {},
   "outputs": [],
   "source": [
    "# Verify InferShapes works... (it does!)\n",
    "from finn.transformation.infer_shapes import InferShapes\n",
    "model = ModelWrapper(\"/workspace/results/syn_v0/experiment_partitions/end2end_quartznet_folded_cropped_extended.onnx\")\n",
    "model = model.transform(InferShapes())"
   ]
  },
  {
   "cell_type": "code",
   "execution_count": 23,
   "id": "lesbian-lewis",
   "metadata": {},
   "outputs": [],
   "source": [
    "from finn.custom_op.registry import getCustomOp\n",
    "from finn.core.modelwrapper import ModelWrapper\n",
    "from finn.util.fpgadataflow import is_fpgadataflow_node\n",
    "\n",
    "model = ModelWrapper(\"/workspace/results/syn_v0/experiment_partitions/end2end_quartznet_folded_cropped_extended.onnx\")\n",
    "\n",
    "for n in model.graph.node:\n",
    "    if is_fpgadataflow_node(n):        \n",
    "        attribute_names = [a for a in n.attribute]\n",
    "        for a in attribute_names:\n",
    "            if a.name==\"code_gen_dir_ipgen\": # PrepareIP\n",
    "                n.attribute.remove(a)\n",
    "            elif a.name==\"ipgen_path\": # HLSSynthIP\n",
    "                n.attribute.remove(a)\n",
    "            elif a.name==\"ip_path\": # HLSSynthIP\n",
    "                n.attribute.remove(a)\n",
    "            elif a.name==\"ip_vlnv\": # HLSSynthIP\n",
    "                n.attribute.remove(a)\n",
    "            elif a.name==\"res_hls\": # AnnotateResources\n",
    "                n.attribute.remove(a)\n",
    "            elif a.name==\"estimated_clk_hls\": # Own analysis\n",
    "                n.attribute.remove(a)\n",
    "            elif a.name==\"est_clk_hls\": # Own analysis\n",
    "                n.attribute.remove(a)\n",
    "            elif a.name==\"est_latency_hls\": # Own analysis\n",
    "                n.attribute.remove(a)\n",
    "            else:\n",
    "                continue\n",
    "        \n",
    "model.save(\"/workspace/results/syn_v0/experiment_partitions/end2end_quartznet_folded_cropped_extended_cleaned.onnx\")\n",
    "    "
   ]
  },
  {
   "cell_type": "code",
   "execution_count": 25,
   "id": "consolidated-avatar",
   "metadata": {},
   "outputs": [
    {
     "name": "stdout",
     "output_type": "stream",
     "text": [
      "Stopping http://0.0.0.0:8081\n",
      "Serving '/workspace/results/syn_v0/experiment_partitions/end2end_quartznet_folded_cropped_extended_cleaned.onnx' at http://0.0.0.0:8081\n"
     ]
    },
    {
     "data": {
      "text/html": [
       "\n",
       "        <iframe\n",
       "            width=\"100%\"\n",
       "            height=\"400\"\n",
       "            src=\"http://0.0.0.0:8081/\"\n",
       "            frameborder=\"0\"\n",
       "            allowfullscreen\n",
       "        ></iframe>\n",
       "        "
      ],
      "text/plain": [
       "<IPython.lib.display.IFrame at 0x7f442816b780>"
      ]
     },
     "execution_count": 25,
     "metadata": {},
     "output_type": "execute_result"
    }
   ],
   "source": [
    "from finn.util.visualization import showInNetron\n",
    "showInNetron(\"/workspace/results/syn_v0/experiment_partitions/end2end_quartznet_folded_cropped_extended_cleaned.onnx\")\n"
   ]
  },
  {
   "cell_type": "markdown",
   "id": "blank-farmer",
   "metadata": {},
   "source": [
    "# Set Folding + type (ONLY)"
   ]
  },
  {
   "cell_type": "code",
   "execution_count": 1,
   "id": "cordless-communist",
   "metadata": {},
   "outputs": [
    {
     "name": "stdout",
     "output_type": "stream",
     "text": [
      "cropped_partition_1.onnx\t\t\t\tpartition_10.onnx\r\n",
      "cropped_partition_10.onnx\t\t\t\tpartition_11.onnx\r\n",
      "cropped_partition_13.onnx\t\t\t\tpartition_12.onnx\r\n",
      "cropped_partition_16.onnx\t\t\t\tpartition_13.onnx\r\n",
      "cropped_partition_4.onnx\t\t\t\tpartition_14.onnx\r\n",
      "cropped_partition_7.onnx\t\t\t\tpartition_15.onnx\r\n",
      "end2end_quartznet_folded.onnx\t\t\t\tpartition_16.onnx\r\n",
      "end2end_quartznet_folded_cropped.onnx\t\t\tpartition_2.onnx\r\n",
      "end2end_quartznet_folded_cropped_extended.onnx\t\tpartition_3.onnx\r\n",
      "end2end_quartznet_folded_cropped_extended_cleaned.onnx\tpartition_4.onnx\r\n",
      "end2end_quartznet_syn_v2.onnx\t\t\t\tpartition_5.onnx\r\n",
      "end2end_quartznet_syn_v3.onnx\t\t\t\tpartition_6.onnx\r\n",
      "end2end_quartznet_syn_v4.onnx\t\t\t\tpartition_7.onnx\r\n",
      "partition_0.onnx\t\t\t\t\tpartition_8.onnx\r\n",
      "partition_1.onnx\t\t\t\t\tpartition_9.onnx\r\n"
     ]
    }
   ],
   "source": [
    "!ls /workspace/results/syn_v0/experiment_partitions/"
   ]
  },
  {
   "cell_type": "code",
   "execution_count": 1,
   "id": "modular-disorder",
   "metadata": {},
   "outputs": [],
   "source": [
    "from finn.core.modelwrapper import ModelWrapper\n",
    "from finn.custom_op.registry import getCustomOp\n",
    "from finn.transformation.fpgadataflow.set_folding import SetFolding\n",
    "\n",
    "\n",
    "###########################################################################################\n",
    "file_path = \"/workspace/results/syn_v0/experiment_partitions/end2end_quartznet_syn_v5.onnx\"\n",
    "###########################################################################################\n",
    "\n",
    "\n",
    "\n",
    "model = ModelWrapper(\"/workspace/results/syn_v0/experiment_partitions/end2end_quartznet_folded_cropped_extended_cleaned.onnx\")\n",
    "\n",
    "## TODO: create fpgadataflow partition and then run SetFolding..\n",
    "# now, we are just saving the end2end_quartznet_folded_cropped_extended_cleaned to file_path\n",
    "for n in model.graph.node:\n",
    "    if n.op_type==\"GenericPartition\":\n",
    "        inst = getCustomOp(n)\n",
    "        model_path = inst.get_nodeattr(\"model\")\n",
    "        model_partition = ModelWrapper(model_path)\n",
    "        model_partition = model_partition.transform(SetFolding(target_cycles_per_frame=1200000))  \n",
    "        model_partition.save(model_path)\n",
    "        \n",
    "model.save(file_path)"
   ]
  },
  {
   "cell_type": "code",
   "execution_count": 2,
   "id": "flush-spotlight",
   "metadata": {},
   "outputs": [
    {
     "name": "stdout",
     "output_type": "stream",
     "text": [
      "Serving '/workspace/results/syn_v0/end2end_quartznet_folded_renamed_extended.onnx' at http://0.0.0.0:8081\n"
     ]
    },
    {
     "data": {
      "text/html": [
       "\n",
       "        <iframe\n",
       "            width=\"100%\"\n",
       "            height=\"400\"\n",
       "            src=\"http://0.0.0.0:8081/\"\n",
       "            frameborder=\"0\"\n",
       "            allowfullscreen\n",
       "        ></iframe>\n",
       "        "
      ],
      "text/plain": [
       "<IPython.lib.display.IFrame at 0x7f11cdce2780>"
      ]
     },
     "execution_count": 2,
     "metadata": {},
     "output_type": "execute_result"
    }
   ],
   "source": [
    "from finn.util.visualization import showInNetron\n",
    "showInNetron(file_path)"
   ]
  },
  {
   "cell_type": "code",
   "execution_count": 2,
   "id": "forty-dance",
   "metadata": {},
   "outputs": [],
   "source": [
    "from finn.custom_op.registry import getCustomOp\n",
    "\n",
    "for n in model.graph.node:\n",
    "    if n.name==\"pt_4_Thresholding_Batch_0\":\n",
    "        inst = getCustomOp(n)\n",
    "        #PE = inst.get_nodeattr(\"PE\")\n",
    "        inst.set_nodeattr(\"PE\", 4)\n",
    "    elif n.name==\"pt_7_Thresholding_Batch_0\":\n",
    "        inst = getCustomOp(n)\n",
    "        #PE = inst.get_nodeattr(\"PE\")\n",
    "        inst.set_nodeattr(\"PE\", 4)\n",
    "    elif n.name==\"pt_10_Thresholding_Batch_0\":\n",
    "        inst = getCustomOp(n)\n",
    "        #PE = inst.get_nodeattr(\"PE\")\n",
    "        inst.set_nodeattr(\"PE\", 8)\n",
    "    elif n.name==\"pt_13_Thresholding_Batch_0\":\n",
    "        inst = getCustomOp(n)\n",
    "        #PE = inst.get_nodeattr(\"PE\")\n",
    "        inst.set_nodeattr(\"PE\", 8)\n",
    "    elif n.name==\"pt_16_Thresholding_Batch_0\":\n",
    "        inst = getCustomOp(n)\n",
    "        #PE = inst.get_nodeattr(\"PE\")\n",
    "        inst.set_nodeattr(\"PE\", 8)\n",
    "    else:\n",
    "        continue\n",
    "        \n",
    "model.save(file_path)"
   ]
  },
  {
   "cell_type": "code",
   "execution_count": 3,
   "id": "ecological-treatment",
   "metadata": {},
   "outputs": [
    {
     "name": "stdout",
     "output_type": "stream",
     "text": [
      "Serving '/workspace/results/syn_v0/experiment_partitions/end2end_quartznet_syn_v5.onnx' at http://0.0.0.0:8081\n"
     ]
    },
    {
     "data": {
      "text/html": [
       "\n",
       "        <iframe\n",
       "            width=\"100%\"\n",
       "            height=\"400\"\n",
       "            src=\"http://0.0.0.0:8081/\"\n",
       "            frameborder=\"0\"\n",
       "            allowfullscreen\n",
       "        ></iframe>\n",
       "        "
      ],
      "text/plain": [
       "<IPython.lib.display.IFrame at 0x7f580fa8b400>"
      ]
     },
     "execution_count": 3,
     "metadata": {},
     "output_type": "execute_result"
    }
   ],
   "source": [
    "from finn.util.visualization import showInNetron\n",
    "showInNetron(file_path)"
   ]
  },
  {
   "cell_type": "code",
   "execution_count": 8,
   "id": "parental-islam",
   "metadata": {},
   "outputs": [],
   "source": [
    "from finn.core.modelwrapper import ModelWrapper\n",
    "from finn.util.fpgadataflow import is_fpgadataflow_node\n",
    "from finn.custom_op.registry import getCustomOp\n",
    "\n",
    "model = ModelWrapper(file_path)\n",
    "#model = ModelWrapper(\"/workspace/results/syn_v0/end2end_quartznet_folded_renamed_extended.onnx\")\n",
    "\n",
    "for n in model.graph.node:\n",
    "    if is_fpgadataflow_node(n):\n",
    "        inst = getCustomOp(n)\n",
    "        if n.op_type==\"FMPadding_Batch\":\n",
    "            continue\n",
    "        elif n.op_type==\"DuplicateStreams_Batch\":\n",
    "            continue\n",
    "        elif n.op_type==\"AddStreams_Batch\":\n",
    "            continue\n",
    "            \n",
    "        elif n.op_type==\"ConvolutionInputGenerator1D\":\n",
    "            inst.set_nodeattr(\"ram_style\", \"distributed\")\n",
    "            \n",
    "        elif n.op_type==\"Vector_Vector_Activate_Batch\":\n",
    "            inst.set_nodeattr(\"resType\", \"dsp\")\n",
    "            \n",
    "        elif n.op_type==\"StreamingFCLayer_Batch\":\n",
    "            inst.set_nodeattr(\"resType\", \"dsp\")\n",
    "            inst.set_nodeattr(\"ram_style\", \"ultra\")\n",
    "            inst.set_nodeattr(\"mem_mode\", \"decoupled\")\n",
    "            if inst.get_nodeattr(\"ram_style\")==\"ultra\":\n",
    "                inst.set_nodeattr(\"runtime_writeable_weights\", 1)\n",
    "            \n",
    "        elif n.op_type==\"Thresholding_Batch\":\n",
    "            inst.set_nodeattr(\"ram_style\", \"distributed\")\n",
    "            inst.set_nodeattr(\"mem_mode\", \"decoupled\")\n",
    "            \n",
    "        else:\n",
    "            print(\"Missed: {}\".format(n.op_type))\n",
    "            break\n",
    "\n",
    "\n",
    "model.save(file_path)"
   ]
  },
  {
   "cell_type": "markdown",
   "id": "decimal-genesis",
   "metadata": {},
   "source": [
    "# Verify new syn model visually"
   ]
  },
  {
   "cell_type": "code",
   "execution_count": 5,
   "id": "uniform-victim",
   "metadata": {},
   "outputs": [
    {
     "name": "stdout",
     "output_type": "stream",
     "text": [
      "Stopping http://0.0.0.0:8081\n",
      "Serving '/workspace/results/syn_v0/experiment_partitions/end2end_quartznet_syn_v5.onnx' at http://0.0.0.0:8081\n"
     ]
    },
    {
     "data": {
      "text/html": [
       "\n",
       "        <iframe\n",
       "            width=\"100%\"\n",
       "            height=\"400\"\n",
       "            src=\"http://0.0.0.0:8081/\"\n",
       "            frameborder=\"0\"\n",
       "            allowfullscreen\n",
       "        ></iframe>\n",
       "        "
      ],
      "text/plain": [
       "<IPython.lib.display.IFrame at 0x7f580fa34c88>"
      ]
     },
     "execution_count": 5,
     "metadata": {},
     "output_type": "execute_result"
    }
   ],
   "source": [
    "from finn.util.visualization import showInNetron\n",
    "showInNetron(file_path)"
   ]
  },
  {
   "cell_type": "code",
   "execution_count": 6,
   "id": "swiss-animation",
   "metadata": {},
   "outputs": [
    {
     "name": "stdout",
     "output_type": "stream",
     "text": [
      "Stopping http://0.0.0.0:8081\n",
      "Serving '/workspace/results/syn_v5/end2end_quartznet_syn_v5.onnx' at http://0.0.0.0:8081\n"
     ]
    },
    {
     "data": {
      "text/html": [
       "\n",
       "        <iframe\n",
       "            width=\"100%\"\n",
       "            height=\"400\"\n",
       "            src=\"http://0.0.0.0:8081/\"\n",
       "            frameborder=\"0\"\n",
       "            allowfullscreen\n",
       "        ></iframe>\n",
       "        "
      ],
      "text/plain": [
       "<IPython.lib.display.IFrame at 0x7f5811225a90>"
      ]
     },
     "execution_count": 6,
     "metadata": {},
     "output_type": "execute_result"
    }
   ],
   "source": [
    "showInNetron(\"/workspace/results/syn_v5/end2end_quartznet_syn_v5.onnx\")"
   ]
  },
  {
   "cell_type": "code",
   "execution_count": 17,
   "id": "suffering-ozone",
   "metadata": {},
   "outputs": [
    {
     "name": "stdout",
     "output_type": "stream",
     "text": [
      "syn_v0\tsyn_v1\tsyn_v2\tsyn_v3\tsyn_v4\tsyn_v5\r\n"
     ]
    }
   ],
   "source": [
    "!ls /workspace/results/"
   ]
  },
  {
   "cell_type": "code",
   "execution_count": null,
   "id": "charitable-survivor",
   "metadata": {},
   "outputs": [],
   "source": []
  }
 ],
 "metadata": {
  "kernelspec": {
   "display_name": "Python 3",
   "language": "python",
   "name": "python3"
  },
  "language_info": {
   "codemirror_mode": {
    "name": "ipython",
    "version": 3
   },
   "file_extension": ".py",
   "mimetype": "text/x-python",
   "name": "python",
   "nbconvert_exporter": "python",
   "pygments_lexer": "ipython3",
   "version": "3.6.8"
  }
 },
 "nbformat": 4,
 "nbformat_minor": 5
}
