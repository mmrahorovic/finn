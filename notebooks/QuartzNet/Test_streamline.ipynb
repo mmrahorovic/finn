{
 "cells": [
  {
   "cell_type": "code",
   "execution_count": 75,
   "metadata": {},
   "outputs": [
    {
     "name": "stdout",
     "output_type": "stream",
     "text": [
      "[{'Mul_3': 9, 'MultiThreshold_13': 68}, {'Mul_26': 69, 'MultiThreshold_25': 128}, {'Mul_49': 129, 'MultiThreshold_37': 188}, {'Mul_72': 189, 'MultiThreshold_49': 248}, {'Mul_95': 249, 'MultiThreshold_61': 308}, {'Mul_118': 309, 'MultiThreshold_73': 368}, {'Mul_141': 369, 'MultiThreshold_85': 428}, {'Mul_164': 429, 'MultiThreshold_97': 488}, {'Mul_187': 489, 'MultiThreshold_109': 548}, {'Mul_210': 549, 'MultiThreshold_121': 608}, {'Mul_233': 609, 'MultiThreshold_133': 668}, {'Mul_256': 669, 'MultiThreshold_145': 728}, {'Mul_279': 729, 'MultiThreshold_157': 788}, {'Mul_302': 789, 'MultiThreshold_169': 848}, {'Mul_325': 849, 'MultiThreshold_181': 908}]\n",
      "[669, 728]\n"
     ]
    }
   ],
   "source": [
    "import numpy as np\n",
    "from finn.util.visualization import showInNetron\n",
    "from finn.core.modelwrapper import ModelWrapper\n",
    "from finn.transformation.general import *\n",
    "import copy\n",
    "\n",
    "model = ModelWrapper(\"/tmp/quartznet.onnx\")\n",
    "model = model.transform(GiveUniqueNodeNames())\n",
    "\n",
    "model.save(\"/tmp/quartznet_uniqueNames.onnx\")\n",
    "#showInNetron(\"/tmp/quartznet_uniqueNames.onnx\")\n",
    "\n",
    "list_of_repetitions = []\n",
    "for idx, n in enumerate(model.graph.node):\n",
    "    is_fork = model.is_fork_node(n)\n",
    "    if is_fork is True:\n",
    "        rep = {}\n",
    "        start_node_id = idx\n",
    "        rep[n.name] = idx\n",
    "        for idx, n in enumerate(model.graph.node):\n",
    "            if idx<=start_node_id:\n",
    "                continue\n",
    "            is_join = model.is_join_node(n)\n",
    "            if is_join is True:\n",
    "                end_node_id = idx+1 # one node after the join node\n",
    "                end_node_name = model.graph.node[end_node_id].name\n",
    "                rep[end_node_name] = end_node_id\n",
    "                list_of_repetitions.append(rep)\n",
    "                break\n",
    "        \n",
    "print(\"{}\".format(list_of_repetitions))\n",
    "\n",
    "rep_structure = list_of_repetitions[11] #0-14\n",
    "start_end = []\n",
    "for v in rep_structure.values():\n",
    "    start_end.append(v)\n",
    "print(start_end)\n",
    "start_node_id = start_end[0]\n",
    "end_node_id = start_end[1]\n",
    "\n",
    "nodes = copy.deepcopy(model.graph.node)\n",
    "for idx, n in enumerate(nodes):\n",
    "    if idx<start_node_id or idx>end_node_id:\n",
    "        model.graph.node.remove(n)\n",
    "\n",
    "model.transform(RemoveUnusedTensors())\n",
    "        \n",
    "model.save(\"/tmp/quartznet_repetitive_nodes.onnx\")\n",
    "#showInNetron(\"/tmp/quartznet_repetitive_nodes.onnx\")\n",
    "\n"
   ]
  },
  {
   "cell_type": "code",
   "execution_count": 76,
   "metadata": {},
   "outputs": [
    {
     "name": "stdout",
     "output_type": "stream",
     "text": [
      "\n",
      "Stopping http://0.0.0.0:8081\n",
      "Serving '/tmp/quartznet_repetitive_nodes_subpart.onnx' at http://0.0.0.0:8081\n"
     ]
    },
    {
     "data": {
      "text/html": [
       "\n",
       "        <iframe\n",
       "            width=\"100%\"\n",
       "            height=\"400\"\n",
       "            src=\"http://0.0.0.0:8081/\"\n",
       "            frameborder=\"0\"\n",
       "            allowfullscreen\n",
       "        ></iframe>\n",
       "        "
      ],
      "text/plain": [
       "<IPython.lib.display.IFrame at 0x7f4550b0b400>"
      ]
     },
     "execution_count": 76,
     "metadata": {},
     "output_type": "execute_result"
    }
   ],
   "source": [
    "from onnx import TensorProto\n",
    "from onnx import helper as oh\n",
    "import onnx\n",
    "from finn.transformation.general import GiveUniqueParameterTensors\n",
    "\n",
    "model = ModelWrapper(\"/tmp/quartznet_repetitive_nodes.onnx\")\n",
    "\n",
    "for n in model.graph.node:\n",
    "    in_tensor_name = n.input[0]\n",
    "    in_tensor_shape = model.get_tensor_shape(in_tensor_name)\n",
    "    break\n",
    "\n",
    "in_tensor_name = model.graph.node[0].input[0]\n",
    "in_tensor_shape = model.get_tensor_shape(in_tensor_name)\n",
    "\n",
    "out_tensor_name =  model.graph.node[-1].input[0]\n",
    "out_tensor_shape = model.get_tensor_shape(out_tensor_name)\n",
    "\n",
    "#in_tensor=onnx.helper.make_tensor_value_info(\"in_tensor\", onnx.TensorProto.FLOAT, [1, 256, 128])\n",
    "#out_tensor=onnx.helper.make_tensor_value_info(\"out_tensor\", onnx.TensorProto.FLOAT, [1, 256, 128])\n",
    "in_tensor=onnx.helper.make_tensor_value_info(\"in_tensor\", onnx.TensorProto.FLOAT, in_tensor_shape)\n",
    "out_tensor=onnx.helper.make_tensor_value_info(\"out_tensor\", onnx.TensorProto.FLOAT, out_tensor_shape)\n",
    "\n",
    "old_input = model.graph.input[0]\n",
    "model.graph.input.remove(old_input)\n",
    "model.graph.input.extend([in_tensor])\n",
    "\n",
    "old_output = model.graph.output[0]\n",
    "model.graph.output.remove(old_output)\n",
    "model.graph.output.extend([out_tensor])\n",
    "\n",
    "input_node = model.graph.node[0]\n",
    "input_node.input[0] = 'in_tensor'\n",
    "\n",
    "output_node = model.graph.node[-1]\n",
    "output_node.output[0] = 'out_tensor'\n",
    "\n",
    "##### To have unique initializers:\n",
    "model = model.transform(GiveUniqueParameterTensors())\n",
    "#list_of_initializers = []\n",
    "#for n in model.graph.node:\n",
    "#    init_name = n.input[1]\n",
    "#    if init_name in list_of_initializers:\n",
    "#        init_val = model.get_initializer(n.input[1])\n",
    "#        init_shape = np.shape(init_val)\n",
    "#        if len(init_shape) < 1:\n",
    "#            init_shape = (1,)\n",
    "        \n",
    "#        new_init = oh.make_tensor_value_info(\n",
    "#            model.make_new_valueinfo_name(), TensorProto.FLOAT, init_shape\n",
    "#        )\n",
    "#        model.graph.value_info.append(new_init)\n",
    "#        model.set_initializer(new_init.name, init_val)\n",
    "#        n.input[1] = new_init.name\n",
    "#    else:\n",
    "#        list_of_initializers.append(n.input[1])\n",
    "#####\n",
    "\n",
    "from finn.transformation.general import GiveRandomTensorNames, GiveReadableTensorNames\n",
    "model = model.transform(GiveRandomTensorNames())\n",
    "model = model.transform(GiveReadableTensorNames())\n",
    "\n",
    "model.save(\"/tmp/quartznet_repetitive_nodes_subpart.onnx\")\n",
    "showInNetron(\"/tmp/quartznet_repetitive_nodes_subpart.onnx\")\n"
   ]
  },
  {
   "cell_type": "code",
   "execution_count": 77,
   "metadata": {},
   "outputs": [
    {
     "name": "stdout",
     "output_type": "stream",
     "text": [
      "\n",
      "Stopping http://0.0.0.0:8081\n",
      "Serving '/tmp/quartznet_repetitive_nodes_subpart_streamlined.onnx' at http://0.0.0.0:8081\n"
     ]
    },
    {
     "data": {
      "text/html": [
       "\n",
       "        <iframe\n",
       "            width=\"100%\"\n",
       "            height=\"400\"\n",
       "            src=\"http://0.0.0.0:8081/\"\n",
       "            frameborder=\"0\"\n",
       "            allowfullscreen\n",
       "        ></iframe>\n",
       "        "
      ],
      "text/plain": [
       "<IPython.lib.display.IFrame at 0x7f45183d6780>"
      ]
     },
     "execution_count": 77,
     "metadata": {},
     "output_type": "execute_result"
    }
   ],
   "source": [
    "from finn.transformation.streamline import *\n",
    "from finn.transformation.streamline.reorder import MoveMulPastDWConv, MoveLinearPastEltwiseAdd, MoveMulPastFork\n",
    "from finn.transformation.change_3d_tensors_to_4d import Change3DTo4DTensors\n",
    "from finn.transformation.lower_convs_to_matmul import LowerConvsToMatMul\n",
    "from finn.transformation.streamline.absorb import AbsorbConsecutiveTransposes # No effect (only on consecutive transpose nodes)\n",
    "from finn.transformation.streamline.absorb import AbsorbTransposeIntoMultiThreshold\n",
    "from finn.util.basic import get_by_name\n",
    "from finn.core.datatype import DataType\n",
    "from finn.core.modelwrapper import ModelWrapper\n",
    "from finn.util.visualization import showInNetron\n",
    "from finn.transformation.general import GiveRandomTensorNames, GiveReadableTensorNames\n",
    "\n",
    "model = ModelWrapper(\"/tmp/quartznet_repetitive_nodes_subpart.onnx\")\n",
    "\n",
    "model = model.transform(GiveRandomTensorNames())\n",
    "model = model.transform(GiveReadableTensorNames())\n",
    "\n",
    "# Convert to supported format\n",
    "model = model.transform(Change3DTo4DTensors())\n",
    "\n",
    "# Collapse BatchNorm to Add and Mul\n",
    "model = model.transform(BatchNormToAffine())\n",
    "\n",
    "# Group additions\n",
    "model = model.transform(MoveAddPastMul())\n",
    "model = model.transform(MoveAddPastConv())\n",
    "model = model.transform(MoveAddPastMul())\n",
    "\n",
    "# Group multiplications\n",
    "#### Move mul past fork\n",
    "model = model.transform(MoveMulPastFork())\n",
    "model = model.transform(MoveScalarMulPastConv())\n",
    "model = model.transform(MoveMulPastDWConv())\n",
    "\n",
    "# Move Mul/Add past join node\n",
    "model = model.transform(MoveLinearPastEltwiseAdd())\n",
    "\n",
    "# Collapes additions & multiplications\n",
    "model = model.transform(CollapseRepeatedAdd())\n",
    "model = model.transform(CollapseRepeatedMul())\n",
    "\n",
    "# Absorb Add/Mul into multithreshold\n",
    "model = model.transform(AbsorbAddIntoMultiThreshold())\n",
    "model = model.transform(FactorOutMulSignMagnitude())\n",
    "model = model.transform(Absorb1BitMulIntoConv())\n",
    "model = model.transform(AbsorbMulIntoMultiThreshold())\n",
    "\n",
    "# Ensure thresholds are integers\n",
    "## Add quantization annotation to ensure RoundAndClipThresholds works\n",
    "from finn.transformation.infer_datatypes import InferDataTypes\n",
    "model = model.transform(InferDataTypes())\n",
    "        \n",
    "model = model.transform(RoundAndClipThresholds())\n",
    "\n",
    "model = model.transform(LowerConvsToMatMul())\n",
    "\n",
    "model = model.transform(AbsorbTransposeIntoMultiThreshold())\n",
    "\n",
    "\n",
    "model.save(\"/tmp/quartznet_repetitive_nodes_subpart_streamlined.onnx\")\n",
    "showInNetron(\"/tmp/quartznet_repetitive_nodes_subpart_streamlined.onnx\")"
   ]
  },
  {
   "cell_type": "code",
   "execution_count": 78,
   "metadata": {},
   "outputs": [
    {
     "name": "stdout",
     "output_type": "stream",
     "text": [
      "{'global_in': array([[[115.,  93., 107., ..., 120.,  67.,   8.],\n",
      "        [ 34., 127.,  23., ..., 126.,  64.,  34.],\n",
      "        [124.,   7.,  90., ...,  53.,  30.,  66.],\n",
      "        ...,\n",
      "        [ 63.,  24., 124., ...,  94.,  81.,  23.],\n",
      "        [ 62.,  70.,  67., ...,  18.,  16.,  82.],\n",
      "        [ 53.,  51.,  49., ...,   2.,  54.,  83.]]], dtype=float32)}\n",
      "(1, 512, 128)\n",
      "[[[ 0.  0.  0. ...  0.  0.  0.]\n",
      "  [15. 15. 15. ... 15. 15. 15.]\n",
      "  [ 0.  0.  0. ...  0.  0.  0.]\n",
      "  ...\n",
      "  [ 0.  0.  0. ...  0.  0.  0.]\n",
      "  [ 0.  0.  0. ...  0.  0.  0.]\n",
      "  [ 0.  0.  0. ...  0.  0.  0.]]]\n"
     ]
    }
   ],
   "source": [
    "import finn.core.onnx_exec as oxe\n",
    "from finn.util.basic import *\n",
    "\n",
    "def generate_random_input(model):\n",
    "    \"\"\" Creates input dictionary with a random numpy array that matches the input tensor shape \"\"\"\n",
    "    i_shape = []\n",
    "    input_dict={}\n",
    "    for i in range(len(model.graph.input)):\n",
    "        input_node = model.graph.input[i]\n",
    "        input_node_name = input_node.name\n",
    "        input_node_shape = model.get_tensor_shape(input_node_name)\n",
    "\n",
    "        #i_val = gen_finn_dt_tensor(DataType.FLOAT32, input_node_shape)\n",
    "        i_val = np.random.randint(0, 128, input_node_shape).astype(np.float32) #float32 is expected input\n",
    "        \n",
    "        input_dict[input_node_name] = i_val\n",
    "    return input_dict\n",
    "\n",
    "model = ModelWrapper(\"/tmp/quartznet_repetitive_nodes_subpart.onnx\")\n",
    "input_dict = generate_random_input(model)\n",
    "print(input_dict)\n",
    "output_node_name = model.graph.output[0].name\n",
    "output_dict = oxe.execute_onnx(model, input_dict, return_full_exec_context=True)\n",
    "expected_old = output_dict[output_node_name]\n",
    "\n",
    "print(\"{}\\n{}\".format(np.shape(expected_old),expected_old))"
   ]
  },
  {
   "cell_type": "code",
   "execution_count": 79,
   "metadata": {},
   "outputs": [
    {
     "name": "stdout",
     "output_type": "stream",
     "text": [
      "(1, 512, 128)\n",
      "[[[ 0.  0.  0. ...  0.  0.  0.]\n",
      "  [15. 15. 15. ... 15. 15. 15.]\n",
      "  [ 0.  0.  0. ...  0.  0.  0.]\n",
      "  ...\n",
      "  [ 0.  0.  0. ...  0.  0.  0.]\n",
      "  [ 0.  0.  0. ...  0.  0.  0.]\n",
      "  [ 0.  0.  0. ...  0.  0.  0.]]]\n"
     ]
    }
   ],
   "source": [
    "old_input_name = model.graph.input[0].name\n",
    "old_input_dict_val = input_dict[old_input_name]\n",
    "\n",
    "model = ModelWrapper(\"/tmp/quartznet_repetitive_nodes_subpart_streamlined.onnx\")\n",
    "\n",
    "input_dict_val = old_input_dict_val\n",
    "if len(np.shape(input_dict_val))<4:\n",
    "    input_dict_val = np.reshape(input_dict_val, np.shape(input_dict_val)+(1,))\n",
    "    \n",
    "input_dict[model.graph.input[0].name] = input_dict_val\n",
    "\n",
    "assert (input_dict_val==np.reshape(old_input_dict_val,np.shape(input_dict_val))).all()\n",
    "\n",
    "output_node_name = model.graph.output[0].name\n",
    "output_dict = oxe.execute_onnx(model, input_dict, return_full_exec_context=True)\n",
    "expected_new = output_dict[output_node_name]\n",
    "\n",
    "expected_new = np.reshape(expected_new, np.shape(expected_old))\n",
    "\n",
    "print(\"{}\\n{}\".format(np.shape(expected_new),expected_new))\n",
    "\n",
    "assert(expected_old==expected_new).all()\n",
    "\n"
   ]
  },
  {
   "cell_type": "code",
   "execution_count": null,
   "metadata": {},
   "outputs": [],
   "source": []
  },
  {
   "cell_type": "code",
   "execution_count": null,
   "metadata": {},
   "outputs": [],
   "source": []
  },
  {
   "cell_type": "code",
   "execution_count": null,
   "metadata": {},
   "outputs": [],
   "source": []
  }
 ],
 "metadata": {
  "kernelspec": {
   "display_name": "Python 3",
   "language": "python",
   "name": "python3"
  },
  "language_info": {
   "codemirror_mode": {
    "name": "ipython",
    "version": 3
   },
   "file_extension": ".py",
   "mimetype": "text/x-python",
   "name": "python",
   "nbconvert_exporter": "python",
   "pygments_lexer": "ipython3",
   "version": "3.6.8"
  }
 },
 "nbformat": 4,
 "nbformat_minor": 4
}
