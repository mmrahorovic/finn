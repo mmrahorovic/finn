{
 "cells": [
  {
   "cell_type": "code",
   "execution_count": 40,
   "id": "czech-agent",
   "metadata": {},
   "outputs": [],
   "source": [
    "from finn.transformation.general import GiveUniqueNodeNames\n",
    "model = ModelWrapper(\"/tmp/test_partition1_hls.onnx\")\n",
    "model = model.transform(GiveUniqueNodeNames())\n",
    "model.save(\"/tmp/test_folding_partition1.onnx\")\n"
   ]
  },
  {
   "cell_type": "code",
   "execution_count": 187,
   "id": "abroad-harbor",
   "metadata": {},
   "outputs": [],
   "source": [
    "### Function that returns\n",
    "# 1) fork_nodes: nested dictionary of fork nodes:\n",
    "# {key1: {key2: value2, key3: value3}, ...}\n",
    "# key1 indicates which block index we are considering (i.e. which fork structure).\n",
    "# key2/key3 indicate the two lanes within a fork\n",
    "\n",
    "# 2) non_fork_nodes: dictionary of non_fork nodes:\n",
    "# {key1: value1, key2: value2}\n",
    "# Each key represents a block index and the values are the nodes within that block structure\n",
    "\n",
    "from finn.core.modelwrapper import ModelWrapper\n",
    "\n",
    "model = ModelWrapper(\"/tmp/test_folding_partition1.onnx\")\n",
    "fork_nodes = {}\n",
    "non_fork_nodes = {}\n",
    "part_id = 0\n",
    "in_fork = False\n",
    "\n",
    "def find_upstream_fork(x):\n",
    "    is_fork = model.is_fork_node(x)\n",
    "    return is_fork\n",
    "\n",
    "def find_upstream_nodes(x):\n",
    "    \"\"\" Given a tensor name x, it returns the upstream function names. \"\"\" \n",
    "    upstream_nodes = model.find_upstream(x, find_upstream_fork)\n",
    "    upstream_node_names = list(map(lambda x: x.name, upstream_nodes))\n",
    "    return np.flip(upstream_node_names[:-1])\n",
    "    \n",
    "def compare_upstream(x, y):\n",
    "    \"\"\" \n",
    "    Given two sequences of upstream nodes, either a list or single element, it returns whether they are equals.\n",
    "    It checks whether y is in x, where y can be either a string of list of strings.\n",
    "    \"\"\"\n",
    "    if isinstance(y, str): #\n",
    "        return y in x\n",
    "    else:\n",
    "        return [el in x for el in y].all()\n",
    "    \n",
    "for n in model.graph.node:\n",
    "    is_fork = model.is_fork_node(n)\n",
    "    is_join = model.is_join_node(n)\n",
    "    \n",
    "    if is_fork:\n",
    "        in_fork = True\n",
    "        if part_id in non_fork_nodes:\n",
    "            non_fork_nodes[part_id].append(n.name)\n",
    "        else:\n",
    "            non_fork_nodes[part_id] = []\n",
    "            non_fork_nodes[part_id].append(n.name)\n",
    "        part_id+=1\n",
    "        \n",
    "        fork_nodes[part_id] = {}\n",
    "        for lane, tensor_name in enumerate(n.output):\n",
    "            cons = model.find_consumer(tensor_name)\n",
    "            fork_nodes[part_id][lane] = [cons.name]\n",
    "        continue\n",
    "    elif is_join:\n",
    "        in_fork = False\n",
    "        part_id+=1\n",
    "    \n",
    "    \n",
    "    if in_fork:\n",
    "        in_dict = np.any([n.name in v for v in fork_nodes[part_id].values()])\n",
    "        if in_dict:\n",
    "                continue\n",
    "        else:\n",
    "            upstream_nodes = find_upstream_nodes(n.input[0])\n",
    "            for k,v in fork_nodes[part_id].items():\n",
    "                upstream_nodes_match = (upstream_nodes==v).all()\n",
    "                if upstream_nodes_match:\n",
    "                    fork_nodes[part_id][k].append(n.name)\n",
    "                    \n",
    "    elif part_id in non_fork_nodes:\n",
    "        non_fork_nodes[part_id].append(n.name)\n",
    "    else:\n",
    "        non_fork_nodes[part_id] = []\n",
    "        non_fork_nodes[part_id].append(n.name)\n",
    "            "
   ]
  },
  {
   "cell_type": "code",
   "execution_count": 188,
   "id": "solved-research",
   "metadata": {},
   "outputs": [
    {
     "name": "stdout",
     "output_type": "stream",
     "text": [
      "{1: {0: ['FMPadding_Batch_0', 'ConvolutionInputGenerator1D_0', 'Vector_Vector_Activate_Batch_0', 'StreamingFCLayer_Batch_1', 'FMPadding_Batch_1', 'ConvolutionInputGenerator1D_1', 'Vector_Vector_Activate_Batch_1', 'StreamingFCLayer_Batch_2', 'FMPadding_Batch_2', 'ConvolutionInputGenerator1D_2', 'Vector_Vector_Activate_Batch_2', 'StreamingFCLayer_Batch_3', 'FMPadding_Batch_3', 'ConvolutionInputGenerator1D_3', 'Vector_Vector_Activate_Batch_3', 'StreamingFCLayer_Batch_4', 'FMPadding_Batch_4', 'ConvolutionInputGenerator1D_4', 'Vector_Vector_Activate_Batch_4', 'StreamingFCLayer_Batch_5'], 1: ['StreamingFCLayer_Batch_0']}, 3: {0: ['FMPadding_Batch_5', 'ConvolutionInputGenerator1D_5', 'Vector_Vector_Activate_Batch_5', 'StreamingFCLayer_Batch_7', 'FMPadding_Batch_6', 'ConvolutionInputGenerator1D_6', 'Vector_Vector_Activate_Batch_6', 'StreamingFCLayer_Batch_8', 'FMPadding_Batch_7', 'ConvolutionInputGenerator1D_7', 'Vector_Vector_Activate_Batch_7', 'StreamingFCLayer_Batch_9', 'FMPadding_Batch_8', 'ConvolutionInputGenerator1D_8', 'Vector_Vector_Activate_Batch_8', 'StreamingFCLayer_Batch_10', 'FMPadding_Batch_9', 'ConvolutionInputGenerator1D_9', 'Vector_Vector_Activate_Batch_9', 'StreamingFCLayer_Batch_11'], 1: ['StreamingFCLayer_Batch_6']}, 5: {0: ['FMPadding_Batch_10', 'ConvolutionInputGenerator1D_10', 'Vector_Vector_Activate_Batch_10', 'StreamingFCLayer_Batch_13', 'FMPadding_Batch_11', 'ConvolutionInputGenerator1D_11', 'Vector_Vector_Activate_Batch_11', 'StreamingFCLayer_Batch_14', 'FMPadding_Batch_12', 'ConvolutionInputGenerator1D_12', 'Vector_Vector_Activate_Batch_12', 'StreamingFCLayer_Batch_15', 'FMPadding_Batch_13', 'ConvolutionInputGenerator1D_13', 'Vector_Vector_Activate_Batch_13', 'StreamingFCLayer_Batch_16', 'FMPadding_Batch_14', 'ConvolutionInputGenerator1D_14', 'Vector_Vector_Activate_Batch_14', 'StreamingFCLayer_Batch_17'], 1: ['StreamingFCLayer_Batch_12']}}\n"
     ]
    }
   ],
   "source": [
    "print(fork_nodes)"
   ]
  },
  {
   "cell_type": "code",
   "execution_count": 189,
   "id": "capital-denver",
   "metadata": {},
   "outputs": [
    {
     "name": "stdout",
     "output_type": "stream",
     "text": [
      "{0: ['Thresholding_Batch_0', 'DuplicateStreams_Batch_0'], 2: ['AddStreams_Batch_0', 'Thresholding_Batch_1', 'DuplicateStreams_Batch_1'], 4: ['AddStreams_Batch_1', 'Thresholding_Batch_2', 'DuplicateStreams_Batch_2'], 6: ['AddStreams_Batch_2']}\n"
     ]
    }
   ],
   "source": [
    "print(non_fork_nodes)"
   ]
  },
  {
   "cell_type": "code",
   "execution_count": null,
   "id": "absent-carroll",
   "metadata": {},
   "outputs": [],
   "source": [
    "###"
   ]
  },
  {
   "cell_type": "code",
   "execution_count": 24,
   "id": "hydraulic-enterprise",
   "metadata": {},
   "outputs": [],
   "source": [
    "from finn.core.modelwrapper import ModelWrapper\n",
    "from finn.analysis.fpgadataflow.exp_cycles_per_layer import exp_cycles_per_layer\n",
    "from finn.transformation.general import GiveUniqueNodeNames\n",
    "from finn.util.basic import get_by_name\n",
    "from finn.custom_op.registry import getCustomOp\n",
    "\n",
    "model = ModelWrapper(\"/tmp/test_partition1_hls.onnx\")\n",
    "model = model.transform(GiveUniqueNodeNames())\n",
    "\n",
    "for n in model.graph.node:\n",
    "    if n.op_type==\"StreamingFCLayer_Batch\":\n",
    "        inst = getCustomOp(n)\n",
    "        mh = get_by_name(n.attribute, \"MH\", \"name\").i\n",
    "        mw = get_by_name(n.attribute, \"MW\", \"name\").i\n",
    "        inst.set_nodeattr(\"PE\", mh)\n",
    "        inst.set_nodeattr(\"SIMD\", mw)\n",
    "    if n.op_type==\"Thresholding_Batch\":\n",
    "        ifc = get_by_name(n.attribute, \"NumChannels\", \"name\").i\n",
    "        inst.set_nodeattr(\"PE\", ifc)\n",
    "    if n.op_type==\"AddStreams_Batch\":\n",
    "        ifc = get_by_name(n.attribute, \"NumChannels\", \"name\").i\n",
    "        inst.set_nodeattr(\"PE\", ifc)\n",
    "    if n.op_type==\"DuplicateStreams_Batch\":\n",
    "        ifc = get_by_name(n.attribute, \"NumChannels\", \"name\").i\n",
    "        inst.set_nodeattr(\"PE\", ifc)\n",
    "        \n",
    "\n",
    "exp_cycles_dict = model.analysis(exp_cycles_per_layer)\n",
    "\n"
   ]
  },
  {
   "cell_type": "code",
   "execution_count": 25,
   "id": "behind-florida",
   "metadata": {},
   "outputs": [
    {
     "name": "stdout",
     "output_type": "stream",
     "text": [
      "input: \"4SupjH\"\n",
      "input: \"Conv_3_param0\"\n",
      "input: \"MultiThreshold_12_param0\"\n",
      "output: \"RtacQC\"\n",
      "name: \"StreamingFCLayer_Batch_0\"\n",
      "op_type: \"StreamingFCLayer_Batch\"\n",
      "attribute {\n",
      "  name: \"ActVal\"\n",
      "  i: 0\n",
      "  type: INT\n",
      "}\n",
      "attribute {\n",
      "  name: \"MH\"\n",
      "  i: 256\n",
      "  type: INT\n",
      "}\n",
      "attribute {\n",
      "  name: \"MW\"\n",
      "  i: 256\n",
      "  type: INT\n",
      "}\n",
      "attribute {\n",
      "  name: \"PE\"\n",
      "  i: 256\n",
      "  type: INT\n",
      "}\n",
      "attribute {\n",
      "  name: \"SIMD\"\n",
      "  i: 256\n",
      "  type: INT\n",
      "}\n",
      "attribute {\n",
      "  name: \"backend\"\n",
      "  s: \"fpgadataflow\"\n",
      "  type: STRING\n",
      "}\n",
      "attribute {\n",
      "  name: \"binaryXnorMode\"\n",
      "  i: 0\n",
      "  type: INT\n",
      "}\n",
      "attribute {\n",
      "  name: \"inputDataType\"\n",
      "  s: \"UINT8\"\n",
      "  type: STRING\n",
      "}\n",
      "attribute {\n",
      "  name: \"mem_mode\"\n",
      "  s: \"const\"\n",
      "  type: STRING\n",
      "}\n",
      "attribute {\n",
      "  name: \"noActivation\"\n",
      "  i: 0\n",
      "  type: INT\n",
      "}\n",
      "attribute {\n",
      "  name: \"numInputVectors\"\n",
      "  ints: 1\n",
      "  ints: 128\n",
      "  ints: 1\n",
      "  type: INTS\n",
      "}\n",
      "attribute {\n",
      "  name: \"outputDataType\"\n",
      "  s: \"UINT4\"\n",
      "  type: STRING\n",
      "}\n",
      "attribute {\n",
      "  name: \"weightDataType\"\n",
      "  s: \"INT4\"\n",
      "  type: STRING\n",
      "}\n",
      "attribute {\n",
      "  name: \"accDataType\"\n",
      "  s: \"INT20\"\n",
      "  type: STRING\n",
      "}\n",
      "domain: \"finn.custom_op.fpgadataflow\"\n",
      "\n"
     ]
    }
   ],
   "source": [
    "for n in model.graph.node:\n",
    "    if n.op_type==\"StreamingFCLayer_Batch\":\n",
    "        print(n)\n",
    "        break"
   ]
  },
  {
   "cell_type": "code",
   "execution_count": 26,
   "id": "assured-locking",
   "metadata": {},
   "outputs": [],
   "source": [
    "import csv\n",
    "\n",
    "with open('dict.csv', 'w') as csv_file:  \n",
    "    writer = csv.writer(csv_file)\n",
    "    for key, value in exp_cycles_dict.items():\n",
    "       writer.writerow([key, value])"
   ]
  },
  {
   "cell_type": "code",
   "execution_count": 21,
   "id": "fundamental-night",
   "metadata": {},
   "outputs": [
    {
     "data": {
      "text/plain": [
       "<BarContainer object of 72 artists>"
      ]
     },
     "execution_count": 21,
     "metadata": {},
     "output_type": "execute_result"
    },
    {
     "data": {
      "image/png": "[encoded data removed]",
      "text/plain": [
       "<Figure size 432x288 with 1 Axes>"
      ]
     },
     "metadata": {
      "needs_background": "light"
     },
     "output_type": "display_data"
    }
   ],
   "source": [
    "import matplotlib.pyplot as plt\n",
    "\n",
    "x = []\n",
    "y = []\n",
    "for k,v in exp_cycles_dict.items():\n",
    "    x.append(k)\n",
    "    y.append(v)\n",
    "\n",
    "plt.bar(y, 1)\n",
    "    \n"
   ]
  },
  {
   "cell_type": "code",
   "execution_count": null,
   "id": "environmental-image",
   "metadata": {},
   "outputs": [],
   "source": []
  }
 ],
 "metadata": {
  "kernelspec": {
   "display_name": "Python 3",
   "language": "python",
   "name": "python3"
  },
  "language_info": {
   "codemirror_mode": {
    "name": "ipython",
    "version": 3
   },
   "file_extension": ".py",
   "mimetype": "text/x-python",
   "name": "python",
   "nbconvert_exporter": "python",
   "pygments_lexer": "ipython3",
   "version": "3.6.8"
  }
 },
 "nbformat": 4,
 "nbformat_minor": 5
}
