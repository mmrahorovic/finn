{
 "cells": [
  {
   "cell_type": "markdown",
   "id": "exposed-plumbing",
   "metadata": {},
   "source": [
    "To get the ONNX file, run: 'python setup.py test --addopts \"-k test_brevitas_quartznet\"'"
   ]
  },
  {
   "cell_type": "code",
   "execution_count": 17,
   "id": "secret-labor",
   "metadata": {},
   "outputs": [
    {
     "name": "stdout",
     "output_type": "stream",
     "text": [
      "Stopping http://0.0.0.0:8081\n",
      "Serving '/tmp/quartznet.onnx' at http://0.0.0.0:8081\n"
     ]
    },
    {
     "data": {
      "text/html": [
       "\n",
       "        <iframe\n",
       "            width=\"100%\"\n",
       "            height=\"400\"\n",
       "            src=\"http://0.0.0.0:8081/\"\n",
       "            frameborder=\"0\"\n",
       "            allowfullscreen\n",
       "        ></iframe>\n",
       "        "
      ],
      "text/plain": [
       "<IPython.lib.display.IFrame at 0x7f36b215c978>"
      ]
     },
     "execution_count": 17,
     "metadata": {},
     "output_type": "execute_result"
    }
   ],
   "source": [
    "import numpy as np\n",
    "from finn.util.visualization import showInNetron\n",
    "from finn.core.modelwrapper import ModelWrapper\n",
    "\n",
    "file_name = '/tmp/quartznet.onnx'\n",
    "showInNetron(file_name)"
   ]
  },
  {
   "cell_type": "code",
   "execution_count": 10,
   "id": "painted-orlando",
   "metadata": {},
   "outputs": [
    {
     "name": "stdout",
     "output_type": "stream",
     "text": [
      "Stopping http://0.0.0.0:8081\n",
      "Serving '/tmp/quartznet_streamlined.onnx' at http://0.0.0.0:8081\n"
     ]
    },
    {
     "data": {
      "text/html": [
       "\n",
       "        <iframe\n",
       "            width=\"100%\"\n",
       "            height=\"400\"\n",
       "            src=\"http://0.0.0.0:8081/\"\n",
       "            frameborder=\"0\"\n",
       "            allowfullscreen\n",
       "        ></iframe>\n",
       "        "
      ],
      "text/plain": [
       "<IPython.lib.display.IFrame at 0x7f36b403c9b0>"
      ]
     },
     "execution_count": 10,
     "metadata": {},
     "output_type": "execute_result"
    }
   ],
   "source": [
    "### STREAMLINING\n",
    "\n",
    "from finn.transformation.streamline import *\n",
    "from finn.transformation.streamline.reorder import MoveMulPastDWConv, MoveLinearPastEltwiseAdd, MoveMulPastFork\n",
    "from finn.transformation.change_3d_tensors_to_4d import Change3DTo4DTensors\n",
    "from finn.transformation.lower_convs_to_matmul import LowerConvsToMatMul\n",
    "from finn.transformation.streamline.absorb import AbsorbConsecutiveTransposes # No effect (only on consecutive transpose nodes)\n",
    "from finn.transformation.streamline.absorb import AbsorbTransposeIntoMultiThreshold\n",
    "from finn.util.basic import get_by_name\n",
    "from finn.core.datatype import DataType\n",
    "from finn.core.modelwrapper import ModelWrapper\n",
    "from finn.util.visualization import showInNetron\n",
    "from finn.transformation.general import GiveUniqueNodeNames, GiveRandomTensorNames, GiveReadableTensorNames, GiveUniqueParameterTensors\n",
    "\n",
    "model = ModelWrapper(\"/tmp/quartznet.onnx\")\n",
    "\n",
    "model = model.transform(GiveUniqueNodeNames())\n",
    "model = model.transform(GiveRandomTensorNames())\n",
    "model = model.transform(GiveReadableTensorNames())\n",
    "model = model.transform(GiveUniqueParameterTensors())\n",
    "\n",
    "# Convert to supported format\n",
    "model = model.transform(Change3DTo4DTensors())\n",
    "\n",
    "# Collapse BatchNorm to Add and Mul\n",
    "model = model.transform(BatchNormToAffine())\n",
    "\n",
    "# Group additions\n",
    "model = model.transform(MoveAddPastMul())\n",
    "model = model.transform(MoveAddPastConv())\n",
    "model = model.transform(MoveAddPastMul())\n",
    "\n",
    "# Group multiplications\n",
    "#### Move mul past fork\n",
    "model = model.transform(MoveMulPastFork())\n",
    "model = model.transform(MoveScalarMulPastConv())\n",
    "model = model.transform(MoveMulPastDWConv())\n",
    "\n",
    "# Move Mul/Add past join node\n",
    "model = model.transform(MoveLinearPastEltwiseAdd())\n",
    "\n",
    "# Collapes additions & multiplications\n",
    "model = model.transform(CollapseRepeatedAdd())\n",
    "model = model.transform(CollapseRepeatedMul())\n",
    "\n",
    "# Absorb Add/Mul into multithreshold\n",
    "model = model.transform(AbsorbAddIntoMultiThreshold())\n",
    "model = model.transform(FactorOutMulSignMagnitude())\n",
    "model = model.transform(Absorb1BitMulIntoConv())\n",
    "model = model.transform(AbsorbMulIntoMultiThreshold())\n",
    "\n",
    "# Ensure thresholds are integers\n",
    "## Add quantization annotation to ensure RoundAndClipThresholds works\n",
    "for n in model.graph.node:\n",
    "    if n.op_type==\"MultiThreshold\":\n",
    "        odtype = get_by_name(n.attribute, \"out_dtype\", name_field=\"name\").s.decode(\"utf-8\")\n",
    "        dtype = getattr(DataType, odtype) \n",
    "        #model.set_tensor_datatype(n.input[0], dtype)\n",
    "        model.set_tensor_datatype(n.input[0], DataType.INT32)\n",
    "\n",
    "#from finn.transformation.infer_datatypes import InferDataTypes\n",
    "#model = model.transform(InferDataTypes())\n",
    "        \n",
    "model = model.transform(RoundAndClipThresholds())\n",
    "\n",
    "model.save(\"/tmp/quartznet_streamlined.onnx\")\n",
    "showInNetron(\"/tmp/quartznet_streamlined.onnx\")"
   ]
  },
  {
   "cell_type": "code",
   "execution_count": 37,
   "id": "demographic-headset",
   "metadata": {},
   "outputs": [
    {
     "name": "stdout",
     "output_type": "stream",
     "text": [
      "Stopping http://0.0.0.0:8081\n",
      "Serving '/tmp/quartznet_streamlined_partitioned.onnx' at http://0.0.0.0:8081\n"
     ]
    },
    {
     "data": {
      "text/html": [
       "\n",
       "        <iframe\n",
       "            width=\"100%\"\n",
       "            height=\"400\"\n",
       "            src=\"http://0.0.0.0:8081/\"\n",
       "            frameborder=\"0\"\n",
       "            allowfullscreen\n",
       "        ></iframe>\n",
       "        "
      ],
      "text/plain": [
       "<IPython.lib.display.IFrame at 0x7f36b2101710>"
      ]
     },
     "execution_count": 37,
     "metadata": {},
     "output_type": "execute_result"
    }
   ],
   "source": [
    "## PARTITIONING\n",
    "from finn.transformation.create_generic_partitions import PartitionFromDict\n",
    "\n",
    "model = ModelWrapper(\"/tmp/quartznet_streamlined.onnx\")\n",
    "\n",
    "partitionings = {0: range(0, 3), \n",
    "                1: range(3, 27),\n",
    "                2: range(27, 51),\n",
    "                3: range(51, 75),\n",
    "                4: range(75, 99),\n",
    "                5: range(99, 123),\n",
    "                6: range(123, 147),\n",
    "                7: range(147, 171),\n",
    "                8: range(171, 195),\n",
    "                9: range(195, 219),\n",
    "                10: range(219, 243),\n",
    "                11: range(243, 267),\n",
    "                12: range(267, 291),\n",
    "                13: range(291, 315),\n",
    "                14: range(315, 339),\n",
    "                15: range(339, 363),\n",
    "                16: range(363, 376)}\n",
    "model = model.transform(PartitionFromDict(partitionings))\n",
    "\n",
    "model.save(\"/tmp/quartznet_streamlined_partitioned.onnx\")\n",
    "showInNetron(\"/tmp/quartznet_streamlined_partitioned.onnx\")"
   ]
  },
  {
   "cell_type": "code",
   "execution_count": null,
   "id": "adequate-indonesia",
   "metadata": {},
   "outputs": [],
   "source": [
    "## LOWERING\n",
    "\n",
    "\n"
   ]
  }
 ],
 "metadata": {
  "kernelspec": {
   "display_name": "Python 3",
   "language": "python",
   "name": "python3"
  },
  "language_info": {
   "codemirror_mode": {
    "name": "ipython",
    "version": 3
   },
   "file_extension": ".py",
   "mimetype": "text/x-python",
   "name": "python",
   "nbconvert_exporter": "python",
   "pygments_lexer": "ipython3",
   "version": "3.6.8"
  }
 },
 "nbformat": 4,
 "nbformat_minor": 5
}
