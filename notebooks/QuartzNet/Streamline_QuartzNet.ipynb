{
 "cells": [
  {
   "cell_type": "markdown",
   "id": "floral-courtesy",
   "metadata": {},
   "source": [
    "To get the ONNX file, run: 'python setup.py test --addopts \"-k test_brevitas_quartznet\"'"
   ]
  },
  {
   "cell_type": "code",
   "execution_count": 1,
   "id": "secret-labor",
   "metadata": {},
   "outputs": [
    {
     "name": "stdout",
     "output_type": "stream",
     "text": [
      "Serving '/tmp/quartznet.onnx' at http://0.0.0.0:8081\n"
     ]
    },
    {
     "data": {
      "text/html": [
       "\n",
       "        <iframe\n",
       "            width=\"100%\"\n",
       "            height=\"400\"\n",
       "            src=\"http://0.0.0.0:8081/\"\n",
       "            frameborder=\"0\"\n",
       "            allowfullscreen\n",
       "        ></iframe>\n",
       "        "
      ],
      "text/plain": [
       "<IPython.lib.display.IFrame at 0x7fa2034a69b0>"
      ]
     },
     "execution_count": 1,
     "metadata": {},
     "output_type": "execute_result"
    }
   ],
   "source": [
    "import numpy as np\n",
    "from finn.util.visualization import showInNetron\n",
    "from finn.core.modelwrapper import ModelWrapper\n",
    "\n",
    "file_name = '/tmp/quartznet.onnx'\n",
    "showInNetron(file_name)"
   ]
  },
  {
   "cell_type": "code",
   "execution_count": 2,
   "id": "painted-orlando",
   "metadata": {},
   "outputs": [
    {
     "name": "stdout",
     "output_type": "stream",
     "text": [
      "Stopping http://0.0.0.0:8081\n",
      "Serving '/tmp/quartznet_streamlined.onnx' at http://0.0.0.0:8081\n"
     ]
    },
    {
     "data": {
      "text/html": [
       "\n",
       "        <iframe\n",
       "            width=\"100%\"\n",
       "            height=\"400\"\n",
       "            src=\"http://0.0.0.0:8081/\"\n",
       "            frameborder=\"0\"\n",
       "            allowfullscreen\n",
       "        ></iframe>\n",
       "        "
      ],
      "text/plain": [
       "<IPython.lib.display.IFrame at 0x7f1b7edda0b8>"
      ]
     },
     "execution_count": 2,
     "metadata": {},
     "output_type": "execute_result"
    }
   ],
   "source": [
    "### STREAMLINING\n",
    "from finn.util.visualization import showInNetron\n",
    "from finn.core.modelwrapper import ModelWrapper\n",
    "\n",
    "from finn.transformation.streamline import *\n",
    "from finn.transformation.streamline.reorder import MoveMulPastDWConv, MoveLinearPastEltwiseAdd, MoveMulPastFork\n",
    "from finn.transformation.change_3d_tensors_to_4d import Change3DTo4DTensors\n",
    "from finn.transformation.streamline.absorb import AbsorbConsecutiveTransposes # No effect (only on consecutive transpose nodes)\n",
    "from finn.transformation.streamline.absorb import AbsorbTransposeIntoMultiThreshold\n",
    "from finn.util.basic import get_by_name\n",
    "from finn.core.datatype import DataType\n",
    "from finn.core.modelwrapper import ModelWrapper\n",
    "from finn.util.visualization import showInNetron\n",
    "from finn.transformation.general import GiveUniqueNodeNames, GiveRandomTensorNames, GiveReadableTensorNames, GiveUniqueParameterTensors\n",
    "\n",
    "model = ModelWrapper(\"/tmp/quartznet.onnx\")\n",
    "\n",
    "######## Tidy-up\n",
    "\n",
    "model = model.transform(GiveUniqueNodeNames())\n",
    "model = model.transform(GiveRandomTensorNames())\n",
    "model = model.transform(GiveReadableTensorNames())\n",
    "model = model.transform(GiveUniqueParameterTensors())\n",
    "\n",
    "# Convert to supported format\n",
    "model = model.transform(Change3DTo4DTensors())\n",
    "\n",
    "########\n",
    "\n",
    "# Collapse BatchNorm to Add and Mul\n",
    "model = model.transform(BatchNormToAffine())\n",
    "\n",
    "# Group additions\n",
    "model = model.transform(MoveAddPastMul())\n",
    "model = model.transform(MoveAddPastConv())\n",
    "model = model.transform(MoveAddPastMul())\n",
    "\n",
    "# Group multiplications\n",
    "#### Move mul past fork\n",
    "model = model.transform(MoveMulPastFork())\n",
    "model = model.transform(MoveScalarMulPastConv())\n",
    "model = model.transform(MoveMulPastDWConv())\n",
    "\n",
    "# Move Mul/Add past join node\n",
    "model = model.transform(MoveLinearPastEltwiseAdd())\n",
    "\n",
    "# Collapes additions & multiplications\n",
    "model = model.transform(CollapseRepeatedAdd())\n",
    "model = model.transform(CollapseRepeatedMul())\n",
    "\n",
    "# Absorb Add/Mul into multithreshold\n",
    "model = model.transform(AbsorbAddIntoMultiThreshold())\n",
    "model = model.transform(FactorOutMulSignMagnitude())\n",
    "model = model.transform(Absorb1BitMulIntoConv())\n",
    "model = model.transform(AbsorbMulIntoMultiThreshold())\n",
    "\n",
    "# Ensure thresholds are integers\n",
    "## Add quantization annotation to ensure RoundAndClipThresholds works\n",
    "for n in model.graph.node:\n",
    "    if n.op_type==\"MultiThreshold\":\n",
    "        odtype = get_by_name(n.attribute, \"out_dtype\", name_field=\"name\").s.decode(\"utf-8\")\n",
    "        dtype = getattr(DataType, odtype) \n",
    "        #model.set_tensor_datatype(n.input[0], dtype)\n",
    "        model.set_tensor_datatype(n.input[0], DataType.INT32)\n",
    "\n",
    "#from finn.transformation.infer_datatypes import InferDataTypes\n",
    "#model = model.transform(InferDataTypes())\n",
    "        \n",
    "model = model.transform(RoundAndClipThresholds())\n",
    "\n",
    "model.save(\"/tmp/quartznet_streamlined.onnx\")\n",
    "showInNetron(\"/tmp/quartznet_streamlined.onnx\")"
   ]
  },
  {
   "cell_type": "code",
   "execution_count": 1,
   "id": "together-acquisition",
   "metadata": {},
   "outputs": [
    {
     "name": "stdout",
     "output_type": "stream",
     "text": [
      "Serving '/tmp/quartznet_streamlined_partitioned.onnx' at http://0.0.0.0:8081\n"
     ]
    },
    {
     "data": {
      "text/html": [
       "\n",
       "        <iframe\n",
       "            width=\"100%\"\n",
       "            height=\"400\"\n",
       "            src=\"http://0.0.0.0:8081/\"\n",
       "            frameborder=\"0\"\n",
       "            allowfullscreen\n",
       "        ></iframe>\n",
       "        "
      ],
      "text/plain": [
       "<IPython.lib.display.IFrame at 0x7f4cdb483be0>"
      ]
     },
     "execution_count": 1,
     "metadata": {},
     "output_type": "execute_result"
    }
   ],
   "source": [
    "## PARTITIONING\n",
    "from finn.util.visualization import showInNetron\n",
    "from finn.core.modelwrapper import ModelWrapper\n",
    "\n",
    "from finn.transformation.create_generic_partitions import PartitionFromDict\n",
    "\n",
    "model = ModelWrapper(\"/tmp/quartznet_streamlined.onnx\")\n",
    "\n",
    "#partitionings = {0: range(0, 3), \n",
    "#                1: range(3, 27),\n",
    "#                2: range(27, 51),\n",
    "#                3: range(51, 75),\n",
    "#                4: range(75, 99),\n",
    "#                5: range(99, 123),\n",
    "#                6: range(123, 147),\n",
    "#                7: range(147, 171),\n",
    "#                8: range(171, 195),\n",
    "#                9: range(195, 219),\n",
    "#                10: range(219, 243),\n",
    "#                11: range(243, 267),\n",
    "#                12: range(267, 291),\n",
    "#                13: range(291, 315),\n",
    "#                14: range(315, 339),\n",
    "#                15: range(339, 363),\n",
    "#                16: range(363, 376)}\n",
    "partitionings = {0: range(0, 3), \n",
    "                1: range(3, 75),\n",
    "                2: range(75, 147),\n",
    "                3: range(147, 219),\n",
    "                4: range(219, 291),\n",
    "                5: range(291, 363),\n",
    "                6: range(363, 376)}\n",
    "\n",
    "model = model.transform(PartitionFromDict(partitionings))\n",
    "\n",
    "model.save(\"/tmp/quartznet_streamlined_partitioned.onnx\")\n",
    "showInNetron(\"/tmp/quartznet_streamlined_partitioned.onnx\")"
   ]
  },
  {
   "cell_type": "code",
   "execution_count": 103,
   "id": "jewish-clear",
   "metadata": {},
   "outputs": [
    {
     "name": "stdout",
     "output_type": "stream",
     "text": [
      "/tmp/finn_dev_mirza/partitioning_c5rw2io6/partition_0.onnx\n",
      "/tmp/finn_dev_mirza/partitioning_c5rw2io6/partition_1.onnx\n",
      "/tmp/finn_dev_mirza/partitioning_c5rw2io6/partition_2.onnx\n",
      "/tmp/finn_dev_mirza/partitioning_c5rw2io6/partition_3.onnx\n",
      "/tmp/finn_dev_mirza/partitioning_c5rw2io6/partition_4.onnx\n",
      "/tmp/finn_dev_mirza/partitioning_c5rw2io6/partition_5.onnx\n",
      "/tmp/finn_dev_mirza/partitioning_c5rw2io6/partition_6.onnx\n",
      "Stopping http://0.0.0.0:8081\n",
      "Serving '/tmp/quartznet_streamlined_lowered.onnx' at http://0.0.0.0:8081\n"
     ]
    },
    {
     "data": {
      "text/html": [
       "\n",
       "        <iframe\n",
       "            width=\"100%\"\n",
       "            height=\"400\"\n",
       "            src=\"http://0.0.0.0:8081/\"\n",
       "            frameborder=\"0\"\n",
       "            allowfullscreen\n",
       "        ></iframe>\n",
       "        "
      ],
      "text/plain": [
       "<IPython.lib.display.IFrame at 0x7f08f2db07b8>"
      ]
     },
     "execution_count": 103,
     "metadata": {},
     "output_type": "execute_result"
    }
   ],
   "source": [
    "## LOWERING and ABSORB_TRANSPOSE_INTO_MULTITHRESHOLD\n",
    "from finn.util.visualization import showInNetron\n",
    "from finn.core.modelwrapper import ModelWrapper\n",
    "from finn.transformation.lower_convs_to_matmul import LowerConvsToMatMul\n",
    "from finn.transformation.streamline.absorb import AbsorbTransposeIntoMultiThreshold\n",
    "from finn.transformation.streamline.reorder import MoveTransposePastMultiThreshold, MoveTransposePastJoinAdd, MoveTransposeBeforeFork\n",
    "from finn.util.basic import get_by_name\n",
    "\n",
    "\n",
    "model = ModelWrapper(\"/tmp/quartznet_streamlined_partitioned.onnx\")\n",
    "\n",
    "node_ind=0\n",
    "for n in model.graph.node:\n",
    "    path_to_partition = get_by_name(n.attribute, \"model\", \"name\").s.decode('utf-8')\n",
    "    print(path_to_partition)\n",
    "    model_partition = ModelWrapper(path_to_partition)\n",
    "    \n",
    "    # Lower\n",
    "    model_partition = model_partition.transform(LowerConvsToMatMul())\n",
    "    # Absorb transpose nodes\n",
    "    model_partition = model_partition.transform(AbsorbTransposeIntoMultiThreshold())\n",
    "    # Reorder remaining transpose nodes\n",
    "    model_partition = model_partition.transform(MoveTransposePastMultiThreshold())\n",
    "    model_partition = model_partition.transform(MoveTransposePastJoinAdd())\n",
    "    model_partition = model_partition.transform(MoveTransposeBeforeFork())\n",
    "    \n",
    "    model_partition.save(path_to_partition)\n",
    "    \n",
    "    node_ind+=1\n",
    "\n",
    "model.save(\"/tmp/quartznet_streamlined_lowered.onnx\")\n",
    "showInNetron(\"/tmp/quartznet_streamlined_lowered.onnx\")"
   ]
  },
  {
   "cell_type": "code",
   "execution_count": 104,
   "id": "adult-divide",
   "metadata": {},
   "outputs": [
    {
     "name": "stdout",
     "output_type": "stream",
     "text": [
      "Stopping http://0.0.0.0:8081\n",
      "Serving '/tmp/quartznet_streamlined_lowered.onnx' at http://0.0.0.0:8081\n",
      "Stopping http://0.0.0.0:8081\n",
      "Serving '/tmp/finn_dev_mirza/partitioning_c5rw2io6/partition_0.onnx' at http://0.0.0.0:8081\n"
     ]
    },
    {
     "data": {
      "text/html": [
       "\n",
       "        <iframe\n",
       "            width=\"100%\"\n",
       "            height=\"400\"\n",
       "            src=\"http://0.0.0.0:8081/\"\n",
       "            frameborder=\"0\"\n",
       "            allowfullscreen\n",
       "        ></iframe>\n",
       "        "
      ],
      "text/plain": [
       "<IPython.lib.display.IFrame at 0x7f086aeba710>"
      ]
     },
     "execution_count": 104,
     "metadata": {},
     "output_type": "execute_result"
    }
   ],
   "source": [
    "model = ModelWrapper(\"/tmp/quartznet_streamlined_lowered.onnx\")\n",
    "showInNetron(\"/tmp/quartznet_streamlined_lowered.onnx\")\n",
    "\n",
    "p = model.graph.node[0]\n",
    "path = get_by_name(p.attribute, \"model\", \"name\").s.decode(\"utf-8\")\n",
    "\n",
    "showInNetron(path)\n"
   ]
  },
  {
   "cell_type": "code",
   "execution_count": 105,
   "id": "likely-minister",
   "metadata": {},
   "outputs": [
    {
     "name": "stdout",
     "output_type": "stream",
     "text": [
      "Stopping http://0.0.0.0:8081\n",
      "Serving '/tmp/quartznet_streamlined_lowered.onnx' at http://0.0.0.0:8081\n",
      "Stopping http://0.0.0.0:8081\n",
      "Serving '/tmp/finn_dev_mirza/partitioning_c5rw2io6/partition_1.onnx' at http://0.0.0.0:8081\n"
     ]
    },
    {
     "data": {
      "text/html": [
       "\n",
       "        <iframe\n",
       "            width=\"100%\"\n",
       "            height=\"400\"\n",
       "            src=\"http://0.0.0.0:8081/\"\n",
       "            frameborder=\"0\"\n",
       "            allowfullscreen\n",
       "        ></iframe>\n",
       "        "
      ],
      "text/plain": [
       "<IPython.lib.display.IFrame at 0x7f086aeba6d8>"
      ]
     },
     "execution_count": 105,
     "metadata": {},
     "output_type": "execute_result"
    }
   ],
   "source": [
    "model = ModelWrapper(\"/tmp/quartznet_streamlined_lowered.onnx\")\n",
    "showInNetron(\"/tmp/quartznet_streamlined_lowered.onnx\")\n",
    "\n",
    "p = model.graph.node[1]\n",
    "path = get_by_name(p.attribute, \"model\", \"name\").s.decode(\"utf-8\")\n",
    "\n",
    "showInNetron(path)\n"
   ]
  },
  {
   "cell_type": "code",
   "execution_count": 107,
   "id": "honey-instrumentation",
   "metadata": {},
   "outputs": [
    {
     "name": "stdout",
     "output_type": "stream",
     "text": [
      "Stopping http://0.0.0.0:8081\n",
      "Serving '/tmp/quartznet_temp_test.onnx' at http://0.0.0.0:8081\n"
     ]
    },
    {
     "data": {
      "text/html": [
       "\n",
       "        <iframe\n",
       "            width=\"100%\"\n",
       "            height=\"400\"\n",
       "            src=\"http://0.0.0.0:8081/\"\n",
       "            frameborder=\"0\"\n",
       "            allowfullscreen\n",
       "        ></iframe>\n",
       "        "
      ],
      "text/plain": [
       "<IPython.lib.display.IFrame at 0x7f086ae88cf8>"
      ]
     },
     "execution_count": 107,
     "metadata": {},
     "output_type": "execute_result"
    }
   ],
   "source": [
    "## UNFOLD and ABSORB TRANSPOSE again\n",
    "from finn.util.visualization import showInNetron\n",
    "from finn.core.modelwrapper import ModelWrapper\n",
    "from finn.transformation.unfold_partitions import UnfoldPartitions\n",
    "from finn.transformation.streamline.absorb import AbsorbTransposeIntoMultiThreshold\n",
    "from finn.transformation.infer_datatypes import InferDataTypes\n",
    "from finn.transformation.create_generic_partitions import PartitionFromDict\n",
    "\n",
    "model = ModelWrapper(\"/tmp/quartznet_streamlined_lowered.onnx\")\n",
    "\n",
    "new_partitionings = [{0: range(0, 5), 1: range(5, 92)},\n",
    "                    {2: range(2, 89)},\n",
    "                    {3: range(3, 90)},\n",
    "                    {4: range(4, 91)},\n",
    "                    {5: range(5, 92)},\n",
    "                    {6: range(6, 21)} \n",
    "                    ]\n",
    "\n",
    "new_partitionings = [{1: range(5, 92)},\n",
    "                    {2: range(6, 93)},\n",
    "                    {3: range(7, 94)},\n",
    "                    {4: range(8, 95)},\n",
    "                    {5: range(9, 96)},\n",
    "                    {6: range(11, 21)} \n",
    "                    ]\n",
    "\n",
    "nodes = [n for n in model.graph.node]\n",
    "for ind, n in enumerate(nodes):\n",
    "    if ind == 0:\n",
    "        node_ind_to_unfold = [ind, ind+1] # unfold current and next node\n",
    "    else:\n",
    "        node_ind_to_unfold = [ind+6] # ind+1 is the Transpose node (+5 for initial nodes)\n",
    "    \n",
    "    model = model.transform(UnfoldPartitions(node_ind_to_unfold))\n",
    "    model = model.transform(AbsorbTransposeIntoMultiThreshold())\n",
    "    \n",
    "    if ind==0:\n",
    "        model = model.transform(PartitionFromDict(new_partitionings[0]), \"/tmp/finn_dev_mirza/partitioning_0lwlvajs\")\n",
    "    if ind==1:\n",
    "        model = model.transform(PartitionFromDict(new_partitionings[1], \"/tmp/finn_dev_mirza/partitioning_0lwlvajs\"))\n",
    "    if ind==2:\n",
    "        model = model.transform(PartitionFromDict(new_partitionings[2], \"/tmp/finn_dev_mirza/partitioning_35sdx5v_\"))\n",
    "    if ind==3:\n",
    "        model = model.transform(PartitionFromDict(new_partitionings[3], \"/tmp/finn_dev_mirza/partitioning_35sdx5v_\"))\n",
    "    if ind==4:\n",
    "        model = model.transform(PartitionFromDict(new_partitionings[4], \"/tmp/finn_dev_mirza/partitioning_35sdx5v_\"))\n",
    "    if ind==5:\n",
    "        break\n",
    "    #    model = model.transform(PartitionFromDict(new_partitionings[5]), \"/tmp/finn_dev_mirza/partitioning_35sdx5v_\")\n",
    "    \n",
    "model.save(\"/tmp/quartznet_temp_test.onnx\")\n",
    "showInNetron(\"/tmp/quartznet_temp_test.onnx\")"
   ]
  },
  {
   "cell_type": "code",
   "execution_count": 109,
   "id": "pediatric-vienna",
   "metadata": {},
   "outputs": [
    {
     "name": "stdout",
     "output_type": "stream",
     "text": [
      "Stopping http://0.0.0.0:8081\n",
      "Serving '/tmp/finn_dev_mirza/partitioning_9r84q0d4/partition_1.onnx' at http://0.0.0.0:8081\n"
     ]
    },
    {
     "data": {
      "text/html": [
       "\n",
       "        <iframe\n",
       "            width=\"100%\"\n",
       "            height=\"400\"\n",
       "            src=\"http://0.0.0.0:8081/\"\n",
       "            frameborder=\"0\"\n",
       "            allowfullscreen\n",
       "        ></iframe>\n",
       "        "
      ],
      "text/plain": [
       "<IPython.lib.display.IFrame at 0x7f086aea2588>"
      ]
     },
     "execution_count": 109,
     "metadata": {},
     "output_type": "execute_result"
    }
   ],
   "source": [
    "model = ModelWrapper(\"/tmp/quartznet_temp_test.onnx\")\n",
    "#showInNetron(\"/tmp/quartznet_temp_test.onnx\")\n",
    "\n",
    "p = model.graph.node[5]\n",
    "path = get_by_name(p.attribute, \"model\", \"name\").s.decode(\"utf-8\")\n",
    "\n",
    "showInNetron(path)\n"
   ]
  },
  {
   "cell_type": "markdown",
   "id": "official-property",
   "metadata": {},
   "source": [
    "# Compare 2 models\n",
    "\n",
    "1. Original QuartzNet\n",
    "2. Any other\n"
   ]
  },
  {
   "cell_type": "code",
   "execution_count": 2,
   "id": "approved-hepatitis",
   "metadata": {},
   "outputs": [
    {
     "name": "stdout",
     "output_type": "stream",
     "text": [
      "Elapsed time: 356.18293706100667\n"
     ]
    }
   ],
   "source": [
    "import numpy as np\n",
    "from finn.core.modelwrapper import ModelWrapper\n",
    "from finn.util.basic import gen_finn_dt_tensor\n",
    "import finn.core.onnx_exec as oxe\n",
    "\n",
    "import time\n",
    "t1 = time.perf_counter()\n",
    "\n",
    "################################################################################################\n",
    "####\n",
    "#### MODEL 1\n",
    "####\n",
    "model_1 = ModelWrapper(\"/tmp/quartznet.onnx\")\n",
    "\n",
    "#### MODEL 1\n",
    "# Create input data\n",
    "input0_tensor_name = model_1.graph.input[0].name\n",
    "\n",
    "input_shape = model_1.get_tensor_shape(input0_tensor_name)\n",
    "#input_dtype = model_1.get_tensor_datatype(input0_tensor_name)\n",
    "#input_val = gen_finn_dt_tensor(input_dtype, input_shape)\n",
    "input_val = np.random.randint(low=-10000, high=10000, size=input_shape).astype(np.float32)\n",
    "input_dict = {}\n",
    "input_dict[input0_tensor_name] = input_val\n",
    "output0_tensor_name = model_1.graph.output[0].name\n",
    "\n",
    "expected_m1_dict = oxe.execute_onnx(model_1, input_dict, return_full_exec_context = False)\n",
    "expected_m1 = expected_m1_dict[output0_tensor_name]\n",
    "################################################################################################\n",
    "\n",
    "\n",
    "t2 = time.perf_counter() - t1\n",
    "print(\"Elapsed time: {}\".format(t2))"
   ]
  },
  {
   "cell_type": "code",
   "execution_count": 3,
   "id": "prescription-globe",
   "metadata": {},
   "outputs": [
    {
     "name": "stderr",
     "output_type": "stream",
     "text": [
      "/workspace/finn-base/src/finn/util/basic.py:380: UserWarning: The values of tensor MultiThreshold_1_param0 can't be represented with the set FINN datatype (DataType.INT32), they will be rounded to match the FINN datatype.\n",
      "  \"FINN datatype.\".format(tensor, dtype)\n",
      "/workspace/finn-base/src/finn/util/basic.py:380: UserWarning: The values of tensor MultiThreshold_4_param0 can't be represented with the set FINN datatype (DataType.INT32), they will be rounded to match the FINN datatype.\n",
      "  \"FINN datatype.\".format(tensor, dtype)\n",
      "/workspace/finn-base/src/finn/util/basic.py:380: UserWarning: The values of tensor MultiThreshold_6_param0 can't be represented with the set FINN datatype (DataType.INT32), they will be rounded to match the FINN datatype.\n",
      "  \"FINN datatype.\".format(tensor, dtype)\n",
      "/workspace/finn-base/src/finn/util/basic.py:380: UserWarning: The values of tensor MultiThreshold_8_param0 can't be represented with the set FINN datatype (DataType.INT32), they will be rounded to match the FINN datatype.\n",
      "  \"FINN datatype.\".format(tensor, dtype)\n",
      "/workspace/finn-base/src/finn/util/basic.py:380: UserWarning: The values of tensor MultiThreshold_10_param0 can't be represented with the set FINN datatype (DataType.INT32), they will be rounded to match the FINN datatype.\n",
      "  \"FINN datatype.\".format(tensor, dtype)\n",
      "/workspace/finn-base/src/finn/util/basic.py:380: UserWarning: The values of tensor W9ivQc can't be represented with the set FINN datatype (DataType.INT32), they will be rounded to match the FINN datatype.\n",
      "  \"FINN datatype.\".format(tensor, dtype)\n",
      "/workspace/finn-base/src/finn/util/basic.py:380: UserWarning: The values of tensor MultiThreshold_24_param0 can't be represented with the set FINN datatype (DataType.INT32), they will be rounded to match the FINN datatype.\n",
      "  \"FINN datatype.\".format(tensor, dtype)\n",
      "/workspace/finn-base/src/finn/util/basic.py:380: UserWarning: The values of tensor MultiThreshold_16_param0 can't be represented with the set FINN datatype (DataType.INT32), they will be rounded to match the FINN datatype.\n",
      "  \"FINN datatype.\".format(tensor, dtype)\n",
      "/workspace/finn-base/src/finn/util/basic.py:380: UserWarning: The values of tensor MultiThreshold_18_param0 can't be represented with the set FINN datatype (DataType.INT32), they will be rounded to match the FINN datatype.\n",
      "  \"FINN datatype.\".format(tensor, dtype)\n",
      "/workspace/finn-base/src/finn/util/basic.py:380: UserWarning: The values of tensor MultiThreshold_20_param0 can't be represented with the set FINN datatype (DataType.INT32), they will be rounded to match the FINN datatype.\n",
      "  \"FINN datatype.\".format(tensor, dtype)\n",
      "/workspace/finn-base/src/finn/util/basic.py:380: UserWarning: The values of tensor MultiThreshold_22_param0 can't be represented with the set FINN datatype (DataType.INT32), they will be rounded to match the FINN datatype.\n",
      "  \"FINN datatype.\".format(tensor, dtype)\n",
      "/workspace/finn-base/src/finn/util/basic.py:380: UserWarning: The values of tensor Bb22BN can't be represented with the set FINN datatype (DataType.INT32), they will be rounded to match the FINN datatype.\n",
      "  \"FINN datatype.\".format(tensor, dtype)\n",
      "/workspace/finn-base/src/finn/util/basic.py:380: UserWarning: The values of tensor MultiThreshold_36_param0 can't be represented with the set FINN datatype (DataType.INT32), they will be rounded to match the FINN datatype.\n",
      "  \"FINN datatype.\".format(tensor, dtype)\n",
      "/workspace/finn-base/src/finn/util/basic.py:380: UserWarning: The values of tensor MultiThreshold_28_param0 can't be represented with the set FINN datatype (DataType.INT32), they will be rounded to match the FINN datatype.\n",
      "  \"FINN datatype.\".format(tensor, dtype)\n",
      "/workspace/finn-base/src/finn/util/basic.py:380: UserWarning: The values of tensor MultiThreshold_30_param0 can't be represented with the set FINN datatype (DataType.INT32), they will be rounded to match the FINN datatype.\n",
      "  \"FINN datatype.\".format(tensor, dtype)\n",
      "/workspace/finn-base/src/finn/util/basic.py:380: UserWarning: The values of tensor MultiThreshold_32_param0 can't be represented with the set FINN datatype (DataType.INT32), they will be rounded to match the FINN datatype.\n",
      "  \"FINN datatype.\".format(tensor, dtype)\n",
      "/workspace/finn-base/src/finn/util/basic.py:380: UserWarning: The values of tensor MultiThreshold_34_param0 can't be represented with the set FINN datatype (DataType.INT32), they will be rounded to match the FINN datatype.\n",
      "  \"FINN datatype.\".format(tensor, dtype)\n",
      "/workspace/finn-base/src/finn/util/basic.py:380: UserWarning: The values of tensor v4qrBL can't be represented with the set FINN datatype (DataType.INT32), they will be rounded to match the FINN datatype.\n",
      "  \"FINN datatype.\".format(tensor, dtype)\n",
      "/workspace/finn-base/src/finn/util/basic.py:380: UserWarning: The values of tensor MultiThreshold_48_param0 can't be represented with the set FINN datatype (DataType.INT32), they will be rounded to match the FINN datatype.\n",
      "  \"FINN datatype.\".format(tensor, dtype)\n",
      "/workspace/finn-base/src/finn/util/basic.py:380: UserWarning: The values of tensor MultiThreshold_40_param0 can't be represented with the set FINN datatype (DataType.INT32), they will be rounded to match the FINN datatype.\n",
      "  \"FINN datatype.\".format(tensor, dtype)\n",
      "/workspace/finn-base/src/finn/util/basic.py:380: UserWarning: The values of tensor MultiThreshold_42_param0 can't be represented with the set FINN datatype (DataType.INT32), they will be rounded to match the FINN datatype.\n",
      "  \"FINN datatype.\".format(tensor, dtype)\n",
      "/workspace/finn-base/src/finn/util/basic.py:380: UserWarning: The values of tensor MultiThreshold_44_param0 can't be represented with the set FINN datatype (DataType.INT32), they will be rounded to match the FINN datatype.\n",
      "  \"FINN datatype.\".format(tensor, dtype)\n",
      "/workspace/finn-base/src/finn/util/basic.py:380: UserWarning: The values of tensor MultiThreshold_46_param0 can't be represented with the set FINN datatype (DataType.INT32), they will be rounded to match the FINN datatype.\n",
      "  \"FINN datatype.\".format(tensor, dtype)\n",
      "/workspace/finn-base/src/finn/util/basic.py:380: UserWarning: The values of tensor wikWFR can't be represented with the set FINN datatype (DataType.INT32), they will be rounded to match the FINN datatype.\n",
      "  \"FINN datatype.\".format(tensor, dtype)\n",
      "/workspace/finn-base/src/finn/util/basic.py:380: UserWarning: The values of tensor MultiThreshold_60_param0 can't be represented with the set FINN datatype (DataType.INT32), they will be rounded to match the FINN datatype.\n",
      "  \"FINN datatype.\".format(tensor, dtype)\n",
      "/workspace/finn-base/src/finn/util/basic.py:380: UserWarning: The values of tensor MultiThreshold_52_param0 can't be represented with the set FINN datatype (DataType.INT32), they will be rounded to match the FINN datatype.\n",
      "  \"FINN datatype.\".format(tensor, dtype)\n",
      "/workspace/finn-base/src/finn/util/basic.py:380: UserWarning: The values of tensor MultiThreshold_54_param0 can't be represented with the set FINN datatype (DataType.INT32), they will be rounded to match the FINN datatype.\n",
      "  \"FINN datatype.\".format(tensor, dtype)\n",
      "/workspace/finn-base/src/finn/util/basic.py:380: UserWarning: The values of tensor MultiThreshold_56_param0 can't be represented with the set FINN datatype (DataType.INT32), they will be rounded to match the FINN datatype.\n",
      "  \"FINN datatype.\".format(tensor, dtype)\n",
      "/workspace/finn-base/src/finn/util/basic.py:380: UserWarning: The values of tensor MultiThreshold_58_param0 can't be represented with the set FINN datatype (DataType.INT32), they will be rounded to match the FINN datatype.\n",
      "  \"FINN datatype.\".format(tensor, dtype)\n",
      "/workspace/finn-base/src/finn/util/basic.py:380: UserWarning: The values of tensor dE79Tu can't be represented with the set FINN datatype (DataType.INT32), they will be rounded to match the FINN datatype.\n",
      "  \"FINN datatype.\".format(tensor, dtype)\n",
      "/workspace/finn-base/src/finn/util/basic.py:380: UserWarning: The values of tensor MultiThreshold_61_param0 can't be represented with the set FINN datatype (DataType.INT32), they will be rounded to match the FINN datatype.\n",
      "  \"FINN datatype.\".format(tensor, dtype)\n",
      "/workspace/finn-base/src/finn/util/basic.py:380: UserWarning: The values of tensor MultiThreshold_64_param0 can't be represented with the set FINN datatype (DataType.INT32), they will be rounded to match the FINN datatype.\n",
      "  \"FINN datatype.\".format(tensor, dtype)\n"
     ]
    },
    {
     "name": "stderr",
     "output_type": "stream",
     "text": [
      "/workspace/finn-base/src/finn/util/basic.py:380: UserWarning: The values of tensor MultiThreshold_66_param0 can't be represented with the set FINN datatype (DataType.INT32), they will be rounded to match the FINN datatype.\n",
      "  \"FINN datatype.\".format(tensor, dtype)\n",
      "/workspace/finn-base/src/finn/util/basic.py:380: UserWarning: The values of tensor MultiThreshold_68_param0 can't be represented with the set FINN datatype (DataType.INT32), they will be rounded to match the FINN datatype.\n",
      "  \"FINN datatype.\".format(tensor, dtype)\n",
      "/workspace/finn-base/src/finn/util/basic.py:380: UserWarning: The values of tensor MultiThreshold_70_param0 can't be represented with the set FINN datatype (DataType.INT32), they will be rounded to match the FINN datatype.\n",
      "  \"FINN datatype.\".format(tensor, dtype)\n",
      "/workspace/finn-base/src/finn/util/basic.py:380: UserWarning: The values of tensor eKjQl0 can't be represented with the set FINN datatype (DataType.INT32), they will be rounded to match the FINN datatype.\n",
      "  \"FINN datatype.\".format(tensor, dtype)\n",
      "/workspace/finn-base/src/finn/util/basic.py:380: UserWarning: The values of tensor MultiThreshold_84_param0 can't be represented with the set FINN datatype (DataType.INT32), they will be rounded to match the FINN datatype.\n",
      "  \"FINN datatype.\".format(tensor, dtype)\n",
      "/workspace/finn-base/src/finn/util/basic.py:380: UserWarning: The values of tensor MultiThreshold_76_param0 can't be represented with the set FINN datatype (DataType.INT32), they will be rounded to match the FINN datatype.\n",
      "  \"FINN datatype.\".format(tensor, dtype)\n",
      "/workspace/finn-base/src/finn/util/basic.py:380: UserWarning: The values of tensor MultiThreshold_78_param0 can't be represented with the set FINN datatype (DataType.INT32), they will be rounded to match the FINN datatype.\n",
      "  \"FINN datatype.\".format(tensor, dtype)\n",
      "/workspace/finn-base/src/finn/util/basic.py:380: UserWarning: The values of tensor MultiThreshold_80_param0 can't be represented with the set FINN datatype (DataType.INT32), they will be rounded to match the FINN datatype.\n",
      "  \"FINN datatype.\".format(tensor, dtype)\n",
      "/workspace/finn-base/src/finn/util/basic.py:380: UserWarning: The values of tensor MultiThreshold_82_param0 can't be represented with the set FINN datatype (DataType.INT32), they will be rounded to match the FINN datatype.\n",
      "  \"FINN datatype.\".format(tensor, dtype)\n",
      "/workspace/finn-base/src/finn/util/basic.py:380: UserWarning: The values of tensor wSMRHO can't be represented with the set FINN datatype (DataType.INT32), they will be rounded to match the FINN datatype.\n",
      "  \"FINN datatype.\".format(tensor, dtype)\n",
      "/workspace/finn-base/src/finn/util/basic.py:380: UserWarning: The values of tensor MultiThreshold_96_param0 can't be represented with the set FINN datatype (DataType.INT32), they will be rounded to match the FINN datatype.\n",
      "  \"FINN datatype.\".format(tensor, dtype)\n",
      "/workspace/finn-base/src/finn/util/basic.py:380: UserWarning: The values of tensor MultiThreshold_88_param0 can't be represented with the set FINN datatype (DataType.INT32), they will be rounded to match the FINN datatype.\n",
      "  \"FINN datatype.\".format(tensor, dtype)\n",
      "/workspace/finn-base/src/finn/util/basic.py:380: UserWarning: The values of tensor MultiThreshold_90_param0 can't be represented with the set FINN datatype (DataType.INT32), they will be rounded to match the FINN datatype.\n",
      "  \"FINN datatype.\".format(tensor, dtype)\n",
      "/workspace/finn-base/src/finn/util/basic.py:380: UserWarning: The values of tensor MultiThreshold_92_param0 can't be represented with the set FINN datatype (DataType.INT32), they will be rounded to match the FINN datatype.\n",
      "  \"FINN datatype.\".format(tensor, dtype)\n",
      "/workspace/finn-base/src/finn/util/basic.py:380: UserWarning: The values of tensor MultiThreshold_94_param0 can't be represented with the set FINN datatype (DataType.INT32), they will be rounded to match the FINN datatype.\n",
      "  \"FINN datatype.\".format(tensor, dtype)\n",
      "/workspace/finn-base/src/finn/util/basic.py:380: UserWarning: The values of tensor bskMJT can't be represented with the set FINN datatype (DataType.INT32), they will be rounded to match the FINN datatype.\n",
      "  \"FINN datatype.\".format(tensor, dtype)\n",
      "/workspace/finn-base/src/finn/util/basic.py:380: UserWarning: The values of tensor MultiThreshold_108_param0 can't be represented with the set FINN datatype (DataType.INT32), they will be rounded to match the FINN datatype.\n",
      "  \"FINN datatype.\".format(tensor, dtype)\n",
      "/workspace/finn-base/src/finn/util/basic.py:380: UserWarning: The values of tensor MultiThreshold_100_param0 can't be represented with the set FINN datatype (DataType.INT32), they will be rounded to match the FINN datatype.\n",
      "  \"FINN datatype.\".format(tensor, dtype)\n",
      "/workspace/finn-base/src/finn/util/basic.py:380: UserWarning: The values of tensor MultiThreshold_102_param0 can't be represented with the set FINN datatype (DataType.INT32), they will be rounded to match the FINN datatype.\n",
      "  \"FINN datatype.\".format(tensor, dtype)\n",
      "/workspace/finn-base/src/finn/util/basic.py:380: UserWarning: The values of tensor MultiThreshold_104_param0 can't be represented with the set FINN datatype (DataType.INT32), they will be rounded to match the FINN datatype.\n",
      "  \"FINN datatype.\".format(tensor, dtype)\n",
      "/workspace/finn-base/src/finn/util/basic.py:380: UserWarning: The values of tensor MultiThreshold_106_param0 can't be represented with the set FINN datatype (DataType.INT32), they will be rounded to match the FINN datatype.\n",
      "  \"FINN datatype.\".format(tensor, dtype)\n",
      "/workspace/finn-base/src/finn/util/basic.py:380: UserWarning: The values of tensor PdmdLQ can't be represented with the set FINN datatype (DataType.INT32), they will be rounded to match the FINN datatype.\n",
      "  \"FINN datatype.\".format(tensor, dtype)\n",
      "/workspace/finn-base/src/finn/util/basic.py:380: UserWarning: The values of tensor MultiThreshold_120_param0 can't be represented with the set FINN datatype (DataType.INT32), they will be rounded to match the FINN datatype.\n",
      "  \"FINN datatype.\".format(tensor, dtype)\n",
      "/workspace/finn-base/src/finn/util/basic.py:380: UserWarning: The values of tensor MultiThreshold_112_param0 can't be represented with the set FINN datatype (DataType.INT32), they will be rounded to match the FINN datatype.\n",
      "  \"FINN datatype.\".format(tensor, dtype)\n",
      "/workspace/finn-base/src/finn/util/basic.py:380: UserWarning: The values of tensor MultiThreshold_114_param0 can't be represented with the set FINN datatype (DataType.INT32), they will be rounded to match the FINN datatype.\n",
      "  \"FINN datatype.\".format(tensor, dtype)\n",
      "/workspace/finn-base/src/finn/util/basic.py:380: UserWarning: The values of tensor MultiThreshold_116_param0 can't be represented with the set FINN datatype (DataType.INT32), they will be rounded to match the FINN datatype.\n",
      "  \"FINN datatype.\".format(tensor, dtype)\n",
      "/workspace/finn-base/src/finn/util/basic.py:380: UserWarning: The values of tensor MultiThreshold_118_param0 can't be represented with the set FINN datatype (DataType.INT32), they will be rounded to match the FINN datatype.\n",
      "  \"FINN datatype.\".format(tensor, dtype)\n",
      "/workspace/finn-base/src/finn/util/basic.py:380: UserWarning: The values of tensor mgETo4 can't be represented with the set FINN datatype (DataType.INT32), they will be rounded to match the FINN datatype.\n",
      "  \"FINN datatype.\".format(tensor, dtype)\n",
      "/workspace/finn-base/src/finn/util/basic.py:380: UserWarning: The values of tensor MultiThreshold_132_param0 can't be represented with the set FINN datatype (DataType.INT32), they will be rounded to match the FINN datatype.\n",
      "  \"FINN datatype.\".format(tensor, dtype)\n",
      "/workspace/finn-base/src/finn/util/basic.py:380: UserWarning: The values of tensor MultiThreshold_124_param0 can't be represented with the set FINN datatype (DataType.INT32), they will be rounded to match the FINN datatype.\n",
      "  \"FINN datatype.\".format(tensor, dtype)\n",
      "/workspace/finn-base/src/finn/util/basic.py:380: UserWarning: The values of tensor MultiThreshold_126_param0 can't be represented with the set FINN datatype (DataType.INT32), they will be rounded to match the FINN datatype.\n",
      "  \"FINN datatype.\".format(tensor, dtype)\n",
      "/workspace/finn-base/src/finn/util/basic.py:380: UserWarning: The values of tensor MultiThreshold_128_param0 can't be represented with the set FINN datatype (DataType.INT32), they will be rounded to match the FINN datatype.\n",
      "  \"FINN datatype.\".format(tensor, dtype)\n"
     ]
    },
    {
     "name": "stderr",
     "output_type": "stream",
     "text": [
      "/workspace/finn-base/src/finn/util/basic.py:380: UserWarning: The values of tensor MultiThreshold_130_param0 can't be represented with the set FINN datatype (DataType.INT32), they will be rounded to match the FINN datatype.\n",
      "  \"FINN datatype.\".format(tensor, dtype)\n",
      "/workspace/finn-base/src/finn/util/basic.py:380: UserWarning: The values of tensor adxWor can't be represented with the set FINN datatype (DataType.INT32), they will be rounded to match the FINN datatype.\n",
      "  \"FINN datatype.\".format(tensor, dtype)\n",
      "/workspace/finn-base/src/finn/util/basic.py:380: UserWarning: The values of tensor MultiThreshold_144_param0 can't be represented with the set FINN datatype (DataType.INT32), they will be rounded to match the FINN datatype.\n",
      "  \"FINN datatype.\".format(tensor, dtype)\n",
      "/workspace/finn-base/src/finn/util/basic.py:380: UserWarning: The values of tensor MultiThreshold_136_param0 can't be represented with the set FINN datatype (DataType.INT32), they will be rounded to match the FINN datatype.\n",
      "  \"FINN datatype.\".format(tensor, dtype)\n",
      "/workspace/finn-base/src/finn/util/basic.py:380: UserWarning: The values of tensor MultiThreshold_138_param0 can't be represented with the set FINN datatype (DataType.INT32), they will be rounded to match the FINN datatype.\n",
      "  \"FINN datatype.\".format(tensor, dtype)\n",
      "/workspace/finn-base/src/finn/util/basic.py:380: UserWarning: The values of tensor MultiThreshold_140_param0 can't be represented with the set FINN datatype (DataType.INT32), they will be rounded to match the FINN datatype.\n",
      "  \"FINN datatype.\".format(tensor, dtype)\n",
      "/workspace/finn-base/src/finn/util/basic.py:380: UserWarning: The values of tensor MultiThreshold_142_param0 can't be represented with the set FINN datatype (DataType.INT32), they will be rounded to match the FINN datatype.\n",
      "  \"FINN datatype.\".format(tensor, dtype)\n",
      "/workspace/finn-base/src/finn/util/basic.py:380: UserWarning: The values of tensor Ahx4If can't be represented with the set FINN datatype (DataType.INT32), they will be rounded to match the FINN datatype.\n",
      "  \"FINN datatype.\".format(tensor, dtype)\n",
      "/workspace/finn-base/src/finn/util/basic.py:380: UserWarning: The values of tensor MultiThreshold_156_param0 can't be represented with the set FINN datatype (DataType.INT32), they will be rounded to match the FINN datatype.\n",
      "  \"FINN datatype.\".format(tensor, dtype)\n",
      "/workspace/finn-base/src/finn/util/basic.py:380: UserWarning: The values of tensor MultiThreshold_148_param0 can't be represented with the set FINN datatype (DataType.INT32), they will be rounded to match the FINN datatype.\n",
      "  \"FINN datatype.\".format(tensor, dtype)\n",
      "/workspace/finn-base/src/finn/util/basic.py:380: UserWarning: The values of tensor MultiThreshold_150_param0 can't be represented with the set FINN datatype (DataType.INT32), they will be rounded to match the FINN datatype.\n",
      "  \"FINN datatype.\".format(tensor, dtype)\n",
      "/workspace/finn-base/src/finn/util/basic.py:380: UserWarning: The values of tensor MultiThreshold_152_param0 can't be represented with the set FINN datatype (DataType.INT32), they will be rounded to match the FINN datatype.\n",
      "  \"FINN datatype.\".format(tensor, dtype)\n",
      "/workspace/finn-base/src/finn/util/basic.py:380: UserWarning: The values of tensor MultiThreshold_154_param0 can't be represented with the set FINN datatype (DataType.INT32), they will be rounded to match the FINN datatype.\n",
      "  \"FINN datatype.\".format(tensor, dtype)\n",
      "/workspace/finn-base/src/finn/util/basic.py:380: UserWarning: The values of tensor sq6dBr can't be represented with the set FINN datatype (DataType.INT32), they will be rounded to match the FINN datatype.\n",
      "  \"FINN datatype.\".format(tensor, dtype)\n",
      "/workspace/finn-base/src/finn/util/basic.py:380: UserWarning: The values of tensor MultiThreshold_168_param0 can't be represented with the set FINN datatype (DataType.INT32), they will be rounded to match the FINN datatype.\n",
      "  \"FINN datatype.\".format(tensor, dtype)\n",
      "/workspace/finn-base/src/finn/util/basic.py:380: UserWarning: The values of tensor MultiThreshold_160_param0 can't be represented with the set FINN datatype (DataType.INT32), they will be rounded to match the FINN datatype.\n",
      "  \"FINN datatype.\".format(tensor, dtype)\n",
      "/workspace/finn-base/src/finn/util/basic.py:380: UserWarning: The values of tensor MultiThreshold_162_param0 can't be represented with the set FINN datatype (DataType.INT32), they will be rounded to match the FINN datatype.\n",
      "  \"FINN datatype.\".format(tensor, dtype)\n",
      "/workspace/finn-base/src/finn/util/basic.py:380: UserWarning: The values of tensor MultiThreshold_164_param0 can't be represented with the set FINN datatype (DataType.INT32), they will be rounded to match the FINN datatype.\n",
      "  \"FINN datatype.\".format(tensor, dtype)\n",
      "/workspace/finn-base/src/finn/util/basic.py:380: UserWarning: The values of tensor MultiThreshold_166_param0 can't be represented with the set FINN datatype (DataType.INT32), they will be rounded to match the FINN datatype.\n",
      "  \"FINN datatype.\".format(tensor, dtype)\n",
      "/workspace/finn-base/src/finn/util/basic.py:380: UserWarning: The values of tensor cKAAr7 can't be represented with the set FINN datatype (DataType.INT32), they will be rounded to match the FINN datatype.\n",
      "  \"FINN datatype.\".format(tensor, dtype)\n",
      "/workspace/finn-base/src/finn/util/basic.py:380: UserWarning: The values of tensor MultiThreshold_180_param0 can't be represented with the set FINN datatype (DataType.INT32), they will be rounded to match the FINN datatype.\n",
      "  \"FINN datatype.\".format(tensor, dtype)\n",
      "/workspace/finn-base/src/finn/util/basic.py:380: UserWarning: The values of tensor MultiThreshold_172_param0 can't be represented with the set FINN datatype (DataType.INT32), they will be rounded to match the FINN datatype.\n",
      "  \"FINN datatype.\".format(tensor, dtype)\n",
      "/workspace/finn-base/src/finn/util/basic.py:380: UserWarning: The values of tensor MultiThreshold_174_param0 can't be represented with the set FINN datatype (DataType.INT32), they will be rounded to match the FINN datatype.\n",
      "  \"FINN datatype.\".format(tensor, dtype)\n",
      "/workspace/finn-base/src/finn/util/basic.py:380: UserWarning: The values of tensor MultiThreshold_176_param0 can't be represented with the set FINN datatype (DataType.INT32), they will be rounded to match the FINN datatype.\n",
      "  \"FINN datatype.\".format(tensor, dtype)\n",
      "/workspace/finn-base/src/finn/util/basic.py:380: UserWarning: The values of tensor MultiThreshold_178_param0 can't be represented with the set FINN datatype (DataType.INT32), they will be rounded to match the FINN datatype.\n",
      "  \"FINN datatype.\".format(tensor, dtype)\n",
      "/workspace/finn-base/src/finn/util/basic.py:380: UserWarning: The values of tensor xgXXEt can't be represented with the set FINN datatype (DataType.INT32), they will be rounded to match the FINN datatype.\n",
      "  \"FINN datatype.\".format(tensor, dtype)\n",
      "/workspace/finn-base/src/finn/util/basic.py:380: UserWarning: The values of tensor MultiThreshold_183_param0 can't be represented with the set FINN datatype (DataType.INT32), they will be rounded to match the FINN datatype.\n",
      "  \"FINN datatype.\".format(tensor, dtype)\n"
     ]
    },
    {
     "name": "stdout",
     "output_type": "stream",
     "text": [
      "Elapsed time: 698.7329327710031\n"
     ]
    }
   ],
   "source": [
    "import time\n",
    "t1 = time.perf_counter()\n",
    "\n",
    "################################################################################################\n",
    "####\n",
    "#### MODEL 2\n",
    "####\n",
    "#model_2 = ModelWrapper(\"/tmp/quartznet_streamlined.onnx\") #CORRECT\n",
    "model_2 = ModelWrapper(\"/tmp/quartznet_streamlined_partitioned.onnx\") #CORRECT\n",
    "#model_2 = ModelWrapper(\"/tmp/quartznet_streamlined_lowered.onnx\") #CORRECT\n",
    "#model_2 = ModelWrapper(\"/tmp/quartznet_temp_test.onnx\") #CORRECT?\n",
    "\n",
    "#### MODEL 2\n",
    "m1_input_val = input_val\n",
    "\n",
    "input0_tensor_name = model_2.graph.input[0].name\n",
    "#input_shape = model_2.get_tensor_shape(input0_tensor_name)\n",
    "#input_dtype = model_2.get_tensor_datatype(input0_tensor_name)\n",
    "input_dict = {}\n",
    "m2_input_val = np.reshape(m1_input_val, np.shape(m1_input_val)+(1,))\n",
    "input_dict[input0_tensor_name] = m2_input_val\n",
    "output0_tensor_name = model_2.graph.output[0].name\n",
    "\n",
    "expected_m2_dict = oxe.execute_onnx(model_2, input_dict, return_full_exec_context = False)\n",
    "expected_m2 = expected_m2_dict[output0_tensor_name]\n",
    "\n",
    "expected_m2 = np.reshape(expected_m2, np.shape(expected_m1))\n",
    "m2_input_val = np.reshape(m2_input_val, np.shape(m1_input_val))\n",
    "\n",
    "\n",
    "assert(m1_input_val==m2_input_val).all()\n",
    "assert(expected_m1==expected_m2).all()\n",
    "################################################################################################\n",
    "\n",
    "\n",
    "t2 = time.perf_counter() - t1\n",
    "print(\"Elapsed time: {}\".format(t2))"
   ]
  },
  {
   "cell_type": "code",
   "execution_count": null,
   "id": "israeli-vessel",
   "metadata": {},
   "outputs": [],
   "source": [
    "start: 16:34"
   ]
  }
 ],
 "metadata": {
  "kernelspec": {
   "display_name": "Python 3",
   "language": "python",
   "name": "python3"
  },
  "language_info": {
   "codemirror_mode": {
    "name": "ipython",
    "version": 3
   },
   "file_extension": ".py",
   "mimetype": "text/x-python",
   "name": "python",
   "nbconvert_exporter": "python",
   "pygments_lexer": "ipython3",
   "version": "3.6.8"
  }
 },
 "nbformat": 4,
 "nbformat_minor": 5
}
