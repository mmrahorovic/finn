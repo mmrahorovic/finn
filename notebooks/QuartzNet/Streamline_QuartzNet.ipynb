{
 "cells": [
  {
   "cell_type": "markdown",
   "id": "floral-courtesy",
   "metadata": {},
   "source": [
    "To get the ONNX file, run: 'python setup.py test --addopts \"-k test_brevitas_quartznet\"'"
   ]
  },
  {
   "cell_type": "code",
   "execution_count": 3,
   "id": "secret-labor",
   "metadata": {},
   "outputs": [
    {
     "name": "stdout",
     "output_type": "stream",
     "text": [
      "Serving '/tmp/quartznet.onnx' at http://0.0.0.0:8081\n"
     ]
    },
    {
     "data": {
      "text/html": [
       "\n",
       "        <iframe\n",
       "            width=\"100%\"\n",
       "            height=\"400\"\n",
       "            src=\"http://0.0.0.0:8081/\"\n",
       "            frameborder=\"0\"\n",
       "            allowfullscreen\n",
       "        ></iframe>\n",
       "        "
      ],
      "text/plain": [
       "<IPython.lib.display.IFrame at 0x7f29503d63c8>"
      ]
     },
     "execution_count": 3,
     "metadata": {},
     "output_type": "execute_result"
    }
   ],
   "source": [
    "import numpy as np\n",
    "from finn.util.visualization import showInNetron\n",
    "from finn.core.modelwrapper import ModelWrapper\n",
    "\n",
    "file_name = '/tmp/quartznet.onnx'\n",
    "showInNetron(file_name)"
   ]
  },
  {
   "cell_type": "markdown",
   "id": "developed-bench",
   "metadata": {},
   "source": [
    "# Tidy-up & change 3D to 4D"
   ]
  },
  {
   "cell_type": "code",
   "execution_count": 4,
   "id": "legislative-turtle",
   "metadata": {},
   "outputs": [],
   "source": [
    "from finn.transformation.change_3d_tensors_to_4d import Change3DTo4DTensors\n",
    "from finn.transformation.general import GiveUniqueNodeNames, GiveRandomTensorNames, GiveReadableTensorNames, GiveUniqueParameterTensors\n",
    "\n",
    "model = ModelWrapper(\"/tmp/quartznet.onnx\")\n",
    "model = model.transform(GiveUniqueNodeNames())\n",
    "model = model.transform(GiveRandomTensorNames())\n",
    "model = model.transform(GiveReadableTensorNames())\n",
    "model = model.transform(GiveUniqueParameterTensors())\n",
    "\n",
    "# Convert to supported format\n",
    "model = model.transform(Change3DTo4DTensors())\n",
    "\n",
    "model.save(\"/tmp/quartznet_4d.onnx\")"
   ]
  },
  {
   "cell_type": "code",
   "execution_count": 142,
   "id": "armed-cattle",
   "metadata": {},
   "outputs": [
    {
     "name": "stdout",
     "output_type": "stream",
     "text": [
      "Stopping http://0.0.0.0:8081\n",
      "Serving '/tmp/quartznet_4d.onnx' at http://0.0.0.0:8081\n"
     ]
    },
    {
     "data": {
      "text/html": [
       "\n",
       "        <iframe\n",
       "            width=\"100%\"\n",
       "            height=\"400\"\n",
       "            src=\"http://0.0.0.0:8081/\"\n",
       "            frameborder=\"0\"\n",
       "            allowfullscreen\n",
       "        ></iframe>\n",
       "        "
      ],
      "text/plain": [
       "<IPython.lib.display.IFrame at 0x7efee1d94860>"
      ]
     },
     "execution_count": 142,
     "metadata": {},
     "output_type": "execute_result"
    }
   ],
   "source": [
    "from finn.util.visualization import showInNetron\n",
    "\n",
    "showInNetron(\"/tmp/quartznet_4d.onnx\")"
   ]
  },
  {
   "cell_type": "markdown",
   "id": "simplified-postcard",
   "metadata": {},
   "source": [
    "# Remove LogSoftmax -> ArgMax and insert TopK"
   ]
  },
  {
   "cell_type": "code",
   "execution_count": 5,
   "id": "natural-surgery",
   "metadata": {},
   "outputs": [],
   "source": [
    "### Replace (LogSoftMax)->ArgMax by TopK\n",
    "from finn.util.basic import get_by_name\n",
    "from finn.transformation.insert_topk import InsertTopK\n",
    "\n",
    "model = ModelWrapper(\"/tmp/quartznet_4d.onnx\")\n",
    "\n",
    "graph_out = model.graph.output[0]\n",
    "graph_out_name = graph_out.name\n",
    "orig_onnx_dtype = graph_out.type.tensor_type.elem_type\n",
    "\n",
    "last_node = model.find_producer(graph_out_name)\n",
    "# Remove Argmax and LogSoftmax\n",
    "if last_node.op_type==\"ArgMax\":\n",
    "    argmax_in = last_node.input[0]\n",
    "    axis = get_by_name(last_node.attribute, \"axis\", \"name\").i\n",
    "    keepdims = get_by_name(last_node.attribute, \"keepdims\", \"name\").i\n",
    "    second_to_last_node = model.find_producer(argmax_in)\n",
    "    if second_to_last_node.op_type==\"LogSoftmax\":\n",
    "        logsoftmax_in = second_to_last_node.input[0]\n",
    "        model.graph.node.remove(second_to_last_node)\n",
    "    model.graph.node.remove(last_node)\n",
    "    \n",
    "# Change output node\n",
    "logsoftmax_in_vi = model.get_tensor_valueinfo(logsoftmax_in)\n",
    "model.graph.output.insert(0, logsoftmax_in_vi)\n",
    "model.graph.output.pop(1)\n",
    "model.graph.value_info.remove(logsoftmax_in_vi)\n",
    "   \n",
    "model = model.transform(InsertTopK(k=1, axis=axis))\n",
    "  \n",
    "## Set output (ONNX) dtype to original output dtype\n",
    "model.graph.output[0].type.tensor_type.elem_type = orig_onnx_dtype\n",
    "\n",
    "## Rename output tensor to original output tensor name\n",
    "model.rename_tensor(model.graph.output[0].name, graph_out_name)\n",
    "    \n",
    "model.save(\"/tmp/quartznet_4d_topk.onnx\")"
   ]
  },
  {
   "cell_type": "code",
   "execution_count": 4,
   "id": "attended-naples",
   "metadata": {},
   "outputs": [
    {
     "name": "stdout",
     "output_type": "stream",
     "text": [
      "Stopping http://0.0.0.0:8081\n",
      "Serving '/tmp/quartznet_4d_topk.onnx' at http://0.0.0.0:8081\n"
     ]
    },
    {
     "data": {
      "text/html": [
       "\n",
       "        <iframe\n",
       "            width=\"100%\"\n",
       "            height=\"400\"\n",
       "            src=\"http://0.0.0.0:8081/\"\n",
       "            frameborder=\"0\"\n",
       "            allowfullscreen\n",
       "        ></iframe>\n",
       "        "
      ],
      "text/plain": [
       "<IPython.lib.display.IFrame at 0x7ff6c8a55828>"
      ]
     },
     "execution_count": 4,
     "metadata": {},
     "output_type": "execute_result"
    }
   ],
   "source": [
    "from finn.util.visualization import showInNetron\n",
    "\n",
    "showInNetron(\"/tmp/quartznet_4d_topk.onnx\")"
   ]
  },
  {
   "cell_type": "markdown",
   "id": "connected-clone",
   "metadata": {},
   "source": [
    "# Streamline"
   ]
  },
  {
   "cell_type": "code",
   "execution_count": null,
   "id": "painted-orlando",
   "metadata": {},
   "outputs": [],
   "source": [
    "### STREAMLINING\n",
    "from finn.util.visualization import showInNetron\n",
    "from finn.core.modelwrapper import ModelWrapper\n",
    "\n",
    "from finn.transformation.streamline import *\n",
    "from finn.transformation.streamline.reorder import MoveMulPastDWConv, MoveLinearPastEltwiseAdd, MoveMulPastFork\n",
    "from finn.transformation.streamline.absorb import AbsorbConsecutiveTransposes # No effect (only on consecutive transpose nodes)\n",
    "from finn.transformation.streamline.absorb import AbsorbTransposeIntoMultiThreshold\n",
    "from finn.transformation.streamline.round_thresholds import RoundAndClipThresholds\n",
    "from finn.util.basic import get_by_name\n",
    "from finn.core.datatype import DataType\n",
    "from finn.core.modelwrapper import ModelWrapper\n",
    "from finn.util.visualization import showInNetron\n",
    "\n",
    "model = ModelWrapper(\"/tmp/quartznet_4d_topk.onnx\")\n",
    "\n",
    "# Collapse BatchNorm to Add and Mul\n",
    "model = model.transform(BatchNormToAffine())\n",
    "\n",
    "# Group additions\n",
    "model = model.transform(MoveAddPastMul())\n",
    "model = model.transform(MoveAddPastConv())\n",
    "model = model.transform(MoveAddPastMul())\n",
    "\n",
    "# Group multiplications\n",
    "#### Move mul past fork\n",
    "model = model.transform(MoveMulPastFork())\n",
    "model = model.transform(MoveScalarMulPastConv())\n",
    "model = model.transform(MoveMulPastDWConv())\n",
    "\n",
    "# Move Mul/Add past join node\n",
    "model = model.transform(MoveLinearPastEltwiseAdd())\n",
    "\n",
    "# Collapes additions & multiplications\n",
    "model = model.transform(CollapseRepeatedAdd())\n",
    "model = model.transform(CollapseRepeatedMul())\n",
    "\n",
    "# Absorb Add/Mul into multithreshold\n",
    "model = model.transform(AbsorbAddIntoMultiThreshold())\n",
    "model = model.transform(FactorOutMulSignMagnitude())\n",
    "model = model.transform(Absorb1BitMulIntoConv())\n",
    "model = model.transform(AbsorbMulIntoMultiThreshold())\n",
    "\n",
    "## Ensure thresholds are integers\n",
    "### Add quantization annotation to ensure RoundAndClipThresholds works\n",
    "#for n in model.graph.node:\n",
    "#    if n.op_type==\"MultiThreshold\":\n",
    "#        odtype = get_by_name(n.attribute, \"out_dtype\", name_field=\"name\").s.decode(\"utf-8\")\n",
    "#        dtype = getattr(DataType, odtype) \n",
    "#        #model.set_tensor_datatype(n.input[0], dtype)\n",
    "#        model.set_tensor_datatype(n.input[0], DataType.INT32)\n",
    "##from finn.transformation.infer_datatypes import InferDataTypes\n",
    "##model = model.transform(InferDataTypes())\n",
    "#model = model.transform(RoundAndClipThresholds())\n",
    "\n",
    "# Ensure thresholds are integers\n",
    "## Add quantization annotation to ensure RoundAndClipThresholds works\n",
    "global_input_name = model.graph.input[0].name\n",
    "model.set_tensor_datatype(global_input_name, DataType.INT8)\n",
    "\n",
    "#from finn.transformation.infer_datatypes import InferDataTypes\n",
    "model = model.transform(InferDataTypes())\n",
    "        \n",
    "model = model.transform(RoundAndClipThresholds())\n",
    "\n",
    "model.save(\"/tmp/quartznet_streamlined.onnx\")\n"
   ]
  },
  {
   "cell_type": "code",
   "execution_count": 2,
   "id": "built-match",
   "metadata": {},
   "outputs": [
    {
     "ename": "FileNotFoundError",
     "evalue": "[Errno 2] No such file or directory: '/tmp/quartznet_streamlined.onnx'",
     "output_type": "error",
     "traceback": [
      "\u001b[0;31m---------------------------------------------------------------------------\u001b[0m",
      "\u001b[0;31mFileNotFoundError\u001b[0m                         Traceback (most recent call last)",
      "\u001b[0;32m<ipython-input-2-58fd88b551de>\u001b[0m in \u001b[0;36m<module>\u001b[0;34m\u001b[0m\n\u001b[1;32m      1\u001b[0m \u001b[0;32mfrom\u001b[0m \u001b[0mfinn\u001b[0m\u001b[0;34m.\u001b[0m\u001b[0mutil\u001b[0m\u001b[0;34m.\u001b[0m\u001b[0mvisualization\u001b[0m \u001b[0;32mimport\u001b[0m \u001b[0mshowInNetron\u001b[0m\u001b[0;34m\u001b[0m\u001b[0;34m\u001b[0m\u001b[0m\n\u001b[0;32m----> 2\u001b[0;31m \u001b[0mshowInNetron\u001b[0m\u001b[0;34m(\u001b[0m\u001b[0;34m\"/tmp/quartznet_streamlined.onnx\"\u001b[0m\u001b[0;34m)\u001b[0m\u001b[0;34m\u001b[0m\u001b[0;34m\u001b[0m\u001b[0m\n\u001b[0m",
      "\u001b[0;32m/workspace/finn/src/finn/util/visualization.py\u001b[0m in \u001b[0;36mshowInNetron\u001b[0;34m(model_filename)\u001b[0m\n\u001b[1;32m     37\u001b[0m \u001b[0;34m\u001b[0m\u001b[0m\n\u001b[1;32m     38\u001b[0m \u001b[0;32mdef\u001b[0m \u001b[0mshowInNetron\u001b[0m\u001b[0;34m(\u001b[0m\u001b[0mmodel_filename\u001b[0m\u001b[0;34m)\u001b[0m\u001b[0;34m:\u001b[0m\u001b[0;34m\u001b[0m\u001b[0;34m\u001b[0m\u001b[0m\n\u001b[0;32m---> 39\u001b[0;31m     \u001b[0mnetron\u001b[0m\u001b[0;34m.\u001b[0m\u001b[0mstart\u001b[0m\u001b[0;34m(\u001b[0m\u001b[0mmodel_filename\u001b[0m\u001b[0;34m,\u001b[0m \u001b[0maddress\u001b[0m\u001b[0;34m=\u001b[0m\u001b[0;34m(\u001b[0m\u001b[0;34m\"0.0.0.0\"\u001b[0m\u001b[0;34m,\u001b[0m \u001b[0;36m8081\u001b[0m\u001b[0;34m)\u001b[0m\u001b[0;34m)\u001b[0m\u001b[0;34m\u001b[0m\u001b[0;34m\u001b[0m\u001b[0m\n\u001b[0m\u001b[1;32m     40\u001b[0m     \u001b[0;32mreturn\u001b[0m \u001b[0mIFrame\u001b[0m\u001b[0;34m(\u001b[0m\u001b[0msrc\u001b[0m\u001b[0;34m=\u001b[0m\u001b[0;34m\"http://0.0.0.0:8081/\"\u001b[0m\u001b[0;34m,\u001b[0m \u001b[0mwidth\u001b[0m\u001b[0;34m=\u001b[0m\u001b[0;34m\"100%\"\u001b[0m\u001b[0;34m,\u001b[0m \u001b[0mheight\u001b[0m\u001b[0;34m=\u001b[0m\u001b[0;36m400\u001b[0m\u001b[0;34m)\u001b[0m\u001b[0;34m\u001b[0m\u001b[0;34m\u001b[0m\u001b[0m\n",
      "\u001b[0;32m/opt/conda/lib/python3.6/site-packages/netron/server.py\u001b[0m in \u001b[0;36mstart\u001b[0;34m(file, address, browse, log)\u001b[0m\n\u001b[1;32m    286\u001b[0m         \u001b[0mA\u001b[0m \u001b[0;34m(\u001b[0m\u001b[0mhost\u001b[0m\u001b[0;34m,\u001b[0m \u001b[0mport\u001b[0m\u001b[0;34m)\u001b[0m \u001b[0maddress\u001b[0m \u001b[0mtuple\u001b[0m\u001b[0;34m.\u001b[0m\u001b[0;34m\u001b[0m\u001b[0;34m\u001b[0m\u001b[0m\n\u001b[1;32m    287\u001b[0m     '''\n\u001b[0;32m--> 288\u001b[0;31m     \u001b[0;32mreturn\u001b[0m \u001b[0mserve\u001b[0m\u001b[0;34m(\u001b[0m\u001b[0mfile\u001b[0m\u001b[0;34m,\u001b[0m \u001b[0;32mNone\u001b[0m\u001b[0;34m,\u001b[0m \u001b[0mbrowse\u001b[0m\u001b[0;34m=\u001b[0m\u001b[0mbrowse\u001b[0m\u001b[0;34m,\u001b[0m \u001b[0maddress\u001b[0m\u001b[0;34m=\u001b[0m\u001b[0maddress\u001b[0m\u001b[0;34m,\u001b[0m \u001b[0mlog\u001b[0m\u001b[0;34m=\u001b[0m\u001b[0mlog\u001b[0m\u001b[0;34m)\u001b[0m\u001b[0;34m\u001b[0m\u001b[0;34m\u001b[0m\u001b[0m\n\u001b[0m",
      "\u001b[0;32m/opt/conda/lib/python3.6/site-packages/netron/server.py\u001b[0m in \u001b[0;36mserve\u001b[0;34m(file, data, address, browse, log)\u001b[0m\n\u001b[1;32m    248\u001b[0m     '''\n\u001b[1;32m    249\u001b[0m     \u001b[0;32mif\u001b[0m \u001b[0;32mnot\u001b[0m \u001b[0mdata\u001b[0m \u001b[0;32mand\u001b[0m \u001b[0mfile\u001b[0m \u001b[0;32mand\u001b[0m \u001b[0;32mnot\u001b[0m \u001b[0mos\u001b[0m\u001b[0;34m.\u001b[0m\u001b[0mpath\u001b[0m\u001b[0;34m.\u001b[0m\u001b[0mexists\u001b[0m\u001b[0;34m(\u001b[0m\u001b[0mfile\u001b[0m\u001b[0;34m)\u001b[0m\u001b[0;34m:\u001b[0m\u001b[0;34m\u001b[0m\u001b[0;34m\u001b[0m\u001b[0m\n\u001b[0;32m--> 250\u001b[0;31m         \u001b[0;32mraise\u001b[0m \u001b[0mFileNotFoundError\u001b[0m\u001b[0;34m(\u001b[0m\u001b[0merrno\u001b[0m\u001b[0;34m.\u001b[0m\u001b[0mENOENT\u001b[0m\u001b[0;34m,\u001b[0m \u001b[0mos\u001b[0m\u001b[0;34m.\u001b[0m\u001b[0mstrerror\u001b[0m\u001b[0;34m(\u001b[0m\u001b[0merrno\u001b[0m\u001b[0;34m.\u001b[0m\u001b[0mENOENT\u001b[0m\u001b[0;34m)\u001b[0m\u001b[0;34m,\u001b[0m \u001b[0mfile\u001b[0m\u001b[0;34m)\u001b[0m\u001b[0;34m\u001b[0m\u001b[0;34m\u001b[0m\u001b[0m\n\u001b[0m\u001b[1;32m    251\u001b[0m \u001b[0;34m\u001b[0m\u001b[0m\n\u001b[1;32m    252\u001b[0m     \u001b[0m_update_thread_list\u001b[0m\u001b[0;34m(\u001b[0m\u001b[0;34m)\u001b[0m\u001b[0;34m\u001b[0m\u001b[0;34m\u001b[0m\u001b[0m\n",
      "\u001b[0;31mFileNotFoundError\u001b[0m: [Errno 2] No such file or directory: '/tmp/quartznet_streamlined.onnx'"
     ]
    }
   ],
   "source": [
    "from finn.util.visualization import showInNetron\n",
    "showInNetron(\"/tmp/quartznet_streamlined.onnx\")"
   ]
  },
  {
   "cell_type": "code",
   "execution_count": 6,
   "id": "legislative-white",
   "metadata": {},
   "outputs": [],
   "source": [
    "#### Some thresholds still have floating point quantization. Modify InferDatatypes transform...\n",
    "\n",
    "model = ModelWrapper(\"/tmp/quartznet_streamlined.onnx\")\n",
    "\n",
    "for n in model.graph.node:\n",
    "    if n.op_type==\"MultiThreshold\":\n",
    "        thresholds = n.input[1]\n",
    "        qa = model.get_tensor_datatype(thresholds)\n",
    "        if qa==DataType.FLOAT32:\n",
    "            print(n.name)"
   ]
  },
  {
   "cell_type": "markdown",
   "id": "inappropriate-norwegian",
   "metadata": {},
   "source": [
    "# Remove floating point scalar multiplication at output\n"
   ]
  },
  {
   "cell_type": "code",
   "execution_count": 3,
   "id": "martial-shuttle",
   "metadata": {},
   "outputs": [],
   "source": [
    "from finn.core.modelwrapper import ModelWrapper\n",
    "model = ModelWrapper(\"/tmp/quartznet_streamlined.onnx\")\n",
    "\n",
    "mul_nodes = [x for x in model.graph.node if (x.op_type==\"Mul\")]\n",
    "\n",
    "final_mul_node = mul_nodes[-1]\n",
    "\n",
    "input_mul = final_mul_node.input[0]\n",
    "node_after_mul = model.find_consumer(final_mul_node.output[0])\n",
    "node_after_mul.input[0] = input_mul\n",
    "model.graph.node.remove(final_mul_node)\n",
    "\n",
    "model.save(\"/tmp/test_quartznet_4d_mulremoved.onnx\")\n",
    "    "
   ]
  },
  {
   "cell_type": "code",
   "execution_count": 1,
   "id": "seasonal-doctor",
   "metadata": {},
   "outputs": [
    {
     "name": "stdout",
     "output_type": "stream",
     "text": [
      "Serving '/tmp/test_quartznet_4d_mulremoved.onnx' at http://0.0.0.0:8081\n"
     ]
    },
    {
     "data": {
      "text/html": [
       "\n",
       "        <iframe\n",
       "            width=\"100%\"\n",
       "            height=\"400\"\n",
       "            src=\"http://0.0.0.0:8081/\"\n",
       "            frameborder=\"0\"\n",
       "            allowfullscreen\n",
       "        ></iframe>\n",
       "        "
      ],
      "text/plain": [
       "<IPython.lib.display.IFrame at 0x7f3a1c3a07f0>"
      ]
     },
     "execution_count": 1,
     "metadata": {},
     "output_type": "execute_result"
    }
   ],
   "source": [
    "from finn.util.visualization import showInNetron\n",
    "showInNetron(\"/tmp/test_quartznet_4d_mulremoved.onnx\")"
   ]
  },
  {
   "cell_type": "markdown",
   "id": "missing-polyester",
   "metadata": {},
   "source": [
    "# Partitioning"
   ]
  },
  {
   "cell_type": "code",
   "execution_count": 9,
   "id": "together-acquisition",
   "metadata": {},
   "outputs": [
    {
     "name": "stdout",
     "output_type": "stream",
     "text": [
      "Stopping http://0.0.0.0:8081\n",
      "Serving '/tmp/quartznet_streamlined_partitioned.onnx' at http://0.0.0.0:8081\n"
     ]
    },
    {
     "data": {
      "text/html": [
       "\n",
       "        <iframe\n",
       "            width=\"100%\"\n",
       "            height=\"400\"\n",
       "            src=\"http://0.0.0.0:8081/\"\n",
       "            frameborder=\"0\"\n",
       "            allowfullscreen\n",
       "        ></iframe>\n",
       "        "
      ],
      "text/plain": [
       "<IPython.lib.display.IFrame at 0x7fc3a0840ba8>"
      ]
     },
     "execution_count": 9,
     "metadata": {},
     "output_type": "execute_result"
    }
   ],
   "source": [
    "## PARTITIONING\n",
    "from finn.util.visualization import showInNetron\n",
    "from finn.core.modelwrapper import ModelWrapper\n",
    "\n",
    "from finn.transformation.create_generic_partitions import PartitionFromDict\n",
    "\n",
    "model = ModelWrapper(\"/tmp/test_quartznet_4d_mulremoved.onnx\")\n",
    "\n",
    "#partitionings = {0: range(0, 3), \n",
    "#                1: range(3, 27),\n",
    "#                2: range(27, 51),\n",
    "#                3: range(51, 75),\n",
    "#                4: range(75, 99),\n",
    "#                5: range(99, 123),\n",
    "#                6: range(123, 147),\n",
    "#                7: range(147, 171),\n",
    "#                8: range(171, 195),\n",
    "#                9: range(195, 219),\n",
    "#                10: range(219, 243),\n",
    "#                11: range(243, 267),\n",
    "#                12: range(267, 291),\n",
    "#                13: range(291, 315),\n",
    "#                14: range(315, 339),\n",
    "#                15: range(339, 363),\n",
    "#                16: range(363, 376)}\n",
    "partitionings = {0: range(0, 3), \n",
    "                1: range(3, 75),\n",
    "                2: range(75, 147),\n",
    "                3: range(147, 219),\n",
    "                4: range(219, 291),\n",
    "                5: range(291, 363),\n",
    "                6: range(363, 374)}\n",
    "\n",
    "\n",
    "model = model.transform(PartitionFromDict(partitionings))\n",
    "\n",
    "model.save(\"/tmp/quartznet_streamlined_partitioned.onnx\")\n",
    "showInNetron(\"/tmp/quartznet_streamlined_partitioned.onnx\")"
   ]
  },
  {
   "cell_type": "markdown",
   "id": "bound-closure",
   "metadata": {},
   "source": [
    "# Lowering and absoring transpose into multithreshold"
   ]
  },
  {
   "cell_type": "code",
   "execution_count": 29,
   "id": "jewish-clear",
   "metadata": {},
   "outputs": [
    {
     "name": "stdout",
     "output_type": "stream",
     "text": [
      "/tmp/finn_dev_mirza/partitioning_e1w2zc4k/partition_0.onnx\n",
      "/tmp/finn_dev_mirza/partitioning_e1w2zc4k/partition_1.onnx\n",
      "/tmp/finn_dev_mirza/partitioning_e1w2zc4k/partition_2.onnx\n",
      "/tmp/finn_dev_mirza/partitioning_e1w2zc4k/partition_3.onnx\n",
      "/tmp/finn_dev_mirza/partitioning_e1w2zc4k/partition_4.onnx\n",
      "/tmp/finn_dev_mirza/partitioning_e1w2zc4k/partition_5.onnx\n",
      "/tmp/finn_dev_mirza/partitioning_e1w2zc4k/partition_6.onnx\n",
      "Stopping http://0.0.0.0:8081\n",
      "Serving '/tmp/quartznet_streamlined_lowered.onnx' at http://0.0.0.0:8081\n"
     ]
    },
    {
     "data": {
      "text/html": [
       "\n",
       "        <iframe\n",
       "            width=\"100%\"\n",
       "            height=\"400\"\n",
       "            src=\"http://0.0.0.0:8081/\"\n",
       "            frameborder=\"0\"\n",
       "            allowfullscreen\n",
       "        ></iframe>\n",
       "        "
      ],
      "text/plain": [
       "<IPython.lib.display.IFrame at 0x7fd88d6f1978>"
      ]
     },
     "execution_count": 29,
     "metadata": {},
     "output_type": "execute_result"
    }
   ],
   "source": [
    "## LOWERING and ABSORB_TRANSPOSE_INTO_MULTITHRESHOLD\n",
    "from finn.util.visualization import showInNetron\n",
    "from finn.core.modelwrapper import ModelWrapper\n",
    "from finn.transformation.lower_convs_to_matmul import LowerConvsToMatMul\n",
    "from finn.transformation.streamline.absorb import AbsorbTransposeIntoMultiThreshold\n",
    "from finn.transformation.streamline.reorder import MoveTransposePastMultiThreshold, MoveTransposePastJoinAdd, MoveTransposeBeforeFork\n",
    "from finn.util.basic import get_by_name\n",
    "\n",
    "\n",
    "model = ModelWrapper(\"/tmp/quartznet_streamlined_partitioned.onnx\")\n",
    "\n",
    "for n in model.graph.node:\n",
    "    path_to_partition = get_by_name(n.attribute, \"model\", \"name\").s.decode('utf-8')\n",
    "    print(path_to_partition)\n",
    "    model_partition = ModelWrapper(path_to_partition)\n",
    "    \n",
    "    # Lower\n",
    "    model_partition = model_partition.transform(LowerConvsToMatMul())\n",
    "    # Absorb transpose nodes\n",
    "    model_partition = model_partition.transform(AbsorbTransposeIntoMultiThreshold())\n",
    "    # Reorder remaining transpose nodes\n",
    "    model_partition = model_partition.transform(MoveTransposePastMultiThreshold())\n",
    "    model_partition = model_partition.transform(MoveTransposePastJoinAdd())\n",
    "    model_partition = model_partition.transform(MoveTransposeBeforeFork())\n",
    "    \n",
    "    model_partition.save(path_to_partition)\n",
    "    \n",
    "\n",
    "model.save(\"/tmp/quartznet_streamlined_lowered.onnx\")\n",
    "showInNetron(\"/tmp/quartznet_streamlined_lowered.onnx\")"
   ]
  },
  {
   "cell_type": "code",
   "execution_count": 11,
   "id": "adult-divide",
   "metadata": {},
   "outputs": [
    {
     "name": "stdout",
     "output_type": "stream",
     "text": [
      "Stopping http://0.0.0.0:8081\n",
      "Serving '/tmp/quartznet_streamlined_lowered.onnx' at http://0.0.0.0:8081\n",
      "Stopping http://0.0.0.0:8081\n",
      "Serving '/tmp/finn_dev_mirza/partitioning_e1w2zc4k/partition_0.onnx' at http://0.0.0.0:8081\n"
     ]
    },
    {
     "data": {
      "text/html": [
       "\n",
       "        <iframe\n",
       "            width=\"100%\"\n",
       "            height=\"400\"\n",
       "            src=\"http://0.0.0.0:8081/\"\n",
       "            frameborder=\"0\"\n",
       "            allowfullscreen\n",
       "        ></iframe>\n",
       "        "
      ],
      "text/plain": [
       "<IPython.lib.display.IFrame at 0x7fc38bff8c18>"
      ]
     },
     "execution_count": 11,
     "metadata": {},
     "output_type": "execute_result"
    }
   ],
   "source": [
    "model = ModelWrapper(\"/tmp/quartznet_streamlined_lowered.onnx\")\n",
    "showInNetron(\"/tmp/quartznet_streamlined_lowered.onnx\")\n",
    "\n",
    "p = model.graph.node[0]\n",
    "path = get_by_name(p.attribute, \"model\", \"name\").s.decode(\"utf-8\")\n",
    "\n",
    "showInNetron(path)\n"
   ]
  },
  {
   "cell_type": "code",
   "execution_count": 51,
   "id": "likely-minister",
   "metadata": {},
   "outputs": [
    {
     "name": "stdout",
     "output_type": "stream",
     "text": [
      "Stopping http://0.0.0.0:8081\n",
      "Serving '/tmp/quartznet_streamlined_lowered.onnx' at http://0.0.0.0:8081\n",
      "Stopping http://0.0.0.0:8081\n",
      "Serving '/tmp/finn_dev_mirza/partitioning_e1w2zc4k/partition_1.onnx' at http://0.0.0.0:8081\n"
     ]
    },
    {
     "data": {
      "text/html": [
       "\n",
       "        <iframe\n",
       "            width=\"100%\"\n",
       "            height=\"400\"\n",
       "            src=\"http://0.0.0.0:8081/\"\n",
       "            frameborder=\"0\"\n",
       "            allowfullscreen\n",
       "        ></iframe>\n",
       "        "
      ],
      "text/plain": [
       "<IPython.lib.display.IFrame at 0x7fa75c086710>"
      ]
     },
     "execution_count": 51,
     "metadata": {},
     "output_type": "execute_result"
    }
   ],
   "source": [
    "model = ModelWrapper(\"/tmp/quartznet_streamlined_lowered.onnx\")\n",
    "showInNetron(\"/tmp/quartznet_streamlined_lowered.onnx\")\n",
    "\n",
    "p = model.graph.node[1]\n",
    "path = get_by_name(p.attribute, \"model\", \"name\").s.decode(\"utf-8\")\n",
    "\n",
    "showInNetron(path)\n"
   ]
  },
  {
   "cell_type": "markdown",
   "id": "convertible-adams",
   "metadata": {},
   "source": [
    "# Unfolding and absorbing transpose into multithreshold (again)"
   ]
  },
  {
   "cell_type": "markdown",
   "id": "tested-avenue",
   "metadata": {},
   "source": [
    "## 1) Partition graph according to the 5 residual blocks"
   ]
  },
  {
   "cell_type": "code",
   "execution_count": 2,
   "id": "described-municipality",
   "metadata": {},
   "outputs": [],
   "source": [
    "## UNFOLD and ABSORB TRANSPOSE again\n",
    "from finn.util.visualization import showInNetron\n",
    "from finn.core.modelwrapper import ModelWrapper\n",
    "from finn.transformation.extend_partition import ExtendPartition\n",
    "from finn.transformation.streamline.absorb import AbsorbTransposeIntoMultiThreshold\n",
    "from finn.transformation.infer_datatypes import InferDataTypes\n",
    "from finn.transformation.create_generic_partitions import PartitionFromDict\n",
    "\n",
    "model = ModelWrapper(\"/tmp/quartznet_streamlined_lowered.onnx\")\n",
    "\n",
    "#new_partitionings = [{0: range(0, 5), 1: range(5, 92)},\n",
    "#                    {2: range(2, 89)},\n",
    "#                    {3: range(3, 90)},\n",
    "#                    {4: range(4, 91)},\n",
    "#                    {5: range(5, 92)},\n",
    "#                    {6: range(6, 21)} \n",
    "#                    ]\n",
    "\n",
    "new_partitionings = [{1: range(4, 92)},\n",
    "                    {2: range(5, 92)},\n",
    "                    {3: range(6, 93)},\n",
    "                    {4: range(7, 94)},\n",
    "                    {5: range(8, 95)}\n",
    "                    ]\n",
    "\n",
    "nodes = [n for n in model.graph.node]\n",
    "for ind, n in enumerate(nodes):\n",
    "    if ind == 0:\n",
    "        node_ind_to_unfold = [ind, ind+1] # unfold current and next node\n",
    "    else:\n",
    "        node_ind_to_unfold = [ind+5] # ind+1 is the Transpose node (+4 for initial nodes)\n",
    "    \n",
    "    model = model.transform(ExtendPartition(node_ind_to_unfold))\n",
    "    model = model.transform(AbsorbTransposeIntoMultiThreshold())\n",
    "    \n",
    "    if ind==0:\n",
    "        model = model.transform(PartitionFromDict(new_partitionings[0], \"/tmp/finn_dev_mirza/partitioning_final\"))\n",
    "    if ind==1:\n",
    "        model = model.transform(PartitionFromDict(new_partitionings[1], \"/tmp/finn_dev_mirza/partitioning_final\"))\n",
    "    if ind==2:\n",
    "        model = model.transform(PartitionFromDict(new_partitionings[2], \"/tmp/finn_dev_mirza/partitioning_final\"))\n",
    "    if ind==3:\n",
    "        model = model.transform(PartitionFromDict(new_partitionings[3], \"/tmp/finn_dev_mirza/partitioning_final\"))\n",
    "    if ind==4:\n",
    "        model = model.transform(PartitionFromDict(new_partitionings[4], \"/tmp/finn_dev_mirza/partitioning_final\"))\n",
    "    if ind==5:\n",
    "        break\n",
    "    #    model = model.transform(PartitionFromDict(new_partitionings[5]), \"/tmp/finn_dev_mirza/partitioning_35sdx5v_\")\n",
    "    \n",
    "model.save(\"/tmp/quartznet_absorbed_transpose.onnx\")\n"
   ]
  },
  {
   "cell_type": "markdown",
   "id": "flexible-alias",
   "metadata": {},
   "source": [
    "## 2) Partition graph according to 15 residual blocks"
   ]
  },
  {
   "cell_type": "code",
   "execution_count": 69,
   "id": "decreased-nothing",
   "metadata": {},
   "outputs": [],
   "source": [
    "## UNFOLD and ABSORB TRANSPOSE again\n",
    "from finn.util.visualization import showInNetron\n",
    "from finn.core.modelwrapper import ModelWrapper\n",
    "from finn.transformation.extend_partition import ExtendPartition\n",
    "from finn.transformation.streamline.absorb import AbsorbTransposeIntoMultiThreshold\n",
    "from finn.transformation.infer_datatypes import InferDataTypes\n",
    "from finn.transformation.create_generic_partitions import PartitionFromDict\n",
    "\n",
    "model = ModelWrapper(\"/tmp/quartznet_streamlined_lowered.onnx\")\n",
    "\n",
    "#new_partitionings = [{0: range(0, 5), 1: range(5, 92)},\n",
    "#                    {2: range(2, 89)},\n",
    "#                    {3: range(3, 90)},\n",
    "#                    {4: range(4, 91)},\n",
    "#                    {5: range(5, 92)},\n",
    "#                    {6: range(6, 21)} \n",
    "#                    ]\n",
    "\n",
    "new_partitionings = [{1: range(4, 34), 2: range(34, 63), 3: range(63, 92)},\n",
    "                     {4: range(7, 36), 5: range(36, 65), 6: range(65, 94)},\n",
    "                     {7: range(10, 39), 8: range(39, 68), 9: range(68, 97)},\n",
    "                     {10: range(13, 42), 11: range(42, 71), 12: range(71, 100)},\n",
    "                     {13: range(16, 45), 14: range(45, 74), 15: range(74, 103)}\n",
    "                    ]\n",
    "\n",
    "nodes = [n for n in model.graph.node]\n",
    "for ind, n in enumerate(nodes):\n",
    "    if ind == 0:\n",
    "        node_ind_to_unfold = [ind, ind+1] # unfold current and next node\n",
    "    else:\n",
    "        node_ind_to_unfold = [3*ind+1+4] # (+4 for initial nodes, +3 partitions, +1 for Transpose node)\n",
    "    \n",
    "    model = model.transform(ExtendPartition(node_ind_to_unfold))\n",
    "    model = model.transform(AbsorbTransposeIntoMultiThreshold())\n",
    "    \n",
    "    if ind==0:\n",
    "        model = model.transform(PartitionFromDict(new_partitionings[0], \"/tmp/finn_dev_mirza/partitioning_final\"))\n",
    "    if ind==1:\n",
    "        model = model.transform(PartitionFromDict(new_partitionings[1], \"/tmp/finn_dev_mirza/partitioning_final\"))\n",
    "    if ind==2:\n",
    "        model = model.transform(PartitionFromDict(new_partitionings[2], \"/tmp/finn_dev_mirza/partitioning_final\"))\n",
    "    if ind==3:\n",
    "        model = model.transform(PartitionFromDict(new_partitionings[3], \"/tmp/finn_dev_mirza/partitioning_final\"))\n",
    "    if ind==4:\n",
    "        model = model.transform(PartitionFromDict(new_partitionings[4], \"/tmp/finn_dev_mirza/partitioning_final\"))\n",
    "    if ind==5:\n",
    "        break\n",
    "    #    model = model.transform(PartitionFromDict(new_partitionings[5]), \"/tmp/finn_dev_mirza/partitioning_35sdx5v_\")\n",
    "    \n",
    "model.save(\"/tmp/quartznet_absorbed_transpose.onnx\")\n"
   ]
  },
  {
   "cell_type": "code",
   "execution_count": 68,
   "id": "verified-purple",
   "metadata": {},
   "outputs": [
    {
     "name": "stdout",
     "output_type": "stream",
     "text": [
      "Stopping http://0.0.0.0:8081\n",
      "Serving '/tmp/quartznet_absorbed_transpose.onnx' at http://0.0.0.0:8081\n"
     ]
    },
    {
     "data": {
      "text/html": [
       "\n",
       "        <iframe\n",
       "            width=\"100%\"\n",
       "            height=\"400\"\n",
       "            src=\"http://0.0.0.0:8081/\"\n",
       "            frameborder=\"0\"\n",
       "            allowfullscreen\n",
       "        ></iframe>\n",
       "        "
      ],
      "text/plain": [
       "<IPython.lib.display.IFrame at 0x7fd88d6c9048>"
      ]
     },
     "execution_count": 68,
     "metadata": {},
     "output_type": "execute_result"
    }
   ],
   "source": [
    "from finn.util.visualization import showInNetron\n",
    "showInNetron(\"/tmp/quartznet_absorbed_transpose.onnx\")"
   ]
  },
  {
   "cell_type": "markdown",
   "id": "regional-venice",
   "metadata": {},
   "source": [
    "# Convert to fpgadataflow nodes\n",
    "\n",
    "## LEFT HERE!\n",
    "### Access each partition, apply hls conversion transformations..."
   ]
  },
  {
   "cell_type": "code",
   "execution_count": 4,
   "id": "whole-imperial",
   "metadata": {},
   "outputs": [],
   "source": [
    "from finn.core.modelwrapper import ModelWrapper\n",
    "from finn.transformation.create_generic_partitions import PartitionFromDict\n",
    "\n",
    "model = ModelWrapper(\"/tmp/quartznet_absorbed_transpose.onnx\")\n",
    "\n",
    "partitionings = {0: range(0,4),\n",
    "                 6: range(9, 18)}\n",
    "\n",
    "model = model.transform(PartitionFromDict(partitionings, \"/tmp/finn_dev_mirza/partitioning_final\"))\n",
    "\n",
    "model.save(\"/tmp/quartznet_streamlined_partitioned_pre_hls.onnx\")"
   ]
  },
  {
   "cell_type": "code",
   "execution_count": 6,
   "id": "retired-distribution",
   "metadata": {},
   "outputs": [
    {
     "name": "stdout",
     "output_type": "stream",
     "text": [
      "Stopping http://0.0.0.0:8081\n",
      "Serving '/tmp/quartznet_streamlined_partitioned_pre_hls.onnx' at http://0.0.0.0:8081\n"
     ]
    },
    {
     "data": {
      "text/html": [
       "\n",
       "        <iframe\n",
       "            width=\"100%\"\n",
       "            height=\"400\"\n",
       "            src=\"http://0.0.0.0:8081/\"\n",
       "            frameborder=\"0\"\n",
       "            allowfullscreen\n",
       "        ></iframe>\n",
       "        "
      ],
      "text/plain": [
       "<IPython.lib.display.IFrame at 0x7f669417ce48>"
      ]
     },
     "execution_count": 6,
     "metadata": {},
     "output_type": "execute_result"
    }
   ],
   "source": [
    "from finn.util.visualization import showInNetron\n",
    "showInNetron(\"/tmp/quartznet_streamlined_partitioned_pre_hls.onnx\")"
   ]
  },
  {
   "cell_type": "code",
   "execution_count": null,
   "id": "attempted-honolulu",
   "metadata": {},
   "outputs": [
    {
     "name": "stdout",
     "output_type": "stream",
     "text": [
      "/tmp/finn_dev_mirza/partitioning_final/partition_0.onnx\n"
     ]
    },
    {
     "name": "stderr",
     "output_type": "stream",
     "text": [
      "/workspace/finn/src/finn/custom_op/fpgadataflow/vector_vector_activate_batch.py:286: UserWarning: Setting 0-valued first threshold to 1 to avoid vivado_hls bug\n",
      "  \"Setting 0-valued first threshold to 1 to avoid vivado_hls bug\"\n"
     ]
    },
    {
     "name": "stdout",
     "output_type": "stream",
     "text": [
      "/tmp/finn_dev_mirza/partitioning_final/partition_1.onnx\n"
     ]
    },
    {
     "name": "stderr",
     "output_type": "stream",
     "text": [
      "/workspace/finn/src/finn/custom_op/fpgadataflow/streamingfclayer_batch.py:577: UserWarning: Clipping some thresholds in \n",
      "  warnings.warn(\"Clipping some thresholds in %s\" % self.onnx_node.name)\n",
      "/workspace/finn/src/finn/custom_op/fpgadataflow/thresholding_batch.py:137: UserWarning: inputDataType changing for : DataType.UINT32 -> DataType.UINT5 \n",
      "  warnings.warn(warn_str)\n"
     ]
    },
    {
     "name": "stdout",
     "output_type": "stream",
     "text": [
      "/tmp/finn_dev_mirza/partitioning_final/partition_2.onnx\n",
      "/tmp/finn_dev_mirza/partitioning_final/partition_3.onnx\n"
     ]
    }
   ],
   "source": [
    "from finn.util.basic import get_by_name\n",
    "from finn.core.modelwrapper import ModelWrapper\n",
    "import finn.transformation.fpgadataflow.convert_to_hls_layers as to_hls\n",
    "\n",
    "model = ModelWrapper(\"/tmp/quartznet_streamlined_partitioned_pre_hls.onnx\")\n",
    "\n",
    "model = model.transform(to_hls.InferConvInpGen(), make_deepcopy=False)\n",
    "model = model.transform(to_hls.InferVVAU(), make_deepcopy=False)\n",
    "model = model.transform(to_hls.InferQuantizedStreamingFCLayer(), make_deepcopy=False)\n",
    "\n",
    "for n in model.graph.node:\n",
    "    if n.op_type==\"GenericPartition\":\n",
    "        path_to_partition = get_by_name(n.attribute, \"model\", \"name\").s.decode('utf-8')\n",
    "        print(path_to_partition)\n",
    "        model_partition = ModelWrapper(path_to_partition)\n",
    "\n",
    "        model_partition = model_partition.transform(to_hls.InferConvInpGen(), make_deepcopy=False)\n",
    "        model_partition = model_partition.transform(to_hls.InferVVAU(), make_deepcopy=False)\n",
    "        model_partition = model_partition.transform(to_hls.InferQuantizedStreamingFCLayer(), make_deepcopy=False)\n",
    "\n",
    "        model_partition = model_partition.transform(to_hls.InferThresholdingLayer(), make_deepcopy=False)\n",
    "\n",
    "        model_partition = model_partition.transform(to_hls.InferAddStreamsLayer(), make_deepcopy=False)\n",
    "        \n",
    "        model_partition = model_partition.transform(to_hls.InferDuplicateStreamsLayer(), make_deepcopy=False)\n",
    "\n",
    "        model_partition.save(path_to_partition)\n",
    "    \n",
    "\n",
    "model.save(\"/tmp/quartznet_hls_converted.onnx\")\n"
   ]
  },
  {
   "cell_type": "code",
   "execution_count": null,
   "id": "pacific-algeria",
   "metadata": {},
   "outputs": [],
   "source": [
    "model = ModelWrapper(\"/tmp/finn_dev_mirza/partitioning_final/partition_3.onnx\")"
   ]
  },
  {
   "cell_type": "code",
   "execution_count": null,
   "id": "gothic-exclusion",
   "metadata": {},
   "outputs": [],
   "source": [
    "from finn.util.visualization import showInNetron\n",
    "showInNetron(\"/tmp/quartznet_hls_converted.onnx\")"
   ]
  },
  {
   "cell_type": "code",
   "execution_count": 4,
   "id": "ambient-movement",
   "metadata": {},
   "outputs": [
    {
     "name": "stdout",
     "output_type": "stream",
     "text": [
      "Stopping http://0.0.0.0:8081\n",
      "Serving '/tmp/finn_dev_mirza/partitioning_final/partition_1.onnx' at http://0.0.0.0:8081\n"
     ]
    },
    {
     "data": {
      "text/html": [
       "\n",
       "        <iframe\n",
       "            width=\"100%\"\n",
       "            height=\"400\"\n",
       "            src=\"http://0.0.0.0:8081/\"\n",
       "            frameborder=\"0\"\n",
       "            allowfullscreen\n",
       "        ></iframe>\n",
       "        "
      ],
      "text/plain": [
       "<IPython.lib.display.IFrame at 0x7fa75c0af6d8>"
      ]
     },
     "execution_count": 4,
     "metadata": {},
     "output_type": "execute_result"
    }
   ],
   "source": [
    "showInNetron(\"/tmp/finn_dev_mirza/partitioning_final/partition_1.onnx\")"
   ]
  },
  {
   "cell_type": "markdown",
   "id": "geographic-catch",
   "metadata": {},
   "source": [
    "# Comparison of graph before and after HLS conversion"
   ]
  },
  {
   "cell_type": "code",
   "execution_count": 21,
   "id": "helpful-start",
   "metadata": {},
   "outputs": [],
   "source": [
    "from finn.core.modelwrapper import ModelWrapper\n",
    "from finn.transformation.fpgadataflow.prepare_cppsim import PrepareCppSim\n",
    "from finn.transformation.fpgadataflow.compile_cppsim import CompileCppSim\n",
    "from finn.transformation.fpgadataflow.set_exec_mode import SetExecMode\n",
    "\n",
    "exec_mode = \"cppsim\"\n",
    "\n",
    "model_onnx = ModelWrapper(\"/tmp/finn_dev_mirza/partitioning_final/partition_1.onnx\")\n",
    "model_hls = ModelWrapper(\"/tmp/test_partition1_hls.onnx\")\n",
    "\n",
    "if exec_mode==\"cppsim\":\n",
    "    model_hls = model_hls.transform(PrepareCppSim())\n",
    "    model_hls = model_hls.transform(CompileCppSim())\n",
    "    model_hls = model_hls.transform(SetExecMode(\"cppsim\"))\n",
    "elif exec_mode==\"rtlsim\":\n",
    "    model_hls = model_hls.transform(SetExecMode(\"rtlsim\"))\n",
    "    model_hls = model_hls.transform(GiveUniqueNodeNames())\n",
    "    model_hls = model_hls.transform(PrepareIP(\"xcu250-figd2104-2L-e\", 5))\n",
    "    model_hls = model_hls.transform(HLSSynthIP())\n",
    "    model_hls = model_hls.transform(PrepareRTLSim())"
   ]
  },
  {
   "cell_type": "code",
   "execution_count": 24,
   "id": "appointed-mills",
   "metadata": {},
   "outputs": [
    {
     "name": "stdout",
     "output_type": "stream",
     "text": [
      "Stopping http://0.0.0.0:8081\n",
      "Serving '/tmp/test_partition1_cppsim.onnx' at http://0.0.0.0:8081\n"
     ]
    },
    {
     "data": {
      "text/html": [
       "\n",
       "        <iframe\n",
       "            width=\"100%\"\n",
       "            height=\"400\"\n",
       "            src=\"http://0.0.0.0:8081/\"\n",
       "            frameborder=\"0\"\n",
       "            allowfullscreen\n",
       "        ></iframe>\n",
       "        "
      ],
      "text/plain": [
       "<IPython.lib.display.IFrame at 0x7fa6ff2016d8>"
      ]
     },
     "execution_count": 24,
     "metadata": {},
     "output_type": "execute_result"
    }
   ],
   "source": [
    "# Took ~5 hours\n",
    "model_hls.save(\"/tmp/test_partition1_cppsim.onnx\")\n",
    "\n",
    "showInNetron(\"/tmp/test_partition1_cppsim.onnx\")"
   ]
  },
  {
   "cell_type": "code",
   "execution_count": 26,
   "id": "earned-freeware",
   "metadata": {},
   "outputs": [
    {
     "name": "stderr",
     "output_type": "stream",
     "text": [
      "/workspace/finn-base/src/finn/util/basic.py:380: UserWarning: The values of tensor MultiThreshold_1_param0 can't be represented with the set FINN datatype (DataType.INT32), they will be rounded to match the FINN datatype.\n",
      "  \"FINN datatype.\".format(tensor, dtype)\n",
      "/workspace/finn-base/src/finn/util/basic.py:380: UserWarning: The values of tensor MultiThreshold_4_param0 can't be represented with the set FINN datatype (DataType.INT32), they will be rounded to match the FINN datatype.\n",
      "  \"FINN datatype.\".format(tensor, dtype)\n",
      "/workspace/finn-base/src/finn/util/basic.py:380: UserWarning: The values of tensor MultiThreshold_6_param0 can't be represented with the set FINN datatype (DataType.INT32), they will be rounded to match the FINN datatype.\n",
      "  \"FINN datatype.\".format(tensor, dtype)\n",
      "/workspace/finn-base/src/finn/util/basic.py:380: UserWarning: The values of tensor MultiThreshold_8_param0 can't be represented with the set FINN datatype (DataType.INT32), they will be rounded to match the FINN datatype.\n",
      "  \"FINN datatype.\".format(tensor, dtype)\n",
      "/workspace/finn-base/src/finn/util/basic.py:380: UserWarning: The values of tensor MultiThreshold_10_param0 can't be represented with the set FINN datatype (DataType.INT32), they will be rounded to match the FINN datatype.\n",
      "  \"FINN datatype.\".format(tensor, dtype)\n",
      "/workspace/finn-base/src/finn/util/basic.py:380: UserWarning: The values of tensor 7aMMn2 can't be represented with the set FINN datatype (DataType.INT32), they will be rounded to match the FINN datatype.\n",
      "  \"FINN datatype.\".format(tensor, dtype)\n",
      "/workspace/finn-base/src/finn/util/basic.py:380: UserWarning: The values of tensor MultiThreshold_24_param0 can't be represented with the set FINN datatype (DataType.INT32), they will be rounded to match the FINN datatype.\n",
      "  \"FINN datatype.\".format(tensor, dtype)\n",
      "/workspace/finn-base/src/finn/util/basic.py:380: UserWarning: The values of tensor MultiThreshold_16_param0 can't be represented with the set FINN datatype (DataType.INT32), they will be rounded to match the FINN datatype.\n",
      "  \"FINN datatype.\".format(tensor, dtype)\n",
      "/workspace/finn-base/src/finn/util/basic.py:380: UserWarning: The values of tensor MultiThreshold_18_param0 can't be represented with the set FINN datatype (DataType.INT32), they will be rounded to match the FINN datatype.\n",
      "  \"FINN datatype.\".format(tensor, dtype)\n",
      "/workspace/finn-base/src/finn/util/basic.py:380: UserWarning: The values of tensor MultiThreshold_20_param0 can't be represented with the set FINN datatype (DataType.INT32), they will be rounded to match the FINN datatype.\n",
      "  \"FINN datatype.\".format(tensor, dtype)\n",
      "/workspace/finn-base/src/finn/util/basic.py:380: UserWarning: The values of tensor MultiThreshold_22_param0 can't be represented with the set FINN datatype (DataType.INT32), they will be rounded to match the FINN datatype.\n",
      "  \"FINN datatype.\".format(tensor, dtype)\n",
      "/workspace/finn-base/src/finn/util/basic.py:380: UserWarning: The values of tensor 6jYNz5 can't be represented with the set FINN datatype (DataType.INT32), they will be rounded to match the FINN datatype.\n",
      "  \"FINN datatype.\".format(tensor, dtype)\n",
      "/workspace/finn-base/src/finn/util/basic.py:380: UserWarning: The values of tensor MultiThreshold_36_param0 can't be represented with the set FINN datatype (DataType.INT32), they will be rounded to match the FINN datatype.\n",
      "  \"FINN datatype.\".format(tensor, dtype)\n",
      "/workspace/finn-base/src/finn/util/basic.py:380: UserWarning: The values of tensor MultiThreshold_28_param0 can't be represented with the set FINN datatype (DataType.INT32), they will be rounded to match the FINN datatype.\n",
      "  \"FINN datatype.\".format(tensor, dtype)\n",
      "/workspace/finn-base/src/finn/util/basic.py:380: UserWarning: The values of tensor MultiThreshold_30_param0 can't be represented with the set FINN datatype (DataType.INT32), they will be rounded to match the FINN datatype.\n",
      "  \"FINN datatype.\".format(tensor, dtype)\n",
      "/workspace/finn-base/src/finn/util/basic.py:380: UserWarning: The values of tensor MultiThreshold_32_param0 can't be represented with the set FINN datatype (DataType.INT32), they will be rounded to match the FINN datatype.\n",
      "  \"FINN datatype.\".format(tensor, dtype)\n",
      "/workspace/finn-base/src/finn/util/basic.py:380: UserWarning: The values of tensor MultiThreshold_34_param0 can't be represented with the set FINN datatype (DataType.INT32), they will be rounded to match the FINN datatype.\n",
      "  \"FINN datatype.\".format(tensor, dtype)\n",
      "/workspace/finn-base/src/finn/util/basic.py:380: UserWarning: The values of tensor C3KsWO can't be represented with the set FINN datatype (DataType.INT32), they will be rounded to match the FINN datatype.\n",
      "  \"FINN datatype.\".format(tensor, dtype)\n"
     ]
    },
    {
     "data": {
      "text/plain": [
       "True"
      ]
     },
     "execution_count": 26,
     "metadata": {},
     "output_type": "execute_result"
    }
   ],
   "source": [
    "from finn.core.datatype import DataType\n",
    "from finn.util.basic import gen_finn_dt_tensor\n",
    "import finn.core.onnx_exec as oxe\n",
    "\n",
    "model_onnx = ModelWrapper(\"/tmp/finn_dev_mirza/partitioning_final/partition_1.onnx\")\n",
    "model_hls = ModelWrapper(\"/tmp/test_partition1_cppsim.onnx\")\n",
    "\n",
    "inp_dtype = DataType.INT8\n",
    "inp_shape = model_onnx.get_tensor_shape(model_onnx.graph.input[0].name)\n",
    "x = gen_finn_dt_tensor(DataType.INT8, inp_shape)\n",
    "inp_dict = {model_onnx.graph.input[0].name: x}\n",
    "\n",
    "assert(model_onnx.graph.input[0].name==model_hls.graph.input[0].name)\n",
    "assert(model_onnx.get_tensor_shape(model_onnx.graph.input[0].name)==model_hls.get_tensor_shape(model_hls.graph.input[0].name))\n",
    "\n",
    "oxe.compare_execution(model_onnx, model_hls, inp_dict)\n",
    "\n",
    "\n"
   ]
  },
  {
   "cell_type": "markdown",
   "id": "official-property",
   "metadata": {},
   "source": [
    "# Compare 2 models\n",
    "\n",
    "1. Original QuartzNet\n",
    "2. Any other\n"
   ]
  },
  {
   "cell_type": "code",
   "execution_count": 7,
   "id": "approved-hepatitis",
   "metadata": {},
   "outputs": [
    {
     "name": "stdout",
     "output_type": "stream",
     "text": [
      "Elapsed time: 358.9236013859918\n"
     ]
    }
   ],
   "source": [
    "import numpy as np\n",
    "from finn.core.modelwrapper import ModelWrapper\n",
    "from finn.util.basic import gen_finn_dt_tensor\n",
    "import finn.core.onnx_exec as oxe\n",
    "\n",
    "import time\n",
    "t1 = time.perf_counter()\n",
    "\n",
    "################################################################################################\n",
    "####\n",
    "#### MODEL 1\n",
    "####\n",
    "model_1 = ModelWrapper(\"/tmp/quartznet.onnx\")\n",
    "\n",
    "#### MODEL 1\n",
    "# Create input data\n",
    "input0_tensor_name = model_1.graph.input[0].name\n",
    "\n",
    "input_shape = model_1.get_tensor_shape(input0_tensor_name)\n",
    "#input_dtype = model_1.get_tensor_datatype(input0_tensor_name)\n",
    "#input_val = gen_finn_dt_tensor(input_dtype, input_shape)\n",
    "input_val = np.random.randint(low=-128, high=127, size=input_shape).astype(np.float32)\n",
    "input_dict = {}\n",
    "input_dict[input0_tensor_name] = input_val\n",
    "output0_tensor_name = model_1.graph.output[0].name\n",
    "\n",
    "expected_m1_dict = oxe.execute_onnx(model_1, input_dict, return_full_exec_context = False)\n",
    "expected_m1 = expected_m1_dict[output0_tensor_name]\n",
    "################################################################################################\n",
    "\n",
    "\n",
    "t2 = time.perf_counter() - t1\n",
    "print(\"Elapsed time: {}\".format(t2))"
   ]
  },
  {
   "cell_type": "code",
   "execution_count": 8,
   "id": "prescription-globe",
   "metadata": {},
   "outputs": [
    {
     "name": "stderr",
     "output_type": "stream",
     "text": [
      "/workspace/finn-base/src/finn/util/basic.py:380: UserWarning: The values of tensor MultiThreshold_1_param0 can't be represented with the set FINN datatype (DataType.INT32), they will be rounded to match the FINN datatype.\n",
      "  \"FINN datatype.\".format(tensor, dtype)\n",
      "/workspace/finn-base/src/finn/util/basic.py:380: UserWarning: The values of tensor MultiThreshold_4_param0 can't be represented with the set FINN datatype (DataType.INT32), they will be rounded to match the FINN datatype.\n",
      "  \"FINN datatype.\".format(tensor, dtype)\n",
      "/workspace/finn-base/src/finn/util/basic.py:380: UserWarning: The values of tensor MultiThreshold_6_param0 can't be represented with the set FINN datatype (DataType.INT32), they will be rounded to match the FINN datatype.\n",
      "  \"FINN datatype.\".format(tensor, dtype)\n",
      "/workspace/finn-base/src/finn/util/basic.py:380: UserWarning: The values of tensor MultiThreshold_8_param0 can't be represented with the set FINN datatype (DataType.INT32), they will be rounded to match the FINN datatype.\n",
      "  \"FINN datatype.\".format(tensor, dtype)\n",
      "/workspace/finn-base/src/finn/util/basic.py:380: UserWarning: The values of tensor MultiThreshold_10_param0 can't be represented with the set FINN datatype (DataType.INT32), they will be rounded to match the FINN datatype.\n",
      "  \"FINN datatype.\".format(tensor, dtype)\n",
      "/workspace/finn-base/src/finn/util/basic.py:380: UserWarning: The values of tensor 7aMMn2 can't be represented with the set FINN datatype (DataType.INT32), they will be rounded to match the FINN datatype.\n",
      "  \"FINN datatype.\".format(tensor, dtype)\n",
      "/workspace/finn-base/src/finn/util/basic.py:380: UserWarning: The values of tensor MultiThreshold_24_param0 can't be represented with the set FINN datatype (DataType.INT32), they will be rounded to match the FINN datatype.\n",
      "  \"FINN datatype.\".format(tensor, dtype)\n",
      "/workspace/finn-base/src/finn/util/basic.py:380: UserWarning: The values of tensor MultiThreshold_16_param0 can't be represented with the set FINN datatype (DataType.INT32), they will be rounded to match the FINN datatype.\n",
      "  \"FINN datatype.\".format(tensor, dtype)\n",
      "/workspace/finn-base/src/finn/util/basic.py:380: UserWarning: The values of tensor MultiThreshold_18_param0 can't be represented with the set FINN datatype (DataType.INT32), they will be rounded to match the FINN datatype.\n",
      "  \"FINN datatype.\".format(tensor, dtype)\n",
      "/workspace/finn-base/src/finn/util/basic.py:380: UserWarning: The values of tensor MultiThreshold_20_param0 can't be represented with the set FINN datatype (DataType.INT32), they will be rounded to match the FINN datatype.\n",
      "  \"FINN datatype.\".format(tensor, dtype)\n",
      "/workspace/finn-base/src/finn/util/basic.py:380: UserWarning: The values of tensor MultiThreshold_22_param0 can't be represented with the set FINN datatype (DataType.INT32), they will be rounded to match the FINN datatype.\n",
      "  \"FINN datatype.\".format(tensor, dtype)\n",
      "/workspace/finn-base/src/finn/util/basic.py:380: UserWarning: The values of tensor 6jYNz5 can't be represented with the set FINN datatype (DataType.INT32), they will be rounded to match the FINN datatype.\n",
      "  \"FINN datatype.\".format(tensor, dtype)\n",
      "/workspace/finn-base/src/finn/util/basic.py:380: UserWarning: The values of tensor MultiThreshold_36_param0 can't be represented with the set FINN datatype (DataType.INT32), they will be rounded to match the FINN datatype.\n",
      "  \"FINN datatype.\".format(tensor, dtype)\n",
      "/workspace/finn-base/src/finn/util/basic.py:380: UserWarning: The values of tensor MultiThreshold_28_param0 can't be represented with the set FINN datatype (DataType.INT32), they will be rounded to match the FINN datatype.\n",
      "  \"FINN datatype.\".format(tensor, dtype)\n",
      "/workspace/finn-base/src/finn/util/basic.py:380: UserWarning: The values of tensor MultiThreshold_30_param0 can't be represented with the set FINN datatype (DataType.INT32), they will be rounded to match the FINN datatype.\n",
      "  \"FINN datatype.\".format(tensor, dtype)\n",
      "/workspace/finn-base/src/finn/util/basic.py:380: UserWarning: The values of tensor MultiThreshold_32_param0 can't be represented with the set FINN datatype (DataType.INT32), they will be rounded to match the FINN datatype.\n",
      "  \"FINN datatype.\".format(tensor, dtype)\n",
      "/workspace/finn-base/src/finn/util/basic.py:380: UserWarning: The values of tensor MultiThreshold_34_param0 can't be represented with the set FINN datatype (DataType.INT32), they will be rounded to match the FINN datatype.\n",
      "  \"FINN datatype.\".format(tensor, dtype)\n",
      "/workspace/finn-base/src/finn/util/basic.py:380: UserWarning: The values of tensor C3KsWO can't be represented with the set FINN datatype (DataType.INT32), they will be rounded to match the FINN datatype.\n",
      "  \"FINN datatype.\".format(tensor, dtype)\n",
      "/workspace/finn-base/src/finn/util/basic.py:380: UserWarning: The values of tensor MultiThreshold_48_param0 can't be represented with the set FINN datatype (DataType.INT32), they will be rounded to match the FINN datatype.\n",
      "  \"FINN datatype.\".format(tensor, dtype)\n",
      "/workspace/finn-base/src/finn/util/basic.py:380: UserWarning: The values of tensor MultiThreshold_40_param0 can't be represented with the set FINN datatype (DataType.INT32), they will be rounded to match the FINN datatype.\n",
      "  \"FINN datatype.\".format(tensor, dtype)\n",
      "/workspace/finn-base/src/finn/util/basic.py:380: UserWarning: The values of tensor MultiThreshold_42_param0 can't be represented with the set FINN datatype (DataType.INT32), they will be rounded to match the FINN datatype.\n",
      "  \"FINN datatype.\".format(tensor, dtype)\n",
      "/workspace/finn-base/src/finn/util/basic.py:380: UserWarning: The values of tensor MultiThreshold_44_param0 can't be represented with the set FINN datatype (DataType.INT32), they will be rounded to match the FINN datatype.\n",
      "  \"FINN datatype.\".format(tensor, dtype)\n",
      "/workspace/finn-base/src/finn/util/basic.py:380: UserWarning: The values of tensor MultiThreshold_46_param0 can't be represented with the set FINN datatype (DataType.INT32), they will be rounded to match the FINN datatype.\n",
      "  \"FINN datatype.\".format(tensor, dtype)\n",
      "/workspace/finn-base/src/finn/util/basic.py:380: UserWarning: The values of tensor T4DRF7 can't be represented with the set FINN datatype (DataType.INT32), they will be rounded to match the FINN datatype.\n",
      "  \"FINN datatype.\".format(tensor, dtype)\n",
      "/workspace/finn-base/src/finn/util/basic.py:380: UserWarning: The values of tensor MultiThreshold_60_param0 can't be represented with the set FINN datatype (DataType.INT32), they will be rounded to match the FINN datatype.\n",
      "  \"FINN datatype.\".format(tensor, dtype)\n",
      "/workspace/finn-base/src/finn/util/basic.py:380: UserWarning: The values of tensor MultiThreshold_52_param0 can't be represented with the set FINN datatype (DataType.INT32), they will be rounded to match the FINN datatype.\n",
      "  \"FINN datatype.\".format(tensor, dtype)\n",
      "/workspace/finn-base/src/finn/util/basic.py:380: UserWarning: The values of tensor MultiThreshold_54_param0 can't be represented with the set FINN datatype (DataType.INT32), they will be rounded to match the FINN datatype.\n",
      "  \"FINN datatype.\".format(tensor, dtype)\n",
      "/workspace/finn-base/src/finn/util/basic.py:380: UserWarning: The values of tensor MultiThreshold_56_param0 can't be represented with the set FINN datatype (DataType.INT32), they will be rounded to match the FINN datatype.\n",
      "  \"FINN datatype.\".format(tensor, dtype)\n",
      "/workspace/finn-base/src/finn/util/basic.py:380: UserWarning: The values of tensor MultiThreshold_58_param0 can't be represented with the set FINN datatype (DataType.INT32), they will be rounded to match the FINN datatype.\n",
      "  \"FINN datatype.\".format(tensor, dtype)\n",
      "/workspace/finn-base/src/finn/util/basic.py:380: UserWarning: The values of tensor pVCIOl can't be represented with the set FINN datatype (DataType.INT32), they will be rounded to match the FINN datatype.\n",
      "  \"FINN datatype.\".format(tensor, dtype)\n",
      "/workspace/finn-base/src/finn/util/basic.py:380: UserWarning: The values of tensor MultiThreshold_61_param0 can't be represented with the set FINN datatype (DataType.UINT32), they will be rounded to match the FINN datatype.\n",
      "  \"FINN datatype.\".format(tensor, dtype)\n",
      "/workspace/finn-base/src/finn/util/basic.py:380: UserWarning: The values of tensor MultiThreshold_64_param0 can't be represented with the set FINN datatype (DataType.INT32), they will be rounded to match the FINN datatype.\n",
      "  \"FINN datatype.\".format(tensor, dtype)\n"
     ]
    },
    {
     "name": "stderr",
     "output_type": "stream",
     "text": [
      "/workspace/finn-base/src/finn/util/basic.py:380: UserWarning: The values of tensor MultiThreshold_66_param0 can't be represented with the set FINN datatype (DataType.INT32), they will be rounded to match the FINN datatype.\n",
      "  \"FINN datatype.\".format(tensor, dtype)\n",
      "/workspace/finn-base/src/finn/util/basic.py:380: UserWarning: The values of tensor MultiThreshold_68_param0 can't be represented with the set FINN datatype (DataType.INT32), they will be rounded to match the FINN datatype.\n",
      "  \"FINN datatype.\".format(tensor, dtype)\n",
      "/workspace/finn-base/src/finn/util/basic.py:380: UserWarning: The values of tensor MultiThreshold_70_param0 can't be represented with the set FINN datatype (DataType.INT32), they will be rounded to match the FINN datatype.\n",
      "  \"FINN datatype.\".format(tensor, dtype)\n",
      "/workspace/finn-base/src/finn/util/basic.py:380: UserWarning: The values of tensor oEeVoL can't be represented with the set FINN datatype (DataType.INT32), they will be rounded to match the FINN datatype.\n",
      "  \"FINN datatype.\".format(tensor, dtype)\n",
      "/workspace/finn-base/src/finn/util/basic.py:380: UserWarning: The values of tensor MultiThreshold_84_param0 can't be represented with the set FINN datatype (DataType.INT32), they will be rounded to match the FINN datatype.\n",
      "  \"FINN datatype.\".format(tensor, dtype)\n",
      "/workspace/finn-base/src/finn/util/basic.py:380: UserWarning: The values of tensor MultiThreshold_76_param0 can't be represented with the set FINN datatype (DataType.INT32), they will be rounded to match the FINN datatype.\n",
      "  \"FINN datatype.\".format(tensor, dtype)\n",
      "/workspace/finn-base/src/finn/util/basic.py:380: UserWarning: The values of tensor MultiThreshold_78_param0 can't be represented with the set FINN datatype (DataType.INT32), they will be rounded to match the FINN datatype.\n",
      "  \"FINN datatype.\".format(tensor, dtype)\n",
      "/workspace/finn-base/src/finn/util/basic.py:380: UserWarning: The values of tensor MultiThreshold_80_param0 can't be represented with the set FINN datatype (DataType.INT32), they will be rounded to match the FINN datatype.\n",
      "  \"FINN datatype.\".format(tensor, dtype)\n",
      "/workspace/finn-base/src/finn/util/basic.py:380: UserWarning: The values of tensor MultiThreshold_82_param0 can't be represented with the set FINN datatype (DataType.INT32), they will be rounded to match the FINN datatype.\n",
      "  \"FINN datatype.\".format(tensor, dtype)\n",
      "/workspace/finn-base/src/finn/util/basic.py:380: UserWarning: The values of tensor k1NNc6 can't be represented with the set FINN datatype (DataType.INT32), they will be rounded to match the FINN datatype.\n",
      "  \"FINN datatype.\".format(tensor, dtype)\n",
      "/workspace/finn-base/src/finn/util/basic.py:380: UserWarning: The values of tensor MultiThreshold_96_param0 can't be represented with the set FINN datatype (DataType.INT32), they will be rounded to match the FINN datatype.\n",
      "  \"FINN datatype.\".format(tensor, dtype)\n",
      "/workspace/finn-base/src/finn/util/basic.py:380: UserWarning: The values of tensor MultiThreshold_88_param0 can't be represented with the set FINN datatype (DataType.INT32), they will be rounded to match the FINN datatype.\n",
      "  \"FINN datatype.\".format(tensor, dtype)\n",
      "/workspace/finn-base/src/finn/util/basic.py:380: UserWarning: The values of tensor MultiThreshold_90_param0 can't be represented with the set FINN datatype (DataType.INT32), they will be rounded to match the FINN datatype.\n",
      "  \"FINN datatype.\".format(tensor, dtype)\n",
      "/workspace/finn-base/src/finn/util/basic.py:380: UserWarning: The values of tensor MultiThreshold_92_param0 can't be represented with the set FINN datatype (DataType.INT32), they will be rounded to match the FINN datatype.\n",
      "  \"FINN datatype.\".format(tensor, dtype)\n",
      "/workspace/finn-base/src/finn/util/basic.py:380: UserWarning: The values of tensor MultiThreshold_94_param0 can't be represented with the set FINN datatype (DataType.INT32), they will be rounded to match the FINN datatype.\n",
      "  \"FINN datatype.\".format(tensor, dtype)\n",
      "/workspace/finn-base/src/finn/util/basic.py:380: UserWarning: The values of tensor YBjkTP can't be represented with the set FINN datatype (DataType.INT32), they will be rounded to match the FINN datatype.\n",
      "  \"FINN datatype.\".format(tensor, dtype)\n",
      "/workspace/finn-base/src/finn/util/basic.py:380: UserWarning: The values of tensor MultiThreshold_108_param0 can't be represented with the set FINN datatype (DataType.INT32), they will be rounded to match the FINN datatype.\n",
      "  \"FINN datatype.\".format(tensor, dtype)\n",
      "/workspace/finn-base/src/finn/util/basic.py:380: UserWarning: The values of tensor MultiThreshold_100_param0 can't be represented with the set FINN datatype (DataType.INT32), they will be rounded to match the FINN datatype.\n",
      "  \"FINN datatype.\".format(tensor, dtype)\n",
      "/workspace/finn-base/src/finn/util/basic.py:380: UserWarning: The values of tensor MultiThreshold_102_param0 can't be represented with the set FINN datatype (DataType.INT32), they will be rounded to match the FINN datatype.\n",
      "  \"FINN datatype.\".format(tensor, dtype)\n",
      "/workspace/finn-base/src/finn/util/basic.py:380: UserWarning: The values of tensor MultiThreshold_104_param0 can't be represented with the set FINN datatype (DataType.INT32), they will be rounded to match the FINN datatype.\n",
      "  \"FINN datatype.\".format(tensor, dtype)\n",
      "/workspace/finn-base/src/finn/util/basic.py:380: UserWarning: The values of tensor MultiThreshold_106_param0 can't be represented with the set FINN datatype (DataType.INT32), they will be rounded to match the FINN datatype.\n",
      "  \"FINN datatype.\".format(tensor, dtype)\n",
      "/workspace/finn-base/src/finn/util/basic.py:380: UserWarning: The values of tensor Z4vbwG can't be represented with the set FINN datatype (DataType.INT32), they will be rounded to match the FINN datatype.\n",
      "  \"FINN datatype.\".format(tensor, dtype)\n",
      "/workspace/finn-base/src/finn/util/basic.py:380: UserWarning: The values of tensor MultiThreshold_120_param0 can't be represented with the set FINN datatype (DataType.INT32), they will be rounded to match the FINN datatype.\n",
      "  \"FINN datatype.\".format(tensor, dtype)\n",
      "/workspace/finn-base/src/finn/util/basic.py:380: UserWarning: The values of tensor MultiThreshold_112_param0 can't be represented with the set FINN datatype (DataType.INT32), they will be rounded to match the FINN datatype.\n",
      "  \"FINN datatype.\".format(tensor, dtype)\n",
      "/workspace/finn-base/src/finn/util/basic.py:380: UserWarning: The values of tensor MultiThreshold_114_param0 can't be represented with the set FINN datatype (DataType.INT32), they will be rounded to match the FINN datatype.\n",
      "  \"FINN datatype.\".format(tensor, dtype)\n",
      "/workspace/finn-base/src/finn/util/basic.py:380: UserWarning: The values of tensor MultiThreshold_116_param0 can't be represented with the set FINN datatype (DataType.INT32), they will be rounded to match the FINN datatype.\n",
      "  \"FINN datatype.\".format(tensor, dtype)\n",
      "/workspace/finn-base/src/finn/util/basic.py:380: UserWarning: The values of tensor MultiThreshold_118_param0 can't be represented with the set FINN datatype (DataType.INT32), they will be rounded to match the FINN datatype.\n",
      "  \"FINN datatype.\".format(tensor, dtype)\n",
      "/workspace/finn-base/src/finn/util/basic.py:380: UserWarning: The values of tensor 8QiZ71 can't be represented with the set FINN datatype (DataType.INT32), they will be rounded to match the FINN datatype.\n",
      "  \"FINN datatype.\".format(tensor, dtype)\n",
      "/workspace/finn-base/src/finn/util/basic.py:380: UserWarning: The values of tensor MultiThreshold_132_param0 can't be represented with the set FINN datatype (DataType.INT32), they will be rounded to match the FINN datatype.\n",
      "  \"FINN datatype.\".format(tensor, dtype)\n",
      "/workspace/finn-base/src/finn/util/basic.py:380: UserWarning: The values of tensor MultiThreshold_124_param0 can't be represented with the set FINN datatype (DataType.INT32), they will be rounded to match the FINN datatype.\n",
      "  \"FINN datatype.\".format(tensor, dtype)\n",
      "/workspace/finn-base/src/finn/util/basic.py:380: UserWarning: The values of tensor MultiThreshold_126_param0 can't be represented with the set FINN datatype (DataType.INT32), they will be rounded to match the FINN datatype.\n",
      "  \"FINN datatype.\".format(tensor, dtype)\n",
      "/workspace/finn-base/src/finn/util/basic.py:380: UserWarning: The values of tensor MultiThreshold_128_param0 can't be represented with the set FINN datatype (DataType.INT32), they will be rounded to match the FINN datatype.\n",
      "  \"FINN datatype.\".format(tensor, dtype)\n"
     ]
    },
    {
     "name": "stderr",
     "output_type": "stream",
     "text": [
      "/workspace/finn-base/src/finn/util/basic.py:380: UserWarning: The values of tensor MultiThreshold_130_param0 can't be represented with the set FINN datatype (DataType.INT32), they will be rounded to match the FINN datatype.\n",
      "  \"FINN datatype.\".format(tensor, dtype)\n",
      "/workspace/finn-base/src/finn/util/basic.py:380: UserWarning: The values of tensor ggpLc2 can't be represented with the set FINN datatype (DataType.INT32), they will be rounded to match the FINN datatype.\n",
      "  \"FINN datatype.\".format(tensor, dtype)\n",
      "/workspace/finn-base/src/finn/util/basic.py:380: UserWarning: The values of tensor MultiThreshold_144_param0 can't be represented with the set FINN datatype (DataType.INT32), they will be rounded to match the FINN datatype.\n",
      "  \"FINN datatype.\".format(tensor, dtype)\n",
      "/workspace/finn-base/src/finn/util/basic.py:380: UserWarning: The values of tensor MultiThreshold_136_param0 can't be represented with the set FINN datatype (DataType.INT32), they will be rounded to match the FINN datatype.\n",
      "  \"FINN datatype.\".format(tensor, dtype)\n",
      "/workspace/finn-base/src/finn/util/basic.py:380: UserWarning: The values of tensor MultiThreshold_138_param0 can't be represented with the set FINN datatype (DataType.INT32), they will be rounded to match the FINN datatype.\n",
      "  \"FINN datatype.\".format(tensor, dtype)\n",
      "/workspace/finn-base/src/finn/util/basic.py:380: UserWarning: The values of tensor MultiThreshold_140_param0 can't be represented with the set FINN datatype (DataType.INT32), they will be rounded to match the FINN datatype.\n",
      "  \"FINN datatype.\".format(tensor, dtype)\n",
      "/workspace/finn-base/src/finn/util/basic.py:380: UserWarning: The values of tensor MultiThreshold_142_param0 can't be represented with the set FINN datatype (DataType.INT32), they will be rounded to match the FINN datatype.\n",
      "  \"FINN datatype.\".format(tensor, dtype)\n",
      "/workspace/finn-base/src/finn/util/basic.py:380: UserWarning: The values of tensor NVOUEd can't be represented with the set FINN datatype (DataType.INT32), they will be rounded to match the FINN datatype.\n",
      "  \"FINN datatype.\".format(tensor, dtype)\n",
      "/workspace/finn-base/src/finn/util/basic.py:380: UserWarning: The values of tensor MultiThreshold_156_param0 can't be represented with the set FINN datatype (DataType.INT32), they will be rounded to match the FINN datatype.\n",
      "  \"FINN datatype.\".format(tensor, dtype)\n",
      "/workspace/finn-base/src/finn/util/basic.py:380: UserWarning: The values of tensor MultiThreshold_148_param0 can't be represented with the set FINN datatype (DataType.INT32), they will be rounded to match the FINN datatype.\n",
      "  \"FINN datatype.\".format(tensor, dtype)\n",
      "/workspace/finn-base/src/finn/util/basic.py:380: UserWarning: The values of tensor MultiThreshold_150_param0 can't be represented with the set FINN datatype (DataType.INT32), they will be rounded to match the FINN datatype.\n",
      "  \"FINN datatype.\".format(tensor, dtype)\n",
      "/workspace/finn-base/src/finn/util/basic.py:380: UserWarning: The values of tensor MultiThreshold_152_param0 can't be represented with the set FINN datatype (DataType.INT32), they will be rounded to match the FINN datatype.\n",
      "  \"FINN datatype.\".format(tensor, dtype)\n",
      "/workspace/finn-base/src/finn/util/basic.py:380: UserWarning: The values of tensor MultiThreshold_154_param0 can't be represented with the set FINN datatype (DataType.INT32), they will be rounded to match the FINN datatype.\n",
      "  \"FINN datatype.\".format(tensor, dtype)\n",
      "/workspace/finn-base/src/finn/util/basic.py:380: UserWarning: The values of tensor D1joLA can't be represented with the set FINN datatype (DataType.INT32), they will be rounded to match the FINN datatype.\n",
      "  \"FINN datatype.\".format(tensor, dtype)\n",
      "/workspace/finn-base/src/finn/util/basic.py:380: UserWarning: The values of tensor MultiThreshold_168_param0 can't be represented with the set FINN datatype (DataType.INT32), they will be rounded to match the FINN datatype.\n",
      "  \"FINN datatype.\".format(tensor, dtype)\n",
      "/workspace/finn-base/src/finn/util/basic.py:380: UserWarning: The values of tensor MultiThreshold_160_param0 can't be represented with the set FINN datatype (DataType.INT32), they will be rounded to match the FINN datatype.\n",
      "  \"FINN datatype.\".format(tensor, dtype)\n",
      "/workspace/finn-base/src/finn/util/basic.py:380: UserWarning: The values of tensor MultiThreshold_162_param0 can't be represented with the set FINN datatype (DataType.INT32), they will be rounded to match the FINN datatype.\n",
      "  \"FINN datatype.\".format(tensor, dtype)\n",
      "/workspace/finn-base/src/finn/util/basic.py:380: UserWarning: The values of tensor MultiThreshold_164_param0 can't be represented with the set FINN datatype (DataType.INT32), they will be rounded to match the FINN datatype.\n",
      "  \"FINN datatype.\".format(tensor, dtype)\n",
      "/workspace/finn-base/src/finn/util/basic.py:380: UserWarning: The values of tensor MultiThreshold_166_param0 can't be represented with the set FINN datatype (DataType.INT32), they will be rounded to match the FINN datatype.\n",
      "  \"FINN datatype.\".format(tensor, dtype)\n",
      "/workspace/finn-base/src/finn/util/basic.py:380: UserWarning: The values of tensor Zm4qr3 can't be represented with the set FINN datatype (DataType.INT32), they will be rounded to match the FINN datatype.\n",
      "  \"FINN datatype.\".format(tensor, dtype)\n",
      "/workspace/finn-base/src/finn/util/basic.py:380: UserWarning: The values of tensor MultiThreshold_180_param0 can't be represented with the set FINN datatype (DataType.INT32), they will be rounded to match the FINN datatype.\n",
      "  \"FINN datatype.\".format(tensor, dtype)\n",
      "/workspace/finn-base/src/finn/util/basic.py:380: UserWarning: The values of tensor MultiThreshold_172_param0 can't be represented with the set FINN datatype (DataType.INT32), they will be rounded to match the FINN datatype.\n",
      "  \"FINN datatype.\".format(tensor, dtype)\n",
      "/workspace/finn-base/src/finn/util/basic.py:380: UserWarning: The values of tensor MultiThreshold_174_param0 can't be represented with the set FINN datatype (DataType.INT32), they will be rounded to match the FINN datatype.\n",
      "  \"FINN datatype.\".format(tensor, dtype)\n",
      "/workspace/finn-base/src/finn/util/basic.py:380: UserWarning: The values of tensor MultiThreshold_176_param0 can't be represented with the set FINN datatype (DataType.INT32), they will be rounded to match the FINN datatype.\n",
      "  \"FINN datatype.\".format(tensor, dtype)\n",
      "/workspace/finn-base/src/finn/util/basic.py:380: UserWarning: The values of tensor MultiThreshold_178_param0 can't be represented with the set FINN datatype (DataType.INT32), they will be rounded to match the FINN datatype.\n",
      "  \"FINN datatype.\".format(tensor, dtype)\n",
      "/workspace/finn-base/src/finn/util/basic.py:380: UserWarning: The values of tensor 8ptnaW can't be represented with the set FINN datatype (DataType.INT32), they will be rounded to match the FINN datatype.\n",
      "  \"FINN datatype.\".format(tensor, dtype)\n",
      "/workspace/finn-base/src/finn/util/basic.py:380: UserWarning: The values of tensor MultiThreshold_183_param0 can't be represented with the set FINN datatype (DataType.INT32), they will be rounded to match the FINN datatype.\n",
      "  \"FINN datatype.\".format(tensor, dtype)\n"
     ]
    },
    {
     "name": "stdout",
     "output_type": "stream",
     "text": [
      "Elapsed time: 962.2795071309956\n"
     ]
    }
   ],
   "source": [
    "import time\n",
    "t1 = time.perf_counter()\n",
    "\n",
    "################################################################################################\n",
    "####\n",
    "#### MODEL 2\n",
    "####\n",
    "model_2 = ModelWrapper(\"/tmp/quartznet_streamlined.onnx\") # CORRECT (new inferred datatypes)\n",
    "#model_2 = ModelWrapper(\"/tmp/quartznet_streamlined_partitioned.onnx\") #CORRECT\n",
    "#model_2 = ModelWrapper(\"/tmp/quartznet_streamlined_lowered.onnx\") #CORRECT\n",
    "#model_2 = ModelWrapper(\"/tmp/quartznet_temp_test.onnx\") #CORRECT?\n",
    "#model_2 = ModelWrapper(\"/tmp/quartznet_4d_topk.onnx\") # CORRECT (new)\n",
    "\n",
    "#model_2 = ModelWrapper(\"/tmp/test_quartznet_mulremoved.onnx\") # CORRECT (new)\n",
    "\n",
    "#### MODEL 2\n",
    "m1_input_val = input_val\n",
    "\n",
    "input0_tensor_name = model_2.graph.input[0].name\n",
    "#input_shape = model_2.get_tensor_shape(input0_tensor_name)\n",
    "#input_dtype = model_2.get_tensor_datatype(input0_tensor_name)\n",
    "input_dict = {}\n",
    "m2_input_val = np.reshape(m1_input_val, np.shape(m1_input_val)+(1,))\n",
    "input_dict[input0_tensor_name] = m2_input_val\n",
    "output0_tensor_name = model_2.graph.output[0].name\n",
    "\n",
    "expected_m2_dict = oxe.execute_onnx(model_2, input_dict, return_full_exec_context = False)\n",
    "expected_m2 = expected_m2_dict[output0_tensor_name]\n",
    "\n",
    "expected_m2 = np.reshape(expected_m2, np.shape(expected_m1))\n",
    "m2_input_val = np.reshape(m2_input_val, np.shape(m1_input_val))\n",
    "\n",
    "\n",
    "assert(m1_input_val==m2_input_val).all()\n",
    "assert(expected_m1==expected_m2).all()\n",
    "################################################################################################\n",
    "\n",
    "\n",
    "t2 = time.perf_counter() - t1\n",
    "print(\"Elapsed time: {}\".format(t2))"
   ]
  },
  {
   "cell_type": "code",
   "execution_count": null,
   "id": "israeli-vessel",
   "metadata": {},
   "outputs": [],
   "source": []
  }
 ],
 "metadata": {
  "kernelspec": {
   "display_name": "Python 3",
   "language": "python",
   "name": "python3"
  },
  "language_info": {
   "codemirror_mode": {
    "name": "ipython",
    "version": 3
   },
   "file_extension": ".py",
   "mimetype": "text/x-python",
   "name": "python",
   "nbconvert_exporter": "python",
   "pygments_lexer": "ipython3",
   "version": "3.6.8"
  }
 },
 "nbformat": 4,
 "nbformat_minor": 5
}
