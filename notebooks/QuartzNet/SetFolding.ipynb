{
 "cells": [
  {
   "cell_type": "code",
   "execution_count": 1,
   "id": "classified-placement",
   "metadata": {},
   "outputs": [
    {
     "name": "stdout",
     "output_type": "stream",
     "text": [
      "end2end_quartznet_export_dev.onnx\t    end2end_quartznet_tidy.onnx\r\n",
      "end2end_quartznet_lowered.onnx\t\t    old_model\r\n",
      "end2end_quartznet_lowered_partitioned.onnx  partitioning_lowering\r\n",
      "end2end_quartznet_streamline.onnx\t    partitioning_repartition\r\n"
     ]
    }
   ],
   "source": [
    "!ls /tmp/finn_dev_mirza"
   ]
  },
  {
   "cell_type": "code",
   "execution_count": 1,
   "id": "respective-operation",
   "metadata": {},
   "outputs": [
    {
     "name": "stdout",
     "output_type": "stream",
     "text": [
      "Serving '/tmp/finn_dev_mirza/end2end_quartznet_lowered_partitioned.onnx' at http://0.0.0.0:8081\n"
     ]
    },
    {
     "data": {
      "text/html": [
       "\n",
       "        <iframe\n",
       "            width=\"100%\"\n",
       "            height=\"400\"\n",
       "            src=\"http://0.0.0.0:8081/\"\n",
       "            frameborder=\"0\"\n",
       "            allowfullscreen\n",
       "        ></iframe>\n",
       "        "
      ],
      "text/plain": [
       "<IPython.lib.display.IFrame at 0x7f6a1c7a0c88>"
      ]
     },
     "execution_count": 1,
     "metadata": {},
     "output_type": "execute_result"
    }
   ],
   "source": [
    "from finn.util.visualization import showInNetron\n",
    "\n",
    "showInNetron(\"/tmp/finn_dev_mirza/end2end_quartznet_lowered_partitioned.onnx\")"
   ]
  },
  {
   "cell_type": "code",
   "execution_count": 1,
   "id": "rough-ferry",
   "metadata": {},
   "outputs": [
    {
     "name": "stdout",
     "output_type": "stream",
     "text": [
      "Serving '/tmp/finn_dev_mirza/partitioning_repartition/partition_13.onnx' at http://0.0.0.0:8081\n"
     ]
    },
    {
     "data": {
      "text/html": [
       "\n",
       "        <iframe\n",
       "            width=\"100%\"\n",
       "            height=\"400\"\n",
       "            src=\"http://0.0.0.0:8081/\"\n",
       "            frameborder=\"0\"\n",
       "            allowfullscreen\n",
       "        ></iframe>\n",
       "        "
      ],
      "text/plain": [
       "<IPython.lib.display.IFrame at 0x7f2bc8191c50>"
      ]
     },
     "execution_count": 1,
     "metadata": {},
     "output_type": "execute_result"
    }
   ],
   "source": [
    "from finn.util.visualization import showInNetron\n",
    "\n",
    "showInNetron(\"/tmp/finn_dev_mirza/partitioning_repartition/partition_13.onnx\")"
   ]
  },
  {
   "cell_type": "code",
   "execution_count": null,
   "id": "north-scale",
   "metadata": {},
   "outputs": [],
   "source": [
    "from finn.core.modelwrapper import ModelWrapper\n",
    "from finn.util.basic import get_by_name\n",
    "from finn.transformation.general import GiveUniqueNodeNames\n",
    "import finn.transformation.fpgadataflow.convert_to_hls_layers as to_hls\n",
    "\n",
    "\n",
    "model = ModelWrapper(\"/tmp/finn_dev_mirza/end2end_quartznet_lowered_partitioned.onnx\")\n",
    "mem_mode = \"decoupled\"\n",
    "\n",
    "#partition_dir = build_dir+\"/partitioning_hls\"\n",
    "partition_id = 0\n",
    "for n in model.graph.node:\n",
    "    if n.op_type==\"GenericPartition\" and n.name==\"GenericPartition_13\":\n",
    "        #inst = GetCustomOp(n)\n",
    "        prefix = \"pt_\"+str(partition_id)+\"_\"\n",
    "\n",
    "        path_to_partition = get_by_name(n.attribute, \"model\", \"name\").s.decode('utf-8')\n",
    "        model_partition = ModelWrapper(path_to_partition)\n",
    "\n",
    "        model_partition = model_partition.transform(to_hls.InferConvInpGen(), make_deepcopy=False)\n",
    "        model_partition = model_partition.transform(to_hls.InferVVAU(), make_deepcopy=False)\n",
    "        model_partition = model_partition.transform(to_hls.InferQuantizedStreamingFCLayer(mem_mode), make_deepcopy=False)\n",
    "        model_partition = model_partition.transform(to_hls.InferThresholdingLayer(), make_deepcopy=False)\n",
    "        model_partition = model_partition.transform(to_hls.InferAddStreamsLayer(), make_deepcopy=False)\n",
    "        model_partition = model_partition.transform(to_hls.InferDuplicateStreamsLayer(), make_deepcopy=False)\n",
    "\n",
    "        model_partition = model_partition.transform(GiveUniqueNodeNames(prefix))\n",
    "\n",
    "        #pathlib.Path(self.partition_dir).mkdir(parents=True, exist_ok=True)\n",
    "        #partition_path = partition_dir+\"/partition_\"+str(partition_id)+\".onnx\"\n",
    "        model_partition.save(path_to_partition)\n",
    "        #inst.set_nodeattr(\"model\", partition_path)\n",
    "\n",
    "        partition_id+=1\n",
    "\n",
    "model.save(build_dir+\"/end2end_quartznet_hls_layers.onnx\")"
   ]
  },
  {
   "cell_type": "code",
   "execution_count": null,
   "id": "designed-stroke",
   "metadata": {},
   "outputs": [],
   "source": []
  }
 ],
 "metadata": {
  "kernelspec": {
   "display_name": "Python 3",
   "language": "python",
   "name": "python3"
  },
  "language_info": {
   "codemirror_mode": {
    "name": "ipython",
    "version": 3
   },
   "file_extension": ".py",
   "mimetype": "text/x-python",
   "name": "python",
   "nbconvert_exporter": "python",
   "pygments_lexer": "ipython3",
   "version": "3.6.8"
  }
 },
 "nbformat": 4,
 "nbformat_minor": 5
}
