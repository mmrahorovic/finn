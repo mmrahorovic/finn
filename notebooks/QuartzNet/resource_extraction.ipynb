{
 "cells": [
  {
   "cell_type": "markdown",
   "id": "inappropriate-channels",
   "metadata": {},
   "source": [
    "# Extract attributes HLS"
   ]
  },
  {
   "cell_type": "code",
   "execution_count": 4,
   "id": "ready-nicaragua",
   "metadata": {},
   "outputs": [
    {
     "name": "stdout",
     "output_type": "stream",
     "text": [
      "Stopping http://0.0.0.0:8081\n",
      "Serving '/workspace/results/syn_v6/end2end_quartznet_syn_v6_ip_hlssynth_attr.onnx' at http://0.0.0.0:8081\n"
     ]
    },
    {
     "data": {
      "text/html": [
       "\n",
       "        <iframe\n",
       "            width=\"100%\"\n",
       "            height=\"400\"\n",
       "            src=\"http://0.0.0.0:8081/\"\n",
       "            frameborder=\"0\"\n",
       "            allowfullscreen\n",
       "        ></iframe>\n",
       "        "
      ],
      "text/plain": [
       "<IPython.lib.display.IFrame at 0x7f8766427a58>"
      ]
     },
     "execution_count": 4,
     "metadata": {},
     "output_type": "execute_result"
    }
   ],
   "source": [
    "from finn.util.visualization import showInNetron\n",
    "\n",
    "##############\n",
    "partitioned = False # no GenericPartition nodes\n",
    "#syn_id = \"syn_v5\"\n",
    "#file_path = \"/workspace/results/\"+syn_id+\"/end2end_quartznet_syn_v5_hlssynth_annotated.onnx\"\n",
    "\n",
    "syn_id=\"syn_v6\"\n",
    "file_path=\"/workspace/results/syn_v6/end2end_quartznet_syn_v6_ip_hlssynth_attr.onnx\"\n",
    "##############\n",
    "\n",
    "showInNetron(file_path)"
   ]
  },
  {
   "cell_type": "code",
   "execution_count": 23,
   "id": "fallen-adams",
   "metadata": {},
   "outputs": [],
   "source": [
    "######\n",
    "# Change model attribute of generic partition (because the path to partitioned models is different\n",
    "# from the docker container and from the singularity on the qce-alveo server)\n",
    "######\n",
    "\n",
    "#from finn.core.modelwrapper import ModelWrapper\n",
    "#from finn.custom_op.registry import getCustomOp\n",
    "\n",
    "#model = ModelWrapper(\"/workspace/results/syn_v0/end2end_quartznet_folded.onnx\")\n",
    "\n",
    "#for n in model.graph.node:\n",
    "#    if n.op_type==\"GenericPartition\":\n",
    "#        inst = getCustomOp(n)\n",
    "#        path = inst.get_nodeattr(\"model\")\n",
    "#        new_path = path.replace(\"/finn_dev_mirza\", \"/syn_v0\")\n",
    "#        inst.set_nodeattr(\"model\", new_path)\n",
    "    \n",
    "#model.save(\"/workspace/results/syn_v0/end2end_quartznet_folded_renamed.onnx\")    \n"
   ]
  },
  {
   "cell_type": "markdown",
   "id": "reduced-picking",
   "metadata": {},
   "source": [
    "# Create FINN estimates (AnnotateCycles, AnnotateResources)"
   ]
  },
  {
   "cell_type": "code",
   "execution_count": 2,
   "id": "intensive-state",
   "metadata": {},
   "outputs": [],
   "source": [
    "from finn.core.modelwrapper import ModelWrapper\n",
    "from finn.transformation.fpgadataflow.annotate_cycles import AnnotateCycles\n",
    "from finn.transformation.fpgadataflow.annotate_resources import AnnotateResources\n",
    "from finn.custom_op.registry import getCustomOp\n",
    "\n",
    "#model = ModelWrapper(\"/workspace/results/syn_v0/end2end_quartznet_folded_renamed.onnx\")\n",
    "model = ModelWrapper(file_path)\n",
    "\n",
    "if partitioned:\n",
    "    for n in model.graph.node:\n",
    "        if n.op_type==\"GenericPartition\":\n",
    "            inst = getCustomOp(n)\n",
    "            model_path = inst.get_nodeattr(\"model\")\n",
    "            model_partition = ModelWrapper(model_path)\n",
    "            model_partition = model_partition.transform(AnnotateCycles())\n",
    "            model_partition = model_partition.transform(AnnotateResources('estimate'))\n",
    "            model_partition.save(model_path)\n",
    "else:\n",
    "    model = model.transform(AnnotateCycles())\n",
    "    model = model.transform(AnnotateResources('estimate'))\n",
    "    model.save(file_path)   \n",
    "            \n",
    "#showInNetron(\"/workspace/results/syn_v0/end2end_quartznet_folded_renamed.onnx\")"
   ]
  },
  {
   "cell_type": "code",
   "execution_count": 5,
   "id": "dominant-spoke",
   "metadata": {},
   "outputs": [
    {
     "name": "stdout",
     "output_type": "stream",
     "text": [
      "Stopping http://0.0.0.0:8081\n",
      "Serving '/workspace/results/syn_v5/end2end_quartznet_syn_v5_hlssynth_annotated.onnx' at http://0.0.0.0:8081\n"
     ]
    },
    {
     "data": {
      "text/html": [
       "\n",
       "        <iframe\n",
       "            width=\"100%\"\n",
       "            height=\"400\"\n",
       "            src=\"http://0.0.0.0:8081/\"\n",
       "            frameborder=\"0\"\n",
       "            allowfullscreen\n",
       "        ></iframe>\n",
       "        "
      ],
      "text/plain": [
       "<IPython.lib.display.IFrame at 0x7f26f41f7e80>"
      ]
     },
     "execution_count": 5,
     "metadata": {},
     "output_type": "execute_result"
    }
   ],
   "source": [
    "from finn.util.visualization import showInNetron\n",
    "showInNetron(file_path)"
   ]
  },
  {
   "cell_type": "markdown",
   "id": "unlike-civilian",
   "metadata": {},
   "source": [
    "# Write relevant node attributes to .csv file"
   ]
  },
  {
   "cell_type": "code",
   "execution_count": 6,
   "id": "thorough-exploration",
   "metadata": {},
   "outputs": [
    {
     "name": "stdout",
     "output_type": "stream",
     "text": [
      "pt_0_Transpose_0\n",
      "pt_0_FMPadding_Batch_0\n",
      "pt_0_ConvolutionInputGenerator1D_0\n",
      "pt_0_Vector_Vector_Activate_Batch_0\n",
      "pt_1_StreamingFCLayer_Batch_0\n",
      "pt_1_DuplicateStreams_Batch_0\n",
      "pt_1_FMPadding_Batch_0\n",
      "pt_1_StreamingFCLayer_Batch_1\n",
      "pt_1_ConvolutionInputGenerator1D_0\n",
      "pt_1_Vector_Vector_Activate_Batch_0\n",
      "pt_1_StreamingFCLayer_Batch_2\n",
      "pt_1_FMPadding_Batch_4\n",
      "pt_1_ConvolutionInputGenerator1D_4\n",
      "pt_1_Vector_Vector_Activate_Batch_4\n",
      "pt_1_StreamingFCLayer_Batch_6\n",
      "pt_1_AddStreams_Batch_0\n",
      "pt_4_Thresholding_Batch_0\n",
      "pt_4_DuplicateStreams_Batch_0\n",
      "pt_4_StreamingFCLayer_Batch_0\n",
      "pt_4_FMPadding_Batch_4\n",
      "pt_4_ConvolutionInputGenerator1D_4\n",
      "pt_4_Vector_Vector_Activate_Batch_4\n",
      "pt_4_StreamingFCLayer_Batch_5\n",
      "pt_4_AddStreams_Batch_0\n",
      "pt_7_Thresholding_Batch_0\n",
      "pt_7_DuplicateStreams_Batch_0\n",
      "pt_7_FMPadding_Batch_0\n",
      "pt_7_StreamingFCLayer_Batch_0\n",
      "pt_7_ConvolutionInputGenerator1D_0\n",
      "pt_7_Vector_Vector_Activate_Batch_0\n",
      "pt_7_StreamingFCLayer_Batch_1\n",
      "pt_7_FMPadding_Batch_4\n",
      "pt_7_ConvolutionInputGenerator1D_4\n",
      "pt_7_Vector_Vector_Activate_Batch_4\n",
      "pt_7_StreamingFCLayer_Batch_5\n",
      "pt_7_AddStreams_Batch_0\n",
      "pt_10_Thresholding_Batch_0\n",
      "pt_10_DuplicateStreams_Batch_0\n",
      "pt_10_StreamingFCLayer_Batch_0\n",
      "pt_10_FMPadding_Batch_4\n",
      "pt_10_ConvolutionInputGenerator1D_4\n",
      "pt_10_Vector_Vector_Activate_Batch_4\n",
      "pt_10_StreamingFCLayer_Batch_5\n",
      "pt_10_AddStreams_Batch_0\n",
      "pt_13_Thresholding_Batch_0\n",
      "pt_13_DuplicateStreams_Batch_0\n",
      "pt_13_StreamingFCLayer_Batch_0\n",
      "pt_13_FMPadding_Batch_4\n",
      "pt_13_ConvolutionInputGenerator1D_4\n",
      "pt_13_Vector_Vector_Activate_Batch_4\n",
      "pt_13_StreamingFCLayer_Batch_5\n",
      "pt_13_AddStreams_Batch_0\n",
      "pt_16_Thresholding_Batch_0\n",
      "pt_16_FMPadding_Batch_0\n",
      "pt_16_ConvolutionInputGenerator1D_0\n",
      "pt_16_Vector_Vector_Activate_Batch_0\n",
      "pt_16_StreamingFCLayer_Batch_0\n",
      "pt_16_StreamingFCLayer_Batch_1\n",
      "pt_16_StreamingFCLayer_Batch_2\n",
      "Transpose_0\n",
      "Add_0\n",
      "Transpose_1\n",
      "LogSoftmax_0\n",
      "ArgMax_0\n",
      "{'0_FMPadding_Batch_0': {'name': {'partition_id': '0', 'node_name': '0_FMPadding_Batch_0'}, 'folding': {'PE': None, 'SIMD': 1}, 'res_types': {'res_type': '-', 'ram_style': '-', 'mem_mode': '-'}, 'timing_hls': {'CLK_target': 10, 'CLK_est': '2.233 ns', 'Cycles (best-ave-worst)': \"['18438', '18438', '18438'] clock cycles\"}, 'res_hls': \"{'BRAM_18K': '0', 'FF': '53', 'LUT': '323', 'DSP48E': '0', 'URAM': '0'}\", 'FINN cycles': {'exp_cycles': 18432, 'rtlsim_cycles': '-'}, 'res_estimate': \"{'BRAM_18K': 0, 'BRAM_efficiency': 1, 'LUT': 0, 'URAM': 0, 'URAM_efficiency': 1, 'DSP': 0}\"}, '0_ConvolutionInputGenerator1D_0': {'name': {'partition_id': '0', 'node_name': '0_ConvolutionInputGenerator1D_0'}, 'folding': {'PE': None, 'SIMD': 1}, 'res_types': {'res_type': '-', 'ram_style': 'distributed', 'mem_mode': '-'}, 'timing_hls': {'CLK_target': 10, 'CLK_est': '2.583 ns', 'Cycles (best-ave-worst)': \"['288773', '288773', '288773'] clock cycles\"}, 'res_hls': \"{'BRAM_18K': '0', 'FF': '303', 'LUT': '5579', 'DSP48E': '0', 'URAM': '0'}\", 'FINN cycles': {'exp_cycles': 288768, 'rtlsim_cycles': '-'}, 'res_estimate': \"{'BRAM_18K': 0, 'BRAM_efficiency': 1, 'LUT': 80940, 'URAM': 0, 'URAM_efficiency': 1, 'DSP': 0}\"}, '0_Vector_Vector_Activate_Batch_0': {'name': {'partition_id': '0', 'node_name': '0_Vector_Vector_Activate_Batch_0'}, 'folding': {'PE': 1, 'SIMD': None}, 'res_types': {'res_type': 'dsp', 'ram_style': '-', 'mem_mode': '-'}, 'timing_hls': {'CLK_target': 10, 'CLK_est': '2.583 ns', 'Cycles (best-ave-worst)': \"['270345', '270345', '270345'] clock cycles\"}, 'res_hls': \"{'BRAM_18K': '2', 'FF': '2838', 'LUT': '11028', 'DSP48E': '1', 'URAM': '0'}\", 'FINN cycles': {'exp_cycles': 270336, 'rtlsim_cycles': '-'}, 'res_estimate': \"{'BRAM_18K': 2, 'BRAM_efficiency': 0.4583333333333333, 'LUT': 12666, 'URAM': 0, 'URAM_efficiency': 1, 'DSP': 1}\"}, '1_StreamingFCLayer_Batch_0': {'name': {'partition_id': '1', 'node_name': '1_StreamingFCLayer_Batch_0'}, 'folding': {'PE': 1, 'SIMD': 1}, 'res_types': {'res_type': 'dsp', 'ram_style': 'ultra', 'mem_mode': 'decoupled'}, 'timing_hls': {'CLK_target': 10, 'CLK_est': '2.589 ns', 'Cycles (best-ave-worst)': \"['2097160', '2097160', '2097160'] clock cycles\"}, 'res_hls': \"{'BRAM_18K': '255', 'FF': '1028', 'LUT': '9125', 'DSP48E': '1', 'URAM': '0'}\", 'FINN cycles': {'exp_cycles': 2097152, 'rtlsim_cycles': '-'}, 'res_estimate': \"{'BRAM_18K': 0, 'BRAM_efficiency': 1, 'LUT': 31196, 'URAM': 4, 'URAM_efficiency': 0.1111111111111111, 'DSP': 1}\"}, '1_DuplicateStreams_Batch_0': {'name': {'partition_id': '1', 'node_name': '1_DuplicateStreams_Batch_0'}, 'folding': {'PE': 1, 'SIMD': None}, 'res_types': {'res_type': '-', 'ram_style': '-', 'mem_mode': '-'}, 'timing_hls': {'CLK_target': 10, 'CLK_est': '0.798 ns', 'Cycles (best-ave-worst)': \"['32774', '32774', '32774'] clock cycles\"}, 'res_hls': \"{'BRAM_18K': '0', 'FF': '38', 'LUT': '197', 'DSP48E': '0', 'URAM': '0'}\", 'FINN cycles': {'exp_cycles': 32768, 'rtlsim_cycles': '-'}, 'res_estimate': \"{'BRAM_18K': 0, 'BRAM_efficiency': 1, 'LUT': 0, 'URAM': 0, 'URAM_efficiency': 1, 'DSP': 0}\"}, '1_FMPadding_Batch_0': {'name': {'partition_id': '1', 'node_name': '1_FMPadding_Batch_0'}, 'folding': {'PE': None, 'SIMD': 1}, 'res_types': {'res_type': '-', 'ram_style': '-', 'mem_mode': '-'}, 'timing_hls': {'CLK_target': 10, 'CLK_est': '2.242 ns', 'Cycles (best-ave-worst)': \"['40966', '40966', '40966'] clock cycles\"}, 'res_hls': \"{'BRAM_18K': '0', 'FF': '55', 'LUT': '319', 'DSP48E': '0', 'URAM': '0'}\", 'FINN cycles': {'exp_cycles': 40960, 'rtlsim_cycles': '-'}, 'res_estimate': \"{'BRAM_18K': 0, 'BRAM_efficiency': 1, 'LUT': 0, 'URAM': 0, 'URAM_efficiency': 1, 'DSP': 0}\"}, '1_StreamingFCLayer_Batch_1': {'name': {'partition_id': '1', 'node_name': '1_StreamingFCLayer_Batch_1'}, 'folding': {'PE': 1, 'SIMD': 4}, 'res_types': {'res_type': 'dsp', 'ram_style': 'ultra', 'mem_mode': 'decoupled'}, 'timing_hls': {'CLK_target': 10, 'CLK_est': '2.569 ns', 'Cycles (best-ave-worst)': \"['2097161', '2097161', '2097161'] clock cycles\"}, 'res_hls': \"{'BRAM_18K': '15', 'FF': '2656', 'LUT': '1378', 'DSP48E': '3', 'URAM': '0'}\", 'FINN cycles': {'exp_cycles': 2097152, 'rtlsim_cycles': '-'}, 'res_estimate': \"{'BRAM_18K': 0, 'BRAM_efficiency': 1, 'LUT': 2064, 'URAM': 4, 'URAM_efficiency': 0.2222222222222222, 'DSP': 4}\"}, '1_ConvolutionInputGenerator1D_0': {'name': {'partition_id': '1', 'node_name': '1_ConvolutionInputGenerator1D_0'}, 'folding': {'PE': None, 'SIMD': 1}, 'res_types': {'res_type': '-', 'ram_style': 'distributed', 'mem_mode': '-'}, 'timing_hls': {'CLK_target': 10, 'CLK_est': '2.583 ns', 'Cycles (best-ave-worst)': \"['1122309', '1122309', '1122309'] clock cycles\"}, 'res_hls': \"{'BRAM_18K': '0', 'FF': '449', 'LUT': '11588', 'DSP48E': '0', 'URAM': '0'}\", 'FINN cycles': {'exp_cycles': 1122304, 'rtlsim_cycles': '-'}, 'res_estimate': \"{'BRAM_18K': 0, 'BRAM_efficiency': 1, 'LUT': 174380, 'URAM': 0, 'URAM_efficiency': 1, 'DSP': 0}\"}, '1_Vector_Vector_Activate_Batch_0': {'name': {'partition_id': '1', 'node_name': '1_Vector_Vector_Activate_Batch_0'}, 'folding': {'PE': 1, 'SIMD': None}, 'res_types': {'res_type': 'dsp', 'ram_style': '-', 'mem_mode': '-'}, 'timing_hls': {'CLK_target': 10, 'CLK_est': '2.583 ns', 'Cycles (best-ave-worst)': \"['1081351', '1081351', '1081351'] clock cycles\"}, 'res_hls': \"{'BRAM_18K': '18', 'FF': '497', 'LUT': '951', 'DSP48E': '1', 'URAM': '0'}\", 'FINN cycles': {'exp_cycles': 1081344, 'rtlsim_cycles': '-'}, 'res_estimate': \"{'BRAM_18K': 3, 'BRAM_efficiency': 0.6111111111111112, 'LUT': 1804, 'URAM': 0, 'URAM_efficiency': 1, 'DSP': 1}\"}, '1_StreamingFCLayer_Batch_2': {'name': {'partition_id': '1', 'node_name': '1_StreamingFCLayer_Batch_2'}, 'folding': {'PE': 1, 'SIMD': 4}, 'res_types': {'res_type': 'dsp', 'ram_style': 'ultra', 'mem_mode': 'decoupled'}, 'timing_hls': {'CLK_target': 10, 'CLK_est': '2.569 ns', 'Cycles (best-ave-worst)': \"['2097160', '2097160', '2097160'] clock cycles\"}, 'res_hls': \"{'BRAM_18K': '15', 'FF': '1329', 'LUT': '1122', 'DSP48E': '3', 'URAM': '0'}\", 'FINN cycles': {'exp_cycles': 2097152, 'rtlsim_cycles': '-'}, 'res_estimate': \"{'BRAM_18K': 0, 'BRAM_efficiency': 1, 'LUT': 1699, 'URAM': 4, 'URAM_efficiency': 0.2222222222222222, 'DSP': 4}\"}, '1_FMPadding_Batch_4': {'name': {'partition_id': '1', 'node_name': '1_FMPadding_Batch_4'}, 'folding': {'PE': None, 'SIMD': 1}, 'res_types': {'res_type': '-', 'ram_style': '-', 'mem_mode': '-'}, 'timing_hls': {'CLK_target': 10, 'CLK_est': '2.242 ns', 'Cycles (best-ave-worst)': \"['40966', '40966', '40966'] clock cycles\"}, 'res_hls': \"{'BRAM_18K': '0', 'FF': '51', 'LUT': '319', 'DSP48E': '0', 'URAM': '0'}\", 'FINN cycles': {'exp_cycles': 40960, 'rtlsim_cycles': '-'}, 'res_estimate': \"{'BRAM_18K': 0, 'BRAM_efficiency': 1, 'LUT': 0, 'URAM': 0, 'URAM_efficiency': 1, 'DSP': 0}\"}, '1_ConvolutionInputGenerator1D_4': {'name': {'partition_id': '1', 'node_name': '1_ConvolutionInputGenerator1D_4'}, 'folding': {'PE': None, 'SIMD': 1}, 'res_types': {'res_type': '-', 'ram_style': 'distributed', 'mem_mode': '-'}, 'timing_hls': {'CLK_target': 10, 'CLK_est': '2.583 ns', 'Cycles (best-ave-worst)': \"['1122309', '1122309', '1122309'] clock cycles\"}, 'res_hls': \"{'BRAM_18K': '0', 'FF': '433', 'LUT': '6494', 'DSP48E': '0', 'URAM': '0'}\", 'FINN cycles': {'exp_cycles': 1122304, 'rtlsim_cycles': '-'}, 'res_estimate': \"{'BRAM_18K': 0, 'BRAM_efficiency': 1, 'LUT': 87340, 'URAM': 0, 'URAM_efficiency': 1, 'DSP': 0}\"}, '1_Vector_Vector_Activate_Batch_4': {'name': {'partition_id': '1', 'node_name': '1_Vector_Vector_Activate_Batch_4'}, 'folding': {'PE': 1, 'SIMD': None}, 'res_types': {'res_type': 'dsp', 'ram_style': '-', 'mem_mode': '-'}, 'timing_hls': {'CLK_target': 10, 'CLK_est': '2.583 ns', 'Cycles (best-ave-worst)': \"['1081351', '1081351', '1081351'] clock cycles\"}, 'res_hls': \"{'BRAM_18K': '18', 'FF': '450', 'LUT': '842', 'DSP48E': '1', 'URAM': '0'}\", 'FINN cycles': {'exp_cycles': 1081344, 'rtlsim_cycles': '-'}, 'res_estimate': \"{'BRAM_18K': 3, 'BRAM_efficiency': 0.6111111111111112, 'LUT': 1470, 'URAM': 0, 'URAM_efficiency': 1, 'DSP': 1}\"}, '1_StreamingFCLayer_Batch_6': {'name': {'partition_id': '1', 'node_name': '1_StreamingFCLayer_Batch_6'}, 'folding': {'PE': 1, 'SIMD': 4}, 'res_types': {'res_type': 'dsp', 'ram_style': 'ultra', 'mem_mode': 'decoupled'}, 'timing_hls': {'CLK_target': 10, 'CLK_est': '2.569 ns', 'Cycles (best-ave-worst)': \"['2097160', '2097160', '2097160'] clock cycles\"}, 'res_hls': \"{'BRAM_18K': '15', 'FF': '1333', 'LUT': '1138', 'DSP48E': '3', 'URAM': '0'}\", 'FINN cycles': {'exp_cycles': 2097152, 'rtlsim_cycles': '-'}, 'res_estimate': \"{'BRAM_18K': 0, 'BRAM_efficiency': 1, 'LUT': 1699, 'URAM': 4, 'URAM_efficiency': 0.2222222222222222, 'DSP': 4}\"}, '1_AddStreams_Batch_0': {'name': {'partition_id': '1', 'node_name': '1_AddStreams_Batch_0'}, 'folding': {'PE': 1, 'SIMD': None}, 'res_types': {'res_type': '-', 'ram_style': '-', 'mem_mode': '-'}, 'timing_hls': {'CLK_target': 10, 'CLK_est': '0.798 ns', 'Cycles (best-ave-worst)': \"['32774', '32774', '32774'] clock cycles\"}, 'res_hls': \"{'BRAM_18K': '0', 'FF': '35', 'LUT': '224', 'DSP48E': '0', 'URAM': '0'}\", 'FINN cycles': {'exp_cycles': 32768, 'rtlsim_cycles': '-'}, 'res_estimate': \"{'BRAM_18K': 0, 'BRAM_efficiency': 1, 'LUT': 0, 'URAM': 0, 'URAM_efficiency': 1, 'DSP': 0}\"}, '4_Thresholding_Batch_0': {'name': {'partition_id': '4', 'node_name': '4_Thresholding_Batch_0'}, 'folding': {'PE': 1, 'SIMD': None}, 'res_types': {'res_type': '-', 'ram_style': 'distributed', 'mem_mode': 'const'}, 'timing_hls': {'CLK_target': 10, 'CLK_est': '2.284 ns', 'Cycles (best-ave-worst)': \"['4194310', '4194310', '4194310'] clock cycles\"}, 'res_hls': \"{'BRAM_18K': '0', 'FF': '184', 'LUT': '864', 'DSP48E': '0', 'URAM': '0'}\", 'FINN cycles': {'exp_cycles': 32768, 'rtlsim_cycles': '-'}, 'res_estimate': \"{'BRAM_18K': 0, 'BRAM_efficiency': 1, 'LUT': 160, 'URAM': 0, 'URAM_efficiency': 1, 'DSP': 0}\"}, '4_DuplicateStreams_Batch_0': {'name': {'partition_id': '4', 'node_name': '4_DuplicateStreams_Batch_0'}, 'folding': {'PE': 1, 'SIMD': None}, 'res_types': {'res_type': '-', 'ram_style': '-', 'mem_mode': '-'}, 'timing_hls': {'CLK_target': 10, 'CLK_est': '0.785 ns', 'Cycles (best-ave-worst)': \"['32774', '32774', '32774'] clock cycles\"}, 'res_hls': \"{'BRAM_18K': '0', 'FF': '34', 'LUT': '197', 'DSP48E': '0', 'URAM': '0'}\", 'FINN cycles': {'exp_cycles': 32768, 'rtlsim_cycles': '-'}, 'res_estimate': \"{'BRAM_18K': 0, 'BRAM_efficiency': 1, 'LUT': 0, 'URAM': 0, 'URAM_efficiency': 1, 'DSP': 0}\"}, '4_StreamingFCLayer_Batch_0': {'name': {'partition_id': '4', 'node_name': '4_StreamingFCLayer_Batch_0'}, 'folding': {'PE': 1, 'SIMD': 4}, 'res_types': {'res_type': 'dsp', 'ram_style': 'ultra', 'mem_mode': 'decoupled'}, 'timing_hls': {'CLK_target': 10, 'CLK_est': '2.569 ns', 'Cycles (best-ave-worst)': \"['2097160', '2097160', '2097160'] clock cycles\"}, 'res_hls': \"{'BRAM_18K': '15', 'FF': '1336', 'LUT': '1140', 'DSP48E': '3', 'URAM': '0'}\", 'FINN cycles': {'exp_cycles': 2097152, 'rtlsim_cycles': '-'}, 'res_estimate': \"{'BRAM_18K': 0, 'BRAM_efficiency': 1, 'LUT': 1699, 'URAM': 4, 'URAM_efficiency': 0.2222222222222222, 'DSP': 4}\"}, '4_FMPadding_Batch_4': {'name': {'partition_id': '4', 'node_name': '4_FMPadding_Batch_4'}, 'folding': {'PE': None, 'SIMD': 1}, 'res_types': {'res_type': '-', 'ram_style': '-', 'mem_mode': '-'}, 'timing_hls': {'CLK_target': 10, 'CLK_est': '2.167 ns', 'Cycles (best-ave-worst)': \"['42502', '42502', '42502'] clock cycles\"}, 'res_hls': \"{'BRAM_18K': '0', 'FF': '51', 'LUT': '323', 'DSP48E': '0', 'URAM': '0'}\", 'FINN cycles': {'exp_cycles': 42496, 'rtlsim_cycles': '-'}, 'res_estimate': \"{'BRAM_18K': 0, 'BRAM_efficiency': 1, 'LUT': 0, 'URAM': 0, 'URAM_efficiency': 1, 'DSP': 0}\"}, '4_ConvolutionInputGenerator1D_4': {'name': {'partition_id': '4', 'node_name': '4_ConvolutionInputGenerator1D_4'}, 'folding': {'PE': None, 'SIMD': 1}, 'res_types': {'res_type': '-', 'ram_style': 'distributed', 'mem_mode': '-'}, 'timing_hls': {'CLK_target': 10, 'CLK_est': '2.583 ns', 'Cycles (best-ave-worst)': \"['1320453', '1320453', '1320453'] clock cycles\"}, 'res_hls': \"{'BRAM_18K': '0', 'FF': '433', 'LUT': '6686', 'DSP48E': '0', 'URAM': '0'}\", 'FINN cycles': {'exp_cycles': 1320448, 'rtlsim_cycles': '-'}, 'res_estimate': \"{'BRAM_18K': 0, 'BRAM_efficiency': 1, 'LUT': 106540, 'URAM': 0, 'URAM_efficiency': 1, 'DSP': 0}\"}, '4_Vector_Vector_Activate_Batch_4': {'name': {'partition_id': '4', 'node_name': '4_Vector_Vector_Activate_Batch_4'}, 'folding': {'PE': 1, 'SIMD': None}, 'res_types': {'res_type': 'dsp', 'ram_style': '-', 'mem_mode': '-'}, 'timing_hls': {'CLK_target': 10, 'CLK_est': '2.583 ns', 'Cycles (best-ave-worst)': \"['1277959', '1277959', '1277959'] clock cycles\"}, 'res_hls': \"{'BRAM_18K': '18', 'FF': '463', 'LUT': '843', 'DSP48E': '1', 'URAM': '0'}\", 'FINN cycles': {'exp_cycles': 1277952, 'rtlsim_cycles': '-'}, 'res_estimate': \"{'BRAM_18K': 3, 'BRAM_efficiency': 0.7222222222222222, 'LUT': 1470, 'URAM': 0, 'URAM_efficiency': 1, 'DSP': 1}\"}, '4_StreamingFCLayer_Batch_5': {'name': {'partition_id': '4', 'node_name': '4_StreamingFCLayer_Batch_5'}, 'folding': {'PE': 1, 'SIMD': 4}, 'res_types': {'res_type': 'dsp', 'ram_style': 'ultra', 'mem_mode': 'decoupled'}, 'timing_hls': {'CLK_target': 10, 'CLK_est': '2.569 ns', 'Cycles (best-ave-worst)': \"['2097160', '2097160', '2097160'] clock cycles\"}, 'res_hls': \"{'BRAM_18K': '15', 'FF': '1333', 'LUT': '1138', 'DSP48E': '3', 'URAM': '0'}\", 'FINN cycles': {'exp_cycles': 2097152, 'rtlsim_cycles': '-'}, 'res_estimate': \"{'BRAM_18K': 0, 'BRAM_efficiency': 1, 'LUT': 1699, 'URAM': 4, 'URAM_efficiency': 0.2222222222222222, 'DSP': 4}\"}, '4_AddStreams_Batch_0': {'name': {'partition_id': '4', 'node_name': '4_AddStreams_Batch_0'}, 'folding': {'PE': 1, 'SIMD': None}, 'res_types': {'res_type': '-', 'ram_style': '-', 'mem_mode': '-'}, 'timing_hls': {'CLK_target': 10, 'CLK_est': '0.798 ns', 'Cycles (best-ave-worst)': \"['32774', '32774', '32774'] clock cycles\"}, 'res_hls': \"{'BRAM_18K': '0', 'FF': '35', 'LUT': '224', 'DSP48E': '0', 'URAM': '0'}\", 'FINN cycles': {'exp_cycles': 32768, 'rtlsim_cycles': '-'}, 'res_estimate': \"{'BRAM_18K': 0, 'BRAM_efficiency': 1, 'LUT': 0, 'URAM': 0, 'URAM_efficiency': 1, 'DSP': 0}\"}, '7_Thresholding_Batch_0': {'name': {'partition_id': '7', 'node_name': '7_Thresholding_Batch_0'}, 'folding': {'PE': 1, 'SIMD': None}, 'res_types': {'res_type': '-', 'ram_style': 'distributed', 'mem_mode': 'const'}, 'timing_hls': {'CLK_target': 10, 'CLK_est': '2.284 ns', 'Cycles (best-ave-worst)': \"['4194310', '4194310', '4194310'] clock cycles\"}, 'res_hls': \"{'BRAM_18K': '0', 'FF': '194', 'LUT': '879', 'DSP48E': '0', 'URAM': '0'}\", 'FINN cycles': {'exp_cycles': 32768, 'rtlsim_cycles': '-'}, 'res_estimate': \"{'BRAM_18K': 0, 'BRAM_efficiency': 1, 'LUT': 160, 'URAM': 0, 'URAM_efficiency': 1, 'DSP': 0}\"}, '7_DuplicateStreams_Batch_0': {'name': {'partition_id': '7', 'node_name': '7_DuplicateStreams_Batch_0'}, 'folding': {'PE': 1, 'SIMD': None}, 'res_types': {'res_type': '-', 'ram_style': '-', 'mem_mode': '-'}, 'timing_hls': {'CLK_target': 10, 'CLK_est': '0.785 ns', 'Cycles (best-ave-worst)': \"['32774', '32774', '32774'] clock cycles\"}, 'res_hls': \"{'BRAM_18K': '0', 'FF': '34', 'LUT': '197', 'DSP48E': '0', 'URAM': '0'}\", 'FINN cycles': {'exp_cycles': 32768, 'rtlsim_cycles': '-'}, 'res_estimate': \"{'BRAM_18K': 0, 'BRAM_efficiency': 1, 'LUT': 0, 'URAM': 0, 'URAM_efficiency': 1, 'DSP': 0}\"}, '7_FMPadding_Batch_0': {'name': {'partition_id': '7', 'node_name': '7_FMPadding_Batch_0'}, 'folding': {'PE': None, 'SIMD': 1}, 'res_types': {'res_type': '-', 'ram_style': '-', 'mem_mode': '-'}, 'timing_hls': {'CLK_target': 10, 'CLK_est': '2.167 ns', 'Cycles (best-ave-worst)': \"['45574', '45574', '45574'] clock cycles\"}, 'res_hls': \"{'BRAM_18K': '0', 'FF': '51', 'LUT': '323', 'DSP48E': '0', 'URAM': '0'}\", 'FINN cycles': {'exp_cycles': 45568, 'rtlsim_cycles': '-'}, 'res_estimate': \"{'BRAM_18K': 0, 'BRAM_efficiency': 1, 'LUT': 0, 'URAM': 0, 'URAM_efficiency': 1, 'DSP': 0}\"}, '7_StreamingFCLayer_Batch_0': {'name': {'partition_id': '7', 'node_name': '7_StreamingFCLayer_Batch_0'}, 'folding': {'PE': 1, 'SIMD': 8}, 'res_types': {'res_type': 'dsp', 'ram_style': 'ultra', 'mem_mode': 'decoupled'}, 'timing_hls': {'CLK_target': 10, 'CLK_est': '2.569 ns', 'Cycles (best-ave-worst)': \"['2097160', '2097160', '2097160'] clock cycles\"}, 'res_hls': \"{'BRAM_18K': '15', 'FF': '1404', 'LUT': '1051', 'DSP48E': '5', 'URAM': '0'}\", 'FINN cycles': {'exp_cycles': 2097152, 'rtlsim_cycles': '-'}, 'res_estimate': \"{'BRAM_18K': 0, 'BRAM_efficiency': 1, 'LUT': 2825, 'URAM': 4, 'URAM_efficiency': 0.4444444444444444, 'DSP': 8}\"}, '7_ConvolutionInputGenerator1D_0': {'name': {'partition_id': '7', 'node_name': '7_ConvolutionInputGenerator1D_0'}, 'folding': {'PE': None, 'SIMD': 1}, 'res_types': {'res_type': '-', 'ram_style': 'distributed', 'mem_mode': '-'}, 'timing_hls': {'CLK_target': 10, 'CLK_est': '2.583 ns', 'Cycles (best-ave-worst)': \"['1716741', '1716741', '1716741'] clock cycles\"}, 'res_hls': \"{'BRAM_18K': '0', 'FF': '433', 'LUT': '7070', 'DSP48E': '0', 'URAM': '0'}\", 'FINN cycles': {'exp_cycles': 1716736, 'rtlsim_cycles': '-'}, 'res_estimate': \"{'BRAM_18K': 0, 'BRAM_efficiency': 1, 'LUT': 148396, 'URAM': 0, 'URAM_efficiency': 1, 'DSP': 0}\"}, '7_Vector_Vector_Activate_Batch_0': {'name': {'partition_id': '7', 'node_name': '7_Vector_Vector_Activate_Batch_0'}, 'folding': {'PE': 1, 'SIMD': None}, 'res_types': {'res_type': 'dsp', 'ram_style': '-', 'mem_mode': '-'}, 'timing_hls': {'CLK_target': 10, 'CLK_est': '2.583 ns', 'Cycles (best-ave-worst)': \"['1671175', '1671175', '1671175'] clock cycles\"}, 'res_hls': \"{'BRAM_18K': '19', 'FF': '434', 'LUT': '843', 'DSP48E': '1', 'URAM': '0'}\", 'FINN cycles': {'exp_cycles': 1671168, 'rtlsim_cycles': '-'}, 'res_estimate': \"{'BRAM_18K': 4, 'BRAM_efficiency': 0.7083333333333334, 'LUT': 1470, 'URAM': 0, 'URAM_efficiency': 1, 'DSP': 1}\"}, '7_StreamingFCLayer_Batch_1': {'name': {'partition_id': '7', 'node_name': '7_StreamingFCLayer_Batch_1'}, 'folding': {'PE': 1, 'SIMD': 8}, 'res_types': {'res_type': 'dsp', 'ram_style': 'ultra', 'mem_mode': 'decoupled'}, 'timing_hls': {'CLK_target': 10, 'CLK_est': '2.569 ns', 'Cycles (best-ave-worst)': \"['2097160', '2097160', '2097160'] clock cycles\"}, 'res_hls': \"{'BRAM_18K': '15', 'FF': '1400', 'LUT': '1033', 'DSP48E': '5', 'URAM': '0'}\", 'FINN cycles': {'exp_cycles': 2097152, 'rtlsim_cycles': '-'}, 'res_estimate': \"{'BRAM_18K': 0, 'BRAM_efficiency': 1, 'LUT': 2825, 'URAM': 4, 'URAM_efficiency': 0.4444444444444444, 'DSP': 8}\"}, '7_FMPadding_Batch_4': {'name': {'partition_id': '7', 'node_name': '7_FMPadding_Batch_4'}, 'folding': {'PE': None, 'SIMD': 1}, 'res_types': {'res_type': '-', 'ram_style': '-', 'mem_mode': '-'}, 'timing_hls': {'CLK_target': 10, 'CLK_est': '2.167 ns', 'Cycles (best-ave-worst)': \"['91142', '91142', '91142'] clock cycles\"}, 'res_hls': \"{'BRAM_18K': '0', 'FF': '53', 'LUT': '333', 'DSP48E': '0', 'URAM': '0'}\", 'FINN cycles': {'exp_cycles': 91136, 'rtlsim_cycles': '-'}, 'res_estimate': \"{'BRAM_18K': 0, 'BRAM_efficiency': 1, 'LUT': 0, 'URAM': 0, 'URAM_efficiency': 1, 'DSP': 0}\"}, '7_ConvolutionInputGenerator1D_4': {'name': {'partition_id': '7', 'node_name': '7_ConvolutionInputGenerator1D_4'}, 'folding': {'PE': None, 'SIMD': 2}, 'res_types': {'res_type': '-', 'ram_style': 'distributed', 'mem_mode': '-'}, 'timing_hls': {'CLK_target': 10, 'CLK_est': '2.583 ns', 'Cycles (best-ave-worst)': \"['1716741', '1716741', '1716741'] clock cycles\"}, 'res_hls': \"{'BRAM_18K': '0', 'FF': '449', 'LUT': '12740', 'DSP48E': '0', 'URAM': '0'}\", 'FINN cycles': {'exp_cycles': 1716736, 'rtlsim_cycles': '-'}, 'res_estimate': \"{'BRAM_18K': 0, 'BRAM_efficiency': 1, 'LUT': 296492, 'URAM': 0, 'URAM_efficiency': 1, 'DSP': 0}\"}, '7_Vector_Vector_Activate_Batch_4': {'name': {'partition_id': '7', 'node_name': '7_Vector_Vector_Activate_Batch_4'}, 'folding': {'PE': 2, 'SIMD': None}, 'res_types': {'res_type': 'dsp', 'ram_style': '-', 'mem_mode': '-'}, 'timing_hls': {'CLK_target': 10, 'CLK_est': '2.583 ns', 'Cycles (best-ave-worst)': \"['1671175', '1671175', '1671175'] clock cycles\"}, 'res_hls': \"{'BRAM_18K': '38', 'FF': '512', 'LUT': '1248', 'DSP48E': '1', 'URAM': '0'}\", 'FINN cycles': {'exp_cycles': 1671168, 'rtlsim_cycles': '-'}, 'res_estimate': \"{'BRAM_18K': 8, 'BRAM_efficiency': 0.7083333333333334, 'LUT': 2640, 'URAM': 0, 'URAM_efficiency': 1, 'DSP': 2}\"}, '7_StreamingFCLayer_Batch_5': {'name': {'partition_id': '7', 'node_name': '7_StreamingFCLayer_Batch_5'}, 'folding': {'PE': 1, 'SIMD': 16}, 'res_types': {'res_type': 'dsp', 'ram_style': 'ultra', 'mem_mode': 'decoupled'}, 'timing_hls': {'CLK_target': 10, 'CLK_est': '2.569 ns', 'Cycles (best-ave-worst)': \"['2097160', '2097160', '2097160'] clock cycles\"}, 'res_hls': \"{'BRAM_18K': '15', 'FF': '2784', 'LUT': '1169', 'DSP48E': '9', 'URAM': '0'}\", 'FINN cycles': {'exp_cycles': 2097152, 'rtlsim_cycles': '-'}, 'res_estimate': \"{'BRAM_18K': 0, 'BRAM_efficiency': 1, 'LUT': 3116, 'URAM': 4, 'URAM_efficiency': 0.8888888888888888, 'DSP': 16}\"}, '7_AddStreams_Batch_0': {'name': {'partition_id': '7', 'node_name': '7_AddStreams_Batch_0'}, 'folding': {'PE': 1, 'SIMD': None}, 'res_types': {'res_type': '-', 'ram_style': '-', 'mem_mode': '-'}, 'timing_hls': {'CLK_target': 10, 'CLK_est': '0.809 ns', 'Cycles (best-ave-worst)': \"['65542', '65542', '65542'] clock cycles\"}, 'res_hls': \"{'BRAM_18K': '0', 'FF': '36', 'LUT': '225', 'DSP48E': '0', 'URAM': '0'}\", 'FINN cycles': {'exp_cycles': 65536, 'rtlsim_cycles': '-'}, 'res_estimate': \"{'BRAM_18K': 0, 'BRAM_efficiency': 1, 'LUT': 0, 'URAM': 0, 'URAM_efficiency': 1, 'DSP': 0}\"}, '10_Thresholding_Batch_0': {'name': {'partition_id': '10', 'node_name': '10_Thresholding_Batch_0'}, 'folding': {'PE': 1, 'SIMD': None}, 'res_types': {'res_type': '-', 'ram_style': 'distributed', 'mem_mode': 'const'}, 'timing_hls': {'CLK_target': 10, 'CLK_est': '2.284 ns', 'Cycles (best-ave-worst)': \"['8388614', '8388614', '8388614'] clock cycles\"}, 'res_hls': \"{'BRAM_18K': '0', 'FF': '193', 'LUT': '1035', 'DSP48E': '0', 'URAM': '0'}\", 'FINN cycles': {'exp_cycles': 65536, 'rtlsim_cycles': '-'}, 'res_estimate': \"{'BRAM_18K': 0, 'BRAM_efficiency': 1, 'LUT': 288, 'URAM': 0, 'URAM_efficiency': 1, 'DSP': 0}\"}, '10_DuplicateStreams_Batch_0': {'name': {'partition_id': '10', 'node_name': '10_DuplicateStreams_Batch_0'}, 'folding': {'PE': 1, 'SIMD': None}, 'res_types': {'res_type': '-', 'ram_style': '-', 'mem_mode': '-'}, 'timing_hls': {'CLK_target': 10, 'CLK_est': '0.791 ns', 'Cycles (best-ave-worst)': \"['65542', '65542', '65542'] clock cycles\"}, 'res_hls': \"{'BRAM_18K': '0', 'FF': '35', 'LUT': '198', 'DSP48E': '0', 'URAM': '0'}\", 'FINN cycles': {'exp_cycles': 65536, 'rtlsim_cycles': '-'}, 'res_estimate': \"{'BRAM_18K': 0, 'BRAM_efficiency': 1, 'LUT': 0, 'URAM': 0, 'URAM_efficiency': 1, 'DSP': 0}\"}, '10_StreamingFCLayer_Batch_0': {'name': {'partition_id': '10', 'node_name': '10_StreamingFCLayer_Batch_0'}, 'folding': {'PE': 1, 'SIMD': 16}, 'res_types': {'res_type': 'dsp', 'ram_style': 'ultra', 'mem_mode': 'decoupled'}, 'timing_hls': {'CLK_target': 10, 'CLK_est': '2.569 ns', 'Cycles (best-ave-worst)': \"['2097160', '2097160', '2097160'] clock cycles\"}, 'res_hls': \"{'BRAM_18K': '15', 'FF': '2721', 'LUT': '1278', 'DSP48E': '9', 'URAM': '0'}\", 'FINN cycles': {'exp_cycles': 2097152, 'rtlsim_cycles': '-'}, 'res_estimate': \"{'BRAM_18K': 0, 'BRAM_efficiency': 1, 'LUT': 3116, 'URAM': 4, 'URAM_efficiency': 0.8888888888888888, 'DSP': 16}\"}, '10_FMPadding_Batch_4': {'name': {'partition_id': '10', 'node_name': '10_FMPadding_Batch_4'}, 'folding': {'PE': None, 'SIMD': 1}, 'res_types': {'res_type': '-', 'ram_style': '-', 'mem_mode': '-'}, 'timing_hls': {'CLK_target': 10, 'CLK_est': '2.167 ns', 'Cycles (best-ave-worst)': \"['97286', '97286', '97286'] clock cycles\"}, 'res_hls': \"{'BRAM_18K': '0', 'FF': '53', 'LUT': '333', 'DSP48E': '0', 'URAM': '0'}\", 'FINN cycles': {'exp_cycles': 97280, 'rtlsim_cycles': '-'}, 'res_estimate': \"{'BRAM_18K': 0, 'BRAM_efficiency': 1, 'LUT': 0, 'URAM': 0, 'URAM_efficiency': 1, 'DSP': 0}\"}, '10_ConvolutionInputGenerator1D_4': {'name': {'partition_id': '10', 'node_name': '10_ConvolutionInputGenerator1D_4'}, 'folding': {'PE': None, 'SIMD': 2}, 'res_types': {'res_type': '-', 'ram_style': 'distributed', 'mem_mode': '-'}, 'timing_hls': {'CLK_target': 10, 'CLK_est': '2.583 ns', 'Cycles (best-ave-worst)': \"['2113029', '2113029', '2113029'] clock cycles\"}, 'res_hls': \"{'BRAM_18K': '0', 'FF': '450', 'LUT': '13509', 'DSP48E': '0', 'URAM': '0'}\", 'FINN cycles': {'exp_cycles': 2113024, 'rtlsim_cycles': '-'}, 'res_estimate': \"{'BRAM_18K': 0, 'BRAM_efficiency': 1, 'LUT': 389420, 'URAM': 0, 'URAM_efficiency': 1, 'DSP': 0}\"}, '10_Vector_Vector_Activate_Batch_4': {'name': {'partition_id': '10', 'node_name': '10_Vector_Vector_Activate_Batch_4'}, 'folding': {'PE': 2, 'SIMD': None}, 'res_types': {'res_type': 'dsp', 'ram_style': '-', 'mem_mode': '-'}, 'timing_hls': {'CLK_target': 10, 'CLK_est': '2.583 ns', 'Cycles (best-ave-worst)': \"['2113029', '2113029', '2113029'] clock cycles\"}, 'res_hls': \"{'BRAM_18K': 0, 'FF': 0, 'LUT': 0, 'DSP48E': 0, 'URAM': 0}\", 'FINN cycles': {'exp_cycles': 2064384, 'rtlsim_cycles': '-'}, 'res_estimate': \"{'BRAM_18K': 8, 'BRAM_efficiency': 0.875, 'LUT': 2640, 'URAM': 0, 'URAM_efficiency': 1, 'DSP': 2}\"}, '10_StreamingFCLayer_Batch_5': {'name': {'partition_id': '10', 'node_name': '10_StreamingFCLayer_Batch_5'}, 'folding': {'PE': 1, 'SIMD': 16}, 'res_types': {'res_type': 'dsp', 'ram_style': 'ultra', 'mem_mode': 'decoupled'}, 'timing_hls': {'CLK_target': 10, 'CLK_est': '2.569 ns', 'Cycles (best-ave-worst)': \"['2097160', '2097160', '2097160'] clock cycles\"}, 'res_hls': \"{'BRAM_18K': '15', 'FF': '2785', 'LUT': '1169', 'DSP48E': '9', 'URAM': '0'}\", 'FINN cycles': {'exp_cycles': 2097152, 'rtlsim_cycles': '-'}, 'res_estimate': \"{'BRAM_18K': 0, 'BRAM_efficiency': 1, 'LUT': 3116, 'URAM': 4, 'URAM_efficiency': 0.8888888888888888, 'DSP': 16}\"}, '10_AddStreams_Batch_0': {'name': {'partition_id': '10', 'node_name': '10_AddStreams_Batch_0'}, 'folding': {'PE': 1, 'SIMD': None}, 'res_types': {'res_type': '-', 'ram_style': '-', 'mem_mode': '-'}, 'timing_hls': {'CLK_target': 10, 'CLK_est': '0.809 ns', 'Cycles (best-ave-worst)': \"['65542', '65542', '65542'] clock cycles\"}, 'res_hls': \"{'BRAM_18K': '0', 'FF': '36', 'LUT': '225', 'DSP48E': '0', 'URAM': '0'}\", 'FINN cycles': {'exp_cycles': 65536, 'rtlsim_cycles': '-'}, 'res_estimate': \"{'BRAM_18K': 0, 'BRAM_efficiency': 1, 'LUT': 0, 'URAM': 0, 'URAM_efficiency': 1, 'DSP': 0}\"}, '13_Thresholding_Batch_0': {'name': {'partition_id': '13', 'node_name': '13_Thresholding_Batch_0'}, 'folding': {'PE': 1, 'SIMD': None}, 'res_types': {'res_type': '-', 'ram_style': 'distributed', 'mem_mode': 'const'}, 'timing_hls': {'CLK_target': 10, 'CLK_est': '2.284 ns', 'Cycles (best-ave-worst)': \"['8388614', '8388614', '8388614'] clock cycles\"}, 'res_hls': \"{'BRAM_18K': '0', 'FF': '185', 'LUT': '1005', 'DSP48E': '0', 'URAM': '0'}\", 'FINN cycles': {'exp_cycles': 65536, 'rtlsim_cycles': '-'}, 'res_estimate': \"{'BRAM_18K': 0, 'BRAM_efficiency': 1, 'LUT': 288, 'URAM': 0, 'URAM_efficiency': 1, 'DSP': 0}\"}, '13_DuplicateStreams_Batch_0': {'name': {'partition_id': '13', 'node_name': '13_DuplicateStreams_Batch_0'}, 'folding': {'PE': 1, 'SIMD': None}, 'res_types': {'res_type': '-', 'ram_style': '-', 'mem_mode': '-'}, 'timing_hls': {'CLK_target': 10, 'CLK_est': '0.791 ns', 'Cycles (best-ave-worst)': \"['65542', '65542', '65542'] clock cycles\"}, 'res_hls': \"{'BRAM_18K': '0', 'FF': '35', 'LUT': '198', 'DSP48E': '0', 'URAM': '0'}\", 'FINN cycles': {'exp_cycles': 65536, 'rtlsim_cycles': '-'}, 'res_estimate': \"{'BRAM_18K': 0, 'BRAM_efficiency': 1, 'LUT': 0, 'URAM': 0, 'URAM_efficiency': 1, 'DSP': 0}\"}, '13_StreamingFCLayer_Batch_0': {'name': {'partition_id': '13', 'node_name': '13_StreamingFCLayer_Batch_0'}, 'folding': {'PE': 1, 'SIMD': 16}, 'res_types': {'res_type': 'dsp', 'ram_style': 'ultra', 'mem_mode': 'decoupled'}, 'timing_hls': {'CLK_target': 10, 'CLK_est': '2.569 ns', 'Cycles (best-ave-worst)': \"['2097160', '2097160', '2097160'] clock cycles\"}, 'res_hls': \"{'BRAM_18K': '15', 'FF': '2736', 'LUT': '1278', 'DSP48E': '9', 'URAM': '0'}\", 'FINN cycles': {'exp_cycles': 2097152, 'rtlsim_cycles': '-'}, 'res_estimate': \"{'BRAM_18K': 0, 'BRAM_efficiency': 1, 'LUT': 3116, 'URAM': 4, 'URAM_efficiency': 0.8888888888888888, 'DSP': 16}\"}, '13_FMPadding_Batch_4': {'name': {'partition_id': '13', 'node_name': '13_FMPadding_Batch_4'}, 'folding': {'PE': None, 'SIMD': 1}, 'res_types': {'res_type': '-', 'ram_style': '-', 'mem_mode': '-'}, 'timing_hls': {'CLK_target': 10, 'CLK_est': '2.167 ns', 'Cycles (best-ave-worst)': \"['103430', '103430', '103430'] clock cycles\"}, 'res_hls': \"{'BRAM_18K': '0', 'FF': '53', 'LUT': '333', 'DSP48E': '0', 'URAM': '0'}\", 'FINN cycles': {'exp_cycles': 103424, 'rtlsim_cycles': '-'}, 'res_estimate': \"{'BRAM_18K': 0, 'BRAM_efficiency': 1, 'LUT': 0, 'URAM': 0, 'URAM_efficiency': 1, 'DSP': 0}\"}, '13_ConvolutionInputGenerator1D_4': {'name': {'partition_id': '13', 'node_name': '13_ConvolutionInputGenerator1D_4'}, 'folding': {'PE': None, 'SIMD': 4}, 'res_types': {'res_type': '-', 'ram_style': 'distributed', 'mem_mode': '-'}, 'timing_hls': {'CLK_target': 10, 'CLK_est': '2.583 ns', 'Cycles (best-ave-worst)': \"['1254661', '1254661', '1254661'] clock cycles\"}, 'res_hls': \"{'BRAM_18K': '0', 'FF': '481', 'LUT': '14285', 'DSP48E': '0', 'URAM': '0'}\", 'FINN cycles': {'exp_cycles': 1254656, 'rtlsim_cycles': '-'}, 'res_estimate': \"{'BRAM_18K': 0, 'BRAM_efficiency': 1, 'LUT': 491564, 'URAM': 0, 'URAM_efficiency': 1, 'DSP': 0}\"}, '13_Vector_Vector_Activate_Batch_4': {'name': {'partition_id': '13', 'node_name': '13_Vector_Vector_Activate_Batch_4'}, 'folding': {'PE': 4, 'SIMD': None}, 'res_types': {'res_type': 'dsp', 'ram_style': '-', 'mem_mode': '-'}, 'timing_hls': {'CLK_target': 10, 'CLK_est': '2.583 ns', 'Cycles (best-ave-worst)': \"['1228807', '1228807', '1228807'] clock cycles\"}, 'res_hls': \"{'BRAM_18K': '72', 'FF': '898', 'LUT': '1994', 'DSP48E': '3', 'URAM': '0'}\", 'FINN cycles': {'exp_cycles': 1228800, 'rtlsim_cycles': '-'}, 'res_estimate': \"{'BRAM_18K': 12, 'BRAM_efficiency': 0.6944444444444444, 'LUT': 3336, 'URAM': 0, 'URAM_efficiency': 1, 'DSP': 4}\"}, '13_StreamingFCLayer_Batch_5': {'name': {'partition_id': '13', 'node_name': '13_StreamingFCLayer_Batch_5'}, 'folding': {'PE': 1, 'SIMD': 16}, 'res_types': {'res_type': 'dsp', 'ram_style': 'ultra', 'mem_mode': 'decoupled'}, 'timing_hls': {'CLK_target': 10, 'CLK_est': '2.569 ns', 'Cycles (best-ave-worst)': \"['2097160', '2097160', '2097160'] clock cycles\"}, 'res_hls': \"{'BRAM_18K': '15', 'FF': '2722', 'LUT': '1169', 'DSP48E': '9', 'URAM': '0'}\", 'FINN cycles': {'exp_cycles': 2097152, 'rtlsim_cycles': '-'}, 'res_estimate': \"{'BRAM_18K': 0, 'BRAM_efficiency': 1, 'LUT': 3116, 'URAM': 4, 'URAM_efficiency': 0.8888888888888888, 'DSP': 16}\"}, '13_AddStreams_Batch_0': {'name': {'partition_id': '13', 'node_name': '13_AddStreams_Batch_0'}, 'folding': {'PE': 1, 'SIMD': None}, 'res_types': {'res_type': '-', 'ram_style': '-', 'mem_mode': '-'}, 'timing_hls': {'CLK_target': 10, 'CLK_est': '0.809 ns', 'Cycles (best-ave-worst)': \"['65542', '65542', '65542'] clock cycles\"}, 'res_hls': \"{'BRAM_18K': '0', 'FF': '36', 'LUT': '225', 'DSP48E': '0', 'URAM': '0'}\", 'FINN cycles': {'exp_cycles': 65536, 'rtlsim_cycles': '-'}, 'res_estimate': \"{'BRAM_18K': 0, 'BRAM_efficiency': 1, 'LUT': 0, 'URAM': 0, 'URAM_efficiency': 1, 'DSP': 0}\"}, '16_Thresholding_Batch_0': {'name': {'partition_id': '16', 'node_name': '16_Thresholding_Batch_0'}, 'folding': {'PE': 1, 'SIMD': None}, 'res_types': {'res_type': '-', 'ram_style': 'distributed', 'mem_mode': 'const'}, 'timing_hls': {'CLK_target': 10, 'CLK_est': '2.284 ns', 'Cycles (best-ave-worst)': \"['8388614', '8388614', '8388614'] clock cycles\"}, 'res_hls': \"{'BRAM_18K': '0', 'FF': '185', 'LUT': '1005', 'DSP48E': '0', 'URAM': '0'}\", 'FINN cycles': {'exp_cycles': 65536, 'rtlsim_cycles': '-'}, 'res_estimate': \"{'BRAM_18K': 0, 'BRAM_efficiency': 1, 'LUT': 288, 'URAM': 0, 'URAM_efficiency': 1, 'DSP': 0}\"}, '16_FMPadding_Batch_0': {'name': {'partition_id': '16', 'node_name': '16_FMPadding_Batch_0'}, 'folding': {'PE': None, 'SIMD': 1}, 'res_types': {'res_type': '-', 'ram_style': '-', 'mem_mode': '-'}, 'timing_hls': {'CLK_target': 10, 'CLK_est': '2.189 ns', 'Cycles (best-ave-worst)': \"['153606', '153606', '153606'] clock cycles\"}, 'res_hls': \"{'BRAM_18K': '0', 'FF': '55', 'LUT': '344', 'DSP48E': '0', 'URAM': '0'}\", 'FINN cycles': {'exp_cycles': 153600, 'rtlsim_cycles': '-'}, 'res_estimate': \"{'BRAM_18K': 0, 'BRAM_efficiency': 1, 'LUT': 0, 'URAM': 0, 'URAM_efficiency': 1, 'DSP': 0}\"}, '16_ConvolutionInputGenerator1D_0': {'name': {'partition_id': '16', 'node_name': '16_ConvolutionInputGenerator1D_0'}, 'folding': {'PE': None, 'SIMD': 4}, 'res_types': {'res_type': '-', 'ram_style': 'distributed', 'mem_mode': '-'}, 'timing_hls': {'CLK_target': 10, 'CLK_est': '2.583 ns', 'Cycles (best-ave-worst)': \"['1463813', '1463813', '1463813'] clock cycles\"}, 'res_hls': \"{'BRAM_18K': '0', 'FF': '481', 'LUT': '20557', 'DSP48E': '0', 'URAM': '0'}\", 'FINN cycles': {'exp_cycles': 1463808, 'rtlsim_cycles': '-'}, 'res_estimate': \"{'BRAM_18K': 0, 'BRAM_efficiency': 1, 'LUT': 845100, 'URAM': 0, 'URAM_efficiency': 1, 'DSP': 0}\"}, '16_Vector_Vector_Activate_Batch_0': {'name': {'partition_id': '16', 'node_name': '16_Vector_Vector_Activate_Batch_0'}, 'folding': {'PE': 4, 'SIMD': None}, 'res_types': {'res_type': 'dsp', 'ram_style': '-', 'mem_mode': '-'}, 'timing_hls': {'CLK_target': 10, 'CLK_est': '2.583 ns', 'Cycles (best-ave-worst)': \"['1463813', '1463813', '1463813'] clock cycles\"}, 'res_hls': \"{'BRAM_18K': 0, 'FF': 0, 'LUT': 0, 'DSP48E': 0, 'URAM': 0}\", 'FINN cycles': {'exp_cycles': 1425408, 'rtlsim_cycles': '-'}, 'res_estimate': \"{'BRAM_18K': 12, 'BRAM_efficiency': 0.8055555555555556, 'LUT': 3336, 'URAM': 0, 'URAM_efficiency': 1, 'DSP': 4}\"}, '16_StreamingFCLayer_Batch_0': {'name': {'partition_id': '16', 'node_name': '16_StreamingFCLayer_Batch_0'}, 'folding': {'PE': 1, 'SIMD': 16}, 'res_types': {'res_type': 'dsp', 'ram_style': 'ultra', 'mem_mode': 'decoupled'}, 'timing_hls': {'CLK_target': 10, 'CLK_est': '2.569 ns', 'Cycles (best-ave-worst)': \"['2097160', '2097160', '2097160'] clock cycles\"}, 'res_hls': \"{'BRAM_18K': '15', 'FF': '2699', 'LUT': '1153', 'DSP48E': '9', 'URAM': '0'}\", 'FINN cycles': {'exp_cycles': 2097152, 'rtlsim_cycles': '-'}, 'res_estimate': \"{'BRAM_18K': 0, 'BRAM_efficiency': 1, 'LUT': 3116, 'URAM': 4, 'URAM_efficiency': 0.8888888888888888, 'DSP': 16}\"}, '16_StreamingFCLayer_Batch_1': {'name': {'partition_id': '16', 'node_name': '16_StreamingFCLayer_Batch_1'}, 'folding': {'PE': 4, 'SIMD': 8}, 'res_types': {'res_type': 'dsp', 'ram_style': 'ultra', 'mem_mode': 'decoupled'}, 'timing_hls': {'CLK_target': 10, 'CLK_est': '2.569 ns', 'Cycles (best-ave-worst)': \"['2097160', '2097160', '2097160'] clock cycles\"}, 'res_hls': \"{'BRAM_18K': '60', 'FF': '2894', 'LUT': '2878', 'DSP48E': '20', 'URAM': '0'}\", 'FINN cycles': {'exp_cycles': 2097152, 'rtlsim_cycles': '-'}, 'res_estimate': \"{'BRAM_18K': 0, 'BRAM_efficiency': 1, 'LUT': 6512, 'URAM': 8, 'URAM_efficiency': 0.8888888888888888, 'DSP': 32}\"}, '16_StreamingFCLayer_Batch_2': {'name': {'partition_id': '16', 'node_name': '16_StreamingFCLayer_Batch_2'}, 'folding': {'PE': 1, 'SIMD': 2}, 'res_types': {'res_type': 'dsp', 'ram_style': 'ultra', 'mem_mode': 'decoupled'}, 'timing_hls': {'CLK_target': 10, 'CLK_est': '2.569 ns', 'Cycles (best-ave-worst)': \"['1900551', '1900551', '1900551'] clock cycles\"}, 'res_hls': \"{'BRAM_18K': '0', 'FF': '4408', 'LUT': '3268', 'DSP48E': '1', 'URAM': '0'}\", 'FINN cycles': {'exp_cycles': 1900544, 'rtlsim_cycles': '-'}, 'res_estimate': \"{'BRAM_18K': 0, 'BRAM_efficiency': 1, 'LUT': 363, 'URAM': 4, 'URAM_efficiency': 0.2013888888888889, 'DSP': 2}\"}}\n"
     ]
    }
   ],
   "source": [
    "## TODO:\n",
    "# make template for cropped model\n",
    "\n",
    "from finn.core.modelwrapper import ModelWrapper\n",
    "from finn.util.basic import get_by_name\n",
    "from finn.custom_op.registry import getCustomOp\n",
    "from finn.util.fpgadataflow import is_fpgadataflow_node\n",
    "import numpy as np\n",
    "import ast\n",
    "\n",
    "#################\n",
    "partition_num = 0\n",
    "#################\n",
    "\n",
    "time_format = \"us\" # print time target in 'us' or 'ns'\n",
    "clk_target = 10 # clk target set for synthesis (see test script)\n",
    "\n",
    "#model = ModelWrapper(\"/workspace/results/syn_v0/partitioning_repartition/partition_\"+str(partition_num)+\".onnx\")\n",
    "model = ModelWrapper(file_path)\n",
    "\n",
    "output_dict = {}\n",
    "for n in model.graph.node:\n",
    "    print(n.name)\n",
    "    if is_fpgadataflow_node(n):\n",
    "        inst = getCustomOp(n)\n",
    "        if n.op_type==\"FMPadding_Batch\":\n",
    "            res_type = '-'\n",
    "            ram_style = '-'\n",
    "            mem_mode = '-'\n",
    "        elif n.op_type==\"ConvolutionInputGenerator1D\":\n",
    "            res_type = '-'\n",
    "            ram_style = inst.get_nodeattr(\"ram_style\")\n",
    "            mem_mode = '-'\n",
    "        elif n.op_type==\"Vector_Vector_Activate_Batch\":\n",
    "            res_type = inst.get_nodeattr(\"resType\")\n",
    "            ram_style = '-'\n",
    "            mem_mode = '-'\n",
    "        elif n.op_type==\"StreamingFCLayer_Batch\":\n",
    "            res_type = inst.get_nodeattr(\"resType\")\n",
    "            ram_style = inst.get_nodeattr(\"ram_style\")\n",
    "            mem_mode = inst.get_nodeattr(\"mem_mode\")\n",
    "        elif n.op_type==\"Thresholding_Batch\":\n",
    "            res_type = '-'\n",
    "            ram_style = inst.get_nodeattr(\"ram_style\")\n",
    "            mem_mode = inst.get_nodeattr(\"mem_mode\")            \n",
    "        elif n.op_type==\"DuplicateStreams_Batch\":\n",
    "            res_type = '-'\n",
    "            ram_style = '-'\n",
    "            mem_mode = '-'\n",
    "        elif n.op_type==\"AddStreams_Batch\":\n",
    "            res_type = '-'\n",
    "            ram_style = '-'\n",
    "            mem_mode = '-'\n",
    "        else:\n",
    "            print(\"Op_type not recognized!\")\n",
    "            break\n",
    "        \n",
    "        #res_dict = get_by_name(n.attribute, \"res_hls\").s.decode('utf-8')\n",
    "        res_dict = inst.get_nodeattr(\"res_hls\")\n",
    "        res_estimate = get_by_name(n.attribute, \"res_estimate\").s.decode('utf-8')\n",
    "        try:\n",
    "            pe = get_by_name(n.attribute, \"PE\").i\n",
    "        except AttributeError:\n",
    "            pe=None\n",
    "        try:\n",
    "            simd = get_by_name(n.attribute, \"SIMD\").i\n",
    "        except AttributeError:\n",
    "            simd=None\n",
    "        #est_clk = get_by_name(n.attribute, \"est_clk_hls\").s.decode('utf-8')\n",
    "        est_clk = inst.get_nodeattr(\"est_clk_hls\")\n",
    "        #est_latency_hls = get_by_name(n.attribute, \"est_latency_hls\").s.decode('utf-8')\n",
    "        est_latency_hls = inst.get_nodeattr(\"est_latency_hls\")\n",
    "        finn_cycles = get_by_name(n.attribute, \"cycles_estimate\").i\n",
    "        node_name_list = n.name.split(\"_\")\n",
    "        p_id = node_name_list[1]\n",
    "        node_name = n.name.replace(node_name_list[0]+\"_\"+node_name_list[1]+\"_\",\"\")\n",
    "        \n",
    "        if not partitioned:\n",
    "            node_name = p_id+\"_\"+node_name #make node names unique\n",
    "\n",
    "        output_dict[node_name] = {}\n",
    "        output_dict[node_name][\"name\"] = {\"partition_id\": p_id, \"node_name\": node_name}\n",
    "        output_dict[node_name][\"folding\"] = {\"PE\": pe, \"SIMD\": simd}\n",
    "        output_dict[node_name][\"res_types\"] = {\"res_type\": res_type, \"ram_style\": ram_style, \"mem_mode\": mem_mode}\n",
    "        output_dict[node_name][\"timing_hls\"] = {\"CLK_target\": clk_target,\n",
    "                                             \"CLK_est\": est_clk,\n",
    "                                             \"Cycles (best-ave-worst)\": est_latency_hls}\n",
    "        output_dict[node_name][\"res_hls\"] = res_dict\n",
    "        output_dict[node_name][\"FINN cycles\"] = {\"exp_cycles\": finn_cycles, \"rtlsim_cycles\": \"-\"}\n",
    "        output_dict[node_name][\"res_estimate\"] = res_estimate\n",
    "\n",
    "print(output_dict)\n",
    "\n",
    "if partitioned:\n",
    "    f = open(\"info_layer_{}.csv\".format(partition_num), \"a\")\n",
    "else:\n",
    "    f = open(\"info_layer_{}.csv\".format(syn_id), \"a\")\n",
    "#f = open(\"test_info_layer_{}.txt\".format(p_id), \"a\")\n",
    "for node_name in output_dict.keys():\n",
    "    for col in output_dict[node_name].keys():\n",
    "        if col==\"name\":\n",
    "            partition_id = output_dict[node_name][col][\"partition_id\"]\n",
    "            node_name = output_dict[node_name][col][\"node_name\"]\n",
    "            f.write(str(partition_id)+\",\"+str(node_name))\n",
    "        if col=='folding':\n",
    "            pe = output_dict[node_name][col]['PE']\n",
    "            simd = output_dict[node_name][col]['SIMD']\n",
    "            f.write(\",\"+str(pe)+\",\"+str(simd))\n",
    "        if col==\"res_types\":\n",
    "            res_type = output_dict[node_name][col][\"res_type\"]\n",
    "            ram_style = output_dict[node_name][col][\"ram_style\"]\n",
    "            mem_mode = output_dict[node_name][col][\"mem_mode\"]\n",
    "            f.write(\",\"+str(res_type)+\",\"+str(ram_style)+\",\"+str(mem_mode))\n",
    "        if col=='timing_hls':\n",
    "            clk_target = output_dict[node_name][col][\"CLK_target\"]\n",
    "            clk_est_raw = output_dict[node_name][col][\"CLK_est\"]\n",
    "            if clk_est_raw!=\"-\": #which is the default, meaning that HLS not ran for this layer\n",
    "                assert(clk_est_raw[-2:]==\"ns\"),\"clk_estimation is not in ns!\"\n",
    "                clk_est = clk_est_raw.replace(\" ns\",\"\")\n",
    "            else:\n",
    "                clk_est = clk_est_raw\n",
    "            f.write(\",\"+str(clk_target)+\",\"+str(clk_est))\n",
    "            cycles_raw = output_dict[node_name][col][\"Cycles (best-ave-worst)\"]\n",
    "            if cycles_raw!=\"-\":\n",
    "                cycles = cycles_raw.split(',')\n",
    "                cycles_list=[]\n",
    "                for substring in cycles:\n",
    "                    cycles_list.append(int(''.join(c for c in substring if c.isdigit())))\n",
    "                for c in cycles_list:\n",
    "                    f.write(\",\"+str(c))\n",
    "                if time_format == \"ns\":\n",
    "                    worst_time = round(cycles_list[-1]*float(clk_est)*1E-9,3)\n",
    "                elif time_format == \"us\":\n",
    "                    worst_time = round(cycles_list[-1]*float(clk_est)*1E-6,3)\n",
    "                f.write(\",\"+str(worst_time)) # worst time\n",
    "            else:\n",
    "                f.write(\",\"+cycles_raw+\",\"+cycles_raw+\",\"+cycles_raw) #latency\n",
    "                f.write(\",\"+\"-\") # worst time\n",
    "        if col=='res_hls':\n",
    "            if output_dict[node_name][col]==\"-\":\n",
    "                f.write(\",\"+\"-\"+\",\"+\"-\"+\",\"+\"-\"+\",\"+\"-\"+\",\"+\"-\"+\",\"+\"-\"+\",\"+\"-\"+\",\"+\"-\"+\",\"+\"-\"+\",\"+\"-\")\n",
    "            else:\n",
    "                hls_dict = ast.literal_eval(output_dict[node_name][col])\n",
    "                bram_18k = hls_dict[\"BRAM_18K\"]\n",
    "                #bram_18k_fraction = round(int(bram_18k)/4032*100,3) # U280\n",
    "                bram_18k_fraction = round(int(bram_18k)/3686*100,3) # U250\n",
    "                ff = hls_dict[\"FF\"]\n",
    "                #ff_fraction = round(int(ff)/2607360*100,3) # U280\n",
    "                ff_fraction = round(int(ff)/1500000*100,3) # U250\n",
    "                lut = hls_dict[\"LUT\"]\n",
    "                #lut_fraction = round(int(lut)/1303680*100,3) # U280\n",
    "                lut_fraction = round(int(lut)/1050000*100,3) # U250\n",
    "                dsp48e = hls_dict[\"DSP48E\"]\n",
    "                #dsp48e_fraction = round(int(dsp48e)/9024*100,3) # U280\n",
    "                dsp48e_fraction = round(int(dsp48e)/9216*100,3) # U250\n",
    "                uram = hls_dict[\"URAM\"]\n",
    "                #uram_fraction = round(int(uram)/960*100,3) # U280\n",
    "                uram_fraction = round(int(uram)/1024*100,3) # U250\n",
    "                f.write(\",\"+str(bram_18k)+\",\"+str(bram_18k_fraction)+\"%\")\n",
    "                f.write(\",\"+str(ff)+\",\"+str(ff_fraction)+\"%\")\n",
    "                f.write(\",\"+str(lut)+\",\"+str(lut_fraction)+\"%\")\n",
    "                f.write(\",\"+str(dsp48e)+\",\"+str(dsp48e_fraction)+\"%\")\n",
    "                f.write(\",\"+str(uram)+\",\"+str(uram_fraction)+\"%\")\n",
    "        if col==\"FINN cycles\":\n",
    "            exp_cycles = output_dict[node_name][col][\"exp_cycles\"]\n",
    "            rtlsim_cycles = output_dict[node_name][col][\"rtlsim_cycles\"]\n",
    "            f.write(\",\"+str(exp_cycles)+\",\"+str(rtlsim_cycles))\n",
    "        if col==\"res_estimate\":\n",
    "            res_finn_dict = ast.literal_eval(output_dict[node_name][col])\n",
    "            bram_18k = res_finn_dict[\"BRAM_18K\"]\n",
    "            bram_efficiency = round(res_finn_dict[\"BRAM_efficiency\"],3)\n",
    "            lut = res_finn_dict[\"LUT\"]\n",
    "            uram = res_finn_dict[\"URAM\"]\n",
    "            uram_efficiency = round(res_finn_dict[\"URAM_efficiency\"],3)\n",
    "            dsp = res_finn_dict[\"DSP\"]\n",
    "            f.write(\",\"+str(bram_18k)+\",\"+str(bram_efficiency)+\",\"+str(lut)+\",\"+str(uram) \\\n",
    "                    +\",\"+str(uram_efficiency)+\",\"+str(dsp))\n",
    "    f.write(\"\\n\")\n",
    "f.close()\n",
    "    \n"
   ]
  },
  {
   "cell_type": "code",
   "execution_count": null,
   "id": "blocked-buddy",
   "metadata": {},
   "outputs": [],
   "source": []
  },
  {
   "cell_type": "code",
   "execution_count": 12,
   "id": "proprietary-field",
   "metadata": {},
   "outputs": [
    {
     "name": "stdout",
     "output_type": "stream",
     "text": [
      "end2end_quartznet_export_dev.onnx\n",
      "end2end_quartznet_folded.onnx\n",
      "end2end_quartznet_folded_renamed.onnx\n",
      "end2end_quartznet_folded_test.onnx\n",
      "end2end_quartznet_hls_layers.onnx\n",
      "end2end_quartznet_lowered.onnx\n",
      "end2end_quartznet_lowered_partitioned.onnx\n",
      "end2end_quartznet_streamline.onnx\n",
      "end2end_quartznet_tidy.onnx\n",
      "experiment_partitions\n",
      "partitioning_repartition\n",
      "Stopping http://0.0.0.0:8081\n",
      "Serving '/workspace/results/syn_v0/end2end_quartznet_folded_renamed.onnx' at http://0.0.0.0:8081\n"
     ]
    },
    {
     "data": {
      "text/html": [
       "\n",
       "        <iframe\n",
       "            width=\"100%\"\n",
       "            height=\"400\"\n",
       "            src=\"http://0.0.0.0:8081/\"\n",
       "            frameborder=\"0\"\n",
       "            allowfullscreen\n",
       "        ></iframe>\n",
       "        "
      ],
      "text/plain": [
       "<IPython.lib.display.IFrame at 0x7f2679a640b8>"
      ]
     },
     "execution_count": 12,
     "metadata": {},
     "output_type": "execute_result"
    }
   ],
   "source": [
    "!ls /workspace/results/syn_v0\n",
    "from finn.util.visualization import showInNetron\n",
    "\n",
    "showInNetron(\"/workspace/results/syn_v0/end2end_quartznet_folded_renamed.onnx\")"
   ]
  },
  {
   "cell_type": "code",
   "execution_count": 14,
   "id": "young-oriental",
   "metadata": {},
   "outputs": [
    {
     "name": "stdout",
     "output_type": "stream",
     "text": [
      "Stopping http://0.0.0.0:8081\n",
      "Serving '/workspace/results/syn_v0/partitioning_repartition/partition_4.onnx' at http://0.0.0.0:8081\n"
     ]
    },
    {
     "data": {
      "text/html": [
       "\n",
       "        <iframe\n",
       "            width=\"100%\"\n",
       "            height=\"400\"\n",
       "            src=\"http://0.0.0.0:8081/\"\n",
       "            frameborder=\"0\"\n",
       "            allowfullscreen\n",
       "        ></iframe>\n",
       "        "
      ],
      "text/plain": [
       "<IPython.lib.display.IFrame at 0x7f26df6b6080>"
      ]
     },
     "execution_count": 14,
     "metadata": {},
     "output_type": "execute_result"
    }
   ],
   "source": [
    "showInNetron(\"/workspace/results/syn_v0/partitioning_repartition/partition_4.onnx\")"
   ]
  },
  {
   "cell_type": "code",
   "execution_count": 18,
   "id": "dimensional-oregon",
   "metadata": {},
   "outputs": [
    {
     "name": "stdout",
     "output_type": "stream",
     "text": [
      "Stopping http://0.0.0.0:8081\n",
      "Serving '/workspace/results/syn_v0/end2end_quartznet_folded_renamed_extended.onnx' at http://0.0.0.0:8081\n"
     ]
    },
    {
     "data": {
      "text/html": [
       "\n",
       "        <iframe\n",
       "            width=\"100%\"\n",
       "            height=\"400\"\n",
       "            src=\"http://0.0.0.0:8081/\"\n",
       "            frameborder=\"0\"\n",
       "            allowfullscreen\n",
       "        ></iframe>\n",
       "        "
      ],
      "text/plain": [
       "<IPython.lib.display.IFrame at 0x7f26df6bcfd0>"
      ]
     },
     "execution_count": 18,
     "metadata": {},
     "output_type": "execute_result"
    }
   ],
   "source": [
    "model = ModelWrapper(\"/workspace/results/syn_v0/end2end_quartznet_folded_renamed.onnx\")\n",
    "\n",
    "from finn.transformation.extend_partition import ExtendPartition\n",
    "\n",
    "model = model.transform(ExtendPartition([0,1,2,3,4,5,6,7,8,9,10,11,12,13,14,15,16]))\n",
    "\n",
    "model.save(\"/workspace/results/syn_v0/end2end_quartznet_folded_renamed_extended.onnx\")\n",
    "\n",
    "showInNetron(\"/workspace/results/syn_v0/end2end_quartznet_folded_renamed_extended.onnx\")"
   ]
  },
  {
   "cell_type": "code",
   "execution_count": 19,
   "id": "studied-alberta",
   "metadata": {},
   "outputs": [
    {
     "name": "stdout",
     "output_type": "stream",
     "text": [
      "Stopping http://0.0.0.0:8081\n",
      "Serving '/workspace/results/syn_v0/end2end_quartznet_folded_renamed_extended.onnx' at http://0.0.0.0:8081\n"
     ]
    },
    {
     "data": {
      "text/html": [
       "\n",
       "        <iframe\n",
       "            width=\"100%\"\n",
       "            height=\"400\"\n",
       "            src=\"http://0.0.0.0:8081/\"\n",
       "            frameborder=\"0\"\n",
       "            allowfullscreen\n",
       "        ></iframe>\n",
       "        "
      ],
      "text/plain": [
       "<IPython.lib.display.IFrame at 0x7f2678a5db00>"
      ]
     },
     "execution_count": 19,
     "metadata": {},
     "output_type": "execute_result"
    }
   ],
   "source": [
    "showInNetron(\"/workspace/results/syn_v0/end2end_quartznet_folded_renamed_extended.onnx\")"
   ]
  }
 ],
 "metadata": {
  "kernelspec": {
   "display_name": "Python 3",
   "language": "python",
   "name": "python3"
  },
  "language_info": {
   "codemirror_mode": {
    "name": "ipython",
    "version": 3
   },
   "file_extension": ".py",
   "mimetype": "text/x-python",
   "name": "python",
   "nbconvert_exporter": "python",
   "pygments_lexer": "ipython3",
   "version": "3.6.8"
  }
 },
 "nbformat": 4,
 "nbformat_minor": 5
}
