{
 "cells": [
  {
   "cell_type": "code",
   "execution_count": 1,
   "id": "bfd57832",
   "metadata": {},
   "outputs": [],
   "source": [
    "from qonnx.core.modelwrapper import ModelWrapper\n",
    "\n",
    "model = ModelWrapper(\"step_deeprx_streamline.onnx\")"
   ]
  },
  {
   "cell_type": "code",
   "execution_count": 2,
   "id": "e473d6d8",
   "metadata": {},
   "outputs": [],
   "source": [
    "from qonnx.analysis.inference_cost import inference_cost\n",
    "\n",
    "ret = inference_cost(model)"
   ]
  },
  {
   "cell_type": "code",
   "execution_count": 3,
   "id": "b1ac381b",
   "metadata": {},
   "outputs": [
    {
     "data": {
      "text/plain": [
       "{'op_mac_FLOAT32_INT8': 86360400.0,\n",
       " 'mem_w_INT8': 10791.0,\n",
       " 'mem_o_FLOAT32': 537600.0,\n",
       " 'op_mac_UINT4_INT4': 3961339200.0,\n",
       " 'mem_w_INT4': 540272.0,\n",
       " 'mem_o_INT32': 56515200.0,\n",
       " 'op_mac_INT4_INT4': 576945600.0,\n",
       " 'op_mac_INT4_INT8': 4284000.0,\n",
       " 'unsupported': {'MultiThreshold'},\n",
       " 'discount_sparsity': True}"
      ]
     },
     "execution_count": 3,
     "metadata": {},
     "output_type": "execute_result"
    }
   ],
   "source": [
    "ret"
   ]
  }
 ],
 "metadata": {
  "kernelspec": {
   "display_name": "Python 3",
   "language": "python",
   "name": "python3"
  },
  "language_info": {
   "codemirror_mode": {
    "name": "ipython",
    "version": 3
   },
   "file_extension": ".py",
   "mimetype": "text/x-python",
   "name": "python",
   "nbconvert_exporter": "python",
   "pygments_lexer": "ipython3",
   "version": "3.8.5"
  }
 },
 "nbformat": 4,
 "nbformat_minor": 5
}
