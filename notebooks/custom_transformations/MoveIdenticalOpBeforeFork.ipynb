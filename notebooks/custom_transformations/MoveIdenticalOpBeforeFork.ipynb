{
 "cells": [
  {
   "cell_type": "code",
   "execution_count": null,
   "id": "present-tradition",
   "metadata": {},
   "outputs": [],
   "source": [
    "import numpy as np\n",
    "from finn.util.visualization import showInNetron\n",
    "from finn.core.modelwrapper import ModelWrapper\n",
    "import onnx\n",
    "\n",
    "Fork1_node = onnx.helper.make_node(\n",
    "    \"MultiThreshold\",\n",
    "    inputs = ['in1_multithreshold1', 'in2_multithreshold1'],\n",
    "    outputs = ['out_multithreshold1'],\n",
    "    domain = 'finn.custom_op.general',\n",
    "    out_dtype = 'UINT4'\n",
    ")\n",
    "\n",
    "Transpose1_node = onnx.helper.make_node(\n",
    "    \"Transpose\",\n",
    "    inputs = ['out_multithreshold1'],\n",
    "    outputs = ['out_transpose1']\n",
    "    perm = [0, 3, 2, 1]\n",
    "\n",
    ")"
   ]
  }
 ],
 "metadata": {
  "kernelspec": {
   "display_name": "Python 3",
   "language": "python",
   "name": "python3"
  },
  "language_info": {
   "codemirror_mode": {
    "name": "ipython",
    "version": 3
   },
   "file_extension": ".py",
   "mimetype": "text/x-python",
   "name": "python",
   "nbconvert_exporter": "python",
   "pygments_lexer": "ipython3",
   "version": "3.6.8"
  }
 },
 "nbformat": 4,
 "nbformat_minor": 5
}
